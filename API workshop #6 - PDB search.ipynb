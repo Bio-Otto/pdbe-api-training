{
 "cells": [
  {
   "cell_type": "markdown",
   "metadata": {},
   "source": [
    "# PDBe API Training\n",
    "\n",
    "This interactive Python notebook will guide you through various ways of programmatically accessing Protein Data Bank in Europe (PDBe) data using REST API\n",
    "\n",
    "The REST API is a programmatic way to obtain information from the PDB and EMDB. You can access details about:\n",
    "\n",
    "* sample\n",
    "* experiment\n",
    "* models\n",
    "* compounds\n",
    "* cross-references\n",
    "* publications\n",
    "* quality\n",
    "* assemblies\n",
    "and more...\n",
    "For more information, visit https://www.ebi.ac.uk/pdbe/pdbe-rest-api\n",
    "\n",
    "# Notebook #6\n",
    "This notebook is the second in the training material series, and focuses on getting information for multiple PDB entries using the REST search API of PDBe.\n",
    "\n",
    "## 1) Making imports and setting variables\n",
    "First, we import some packages that we will use, and set some variables.\n",
    "\n",
    "Note: Full list of valid URLs is available from https://www.ebi.ac.uk/pdbe/api/doc/"
   ]
  },
  {
   "cell_type": "code",
   "execution_count": 69,
   "metadata": {},
   "outputs": [
    {
     "data": {
      "text/html": [
       "        <script type=\"text/javascript\">\n",
       "        window.PlotlyConfig = {MathJaxConfig: 'local'};\n",
       "        if (window.MathJax) {MathJax.Hub.Config({SVG: {font: \"STIX-Web\"}});}\n",
       "        if (typeof require !== 'undefined') {\n",
       "        require.undef(\"plotly\");\n",
       "        requirejs.config({\n",
       "            paths: {\n",
       "                'plotly': ['https://cdn.plot.ly/plotly-latest.min']\n",
       "            }\n",
       "        });\n",
       "        require(['plotly'], function(Plotly) {\n",
       "            window._Plotly = Plotly;\n",
       "        });\n",
       "        }\n",
       "        </script>\n",
       "        "
      ]
     },
     "metadata": {},
     "output_type": "display_data"
    },
    {
     "data": {
      "text/html": [
       "        <script type=\"text/javascript\">\n",
       "        window.PlotlyConfig = {MathJaxConfig: 'local'};\n",
       "        if (window.MathJax) {MathJax.Hub.Config({SVG: {font: \"STIX-Web\"}});}\n",
       "        if (typeof require !== 'undefined') {\n",
       "        require.undef(\"plotly\");\n",
       "        requirejs.config({\n",
       "            paths: {\n",
       "                'plotly': ['https://cdn.plot.ly/plotly-latest.min']\n",
       "            }\n",
       "        });\n",
       "        require(['plotly'], function(Plotly) {\n",
       "            window._Plotly = Plotly;\n",
       "        });\n",
       "        }\n",
       "        </script>\n",
       "        "
      ]
     },
     "metadata": {},
     "output_type": "display_data"
    }
   ],
   "source": [
    "import requests # used for getting data from a URL\n",
    "from pprint import pprint # pretty print\n",
    "import matplotlib.pyplot as plt # plotting results\n",
    "import pandas as pd # used for turning results into mini databases\n",
    "\n",
    "# make graphs show on the page\n",
    "%matplotlib inline\n",
    "\n",
    "# use plotly and cufflinks to make interactive plots\n",
    "import cufflinks as cf\n",
    "from plotly.offline import download_plotlyjs, init_notebook_mode, plot, iplot \n",
    "init_notebook_mode(connected=True)\n",
    "cf.go_offline()\n",
    "\n",
    "\n",
    "# settings for PDBe API\n",
    "base_url = \"https://www.ebi.ac.uk/pdbe/\" # the beginning of the URL for PDBe's API.\n",
    "\n",
    "api_base = base_url + \"api/\"\n",
    "\n",
    "search_url = base_url + 'search/pdb/select?' # the rest of the URL used for PDBe's search API. "
   ]
  },
  {
   "cell_type": "markdown",
   "metadata": {},
   "source": [
    "## 2) a function to get data from the search API\n",
    "Let's start with defining a function that can be used to GET data from the PDBe search API.\n"
   ]
  },
  {
   "cell_type": "code",
   "execution_count": 43,
   "metadata": {},
   "outputs": [],
   "source": [
    "def make_request(search_term, number_of_rows=10):\n",
    "    \"\"\"\n",
    "    This function can make GET requests to\n",
    "    the PDBe search API\n",
    "    \n",
    "    :param url: String,\n",
    "    :param pdb_id: String\n",
    "    :return: JSON\n",
    "    \"\"\"\n",
    "    search_variables = '&wt=json&rows={}'.format(number_of_rows)\n",
    "    url = search_url+search_term+search_variables\n",
    "    print(url)\n",
    "    response = requests.get(url)\n",
    "\n",
    "    if response.status_code == 200:\n",
    "        return response.json()\n",
    "    else:\n",
    "        print(\"[No data retrieved - %s] %s\" % (response.status_code, response.text))\n",
    "    \n",
    "    return {}"
   ]
  },
  {
   "cell_type": "markdown",
   "metadata": {},
   "source": [
    "## 3) formatting the search terms \n",
    "This will allow us to use human readable search terms and this function will make a URL that the search API can handle."
   ]
  },
  {
   "cell_type": "code",
   "execution_count": 44,
   "metadata": {},
   "outputs": [],
   "source": [
    "def format_search_terms(search_terms, filter_terms=None):\n",
    "    # print('formatting search terms: %s' % search_terms)\n",
    "    search_string = ''\n",
    "    filter_string = ''\n",
    "    search_list = []\n",
    "    if isinstance(search_terms, dict):\n",
    "        for key in search_terms:\n",
    "            term = search_terms.get(key)\n",
    "            if ' ' in term:\n",
    "                if not '\"' in term:\n",
    "                    term = '\"{}\"'.format(term)\n",
    "                elif not \"'\" in term:\n",
    "                    term = \"'{}'\".format(term)\n",
    "            search_list.append('{}:{}'.format(key, term))\n",
    "        search_string = ' AND '.join(search_list)\n",
    "    else:\n",
    "        if '&' in search_terms:\n",
    "            search_string = search_terms.replace('&', ' AND ')\n",
    "        else:\n",
    "            search_string = search_terms\n",
    "    if filter_terms:\n",
    "        filter_string = '&fl={}'.format(','.join(filter_terms))\n",
    "    # print('formatted search terms: %s' % search_string)\n",
    "    final_search_string = 'q={}{}'.format(search_string, filter_string)\n",
    "    return final_search_string"
   ]
  },
  {
   "cell_type": "markdown",
   "metadata": {},
   "source": [
    "## 4) Getting useful data out of the search\n",
    "\n",
    "This function will run the search and will return a list of the results"
   ]
  },
  {
   "cell_type": "code",
   "execution_count": 135,
   "metadata": {},
   "outputs": [],
   "source": [
    "def run_search(search_terms, filter_terms=None, number_of_rows=100):\n",
    "    search_term = format_search_terms(search_terms, filter_terms)\n",
    "\n",
    "    response = make_request(search_term, number_of_rows)\n",
    "    results = response.get('response', {}).get('docs', [])\n",
    "    print('Number of results for {}: {}'.format(','.join(search_terms.values()), len(results)))\n",
    "    return results\n",
    "    "
   ]
  },
  {
   "cell_type": "markdown",
   "metadata": {},
   "source": [
    "## 5) running a search\n",
    "\n",
    "Now we are ready to actually run a search against the PDB API for entries containing human Dihydrofolate reductase in the PDB. This will return a list of results - only 10 to start with.\n",
    "\n",
    "A list of search terms is available at:\n",
    "https://www.ebi.ac.uk/pdbe/api/doc/search\n",
    "\n",
    "This will return details of human Dihydrofolate reductase's in the PDB\n",
    "\n",
    "The search terms are defined as a dictionary (a hash in other programming lanuguages). \n",
    "e.g. \n",
    "{\"molecule_name\":\"Dihydrofolate reductase\"}\n",
    "Here we are searching for molecules named Dihydrofolate reductase.\n",
    "If we search for two terms i.e. molecule_name and organism_scientific_name then we will get molecules that match both search terms.\n",
    "\n",
    "We will return the number of results for two searches.\n",
    "\n",
    "The first one will hit the limit of 100. There are more than 100 Dihydrofolate reductase structures. \n",
    "We have to add the argument \"number_of_rows\" to a higher number, say 1000, to find all the examples. "
   ]
  },
  {
   "cell_type": "code",
   "execution_count": 139,
   "metadata": {
    "scrolled": false
   },
   "outputs": [
    {
     "name": "stdout",
     "output_type": "stream",
     "text": [
      "1st search\n",
      "https://www.ebi.ac.uk/pdbe/search/pdb/select?q=molecule_name:\"Dihydrofolate reductase\"&wt=json&rows=100\n",
      "Number of results for Dihydrofolate reductase: 100\n"
     ]
    }
   ],
   "source": [
    "print('1st search')\n",
    "search_terms = {\"molecule_name\":\"Dihydrofolate reductase\"} \n",
    "\n",
    "results = run_search(search_terms)"
   ]
  },
  {
   "cell_type": "code",
   "execution_count": 140,
   "metadata": {},
   "outputs": [
    {
     "name": "stdout",
     "output_type": "stream",
     "text": [
      "https://www.ebi.ac.uk/pdbe/search/pdb/select?q=molecule_name:\"Dihydrofolate reductase\"&wt=json&rows=1000\n",
      "Number of results for Dihydrofolate reductase: 362\n"
     ]
    }
   ],
   "source": [
    "results = run_search(search_terms, number_of_rows=1000)"
   ]
  },
  {
   "cell_type": "markdown",
   "metadata": {},
   "source": [
    "We will add organism_name of Human to the query to limit the results to only return those that are structures of Human Dihydrofolate reductase."
   ]
  },
  {
   "cell_type": "code",
   "execution_count": 141,
   "metadata": {},
   "outputs": [
    {
     "name": "stdout",
     "output_type": "stream",
     "text": [
      "2nd search\n",
      "https://www.ebi.ac.uk/pdbe/search/pdb/select?q=molecule_name:\"Dihydrofolate reductase\" AND organism_name:Human&wt=json&rows=100\n",
      "Number of results for Dihydrofolate reductase,Human: 79\n"
     ]
    }
   ],
   "source": [
    "print('2nd search')\n",
    "search_terms = {\"molecule_name\":\"Dihydrofolate reductase\",\n",
    "                \"organism_name\":\"Human\"\n",
    "               } \n",
    "results = run_search(search_terms)"
   ]
  },
  {
   "cell_type": "markdown",
   "metadata": {},
   "source": [
    "We will then look at the last result.\n",
    "We will print the data we have for the first result.\n",
    "\n",
    "This will be the first item of the list \"results\"\n",
    "i.e. results[0]\n",
    "\n",
    "We are using \"pprint\" (pretty print) rather than \"print\" to make the result easier to read."
   ]
  },
  {
   "cell_type": "code",
   "execution_count": 142,
   "metadata": {},
   "outputs": [
    {
     "name": "stdout",
     "output_type": "stream",
     "text": [
      "{'_version_': 1642956939750014976,\n",
      " 'abstracttext_unassigned': ['Structural data are reported for the first '\n",
      "                             'example of the potent antifolate inhibitor '\n",
      "                             \"2,4-diamino-5-methyl-6-[(3',4',5'-trimethoxy-N-methylanilino)methyl]pyrido[2,3-d]pyrimidine \"\n",
      "                             '(1) in complex with human dihydrofolate '\n",
      "                             'reductase (hDHFR) and NADPH. Small differences '\n",
      "                             'in crystallization conditions resulted in the '\n",
      "                             'growth of two different forms of a binary '\n",
      "                             'complex. The structure determination of an '\n",
      "                             'additional crystal of a ternary complex of hDHFR '\n",
      "                             'with NADPH and (1) grown under similar '\n",
      "                             'conditions is also reported. Diffraction data '\n",
      "                             'were collected to 2.1 A resolution for an R3 '\n",
      "                             'lattice from a hDHFR ternary complex with NADPH '\n",
      "                             'and (1) and to 2.2 A resolution from a binary '\n",
      "                             'complex. Data were also collected to 2.1 A '\n",
      "                             'resolution from a binary complex with hDHFR and '\n",
      "                             '(1) in the first example of a tetragonal '\n",
      "                             'P4(3)2(1)2 lattice. Comparison of the '\n",
      "                             'intermolecular contacts among these structures '\n",
      "                             'reveals differences in the backbone conformation '\n",
      "                             '(1.9-3.2 A) for flexible loop regions (residues '\n",
      "                             '40-46, 77-83 and 103-107) that reflect '\n",
      "                             'differences in the packing environment between '\n",
      "                             'the rhombohedral and tetragonal space groups. '\n",
      "                             'Analysis of the packing environments shows that '\n",
      "                             'the tetragonal lattice is more tightly packed, '\n",
      "                             'as reflected in its smaller V(M) value and lower '\n",
      "                             'solvent content. The conformation of the '\n",
      "                             'inhibitor (1) is similar in all structures and '\n",
      "                             'is also similar to that observed for TMQ, the '\n",
      "                             'parent quinazoline compound. The activity '\n",
      "                             'profile for this series of 5-deaza N-substituted '\n",
      "                             'non-classical trimethoxybenzyl antifolates shows '\n",
      "                             'that the N10-CH(3) substituted (1) has the '\n",
      "                             'greatest potency and selectivity for Toxoplasma '\n",
      "                             'gondii DHFR (tgDHFR) compared with its N-H or '\n",
      "                             'N-CHO analogs. Models of the tgDHFR active site '\n",
      "                             'indicate preferential contacts with (1) that are '\n",
      "                             'not present in either the human or Pneumocystis '\n",
      "                             'carinii DHFR structures. Differences in the '\n",
      "                             'acidic residue (Glu30 versus Asp for tgDHFR) '\n",
      "                             'affect the precise positioning of the '\n",
      "                             'diaminopyridopyrimidine ring, while changes in '\n",
      "                             'other residues, particularly at positions 60 and '\n",
      "                             '64 (Leu versus Met and Asn versus Phe), involve '\n",
      "                             'interactions with the trimethoxybenzyl '\n",
      "                             'substituents.'],\n",
      " 'all_assembly_composition': ['protein structure'],\n",
      " 'all_assembly_form': ['homo'],\n",
      " 'all_assembly_id': ['1'],\n",
      " 'all_assembly_mol_wt': [22.497],\n",
      " 'all_assembly_type': ['monomer'],\n",
      " 'all_authors': ['Cody V', 'Gangjee A', 'Luft JR', 'Pangborn W'],\n",
      " 'all_compound_names': ['NDP : NADPH DIHYDRO-NICOTINAMIDE-ADENINE-DINUCLEOTIDE '\n",
      "                        'PHOSPHATE',\n",
      "                        'CO4 : '\n",
      "                        '2,4-DIAMINO-5-METHYL-6-[(3,4,5-TRIMETHOXY-N-METHYLANILINO)METHYL]PYRIDO[2,3-D]PYRIMIDINE',\n",
      "                        'CO4 : '\n",
      "                        '5-methyl-6-{[methyl(3,4,5-trimethoxyphenyl)amino]methyl}pyrido[2,3-d]pyrimidine-2,4-diamine',\n",
      "                        'CO4 : '\n",
      "                        '5-methyl-6-[[methyl-(3,4,5-trimethoxyphenyl)amino]methyl]pyrido[3,2-e]pyrimidine-2,4-diamine',\n",
      "                        'NDP : '\n",
      "                        '[[(2R,3S,4R,5R)-5-(3-aminocarbonyl-4H-pyridin-1-yl)-3,4-dihydroxy-oxolan-2-yl]methoxy-hydroxy-phosphoryl] '\n",
      "                        '[(2R,3R,4R,5R)-5-(6-aminopurin-9-yl)-3-hydroxy-4-phosphonooxy-oxolan-2-yl]methyl '\n",
      "                        'hydrogen phosphate'],\n",
      " 'all_enzyme_names': ['Oxidoreductases',\n",
      "                      'Acting on the CH-NH group of donors',\n",
      "                      'With NAD(+) or NADP(+) as acceptor',\n",
      "                      'Dihydrofolate reductase',\n",
      "                      '1.5.1.3 : Dihydrofolate reductase',\n",
      "                      '5,6,7,8-tetrahydrofolate:NADP(+) oxidoreductase'],\n",
      " 'all_go_terms': ['cytoplasm',\n",
      "                  'mitochondrion',\n",
      "                  'cytosol',\n",
      "                  'folic acid binding',\n",
      "                  'oxidoreductase activity',\n",
      "                  'NADPH binding',\n",
      "                  'RNA binding',\n",
      "                  'sequence-specific mRNA binding',\n",
      "                  'mRNA binding',\n",
      "                  'methotrexate binding',\n",
      "                  'NADP binding',\n",
      "                  'dihydrofolate reductase activity',\n",
      "                  'translation repressor activity, mRNA regulatory element '\n",
      "                  'binding',\n",
      "                  'drug binding',\n",
      "                  'one-carbon metabolic process',\n",
      "                  'folic acid metabolic process',\n",
      "                  'negative regulation of translation',\n",
      "                  'response to methotrexate',\n",
      "                  'regulation of removal of superoxide radicals',\n",
      "                  'tetrahydrofolate biosynthetic process',\n",
      "                  'tetrahydrofolate metabolic process',\n",
      "                  'tetrahydrobiopterin biosynthetic process',\n",
      "                  'positive regulation of nitric-oxide synthase activity',\n",
      "                  'oxidation-reduction process',\n",
      "                  'regulation of transcription involved in G1/S transition of '\n",
      "                  'mitotic cell cycle',\n",
      "                  'axon regeneration',\n",
      "                  'dihydrofolate metabolic process'],\n",
      " 'all_molecule_names': ['Dihydrofolate reductase', 'Dihydrofolate reductase'],\n",
      " 'all_num_interacting_entity_id': [0],\n",
      " 'all_sequence_family': ['IPR017925 : Dihydrofolate reductase conserved site',\n",
      "                         'IPR001796 : Dihydrofolate reductase domain',\n",
      "                         'IPR024072 : Dihydrofolate reductase-like domain '\n",
      "                         'superfamily',\n",
      "                         'PF00186 : DHFR_1',\n",
      "                         'CL0387 : DHFred'],\n",
      " 'all_structure_family': ['3-Layer(aba) Sandwich',\n",
      "                          'Alpha Beta',\n",
      "                          '3.40.430.10',\n",
      "                          'Dihydrofolate Reductase, subunit A',\n",
      "                          'Dihydrofolate Reductase, subunit A',\n",
      "                          'Alpha and beta proteins (a/b)',\n",
      "                          'Dihydrofolate reductases',\n",
      "                          'Dihydrofolate reductase-like',\n",
      "                          'Dihydrofolate reductase-like'],\n",
      " 'assembly_composition': ['protein structure'],\n",
      " 'assembly_form': ['homo'],\n",
      " 'assembly_id': ['1'],\n",
      " 'assembly_mol_wt': 22.497,\n",
      " 'assembly_type': ['monomer'],\n",
      " 'beam_source_name': ['Rotating anode'],\n",
      " 'biological_cell_component': ['cytoplasm', 'mitochondrion', 'cytosol'],\n",
      " 'biological_function': ['folic acid binding',\n",
      "                         'oxidoreductase activity',\n",
      "                         'NADPH binding',\n",
      "                         'RNA binding',\n",
      "                         'sequence-specific mRNA binding',\n",
      "                         'mRNA binding',\n",
      "                         'methotrexate binding',\n",
      "                         'NADP binding',\n",
      "                         'dihydrofolate reductase activity',\n",
      "                         'translation repressor activity, mRNA regulatory '\n",
      "                         'element binding',\n",
      "                         'drug binding'],\n",
      " 'biological_process': ['one-carbon metabolic process',\n",
      "                        'folic acid metabolic process',\n",
      "                        'negative regulation of translation',\n",
      "                        'response to methotrexate',\n",
      "                        'regulation of removal of superoxide radicals',\n",
      "                        'tetrahydrofolate biosynthetic process',\n",
      "                        'tetrahydrofolate metabolic process',\n",
      "                        'tetrahydrobiopterin biosynthetic process',\n",
      "                        'positive regulation of nitric-oxide synthase activity',\n",
      "                        'oxidation-reduction process',\n",
      "                        'regulation of transcription involved in G1/S '\n",
      "                        'transition of mitotic cell cycle',\n",
      "                        'axon regeneration',\n",
      "                        'dihydrofolate metabolic process'],\n",
      " 'bound_compound_id': ['NDP', 'CO4'],\n",
      " 'bound_compound_name': ['NDP : NADPH '\n",
      "                         'DIHYDRO-NICOTINAMIDE-ADENINE-DINUCLEOTIDE PHOSPHATE',\n",
      "                         'CO4 : '\n",
      "                         '2,4-DIAMINO-5-METHYL-6-[(3,4,5-TRIMETHOXY-N-METHYLANILINO)METHYL]PYRIDO[2,3-D]PYRIMIDINE'],\n",
      " 'bound_compound_systematic_name': ['CO4 : '\n",
      "                                    '5-methyl-6-{[methyl(3,4,5-trimethoxyphenyl)amino]methyl}pyrido[2,3-d]pyrimidine-2,4-diamine',\n",
      "                                    'CO4 : '\n",
      "                                    '5-methyl-6-[[methyl-(3,4,5-trimethoxyphenyl)amino]methyl]pyrido[3,2-e]pyrimidine-2,4-diamine',\n",
      "                                    'NDP : '\n",
      "                                    '[[(2R,3S,4R,5R)-5-(3-aminocarbonyl-4H-pyridin-1-yl)-3,4-dihydroxy-oxolan-2-yl]methoxy-hydroxy-phosphoryl] '\n",
      "                                    '[(2R,3R,4R,5R)-5-(6-aminopurin-9-yl)-3-hydroxy-4-phosphonooxy-oxolan-2-yl]methyl '\n",
      "                                    'hydrogen phosphate'],\n",
      " 'bound_compound_weight': [745.421, 384.432],\n",
      " 'cath_architecture': ['3-Layer(aba) Sandwich'],\n",
      " 'cath_class': ['Alpha Beta'],\n",
      " 'cath_code': ['3.40.430.10'],\n",
      " 'cath_homologous_superfamily': ['Dihydrofolate Reductase, subunit A'],\n",
      " 'cath_topology': ['Dihydrofolate Reductase, subunit A'],\n",
      " 'cell_a': 85.873,\n",
      " 'cell_alpha': 90.0,\n",
      " 'cell_b': 85.873,\n",
      " 'cell_beta': 90.0,\n",
      " 'cell_c': 77.637,\n",
      " 'cell_gamma': 120.0,\n",
      " 'citation_authors': ['Cody V', 'Luft JR', 'Pangborn W', 'Gangjee A'],\n",
      " 'citation_doi': '10.1107/S0907444903014963',\n",
      " 'citation_title': 'Analysis of three crystal structure determinations of a '\n",
      "                   '5-methyl-6-N-methylanilino pyridopyrimidine antifolate '\n",
      "                   'complex with human dihydrofolate reductase.',\n",
      " 'citation_year': 2003,\n",
      " 'cofactor_class': ['Nicotinamide-adenine dinucleotide'],\n",
      " 'cofactor_id': ['NDP'],\n",
      " 'compound_id': ['NDP', 'CO4'],\n",
      " 'compound_name': ['NDP : NADPH DIHYDRO-NICOTINAMIDE-ADENINE-DINUCLEOTIDE '\n",
      "                   'PHOSPHATE',\n",
      "                   'CO4 : '\n",
      "                   '2,4-DIAMINO-5-METHYL-6-[(3,4,5-TRIMETHOXY-N-METHYLANILINO)METHYL]PYRIDO[2,3-D]PYRIMIDINE'],\n",
      " 'compound_systematic_name': ['CO4 : '\n",
      "                              '5-methyl-6-{[methyl(3,4,5-trimethoxyphenyl)amino]methyl}pyrido[2,3-d]pyrimidine-2,4-diamine',\n",
      "                              'CO4 : '\n",
      "                              '5-methyl-6-[[methyl-(3,4,5-trimethoxyphenyl)amino]methyl]pyrido[3,2-e]pyrimidine-2,4-diamine',\n",
      "                              'NDP : '\n",
      "                              '[[(2R,3S,4R,5R)-5-(3-aminocarbonyl-4H-pyridin-1-yl)-3,4-dihydroxy-oxolan-2-yl]methoxy-hydroxy-phosphoryl] '\n",
      "                              '[(2R,3R,4R,5R)-5-(6-aminopurin-9-yl)-3-hydroxy-4-phosphonooxy-oxolan-2-yl]methyl '\n",
      "                              'hydrogen phosphate'],\n",
      " 'compound_weight': [745.421, 384.432],\n",
      " 'crystallisation_cond': ['Ammonium sulfate, 0.1 M phosphate buffer, pH 8.0, '\n",
      "                          'VAPOR DIFFUSION, HANGING DROP, temperature 293K'],\n",
      " 'crystallisation_method': 'VAPOR DIFFUSION, HANGING DROP',\n",
      " 'crystallisation_ph': [8.0, 8.0],\n",
      " 'crystallisation_reservoir': ['SODIUM PHOSPHATE'],\n",
      " 'crystallisation_temperature': 293.0,\n",
      " 'data_quality': -1.0,\n",
      " 'data_reduction_software': ['DENZO'],\n",
      " 'data_scaling_software': ['SCALEPACK'],\n",
      " 'deposition_date': '2003-05-19T01:00:00Z',\n",
      " 'deposition_site': 'RCSB',\n",
      " 'deposition_year': 2003,\n",
      " 'detector': ['Image plate'],\n",
      " 'detector_type': ['RIGAKU RAXIS IIC'],\n",
      " 'diffraction_protocol': ['Single wavelength'],\n",
      " 'diffraction_source_type': ['RIGAKU RU200'],\n",
      " 'diffraction_wavelengths': [1.5418],\n",
      " 'ec_hierarchy_name': ['Oxidoreductases',\n",
      "                       'Acting on the CH-NH group of donors',\n",
      "                       'With NAD(+) or NADP(+) as acceptor',\n",
      "                       'Dihydrofolate reductase'],\n",
      " 'ec_number': ['1.5.1.3'],\n",
      " 'entity_id': 1,\n",
      " 'entity_weight': 21349.525,\n",
      " 'entry_author_list': ['Cody V, Luft JR, Pangborn W, Gangjee A'],\n",
      " 'entry_authors': ['Cody V', 'Luft JR', 'Pangborn W', 'Gangjee A'],\n",
      " 'entry_entity': '1pd8_1',\n",
      " 'entry_lig_entity': ['1pd8_CO4_3', '1pd8_NDP_2'],\n",
      " 'entry_organism_scientific_name': ['Homo sapiens|9606'],\n",
      " 'enzyme_name': ['Dihydrofolate reductase'],\n",
      " 'enzyme_num_name': ['1.5.1.3 : Dihydrofolate reductase'],\n",
      " 'enzyme_systematic_name': ['5,6,7,8-tetrahydrofolate:NADP(+) oxidoreductase'],\n",
      " 'experimental_method': ['X-ray diffraction'],\n",
      " 'expression_host_sci_name': ['Escherichia coli'],\n",
      " 'expression_host_synonyms': ['Bacterium Coli',\n",
      "                              'Enterococcus Coli',\n",
      "                              'Bacterium 10a',\n",
      "                              'Escherichia Coli',\n",
      "                              'Escherichia Sp. 3_2_53faa',\n",
      "                              'Escherichia/Shigella Coli',\n",
      "                              'Ecolx',\n",
      "                              'Bacterium E3',\n",
      "                              'Bacterium Coli Commune',\n",
      "                              'E. Coli',\n",
      "                              'Bacillus Coli',\n",
      "                              'Escherichia Sp. Mar',\n",
      "                              'Escherichia coli',\n",
      "                              'Escherichia',\n",
      "                              'Enterobacteriaceae',\n",
      "                              'Enterobacterales',\n",
      "                              'Gammaproteobacteria',\n",
      "                              'Proteobacteria',\n",
      "                              'Bacteria'],\n",
      " 'expression_host_tax_id': [562],\n",
      " 'expression_organism_name': ['Escherichia coli',\n",
      "                              'Bacterium Coli',\n",
      "                              'Enterococcus Coli',\n",
      "                              'Bacterium 10a',\n",
      "                              'Escherichia Coli',\n",
      "                              'Escherichia Sp. 3_2_53faa',\n",
      "                              'Escherichia/Shigella Coli',\n",
      "                              'Ecolx',\n",
      "                              'Bacterium E3',\n",
      "                              'Bacterium Coli Commune',\n",
      "                              'E. Coli',\n",
      "                              'Bacillus Coli',\n",
      "                              'Escherichia Sp. Mar',\n",
      "                              'Escherichia coli',\n",
      "                              'Escherichia',\n",
      "                              'Enterobacteriaceae',\n",
      "                              'Enterobacterales',\n",
      "                              'Gammaproteobacteria',\n",
      "                              'Proteobacteria',\n",
      "                              'Bacteria'],\n",
      " 'gene_name': ['DHFR'],\n",
      " 'genus': ['Homo'],\n",
      " 'go_id': ['GO:0006730',\n",
      "           'GO:0046655',\n",
      "           'GO:0017148',\n",
      "           'GO:0031427',\n",
      "           'GO:2000121',\n",
      "           'GO:0046654',\n",
      "           'GO:0046653',\n",
      "           'GO:0006729',\n",
      "           'GO:0051000',\n",
      "           'GO:0055114',\n",
      "           'GO:0000083',\n",
      "           'GO:0031103',\n",
      "           'GO:0046452',\n",
      "           'GO:0005542',\n",
      "           'GO:0016491',\n",
      "           'GO:0070402',\n",
      "           'GO:0003723',\n",
      "           'GO:1990825',\n",
      "           'GO:0003729',\n",
      "           'GO:0051870',\n",
      "           'GO:0050661',\n",
      "           'GO:0004146',\n",
      "           'GO:0000900',\n",
      "           'GO:0008144',\n",
      "           'GO:0005737',\n",
      "           'GO:0005739',\n",
      "           'GO:0005829'],\n",
      " 'go_mapping': ['GO:0006730 : one-carbon metabolic process',\n",
      "                'GO:0046655 : folic acid metabolic process',\n",
      "                'GO:0017148 : negative regulation of translation',\n",
      "                'GO:0031427 : response to methotrexate',\n",
      "                'GO:2000121 : regulation of removal of superoxide radicals',\n",
      "                'GO:0046654 : tetrahydrofolate biosynthetic process',\n",
      "                'GO:0046653 : tetrahydrofolate metabolic process',\n",
      "                'GO:0006729 : tetrahydrobiopterin biosynthetic process',\n",
      "                'GO:0051000 : positive regulation of nitric-oxide synthase '\n",
      "                'activity',\n",
      "                'GO:0055114 : oxidation-reduction process',\n",
      "                'GO:0000083 : regulation of transcription involved in G1/S '\n",
      "                'transition of mitotic cell cycle',\n",
      "                'GO:0031103 : axon regeneration',\n",
      "                'GO:0046452 : dihydrofolate metabolic process',\n",
      "                'GO:0005542 : folic acid binding',\n",
      "                'GO:0016491 : oxidoreductase activity',\n",
      "                'GO:0070402 : NADPH binding',\n",
      "                'GO:0003723 : RNA binding',\n",
      "                'GO:1990825 : sequence-specific mRNA binding',\n",
      "                'GO:0003729 : mRNA binding',\n",
      "                'GO:0051870 : methotrexate binding',\n",
      "                'GO:0050661 : NADP binding',\n",
      "                'GO:0004146 : dihydrofolate reductase activity',\n",
      "                'GO:0000900 : translation repressor activity, mRNA regulatory '\n",
      "                'element binding',\n",
      "                'GO:0008144 : drug binding',\n",
      "                'GO:0005737 : cytoplasm',\n",
      "                'GO:0005739 : mitochondrion',\n",
      "                'GO:0005829 : cytosol'],\n",
      " 'has_bound_molecule': 'Y',\n",
      " 'has_modified_residues': 'N',\n",
      " 'homologus_pdb_entity_id': ['4qhv_1',\n",
      "                             '6dav_1',\n",
      "                             '1dlr_1',\n",
      "                             '4kak_1',\n",
      "                             '4keb_1',\n",
      "                             '5hqy_1',\n",
      "                             '5hqz_1',\n",
      "                             '1u72_1',\n",
      "                             '2w3b_1',\n",
      "                             '5hsr_1',\n",
      "                             '5ht4_1',\n",
      "                             '3nu0_1',\n",
      "                             '3nxo_1',\n",
      "                             '3nxt_1',\n",
      "                             '3nxv_1',\n",
      "                             '2c2s_1',\n",
      "                             '3nxr_1',\n",
      "                             '1hfr_1',\n",
      "                             '1s3v_1',\n",
      "                             '1s3w_1',\n",
      "                             '1u71_1',\n",
      "                             '1yho_1',\n",
      "                             '2w3a_1',\n",
      "                             '3nxy_1',\n",
      "                             '3nzd_1',\n",
      "                             '3s7a_1',\n",
      "                             '5hve_1',\n",
      "                             '1dls_1',\n",
      "                             '1drf_1',\n",
      "                             '1mvs_1',\n",
      "                             '2c2t_1',\n",
      "                             '4m6j_1',\n",
      "                             '1kms_1',\n",
      "                             '1pd9_1',\n",
      "                             '3ghc_1',\n",
      "                             '3ghw_1',\n",
      "                             '3ntz_1',\n",
      "                             '3nxx_1',\n",
      "                             '1pdb_1',\n",
      "                             '3f8y_1',\n",
      "                             '3gi2_1',\n",
      "                             '6a7e_1',\n",
      "                             '1pd8_1',\n",
      "                             '4ddr_1',\n",
      "                             '4m6k_1',\n",
      "                             '3f8z_1',\n",
      "                             '3f91_1',\n",
      "                             '3fs6_1',\n",
      "                             '4m6l_1',\n",
      "                             '4qjc_1',\n",
      "                             '5hsu_1',\n",
      "                             '1boz_1',\n",
      "                             '3n0h_1',\n",
      "                             '4kfj_1',\n",
      "                             '1kmv_1',\n",
      "                             '1mvt_1',\n",
      "                             '3oaf_1',\n",
      "                             '4kd7_1',\n",
      "                             '5hpb_1',\n",
      "                             '6a7c_1',\n",
      "                             '1ohj_1',\n",
      "                             '3gyf_1',\n",
      "                             '4g95_1',\n",
      "                             '5hui_1',\n",
      "                             '1dhf_1',\n",
      "                             '1s3u_1',\n",
      "                             '2dhf_1',\n",
      "                             '3ghv_1',\n",
      "                             '1hfp_1',\n",
      "                             '1hfq_1',\n",
      "                             '1ohk_1',\n",
      "                             '2w3m_1',\n",
      "                             '3eig_1',\n",
      "                             '3l3r_1',\n",
      "                             '3s3v_1',\n",
      "                             '4kbn_1',\n",
      "                             '5ht5_1',\n",
      "                             '5hvb_1',\n",
      "                             '6de4_1'],\n",
      " 'interacting_ligands': ['CO4 : '\n",
      "                         '2,4-DIAMINO-5-METHYL-6-[(3,4,5-TRIMETHOXY-N-METHYLANILINO)METHYL]PYRIDO[2,3-D]PYRIMIDINE',\n",
      "                         'NDP : NADPH '\n",
      "                         'DIHYDRO-NICOTINAMIDE-ADENINE-DINUCLEOTIDE PHOSPHATE'],\n",
      " 'interpro': ['IPR017925 : Dihydrofolate reductase conserved site',\n",
      "              'IPR001796 : Dihydrofolate reductase domain',\n",
      "              'IPR024072 : Dihydrofolate reductase-like domain superfamily'],\n",
      " 'interpro_accession': ['IPR017925', 'IPR001796', 'IPR024072'],\n",
      " 'interpro_name': ['Dihydrofolate reductase conserved site',\n",
      "                   'Dihydrofolate reductase domain',\n",
      "                   'Dihydrofolate reductase-like domain superfamily'],\n",
      " 'inv_overall_quality': 178.0,\n",
      " 'journal': 'Acta Crystallogr. D Biol. Crystallogr.',\n",
      " 'journal_page': '1603-9',\n",
      " 'journal_volume': '59',\n",
      " 'matthews_coefficient': 2.58,\n",
      " 'max_observed_residues': 186,\n",
      " 'mesh_terms': 'Binding Sites,Crystallization,Crystallography, X-Ray,Folic '\n",
      "               'Acid Antagonists,Humans,Protein Binding,Protein '\n",
      "               'Conformation,Pyrimidines,Tetrahydrofolate Dehydrogenase',\n",
      " 'model_quality': 6.12,\n",
      " 'modified_residue_flag': 'N',\n",
      " 'molecule_name': ['Dihydrofolate reductase'],\n",
      " 'molecule_sequence': 'VGSLNCIVAVSQNMGIGKNGDLPWPPLRNEFRYFQRMTTTSSVEGKQNLVIMGKKTWFSIPEKNRPLKGRINLVLSRELKEPPQGAHFLSRSLDDALKLTEQPELANKVDMVWIVGGSSVYKEAMNHPGHLKLFVTRIMQDFESDTFFPEIDLEKYKLLPEYPGVLSDVQEEKGIKYKFEVYEKND',\n",
      " 'molecule_synonym': ['Dihydrofolate reductase'],\n",
      " 'molecule_type': 'Protein',\n",
      " 'mutation': 'n',\n",
      " 'nigli_cell_a': 55.927,\n",
      " 'nigli_cell_alpha': 100.301,\n",
      " 'nigli_cell_b': 55.927,\n",
      " 'nigli_cell_beta': 100.301,\n",
      " 'nigli_cell_c': 55.927,\n",
      " 'nigli_cell_gamma': 100.301,\n",
      " 'nigli_cell_symmetry': 'R32',\n",
      " 'num_interacting_entity_id': [0],\n",
      " 'num_r_free_reflections': [10192],\n",
      " 'number_of_bound_entities': 2,\n",
      " 'number_of_bound_molecules': 2,\n",
      " 'number_of_copies': 1,\n",
      " 'number_of_models': 1,\n",
      " 'number_of_polymer_entities': 1,\n",
      " 'number_of_polymer_residues': 186,\n",
      " 'number_of_polymers': 1,\n",
      " 'number_of_protein_chains': 1,\n",
      " 'organism_name': ['Homo sapiens',\n",
      "                   'Man',\n",
      "                   'Homo Sapiens (Human)',\n",
      "                   'Human',\n",
      "                   'Homo Sapiens',\n",
      "                   'Homo sapiens',\n",
      "                   'Homo',\n",
      "                   'Homininae',\n",
      "                   'Hominidae',\n",
      "                   'Primates',\n",
      "                   'Mammalia',\n",
      "                   'Chordata',\n",
      "                   'Metazoa',\n",
      "                   'Eukaryota'],\n",
      " 'organism_scientific_name': ['Homo sapiens'],\n",
      " 'organism_synonyms': ['Man',\n",
      "                       'Homo Sapiens (Human)',\n",
      "                       'Human',\n",
      "                       'Homo Sapiens',\n",
      "                       'Homo sapiens',\n",
      "                       'Homo',\n",
      "                       'Homininae',\n",
      "                       'Hominidae',\n",
      "                       'Primates',\n",
      "                       'Mammalia',\n",
      "                       'Chordata',\n",
      "                       'Metazoa',\n",
      "                       'Eukaryota'],\n",
      " 'overall_quality': -78.0,\n",
      " 'pdb_accession': '1pd8',\n",
      " 'pdb_format_compatible': 'Y',\n",
      " 'pdb_id': '1pd8',\n",
      " 'percent_solvent': 52.31,\n",
      " 'pfam': ['PF00186 : DHFR_1'],\n",
      " 'pfam_accession': ['PF00186'],\n",
      " 'pfam_clan': ['CL0387 : DHFred'],\n",
      " 'pfam_clan_name': ['DHFred'],\n",
      " 'pfam_description': ['Dihydrofolate reductase'],\n",
      " 'pfam_name': ['DHFR_1'],\n",
      " 'pivot_resolution': 2.1,\n",
      " 'polymer_length': 186,\n",
      " 'prefered_assembly_id': '1',\n",
      " 'primary_wavelength': 1.5418,\n",
      " 'processing_site': 'RCSB',\n",
      " 'pubmed_author_list': ['Cody V, Luft JR, Pangborn W, Gangjee A'],\n",
      " 'pubmed_authors': ['Cody V', 'Luft JR', 'Pangborn W', 'Gangjee A'],\n",
      " 'pubmed_id': '12925791',\n",
      " 'q_abstracttext_unassigned': ['Structural data are reported for the first '\n",
      "                               'example of the potent antifolate inhibitor '\n",
      "                               \"2,4-diamino-5-methyl-6-[(3',4',5'-trimethoxy-N-methylanilino)methyl]pyrido[2,3-d]pyrimidine \"\n",
      "                               '(1) in complex with human dihydrofolate '\n",
      "                               'reductase (hDHFR) and NADPH. Small differences '\n",
      "                               'in crystallization conditions resulted in the '\n",
      "                               'growth of two different forms of a binary '\n",
      "                               'complex. The structure determination of an '\n",
      "                               'additional crystal of a ternary complex of '\n",
      "                               'hDHFR with NADPH and (1) grown under similar '\n",
      "                               'conditions is also reported. Diffraction data '\n",
      "                               'were collected to 2.1 A resolution for an R3 '\n",
      "                               'lattice from a hDHFR ternary complex with '\n",
      "                               'NADPH and (1) and to 2.2 A resolution from a '\n",
      "                               'binary complex. Data were also collected to '\n",
      "                               '2.1 A resolution from a binary complex with '\n",
      "                               'hDHFR and (1) in the first example of a '\n",
      "                               'tetragonal P4(3)2(1)2 lattice. Comparison of '\n",
      "                               'the intermolecular contacts among these '\n",
      "                               'structures reveals differences in the backbone '\n",
      "                               'conformation (1.9-3.2 A) for flexible loop '\n",
      "                               'regions (residues 40-46, 77-83 and 103-107) '\n",
      "                               'that reflect differences in the packing '\n",
      "                               'environment between the rhombohedral and '\n",
      "                               'tetragonal space groups. Analysis of the '\n",
      "                               'packing environments shows that the tetragonal '\n",
      "                               'lattice is more tightly packed, as reflected '\n",
      "                               'in its smaller V(M) value and lower solvent '\n",
      "                               'content. The conformation of the inhibitor (1) '\n",
      "                               'is similar in all structures and is also '\n",
      "                               'similar to that observed for TMQ, the parent '\n",
      "                               'quinazoline compound. The activity profile for '\n",
      "                               'this series of 5-deaza N-substituted '\n",
      "                               'non-classical trimethoxybenzyl antifolates '\n",
      "                               'shows that the N10-CH(3) substituted (1) has '\n",
      "                               'the greatest potency and selectivity for '\n",
      "                               'Toxoplasma gondii DHFR (tgDHFR) compared with '\n",
      "                               'its N-H or N-CHO analogs. Models of the tgDHFR '\n",
      "                               'active site indicate preferential contacts '\n",
      "                               'with (1) that are not present in either the '\n",
      "                               'human or Pneumocystis carinii DHFR structures. '\n",
      "                               'Differences in the acidic residue (Glu30 '\n",
      "                               'versus Asp for tgDHFR) affect the precise '\n",
      "                               'positioning of the diaminopyridopyrimidine '\n",
      "                               'ring, while changes in other residues, '\n",
      "                               'particularly at positions 60 and 64 (Leu '\n",
      "                               'versus Met and Asn versus Phe), involve '\n",
      "                               'interactions with the trimethoxybenzyl '\n",
      "                               'substituents.'],\n",
      " 'q_all_assembly_composition': ['protein structure'],\n",
      " 'q_all_assembly_form': ['homo'],\n",
      " 'q_all_assembly_id': ['1'],\n",
      " 'q_all_assembly_mol_wt': [22.497],\n",
      " 'q_all_assembly_type': ['monomer'],\n",
      " 'q_all_authors': ['Cody V', 'Gangjee A', 'Luft JR', 'Pangborn W'],\n",
      " 'q_all_compound_names': ['NDP : NADPH '\n",
      "                          'DIHYDRO-NICOTINAMIDE-ADENINE-DINUCLEOTIDE PHOSPHATE',\n",
      "                          'CO4 : '\n",
      "                          '2,4-DIAMINO-5-METHYL-6-[(3,4,5-TRIMETHOXY-N-METHYLANILINO)METHYL]PYRIDO[2,3-D]PYRIMIDINE',\n",
      "                          'CO4 : '\n",
      "                          '5-methyl-6-{[methyl(3,4,5-trimethoxyphenyl)amino]methyl}pyrido[2,3-d]pyrimidine-2,4-diamine',\n",
      "                          'CO4 : '\n",
      "                          '5-methyl-6-[[methyl-(3,4,5-trimethoxyphenyl)amino]methyl]pyrido[3,2-e]pyrimidine-2,4-diamine',\n",
      "                          'NDP : '\n",
      "                          '[[(2R,3S,4R,5R)-5-(3-aminocarbonyl-4H-pyridin-1-yl)-3,4-dihydroxy-oxolan-2-yl]methoxy-hydroxy-phosphoryl] '\n",
      "                          '[(2R,3R,4R,5R)-5-(6-aminopurin-9-yl)-3-hydroxy-4-phosphonooxy-oxolan-2-yl]methyl '\n",
      "                          'hydrogen phosphate'],\n",
      " 'q_all_enzyme_names': ['Oxidoreductases',\n",
      "                        'Acting on the CH-NH group of donors',\n",
      "                        'With NAD(+) or NADP(+) as acceptor',\n",
      "                        'Dihydrofolate reductase',\n",
      "                        '1.5.1.3 : Dihydrofolate reductase',\n",
      "                        '5,6,7,8-tetrahydrofolate:NADP(+) oxidoreductase'],\n",
      " 'q_all_go_terms': ['cytoplasm',\n",
      "                    'mitochondrion',\n",
      "                    'cytosol',\n",
      "                    'folic acid binding',\n",
      "                    'oxidoreductase activity',\n",
      "                    'NADPH binding',\n",
      "                    'RNA binding',\n",
      "                    'sequence-specific mRNA binding',\n",
      "                    'mRNA binding',\n",
      "                    'methotrexate binding',\n",
      "                    'NADP binding',\n",
      "                    'dihydrofolate reductase activity',\n",
      "                    'translation repressor activity, mRNA regulatory element '\n",
      "                    'binding',\n",
      "                    'drug binding',\n",
      "                    'one-carbon metabolic process',\n",
      "                    'folic acid metabolic process',\n",
      "                    'negative regulation of translation',\n",
      "                    'response to methotrexate',\n",
      "                    'regulation of removal of superoxide radicals',\n",
      "                    'tetrahydrofolate biosynthetic process',\n",
      "                    'tetrahydrofolate metabolic process',\n",
      "                    'tetrahydrobiopterin biosynthetic process',\n",
      "                    'positive regulation of nitric-oxide synthase activity',\n",
      "                    'oxidation-reduction process',\n",
      "                    'regulation of transcription involved in G1/S transition '\n",
      "                    'of mitotic cell cycle',\n",
      "                    'axon regeneration',\n",
      "                    'dihydrofolate metabolic process'],\n",
      " 'q_all_molecule_names': ['Dihydrofolate reductase', 'Dihydrofolate reductase'],\n",
      " 'q_all_num_interacting_entity_id': [0],\n",
      " 'q_all_sequence_family': ['IPR017925 : Dihydrofolate reductase conserved site',\n",
      "                           'IPR001796 : Dihydrofolate reductase domain',\n",
      "                           'IPR024072 : Dihydrofolate reductase-like domain '\n",
      "                           'superfamily',\n",
      "                           'PF00186 : DHFR_1',\n",
      "                           'CL0387 : DHFred'],\n",
      " 'q_all_structure_family': ['3-Layer(aba) Sandwich',\n",
      "                            'Alpha Beta',\n",
      "                            '3.40.430.10',\n",
      "                            'Dihydrofolate Reductase, subunit A',\n",
      "                            'Dihydrofolate Reductase, subunit A',\n",
      "                            'Alpha and beta proteins (a/b)',\n",
      "                            'Dihydrofolate reductases',\n",
      "                            'Dihydrofolate reductase-like',\n",
      "                            'Dihydrofolate reductase-like'],\n",
      " 'q_assembly_composition': ['protein structure'],\n",
      " 'q_assembly_form': ['homo'],\n",
      " 'q_assembly_id': ['1'],\n",
      " 'q_assembly_mol_wt': 22.497,\n",
      " 'q_assembly_type': ['monomer'],\n",
      " 'q_beam_source_name': ['Rotating anode'],\n",
      " 'q_biological_cell_component': ['cytoplasm', 'mitochondrion', 'cytosol'],\n",
      " 'q_biological_function': ['folic acid binding',\n",
      "                           'oxidoreductase activity',\n",
      "                           'NADPH binding',\n",
      "                           'RNA binding',\n",
      "                           'sequence-specific mRNA binding',\n",
      "                           'mRNA binding',\n",
      "                           'methotrexate binding',\n",
      "                           'NADP binding',\n",
      "                           'dihydrofolate reductase activity',\n",
      "                           'translation repressor activity, mRNA regulatory '\n",
      "                           'element binding',\n",
      "                           'drug binding'],\n",
      " 'q_biological_process': ['one-carbon metabolic process',\n",
      "                          'folic acid metabolic process',\n",
      "                          'negative regulation of translation',\n",
      "                          'response to methotrexate',\n",
      "                          'regulation of removal of superoxide radicals',\n",
      "                          'tetrahydrofolate biosynthetic process',\n",
      "                          'tetrahydrofolate metabolic process',\n",
      "                          'tetrahydrobiopterin biosynthetic process',\n",
      "                          'positive regulation of nitric-oxide synthase '\n",
      "                          'activity',\n",
      "                          'oxidation-reduction process',\n",
      "                          'regulation of transcription involved in G1/S '\n",
      "                          'transition of mitotic cell cycle',\n",
      "                          'axon regeneration',\n",
      "                          'dihydrofolate metabolic process'],\n",
      " 'q_bound_compound_id': ['NDP', 'CO4'],\n",
      " 'q_bound_compound_name': ['NDP : NADPH '\n",
      "                           'DIHYDRO-NICOTINAMIDE-ADENINE-DINUCLEOTIDE '\n",
      "                           'PHOSPHATE',\n",
      "                           'CO4 : '\n",
      "                           '2,4-DIAMINO-5-METHYL-6-[(3,4,5-TRIMETHOXY-N-METHYLANILINO)METHYL]PYRIDO[2,3-D]PYRIMIDINE'],\n",
      " 'q_bound_compound_systematic_name': ['CO4 : '\n",
      "                                      '5-methyl-6-{[methyl(3,4,5-trimethoxyphenyl)amino]methyl}pyrido[2,3-d]pyrimidine-2,4-diamine',\n",
      "                                      'CO4 : '\n",
      "                                      '5-methyl-6-[[methyl-(3,4,5-trimethoxyphenyl)amino]methyl]pyrido[3,2-e]pyrimidine-2,4-diamine',\n",
      "                                      'NDP : '\n",
      "                                      '[[(2R,3S,4R,5R)-5-(3-aminocarbonyl-4H-pyridin-1-yl)-3,4-dihydroxy-oxolan-2-yl]methoxy-hydroxy-phosphoryl] '\n",
      "                                      '[(2R,3R,4R,5R)-5-(6-aminopurin-9-yl)-3-hydroxy-4-phosphonooxy-oxolan-2-yl]methyl '\n",
      "                                      'hydrogen phosphate'],\n",
      " 'q_bound_compound_weight': [745.421, 384.432],\n",
      " 'q_cath_architecture': ['3-Layer(aba) Sandwich'],\n",
      " 'q_cath_class': ['Alpha Beta'],\n",
      " 'q_cath_code': ['3.40.430.10'],\n",
      " 'q_cath_homologous_superfamily': ['Dihydrofolate Reductase, subunit A'],\n",
      " 'q_cath_topology': ['Dihydrofolate Reductase, subunit A'],\n",
      " 'q_cell_a': 85.873,\n",
      " 'q_cell_alpha': 90.0,\n",
      " 'q_cell_b': 85.873,\n",
      " 'q_cell_beta': 90.0,\n",
      " 'q_cell_c': 77.637,\n",
      " 'q_cell_gamma': 120.0,\n",
      " 'q_citation_authors': ['Cody V', 'Luft JR', 'Pangborn W', 'Gangjee A'],\n",
      " 'q_citation_doi': '10.1107/S0907444903014963',\n",
      " 'q_citation_title': 'Analysis of three crystal structure determinations of a '\n",
      "                     '5-methyl-6-N-methylanilino pyridopyrimidine antifolate '\n",
      "                     'complex with human dihydrofolate reductase.',\n",
      " 'q_citation_year': 2003,\n",
      " 'q_cofactor_class': ['Nicotinamide-adenine dinucleotide'],\n",
      " 'q_cofactor_id': ['NDP'],\n",
      " 'q_compound_id': ['NDP', 'CO4'],\n",
      " 'q_compound_name': ['NDP : NADPH DIHYDRO-NICOTINAMIDE-ADENINE-DINUCLEOTIDE '\n",
      "                     'PHOSPHATE',\n",
      "                     'CO4 : '\n",
      "                     '2,4-DIAMINO-5-METHYL-6-[(3,4,5-TRIMETHOXY-N-METHYLANILINO)METHYL]PYRIDO[2,3-D]PYRIMIDINE'],\n",
      " 'q_compound_systematic_name': ['CO4 : '\n",
      "                                '5-methyl-6-{[methyl(3,4,5-trimethoxyphenyl)amino]methyl}pyrido[2,3-d]pyrimidine-2,4-diamine',\n",
      "                                'CO4 : '\n",
      "                                '5-methyl-6-[[methyl-(3,4,5-trimethoxyphenyl)amino]methyl]pyrido[3,2-e]pyrimidine-2,4-diamine',\n",
      "                                'NDP : '\n",
      "                                '[[(2R,3S,4R,5R)-5-(3-aminocarbonyl-4H-pyridin-1-yl)-3,4-dihydroxy-oxolan-2-yl]methoxy-hydroxy-phosphoryl] '\n",
      "                                '[(2R,3R,4R,5R)-5-(6-aminopurin-9-yl)-3-hydroxy-4-phosphonooxy-oxolan-2-yl]methyl '\n",
      "                                'hydrogen phosphate'],\n",
      " 'q_compound_weight': [745.421, 384.432],\n",
      " 'q_crystallisation_cond': ['Ammonium sulfate, 0.1 M phosphate buffer, pH 8.0, '\n",
      "                            'VAPOR DIFFUSION, HANGING DROP, temperature 293K'],\n",
      " 'q_crystallisation_method': 'VAPOR DIFFUSION, HANGING DROP',\n",
      " 'q_crystallisation_ph': [8.0, 8.0],\n",
      " 'q_crystallisation_reservoir': ['SODIUM PHOSPHATE'],\n"
     ]
    },
    {
     "name": "stdout",
     "output_type": "stream",
     "text": [
      " 'q_crystallisation_temperature': 293.0,\n",
      " 'q_data_quality': -1.0,\n",
      " 'q_data_reduction_software': ['DENZO'],\n",
      " 'q_data_scaling_software': ['SCALEPACK'],\n",
      " 'q_deposition_date': '2003-05-19T01:00:00Z',\n",
      " 'q_deposition_site': 'RCSB',\n",
      " 'q_deposition_year': 2003,\n",
      " 'q_detector': ['Image plate'],\n",
      " 'q_detector_type': ['RIGAKU RAXIS IIC'],\n",
      " 'q_diffraction_protocol': ['Single wavelength'],\n",
      " 'q_diffraction_source_type': ['RIGAKU RU200'],\n",
      " 'q_diffraction_wavelengths': [1.5418],\n",
      " 'q_ec_hierarchy_name': ['Oxidoreductases',\n",
      "                         'Acting on the CH-NH group of donors',\n",
      "                         'With NAD(+) or NADP(+) as acceptor',\n",
      "                         'Dihydrofolate reductase'],\n",
      " 'q_ec_number': ['1.5.1.3'],\n",
      " 'q_entity_id': 1,\n",
      " 'q_entity_weight': 21349.525,\n",
      " 'q_entry_author_list': ['Cody V, Luft JR, Pangborn W, Gangjee A'],\n",
      " 'q_entry_authors': ['Cody V', 'Luft JR', 'Pangborn W', 'Gangjee A'],\n",
      " 'q_entry_lig_entity': ['1pd8_CO4_3', '1pd8_NDP_2'],\n",
      " 'q_enzyme_name': ['Dihydrofolate reductase'],\n",
      " 'q_enzyme_num_name': ['1.5.1.3 : Dihydrofolate reductase'],\n",
      " 'q_enzyme_systematic_name': ['5,6,7,8-tetrahydrofolate:NADP(+) '\n",
      "                              'oxidoreductase'],\n",
      " 'q_experimental_method': ['X-ray diffraction'],\n",
      " 'q_expression_host_sci_name': ['Escherichia coli'],\n",
      " 'q_expression_host_synonyms': ['Bacterium Coli',\n",
      "                                'Enterococcus Coli',\n",
      "                                'Bacterium 10a',\n",
      "                                'Escherichia Coli',\n",
      "                                'Escherichia Sp. 3_2_53faa',\n",
      "                                'Escherichia/Shigella Coli',\n",
      "                                'Ecolx',\n",
      "                                'Bacterium E3',\n",
      "                                'Bacterium Coli Commune',\n",
      "                                'E. Coli',\n",
      "                                'Bacillus Coli',\n",
      "                                'Escherichia Sp. Mar',\n",
      "                                'Escherichia coli',\n",
      "                                'Escherichia',\n",
      "                                'Enterobacteriaceae',\n",
      "                                'Enterobacterales',\n",
      "                                'Gammaproteobacteria',\n",
      "                                'Proteobacteria',\n",
      "                                'Bacteria'],\n",
      " 'q_expression_host_tax_id': [562],\n",
      " 'q_expression_organism_name': ['Escherichia coli',\n",
      "                                'Bacterium Coli',\n",
      "                                'Enterococcus Coli',\n",
      "                                'Bacterium 10a',\n",
      "                                'Escherichia Coli',\n",
      "                                'Escherichia Sp. 3_2_53faa',\n",
      "                                'Escherichia/Shigella Coli',\n",
      "                                'Ecolx',\n",
      "                                'Bacterium E3',\n",
      "                                'Bacterium Coli Commune',\n",
      "                                'E. Coli',\n",
      "                                'Bacillus Coli',\n",
      "                                'Escherichia Sp. Mar',\n",
      "                                'Escherichia coli',\n",
      "                                'Escherichia',\n",
      "                                'Enterobacteriaceae',\n",
      "                                'Enterobacterales',\n",
      "                                'Gammaproteobacteria',\n",
      "                                'Proteobacteria',\n",
      "                                'Bacteria'],\n",
      " 'q_gene_name': ['DHFR'],\n",
      " 'q_genus': ['Homo'],\n",
      " 'q_go_id': ['GO:0006730',\n",
      "             'GO:0046655',\n",
      "             'GO:0017148',\n",
      "             'GO:0031427',\n",
      "             'GO:2000121',\n",
      "             'GO:0046654',\n",
      "             'GO:0046653',\n",
      "             'GO:0006729',\n",
      "             'GO:0051000',\n",
      "             'GO:0055114',\n",
      "             'GO:0000083',\n",
      "             'GO:0031103',\n",
      "             'GO:0046452',\n",
      "             'GO:0005542',\n",
      "             'GO:0016491',\n",
      "             'GO:0070402',\n",
      "             'GO:0003723',\n",
      "             'GO:1990825',\n",
      "             'GO:0003729',\n",
      "             'GO:0051870',\n",
      "             'GO:0050661',\n",
      "             'GO:0004146',\n",
      "             'GO:0000900',\n",
      "             'GO:0008144',\n",
      "             'GO:0005737',\n",
      "             'GO:0005739',\n",
      "             'GO:0005829'],\n",
      " 'q_go_mapping': ['GO:0006730 : one-carbon metabolic process',\n",
      "                  'GO:0046655 : folic acid metabolic process',\n",
      "                  'GO:0017148 : negative regulation of translation',\n",
      "                  'GO:0031427 : response to methotrexate',\n",
      "                  'GO:2000121 : regulation of removal of superoxide radicals',\n",
      "                  'GO:0046654 : tetrahydrofolate biosynthetic process',\n",
      "                  'GO:0046653 : tetrahydrofolate metabolic process',\n",
      "                  'GO:0006729 : tetrahydrobiopterin biosynthetic process',\n",
      "                  'GO:0051000 : positive regulation of nitric-oxide synthase '\n",
      "                  'activity',\n",
      "                  'GO:0055114 : oxidation-reduction process',\n",
      "                  'GO:0000083 : regulation of transcription involved in G1/S '\n",
      "                  'transition of mitotic cell cycle',\n",
      "                  'GO:0031103 : axon regeneration',\n",
      "                  'GO:0046452 : dihydrofolate metabolic process',\n",
      "                  'GO:0005542 : folic acid binding',\n",
      "                  'GO:0016491 : oxidoreductase activity',\n",
      "                  'GO:0070402 : NADPH binding',\n",
      "                  'GO:0003723 : RNA binding',\n",
      "                  'GO:1990825 : sequence-specific mRNA binding',\n",
      "                  'GO:0003729 : mRNA binding',\n",
      "                  'GO:0051870 : methotrexate binding',\n",
      "                  'GO:0050661 : NADP binding',\n",
      "                  'GO:0004146 : dihydrofolate reductase activity',\n",
      "                  'GO:0000900 : translation repressor activity, mRNA '\n",
      "                  'regulatory element binding',\n",
      "                  'GO:0008144 : drug binding',\n",
      "                  'GO:0005737 : cytoplasm',\n",
      "                  'GO:0005739 : mitochondrion',\n",
      "                  'GO:0005829 : cytosol'],\n",
      " 'q_has_bound_molecule': 'Y',\n",
      " 'q_has_modified_residues': 'N',\n",
      " 'q_homologus_pdb_entity_id': ['4qhv_1',\n",
      "                               '6dav_1',\n",
      "                               '1dlr_1',\n",
      "                               '4kak_1',\n",
      "                               '4keb_1',\n",
      "                               '5hqy_1',\n",
      "                               '5hqz_1',\n",
      "                               '1u72_1',\n",
      "                               '2w3b_1',\n",
      "                               '5hsr_1',\n",
      "                               '5ht4_1',\n",
      "                               '3nu0_1',\n",
      "                               '3nxo_1',\n",
      "                               '3nxt_1',\n",
      "                               '3nxv_1',\n",
      "                               '2c2s_1',\n",
      "                               '3nxr_1',\n",
      "                               '1hfr_1',\n",
      "                               '1s3v_1',\n",
      "                               '1s3w_1',\n",
      "                               '1u71_1',\n",
      "                               '1yho_1',\n",
      "                               '2w3a_1',\n",
      "                               '3nxy_1',\n",
      "                               '3nzd_1',\n",
      "                               '3s7a_1',\n",
      "                               '5hve_1',\n",
      "                               '1dls_1',\n",
      "                               '1drf_1',\n",
      "                               '1mvs_1',\n",
      "                               '2c2t_1',\n",
      "                               '4m6j_1',\n",
      "                               '1kms_1',\n",
      "                               '1pd9_1',\n",
      "                               '3ghc_1',\n",
      "                               '3ghw_1',\n",
      "                               '3ntz_1',\n",
      "                               '3nxx_1',\n",
      "                               '1pdb_1',\n",
      "                               '3f8y_1',\n",
      "                               '3gi2_1',\n",
      "                               '6a7e_1',\n",
      "                               '1pd8_1',\n",
      "                               '4ddr_1',\n",
      "                               '4m6k_1',\n",
      "                               '3f8z_1',\n",
      "                               '3f91_1',\n",
      "                               '3fs6_1',\n",
      "                               '4m6l_1',\n",
      "                               '4qjc_1',\n",
      "                               '5hsu_1',\n",
      "                               '1boz_1',\n",
      "                               '3n0h_1',\n",
      "                               '4kfj_1',\n",
      "                               '1kmv_1',\n",
      "                               '1mvt_1',\n",
      "                               '3oaf_1',\n",
      "                               '4kd7_1',\n",
      "                               '5hpb_1',\n",
      "                               '6a7c_1',\n",
      "                               '1ohj_1',\n",
      "                               '3gyf_1',\n",
      "                               '4g95_1',\n",
      "                               '5hui_1',\n",
      "                               '1dhf_1',\n",
      "                               '1s3u_1',\n",
      "                               '2dhf_1',\n",
      "                               '3ghv_1',\n",
      "                               '1hfp_1',\n",
      "                               '1hfq_1',\n",
      "                               '1ohk_1',\n",
      "                               '2w3m_1',\n",
      "                               '3eig_1',\n",
      "                               '3l3r_1',\n",
      "                               '3s3v_1',\n",
      "                               '4kbn_1',\n",
      "                               '5ht5_1',\n",
      "                               '5hvb_1',\n",
      "                               '6de4_1'],\n",
      " 'q_interacting_ligands': ['CO4 : '\n",
      "                           '2,4-DIAMINO-5-METHYL-6-[(3,4,5-TRIMETHOXY-N-METHYLANILINO)METHYL]PYRIDO[2,3-D]PYRIMIDINE',\n",
      "                           'NDP : NADPH '\n",
      "                           'DIHYDRO-NICOTINAMIDE-ADENINE-DINUCLEOTIDE '\n",
      "                           'PHOSPHATE'],\n",
      " 'q_interpro': ['IPR017925 : Dihydrofolate reductase conserved site',\n",
      "                'IPR001796 : Dihydrofolate reductase domain',\n",
      "                'IPR024072 : Dihydrofolate reductase-like domain superfamily'],\n",
      " 'q_interpro_accession': ['IPR017925', 'IPR001796', 'IPR024072'],\n",
      " 'q_interpro_name': ['Dihydrofolate reductase conserved site',\n",
      "                     'Dihydrofolate reductase domain',\n",
      "                     'Dihydrofolate reductase-like domain superfamily'],\n",
      " 'q_inv_overall_quality': 178.0,\n",
      " 'q_journal': 'Acta Crystallogr. D Biol. Crystallogr.',\n",
      " 'q_journal_page': '1603-9',\n",
      " 'q_journal_volume': '59',\n",
      " 'q_matthews_coefficient': 2.58,\n",
      " 'q_max_observed_residues': 186,\n",
      " 'q_mesh_terms': 'Binding Sites,Crystallization,Crystallography, X-Ray,Folic '\n",
      "                 'Acid Antagonists,Humans,Protein Binding,Protein '\n",
      "                 'Conformation,Pyrimidines,Tetrahydrofolate Dehydrogenase',\n",
      " 'q_model_quality': 6.12,\n",
      " 'q_modified_residue_flag': 'N',\n",
      " 'q_molecule_name': ['Dihydrofolate reductase'],\n",
      " 'q_molecule_sequence': 'VGSLNCIVAVSQNMGIGKNGDLPWPPLRNEFRYFQRMTTTSSVEGKQNLVIMGKKTWFSIPEKNRPLKGRINLVLSRELKEPPQGAHFLSRSLDDALKLTEQPELANKVDMVWIVGGSSVYKEAMNHPGHLKLFVTRIMQDFESDTFFPEIDLEKYKLLPEYPGVLSDVQEEKGIKYKFEVYEKND',\n",
      " 'q_molecule_synonym': ['Dihydrofolate reductase'],\n",
      " 'q_molecule_type': 'Protein',\n",
      " 'q_mutation': 'n',\n",
      " 'q_nigli_cell_a': 55.927,\n",
      " 'q_nigli_cell_alpha': 100.301,\n",
      " 'q_nigli_cell_b': 55.927,\n",
      " 'q_nigli_cell_beta': 100.301,\n",
      " 'q_nigli_cell_c': 55.927,\n",
      " 'q_nigli_cell_gamma': 100.301,\n",
      " 'q_nigli_cell_symmetry': 'R32',\n",
      " 'q_num_interacting_entity_id': [0],\n",
      " 'q_num_r_free_reflections': [10192],\n",
      " 'q_number_of_bound_entities': 2,\n",
      " 'q_number_of_bound_molecules': 2,\n",
      " 'q_number_of_copies': 1,\n",
      " 'q_number_of_models': 1,\n",
      " 'q_number_of_polymer_entities': 1,\n",
      " 'q_number_of_polymer_residues': 186,\n",
      " 'q_number_of_polymers': 1,\n",
      " 'q_number_of_protein_chains': 1,\n",
      " 'q_organism_name': ['Homo sapiens',\n",
      "                     'Man',\n",
      "                     'Homo Sapiens (Human)',\n",
      "                     'Human',\n",
      "                     'Homo Sapiens',\n",
      "                     'Homo sapiens',\n",
      "                     'Homo',\n",
      "                     'Homininae',\n",
      "                     'Hominidae',\n",
      "                     'Primates',\n",
      "                     'Mammalia',\n",
      "                     'Chordata',\n",
      "                     'Metazoa',\n",
      "                     'Eukaryota'],\n",
      " 'q_organism_scientific_name': ['Homo sapiens'],\n",
      " 'q_organism_synonyms': ['Man',\n",
      "                         'Homo Sapiens (Human)',\n",
      "                         'Human',\n",
      "                         'Homo Sapiens',\n",
      "                         'Homo sapiens',\n",
      "                         'Homo',\n",
      "                         'Homininae',\n",
      "                         'Hominidae',\n",
      "                         'Primates',\n",
      "                         'Mammalia',\n",
      "                         'Chordata',\n",
      "                         'Metazoa',\n",
      "                         'Eukaryota'],\n",
      " 'q_overall_quality': -78.0,\n",
      " 'q_pdb_accession': '1pd8',\n",
      " 'q_pdb_format_compatible': 'Y',\n",
      " 'q_pdb_id': '1pd8',\n",
      " 'q_percent_solvent': 52.31,\n",
      " 'q_pfam': ['PF00186 : DHFR_1'],\n",
      " 'q_pfam_accession': ['PF00186'],\n",
      " 'q_pfam_clan': ['CL0387 : DHFred'],\n",
      " 'q_pfam_clan_name': ['DHFred'],\n",
      " 'q_pfam_description': ['Dihydrofolate reductase'],\n",
      " 'q_pfam_name': ['DHFR_1'],\n",
      " 'q_pivot_resolution': 2.1,\n",
      " 'q_polymer_length': 186,\n",
      " 'q_prefered_assembly_id': '1',\n",
      " 'q_primary_wavelength': 1.5418,\n",
      " 'q_processing_site': 'RCSB',\n",
      " 'q_pubmed_author_list': ['Cody V, Luft JR, Pangborn W, Gangjee A'],\n",
      " 'q_pubmed_authors': ['Cody V', 'Luft JR', 'Pangborn W', 'Gangjee A'],\n",
      " 'q_pubmed_id': '12925791',\n",
      " 'q_r_factor': 0.197,\n",
      " 'q_r_free': 0.197,\n",
      " 'q_r_work': [0.173],\n",
      " 'q_rank': ['species',\n",
      "            'genus',\n",
      "            'subfamily',\n",
      "            'family',\n",
      "            'order',\n",
      "            'class',\n",
      "            'phylum',\n",
      "            'kingdom',\n",
      "            'superkingdom',\n",
      "            'species',\n",
      "            'genus',\n",
      "            'family',\n",
      "            'order',\n",
      "            'class',\n",
      "            'phylum',\n",
      "            'superkingdom'],\n",
      " 'q_refinement_software': ['PROLSQ'],\n",
      " 'q_release_date': '2003-12-09T01:00:00Z',\n",
      " 'q_release_year': 2003,\n",
      " 'q_resolution': 2.1,\n",
      " 'q_revision_date': '2011-07-13T01:00:00Z',\n",
      " 'q_revision_year': 2011,\n",
      " 'q_sample_preparation_method': ['Engineered'],\n",
      " 'q_scop_class': ['Alpha and beta proteins (a/b)'],\n",
      " 'q_scop_family': ['Dihydrofolate reductases'],\n",
      " 'q_scop_fold': ['Dihydrofolate reductase-like'],\n",
      " 'q_scop_superfamily': ['Dihydrofolate reductase-like'],\n",
      " 'q_seq_30_cluster_number': '29735',\n",
      " 'q_seq_30_cluster_rank': 41,\n",
      " 'q_seq_40_cluster_number': '21468',\n",
      " 'q_seq_40_cluster_rank': 41,\n",
      " 'q_seq_50_cluster_number': '17443',\n",
      " 'q_seq_50_cluster_rank': 41,\n",
      " 'q_spacegroup': 'H 3',\n",
      " 'q_status': 'REL',\n",
      " 'q_struct_asym_id': ['A'],\n",
      " 'q_structure_determination_method': ['MOLECULAR REPLACEMENT'],\n",
      " 'q_structure_solution_software': ['PROTEIN'],\n",
      " 'q_superkingdom': ['Eukaryota'],\n",
      " 'q_tax_id': [9606],\n",
      " 'q_tax_query': [9606],\n",
      " 'q_title': 'Analysis of Three Crystal Structure Determinations of a '\n",
      "            '5-Methyl-6-N-Methylanilino Pyridopyrimidine Antifolate Complex '\n",
      "            'with Human Dihydrofolate Reductase',\n",
      " 'q_uniprot': ['P00374 : DYR_HUMAN'],\n",
      " 'q_uniprot_accession': ['P00374', 'P00374-2'],\n",
      " 'q_uniprot_accession_best': ['P00374'],\n",
      " 'q_uniprot_best': ['P00374 : DYR_HUMAN'],\n",
      " 'q_uniprot_coverage': [0.99],\n",
      " 'q_uniprot_features': ['Protein has possible alternate isoforms',\n",
      "                        'DHFR',\n",
      "                        'Nucleotide binding - NADP',\n",
      "                        'Protein has possible natural variant '],\n",
      " 'q_uniprot_id': ['DYR_HUMAN', 'DYR_HUMAN'],\n",
      " 'q_uniprot_id_best': ['DYR_HUMAN'],\n",
      " 'q_uniprot_non_canonical': ['P00374-2 : DYR_HUMAN'],\n",
      " 'q_unp_count': 1,\n",
      " 'q_unp_nf90_accession': ['A0A2K5VUB7',\n",
      "                          'B0YJ76',\n",
      "                          'A0A2J8UWT6',\n",
      "                          'A0A096ND17',\n",
      "                          'A0A2K5XC43',\n",
      "                          'A0A0D9RRI0',\n",
      "                          'H9YW18',\n",
      "                          'P00374',\n",
      "                          'A0A2K5NPX9',\n",
      "                          'A0A024RAQ3',\n",
      "                          'A0A2J8UWS1',\n",
      "                          'S5WD14',\n",
      "                          'S5VM81',\n",
      "                          'A0A2I2Z6I4',\n",
      "                          'A0A2K6C3X6'],\n",
      " 'q_unp_nf90_id': ['A0A2K5VUB7_MACFA',\n",
      "                   'B0YJ76_HUMAN',\n",
      "                   'A0A2J8UWT6_PONAB',\n",
      "                   'A0A096ND17_PAPAN',\n",
      "                   'A0A2K5XC43_MANLE',\n",
      "                   'A0A0D9RRI0_CHLSB',\n",
      "                   'H9YW18_MACMU',\n",
      "                   'DYR_HUMAN',\n",
      "                   'A0A2K5NPX9_CERAT',\n",
      "                   'A0A024RAQ3_HUMAN',\n",
      "                   'A0A2J8UWS1_PONAB',\n",
      "                   'S5WD14_SHISS',\n",
      "                   'S5VM81_ECO57',\n",
      "                   'A0A2I2Z6I4_GORGO',\n",
      "                   'A0A2K6C3X6_MACNE'],\n",
      " 'q_unp_nf90_organism': ['Macaca fascicularis (Crab-eating macaque) '\n",
      "                         '(Cynomolgus monkey)',\n",
      "                         'Homo sapiens (Human)',\n",
      "                         'Pongo abelii (Sumatran orangutan) (Pongo pygmaeus '\n",
      "                         'abelii)',\n",
      "                         'Papio anubis (Olive baboon)',\n",
      "                         'Mandrillus leucophaeus (Drill) (Papio leucophaeus)',\n",
      "                         'Chlorocebus sabaeus (Green monkey) (Cercopithecus '\n",
      "                         'sabaeus)',\n",
      "                         'Macaca mulatta (Rhesus macaque)',\n",
      "                         'Homo sapiens (Human)',\n",
      "                         'Cercocebus atys (Sooty mangabey) (Cercocebus '\n",
      "                         'torquatus atys)',\n",
      "                         'Homo sapiens (Human)',\n",
      "                         'Pongo abelii (Sumatran orangutan) (Pongo pygmaeus '\n",
      "                         'abelii)',\n",
      "                         'Shigella sonnei (strain Ss046)',\n",
      "                         'Escherichia coli O157:H7',\n",
      "                         'Gorilla gorilla gorilla (Western lowland gorilla)',\n",
      "                         'Macaca nemestrina (Pig-tailed macaque)'],\n",
      " 'q_unp_nf90_protein_name': ['DHFR domain-containing protein',\n",
      "                             'Dihydrofolate reductase',\n",
      "                             'DHFR isoform 4',\n",
      "                             'DHFR domain-containing protein',\n",
      "                             'DHFR domain-containing protein',\n",
      "                             'Dihydrofolate reductase',\n",
      "                             'Dihydrofolate reductase',\n",
      "                             'Dihydrofolate reductase',\n",
      "                             'DHFR domain-containing protein',\n",
      "                             'Dihydrofolate reductase, isoform CRA_a',\n",
      "                             'DHFR isoform 1',\n",
      "                             'Trimethoprim resistant protein',\n",
      "                             'Trimethoprim resistant protein',\n",
      "                             'Dihydrofolate reductase',\n",
      "                             'DHFR domain-containing protein'],\n",
      " 'q_unp_nf90_tax_id': ['9541',\n",
      "                       '9606',\n",
      "                       '9601',\n",
      "                       '9555',\n",
      "                       '9568',\n",
      "                       '60711',\n",
      "                       '9544',\n",
      "                       '9606',\n",
      "                       '9531',\n",
      "                       '9606',\n",
      "                       '9601',\n",
      "                       '300269',\n",
      "                       '83334',\n",
      "                       '9595',\n",
      "                       '9545'],\n",
      " 'r_factor': 0.197,\n",
      " 'r_free': 0.197,\n",
      " 'r_work': [0.173],\n",
      " 'rank': ['species',\n",
      "          'genus',\n",
      "          'subfamily',\n",
      "          'family',\n",
      "          'order',\n",
      "          'class',\n",
      "          'phylum',\n",
      "          'kingdom',\n",
      "          'superkingdom',\n",
      "          'species',\n",
      "          'genus',\n",
      "          'family',\n",
      "          'order',\n",
      "          'class',\n",
      "          'phylum',\n",
      "          'superkingdom'],\n",
      " 'refinement_software': ['PROLSQ'],\n",
      " 'release_date': '2003-12-09T01:00:00Z',\n",
      " 'release_year': 2003,\n",
      " 'resolution': 2.1,\n",
      " 'revision_date': '2011-07-13T01:00:00Z',\n",
      " 'revision_year': 2011,\n",
      " 'sample_preparation_method': ['Engineered'],\n",
      " 'scop_class': ['Alpha and beta proteins (a/b)'],\n",
      " 'scop_family': ['Dihydrofolate reductases'],\n",
      " 'scop_fold': ['Dihydrofolate reductase-like'],\n",
      " 'scop_superfamily': ['Dihydrofolate reductase-like'],\n",
      " 'seq_30_cluster_number': '29735',\n",
      " 'seq_30_cluster_rank': 41,\n",
      " 'seq_40_cluster_number': '21468',\n",
      " 'seq_40_cluster_rank': 41,\n",
      " 'seq_50_cluster_number': '17443',\n",
      " 'seq_50_cluster_rank': 41,\n",
      " 'spacegroup': 'H 3',\n",
      " 'status': 'REL',\n",
      " 'struct_asym_id': ['A'],\n",
      " 'structure_determination_method': ['MOLECULAR REPLACEMENT'],\n",
      " 'structure_solution_software': ['PROTEIN'],\n",
      " 'superkingdom': ['Eukaryota'],\n",
      " 't_abstracttext_unassigned': ['Structural data are reported for the first '\n",
      "                               'example of the potent antifolate inhibitor '\n",
      "                               \"2,4-diamino-5-methyl-6-[(3',4',5'-trimethoxy-N-methylanilino)methyl]pyrido[2,3-d]pyrimidine \"\n",
      "                               '(1) in complex with human dihydrofolate '\n",
      "                               'reductase (hDHFR) and NADPH. Small differences '\n",
      "                               'in crystallization conditions resulted in the '\n",
      "                               'growth of two different forms of a binary '\n",
      "                               'complex. The structure determination of an '\n",
      "                               'additional crystal of a ternary complex of '\n",
      "                               'hDHFR with NADPH and (1) grown under similar '\n",
      "                               'conditions is also reported. Diffraction data '\n",
      "                               'were collected to 2.1 A resolution for an R3 '\n",
      "                               'lattice from a hDHFR ternary complex with '\n",
      "                               'NADPH and (1) and to 2.2 A resolution from a '\n",
      "                               'binary complex. Data were also collected to '\n",
      "                               '2.1 A resolution from a binary complex with '\n",
      "                               'hDHFR and (1) in the first example of a '\n",
      "                               'tetragonal P4(3)2(1)2 lattice. Comparison of '\n",
      "                               'the intermolecular contacts among these '\n",
      "                               'structures reveals differences in the backbone '\n",
      "                               'conformation (1.9-3.2 A) for flexible loop '\n",
      "                               'regions (residues 40-46, 77-83 and 103-107) '\n",
      "                               'that reflect differences in the packing '\n",
      "                               'environment between the rhombohedral and '\n",
      "                               'tetragonal space groups. Analysis of the '\n",
      "                               'packing environments shows that the tetragonal '\n",
      "                               'lattice is more tightly packed, as reflected '\n",
      "                               'in its smaller V(M) value and lower solvent '\n",
      "                               'content. The conformation of the inhibitor (1) '\n",
      "                               'is similar in all structures and is also '\n",
      "                               'similar to that observed for TMQ, the parent '\n",
      "                               'quinazoline compound. The activity profile for '\n",
      "                               'this series of 5-deaza N-substituted '\n",
      "                               'non-classical trimethoxybenzyl antifolates '\n",
      "                               'shows that the N10-CH(3) substituted (1) has '\n",
      "                               'the greatest potency and selectivity for '\n",
      "                               'Toxoplasma gondii DHFR (tgDHFR) compared with '\n",
      "                               'its N-H or N-CHO analogs. Models of the tgDHFR '\n",
      "                               'active site indicate preferential contacts '\n",
      "                               'with (1) that are not present in either the '\n",
      "                               'human or Pneumocystis carinii DHFR structures. '\n",
      "                               'Differences in the acidic residue (Glu30 '\n",
      "                               'versus Asp for tgDHFR) affect the precise '\n",
      "                               'positioning of the diaminopyridopyrimidine '\n",
      "                               'ring, while changes in other residues, '\n",
      "                               'particularly at positions 60 and 64 (Leu '\n",
      "                               'versus Met and Asn versus Phe), involve '\n",
      "                               'interactions with the trimethoxybenzyl '\n",
      "                               'substituents.'],\n",
      " 't_all_compound_names': ['Nicotinamide-adenine dinucleotide',\n",
      "                          'NDP',\n",
      "                          'NDP : NADPH '\n",
      "                          'DIHYDRO-NICOTINAMIDE-ADENINE-DINUCLEOTIDE PHOSPHATE',\n",
      "                          'CO4 : '\n",
      "                          '2,4-DIAMINO-5-METHYL-6-[(3,4,5-TRIMETHOXY-N-METHYLANILINO)METHYL]PYRIDO[2,3-D]PYRIMIDINE',\n",
      "                          'CO4 : '\n",
      "                          '5-methyl-6-{[methyl(3,4,5-trimethoxyphenyl)amino]methyl}pyrido[2,3-d]pyrimidine-2,4-diamine',\n",
      "                          'CO4 : '\n",
      "                          '5-methyl-6-[[methyl-(3,4,5-trimethoxyphenyl)amino]methyl]pyrido[3,2-e]pyrimidine-2,4-diamine',\n",
      "                          'NDP : '\n",
      "                          '[[(2R,3S,4R,5R)-5-(3-aminocarbonyl-4H-pyridin-1-yl)-3,4-dihydroxy-oxolan-2-yl]methoxy-hydroxy-phosphoryl] '\n",
      "                          '[(2R,3R,4R,5R)-5-(6-aminopurin-9-yl)-3-hydroxy-4-phosphonooxy-oxolan-2-yl]methyl '\n",
      "                          'hydrogen phosphate'],\n",
      " 't_all_enzyme_names': ['Oxidoreductases',\n",
      "                        'Acting on the CH-NH group of donors',\n",
      "                        'With NAD(+) or NADP(+) as acceptor',\n",
      "                        'Dihydrofolate reductase',\n",
      "                        '1.5.1.3 : Dihydrofolate reductase',\n",
      "                        '5,6,7,8-tetrahydrofolate:NADP(+) oxidoreductase'],\n",
      " 't_all_go_terms': ['cytoplasm',\n",
      "                    'mitochondrion',\n",
      "                    'cytosol',\n",
      "                    'folic acid binding',\n",
      "                    'oxidoreductase activity',\n"
     ]
    },
    {
     "name": "stdout",
     "output_type": "stream",
     "text": [
      "                    'NADPH binding',\n",
      "                    'RNA binding',\n",
      "                    'sequence-specific mRNA binding',\n",
      "                    'mRNA binding',\n",
      "                    'methotrexate binding',\n",
      "                    'NADP binding',\n",
      "                    'dihydrofolate reductase activity',\n",
      "                    'translation repressor activity, mRNA regulatory element '\n",
      "                    'binding',\n",
      "                    'drug binding',\n",
      "                    'one-carbon metabolic process',\n",
      "                    'folic acid metabolic process',\n",
      "                    'negative regulation of translation',\n",
      "                    'response to methotrexate',\n",
      "                    'regulation of removal of superoxide radicals',\n",
      "                    'tetrahydrofolate biosynthetic process',\n",
      "                    'tetrahydrofolate metabolic process',\n",
      "                    'tetrahydrobiopterin biosynthetic process',\n",
      "                    'positive regulation of nitric-oxide synthase activity',\n",
      "                    'oxidation-reduction process',\n",
      "                    'regulation of transcription involved in G1/S transition '\n",
      "                    'of mitotic cell cycle',\n",
      "                    'axon regeneration',\n",
      "                    'dihydrofolate metabolic process'],\n",
      " 't_all_sequence_family': ['IPR017925 : Dihydrofolate reductase conserved site',\n",
      "                           'IPR001796 : Dihydrofolate reductase domain',\n",
      "                           'IPR024072 : Dihydrofolate reductase-like domain '\n",
      "                           'superfamily',\n",
      "                           'PF00186 : DHFR_1',\n",
      "                           'CL0387 : DHFred'],\n",
      " 't_all_structure_family': ['3-Layer(aba) Sandwich',\n",
      "                            'Alpha Beta',\n",
      "                            '3.40.430.10',\n",
      "                            'Dihydrofolate Reductase, subunit A',\n",
      "                            'Dihydrofolate Reductase, subunit A',\n",
      "                            'Alpha and beta proteins (a/b)',\n",
      "                            'Dihydrofolate reductases',\n",
      "                            'Dihydrofolate reductase-like',\n",
      "                            'Dihydrofolate reductase-like'],\n",
      " 't_citation_authors': ['Cody V', 'Luft JR', 'Pangborn W', 'Gangjee A'],\n",
      " 't_citation_title': ['Analysis of three crystal structure determinations of a '\n",
      "                      '5-methyl-6-N-methylanilino pyridopyrimidine antifolate '\n",
      "                      'complex with human dihydrofolate reductase.'],\n",
      " 't_entry_authors': ['Cody V', 'Luft JR', 'Pangborn W', 'Gangjee A'],\n",
      " 't_entry_info': ['SODIUM PHOSPHATE',\n",
      "                  'DENZO',\n",
      "                  'SCALEPACK',\n",
      "                  'Image plate',\n",
      "                  'RIGAKU RAXIS IIC',\n",
      "                  'X-ray diffraction',\n",
      "                  'PROLSQ',\n",
      "                  'MOLECULAR REPLACEMENT',\n",
      "                  'PROTEIN'],\n",
      " 't_entry_title': ['Analysis of Three Crystal Structure Determinations of a '\n",
      "                   '5-Methyl-6-N-Methylanilino Pyridopyrimidine Antifolate '\n",
      "                   'Complex with Human Dihydrofolate Reductase'],\n",
      " 't_expression_organism_name': ['Escherichia coli',\n",
      "                                'Bacterium Coli',\n",
      "                                'Enterococcus Coli',\n",
      "                                'Bacterium 10a',\n",
      "                                'Escherichia Coli',\n",
      "                                'Escherichia Sp. 3_2_53faa',\n",
      "                                'Escherichia/Shigella Coli',\n",
      "                                'Ecolx',\n",
      "                                'Bacterium E3',\n",
      "                                'Bacterium Coli Commune',\n",
      "                                'E. Coli',\n",
      "                                'Bacillus Coli',\n",
      "                                'Escherichia Sp. Mar',\n",
      "                                'Escherichia coli',\n",
      "                                'Escherichia',\n",
      "                                'Enterobacteriaceae',\n",
      "                                'Enterobacterales',\n",
      "                                'Gammaproteobacteria',\n",
      "                                'Proteobacteria',\n",
      "                                'Bacteria'],\n",
      " 't_journal': ['Acta Crystallogr. D Biol. Crystallogr.'],\n",
      " 't_mesh_terms': ['Binding Sites,Crystallization,Crystallography, X-Ray,Folic '\n",
      "                  'Acid Antagonists,Humans,Protein Binding,Protein '\n",
      "                  'Conformation,Pyrimidines,Tetrahydrofolate Dehydrogenase'],\n",
      " 't_molecule_info': ['protein structure',\n",
      "                     'homo',\n",
      "                     'monomer',\n",
      "                     'Dihydrofolate reductase',\n",
      "                     'Dihydrofolate reductase',\n",
      "                     'protein structure',\n",
      "                     'homo',\n",
      "                     'monomer',\n",
      "                     'DHFR',\n",
      "                     'P00374',\n",
      "                     'P00374-2',\n",
      "                     'Protein has possible alternate isoforms',\n",
      "                     'DHFR',\n",
      "                     'Nucleotide binding - NADP',\n",
      "                     'Protein has possible natural variant ',\n",
      "                     'DYR_HUMAN',\n",
      "                     'DYR_HUMAN'],\n",
      " 't_molecule_sequence': 'VGSLNCIVAVSQNMGIGKNGDLPWPPLRNEFRYFQRMTTTSSVEGKQNLVIMGKKTWFSIPEKNRPLKGRINLVLSRELKEPPQGAHFLSRSLDDALKLTEQPELANKVDMVWIVGGSSVYKEAMNHPGHLKLFVTRIMQDFESDTFFPEIDLEKYKLLPEYPGVLSDVQEEKGIKYKFEVYEKND',\n",
      " 't_organism_name': ['Homo sapiens',\n",
      "                     'Man',\n",
      "                     'Homo Sapiens (Human)',\n",
      "                     'Human',\n",
      "                     'Homo Sapiens',\n",
      "                     'Homo sapiens',\n",
      "                     'Homo',\n",
      "                     'Homininae',\n",
      "                     'Hominidae',\n",
      "                     'Primates',\n",
      "                     'Mammalia',\n",
      "                     'Chordata',\n",
      "                     'Metazoa',\n",
      "                     'Eukaryota'],\n",
      " 'tax_id': [9606],\n",
      " 'tax_query': [9606],\n",
      " 'title': 'Analysis of Three Crystal Structure Determinations of a '\n",
      "          '5-Methyl-6-N-Methylanilino Pyridopyrimidine Antifolate Complex with '\n",
      "          'Human Dihydrofolate Reductase',\n",
      " 'uniprot': ['P00374 : DYR_HUMAN'],\n",
      " 'uniprot_accession': ['P00374', 'P00374-2'],\n",
      " 'uniprot_accession_best': ['P00374'],\n",
      " 'uniprot_best': ['P00374 : DYR_HUMAN'],\n",
      " 'uniprot_coverage': [0.99],\n",
      " 'uniprot_features': ['Protein has possible alternate isoforms',\n",
      "                      'DHFR',\n",
      "                      'Nucleotide binding - NADP',\n",
      "                      'Protein has possible natural variant '],\n",
      " 'uniprot_id': ['DYR_HUMAN', 'DYR_HUMAN'],\n",
      " 'uniprot_id_best': ['DYR_HUMAN'],\n",
      " 'uniprot_non_canonical': ['P00374-2 : DYR_HUMAN'],\n",
      " 'unp_count': 1,\n",
      " 'unp_nf90_accession': ['A0A2K5VUB7',\n",
      "                        'B0YJ76',\n",
      "                        'A0A2J8UWT6',\n",
      "                        'A0A096ND17',\n",
      "                        'A0A2K5XC43',\n",
      "                        'A0A0D9RRI0',\n",
      "                        'H9YW18',\n",
      "                        'P00374',\n",
      "                        'A0A2K5NPX9',\n",
      "                        'A0A024RAQ3',\n",
      "                        'A0A2J8UWS1',\n",
      "                        'S5WD14',\n",
      "                        'S5VM81',\n",
      "                        'A0A2I2Z6I4',\n",
      "                        'A0A2K6C3X6'],\n",
      " 'unp_nf90_id': ['A0A2K5VUB7_MACFA',\n",
      "                 'B0YJ76_HUMAN',\n",
      "                 'A0A2J8UWT6_PONAB',\n",
      "                 'A0A096ND17_PAPAN',\n",
      "                 'A0A2K5XC43_MANLE',\n",
      "                 'A0A0D9RRI0_CHLSB',\n",
      "                 'H9YW18_MACMU',\n",
      "                 'DYR_HUMAN',\n",
      "                 'A0A2K5NPX9_CERAT',\n",
      "                 'A0A024RAQ3_HUMAN',\n",
      "                 'A0A2J8UWS1_PONAB',\n",
      "                 'S5WD14_SHISS',\n",
      "                 'S5VM81_ECO57',\n",
      "                 'A0A2I2Z6I4_GORGO',\n",
      "                 'A0A2K6C3X6_MACNE'],\n",
      " 'unp_nf90_organism': ['Macaca fascicularis (Crab-eating macaque) (Cynomolgus '\n",
      "                       'monkey)',\n",
      "                       'Homo sapiens (Human)',\n",
      "                       'Pongo abelii (Sumatran orangutan) (Pongo pygmaeus '\n",
      "                       'abelii)',\n",
      "                       'Papio anubis (Olive baboon)',\n",
      "                       'Mandrillus leucophaeus (Drill) (Papio leucophaeus)',\n",
      "                       'Chlorocebus sabaeus (Green monkey) (Cercopithecus '\n",
      "                       'sabaeus)',\n",
      "                       'Macaca mulatta (Rhesus macaque)',\n",
      "                       'Homo sapiens (Human)',\n",
      "                       'Cercocebus atys (Sooty mangabey) (Cercocebus torquatus '\n",
      "                       'atys)',\n",
      "                       'Homo sapiens (Human)',\n",
      "                       'Pongo abelii (Sumatran orangutan) (Pongo pygmaeus '\n",
      "                       'abelii)',\n",
      "                       'Shigella sonnei (strain Ss046)',\n",
      "                       'Escherichia coli O157:H7',\n",
      "                       'Gorilla gorilla gorilla (Western lowland gorilla)',\n",
      "                       'Macaca nemestrina (Pig-tailed macaque)'],\n",
      " 'unp_nf90_protein_name': ['DHFR domain-containing protein',\n",
      "                           'Dihydrofolate reductase',\n",
      "                           'DHFR isoform 4',\n",
      "                           'DHFR domain-containing protein',\n",
      "                           'DHFR domain-containing protein',\n",
      "                           'Dihydrofolate reductase',\n",
      "                           'Dihydrofolate reductase',\n",
      "                           'Dihydrofolate reductase',\n",
      "                           'DHFR domain-containing protein',\n",
      "                           'Dihydrofolate reductase, isoform CRA_a',\n",
      "                           'DHFR isoform 1',\n",
      "                           'Trimethoprim resistant protein',\n",
      "                           'Trimethoprim resistant protein',\n",
      "                           'Dihydrofolate reductase',\n",
      "                           'DHFR domain-containing protein'],\n",
      " 'unp_nf90_tax_id': ['9541',\n",
      "                     '9606',\n",
      "                     '9601',\n",
      "                     '9555',\n",
      "                     '9568',\n",
      "                     '60711',\n",
      "                     '9544',\n",
      "                     '9606',\n",
      "                     '9531',\n",
      "                     '9606',\n",
      "                     '9601',\n",
      "                     '300269',\n",
      "                     '83334',\n",
      "                     '9595',\n",
      "                     '9545']}\n"
     ]
    }
   ],
   "source": [
    "pprint(results[0])"
   ]
  },
  {
   "cell_type": "markdown",
   "metadata": {},
   "source": [
    "As you can see we get lots of data back about the individual molecule we have searched for and the PDB entries in which it is contained. \n",
    "\n",
    "We can get the PDB ID and experimental method for this first row as follows."
   ]
  },
  {
   "cell_type": "code",
   "execution_count": 143,
   "metadata": {},
   "outputs": [
    {
     "name": "stdout",
     "output_type": "stream",
     "text": [
      "1pd8\n",
      "['X-ray diffraction']\n"
     ]
    }
   ],
   "source": [
    "print(results[0].get('pdb_id'))\n",
    "print(results[0].get('experimental_method'))"
   ]
  },
  {
   "cell_type": "markdown",
   "metadata": {},
   "source": [
    "We can restrict the results to only the information we want using a filter so its easier to see the information we want."
   ]
  },
  {
   "cell_type": "code",
   "execution_count": 208,
   "metadata": {
    "scrolled": false
   },
   "outputs": [
    {
     "name": "stdout",
     "output_type": "stream",
     "text": [
      "3rd search\n",
      "https://www.ebi.ac.uk/pdbe/search/pdb/select?q=molecule_name:\"Dihydrofolate reductase\" AND organism_name:Human&fl=pdb_id,experimental_method&wt=json&rows=100\n",
      "Number of results for Dihydrofolate reductase,Human: 79\n",
      "[{'experimental_method': ['X-ray diffraction'], 'pdb_id': '1pd8'},\n",
      " {'experimental_method': ['X-ray diffraction'], 'pdb_id': '2w3a'},\n",
      " {'experimental_method': ['X-ray diffraction'], 'pdb_id': '1s3w'},\n",
      " {'experimental_method': ['X-ray diffraction'], 'pdb_id': '4qhv'},\n",
      " {'experimental_method': ['X-ray diffraction'], 'pdb_id': '3gyf'},\n",
      " {'experimental_method': ['X-ray diffraction'], 'pdb_id': '1u72'},\n",
      " {'experimental_method': ['X-ray diffraction'], 'pdb_id': '4keb'},\n",
      " {'experimental_method': ['X-ray diffraction'], 'pdb_id': '6dav'},\n",
      " {'experimental_method': ['X-ray diffraction'], 'pdb_id': '3ntz'},\n",
      " {'experimental_method': ['X-ray diffraction'], 'pdb_id': '4qjc'},\n",
      " {'experimental_method': ['X-ray diffraction'], 'pdb_id': '3gi2'},\n",
      " {'experimental_method': ['X-ray diffraction'], 'pdb_id': '3f91'},\n",
      " {'experimental_method': ['X-ray diffraction'], 'pdb_id': '5hpb'},\n",
      " {'experimental_method': ['X-ray diffraction'], 'pdb_id': '1hfp'},\n",
      " {'experimental_method': ['X-ray diffraction'], 'pdb_id': '5hui'},\n",
      " {'experimental_method': ['X-ray diffraction'], 'pdb_id': '1boz'},\n",
      " {'experimental_method': ['X-ray diffraction'], 'pdb_id': '3ghv'},\n",
      " {'experimental_method': ['X-ray diffraction'], 'pdb_id': '4kfj'},\n",
      " {'experimental_method': ['X-ray diffraction'], 'pdb_id': '5hsr'},\n",
      " {'experimental_method': ['X-ray diffraction'], 'pdb_id': '6de4'},\n",
      " {'experimental_method': ['X-ray diffraction'], 'pdb_id': '1ohk'},\n",
      " {'experimental_method': ['X-ray diffraction'], 'pdb_id': '3nxt'},\n",
      " {'experimental_method': ['X-ray diffraction'], 'pdb_id': '5ht4'},\n",
      " {'experimental_method': ['X-ray diffraction'], 'pdb_id': '1hfr'},\n",
      " {'experimental_method': ['X-ray diffraction'], 'pdb_id': '4ddr'},\n",
      " {'experimental_method': ['X-ray diffraction'], 'pdb_id': '1kmv'},\n",
      " {'experimental_method': ['X-ray diffraction'], 'pdb_id': '3f8y'},\n",
      " {'experimental_method': ['X-ray diffraction'], 'pdb_id': '5hqy'},\n",
      " {'experimental_method': ['X-ray diffraction'], 'pdb_id': '1s3u'},\n",
      " {'experimental_method': ['X-ray diffraction'], 'pdb_id': '5hve'},\n",
      " {'experimental_method': ['X-ray diffraction'], 'pdb_id': '4m6l'},\n",
      " {'experimental_method': ['X-ray diffraction'], 'pdb_id': '4m6k'},\n",
      " {'experimental_method': ['X-ray diffraction'], 'pdb_id': '4g95'},\n",
      " {'experimental_method': ['Solution NMR'], 'pdb_id': '1yho'},\n",
      " {'experimental_method': ['X-ray diffraction'], 'pdb_id': '3nxy'},\n",
      " {'experimental_method': ['X-ray diffraction'], 'pdb_id': '3fs6'},\n",
      " {'experimental_method': ['X-ray diffraction'], 'pdb_id': '4kbn'},\n",
      " {'experimental_method': ['X-ray diffraction'], 'pdb_id': '6a7e'},\n",
      " {'experimental_method': ['X-ray diffraction'], 'pdb_id': '2w3m'},\n",
      " {'experimental_method': ['X-ray diffraction'], 'pdb_id': '2c2t'},\n",
      " {'experimental_method': ['X-ray diffraction'], 'pdb_id': '4kd7'},\n",
      " {'experimental_method': ['X-ray diffraction'], 'pdb_id': '1mvt'},\n",
      " {'experimental_method': ['X-ray diffraction'], 'pdb_id': '4m6j'},\n",
      " {'experimental_method': ['X-ray diffraction'], 'pdb_id': '3oaf'},\n",
      " {'experimental_method': ['X-ray diffraction'], 'pdb_id': '3nzd'},\n",
      " {'experimental_method': ['X-ray diffraction'], 'pdb_id': '3nxv'},\n",
      " {'experimental_method': ['X-ray diffraction'], 'pdb_id': '1hfq'},\n",
      " {'experimental_method': ['X-ray diffraction'], 'pdb_id': '3f8z'},\n",
      " {'experimental_method': ['X-ray diffraction'], 'pdb_id': '3n0h'},\n",
      " {'experimental_method': ['X-ray diffraction'], 'pdb_id': '3eig'},\n",
      " {'experimental_method': ['X-ray diffraction'], 'pdb_id': '3l3r'},\n",
      " {'experimental_method': ['X-ray diffraction'], 'pdb_id': '1ohj'},\n",
      " {'experimental_method': ['X-ray diffraction'], 'pdb_id': '5hvb'},\n",
      " {'experimental_method': ['X-ray diffraction'], 'pdb_id': '2dhf'},\n",
      " {'experimental_method': ['X-ray diffraction'], 'pdb_id': '3nxx'},\n",
      " {'experimental_method': ['X-ray diffraction'], 'pdb_id': '6a7c'},\n",
      " {'experimental_method': ['X-ray diffraction'], 'pdb_id': '2c2s'},\n",
      " {'experimental_method': ['X-ray diffraction'], 'pdb_id': '1pdb'},\n",
      " {'experimental_method': ['X-ray diffraction'], 'pdb_id': '1s3v'},\n",
      " {'experimental_method': ['X-ray diffraction'], 'pdb_id': '1kms'},\n",
      " {'experimental_method': ['X-ray diffraction'], 'pdb_id': '1u71'},\n",
      " {'experimental_method': ['X-ray diffraction'], 'pdb_id': '1mvs'},\n",
      " {'experimental_method': ['X-ray diffraction'], 'pdb_id': '3ghc'},\n",
      " {'experimental_method': ['X-ray diffraction'], 'pdb_id': '1dhf'},\n",
      " {'experimental_method': ['X-ray diffraction'], 'pdb_id': '1pd9'},\n",
      " {'experimental_method': ['X-ray diffraction'], 'pdb_id': '3s3v'},\n",
      " {'experimental_method': ['X-ray diffraction'], 'pdb_id': '1drf'},\n",
      " {'experimental_method': ['X-ray diffraction'], 'pdb_id': '5hqz'},\n",
      " {'experimental_method': ['X-ray diffraction'], 'pdb_id': '3nxr'},\n",
      " {'experimental_method': ['X-ray diffraction'], 'pdb_id': '3nxo'},\n",
      " {'experimental_method': ['X-ray diffraction'], 'pdb_id': '1dls'},\n",
      " {'experimental_method': ['X-ray diffraction'], 'pdb_id': '3nu0'},\n",
      " {'experimental_method': ['X-ray diffraction'], 'pdb_id': '3ghw'},\n",
      " {'experimental_method': ['X-ray diffraction'], 'pdb_id': '2w3b'},\n",
      " {'experimental_method': ['X-ray diffraction'], 'pdb_id': '5ht5'},\n",
      " {'experimental_method': ['X-ray diffraction'], 'pdb_id': '1dlr'},\n",
      " {'experimental_method': ['X-ray diffraction'], 'pdb_id': '3s7a'},\n",
      " {'experimental_method': ['X-ray diffraction'], 'pdb_id': '4kak'},\n",
      " {'experimental_method': ['X-ray diffraction'], 'pdb_id': '5hsu'}]\n"
     ]
    }
   ],
   "source": [
    "print('3rd search')\n",
    "search_terms = {\"molecule_name\":\"Dihydrofolate reductase\",\n",
    "                \"organism_name\":\"Human\"\n",
    "               }\n",
    "filter_terms = ['pdb_id', 'experimental_method']\n",
    "results = run_search(search_terms, filter_terms)\n",
    "pprint(results)"
   ]
  },
  {
   "cell_type": "markdown",
   "metadata": {},
   "source": [
    "## 6) Analysing and plotting the results\n"
   ]
  },
  {
   "cell_type": "markdown",
   "metadata": {},
   "source": [
    "We are going to use a Python package called Pandas to help us sort and visualise the results\n",
    "\n",
    "\n",
    "First we have to do a bit of housekeeping, some of the results are lists (a PDB entry can have more than one experimental method or organism for example) so we need to change them into strings so we can use them in a graph"
   ]
  },
  {
   "cell_type": "code",
   "execution_count": 209,
   "metadata": {},
   "outputs": [],
   "source": [
    "def change_lists_to_strings(results):\n",
    "    \"\"\"\n",
    "    input - list of results from search\n",
    "    output - list of results with lists changed into strings\n",
    "    \"\"\"\n",
    "    for row in results:\n",
    "        for data in row:\n",
    "            if type(row[data]) == list:\n",
    "                # if there are any numbers in the list change them into strings\n",
    "                row[data] = [str(a) for a in row[data]]\n",
    "                # unique and sort the list and then change the list into a string\n",
    "                row[data] = ','.join(sorted(list(set(row[data]))))\n",
    "                \n",
    "    return results"
   ]
  },
  {
   "cell_type": "code",
   "execution_count": 210,
   "metadata": {},
   "outputs": [
    {
     "name": "stdout",
     "output_type": "stream",
     "text": [
      "[{'experimental_method': 'X-ray diffraction', 'pdb_id': '1pd8'},\n",
      " {'experimental_method': 'X-ray diffraction', 'pdb_id': '2w3a'},\n",
      " {'experimental_method': 'X-ray diffraction', 'pdb_id': '1s3w'},\n",
      " {'experimental_method': 'X-ray diffraction', 'pdb_id': '4qhv'},\n",
      " {'experimental_method': 'X-ray diffraction', 'pdb_id': '3gyf'},\n",
      " {'experimental_method': 'X-ray diffraction', 'pdb_id': '1u72'},\n",
      " {'experimental_method': 'X-ray diffraction', 'pdb_id': '4keb'},\n",
      " {'experimental_method': 'X-ray diffraction', 'pdb_id': '6dav'},\n",
      " {'experimental_method': 'X-ray diffraction', 'pdb_id': '3ntz'},\n",
      " {'experimental_method': 'X-ray diffraction', 'pdb_id': '4qjc'},\n",
      " {'experimental_method': 'X-ray diffraction', 'pdb_id': '3gi2'},\n",
      " {'experimental_method': 'X-ray diffraction', 'pdb_id': '3f91'},\n",
      " {'experimental_method': 'X-ray diffraction', 'pdb_id': '5hpb'},\n",
      " {'experimental_method': 'X-ray diffraction', 'pdb_id': '1hfp'},\n",
      " {'experimental_method': 'X-ray diffraction', 'pdb_id': '5hui'},\n",
      " {'experimental_method': 'X-ray diffraction', 'pdb_id': '1boz'},\n",
      " {'experimental_method': 'X-ray diffraction', 'pdb_id': '3ghv'},\n",
      " {'experimental_method': 'X-ray diffraction', 'pdb_id': '4kfj'},\n",
      " {'experimental_method': 'X-ray diffraction', 'pdb_id': '5hsr'},\n",
      " {'experimental_method': 'X-ray diffraction', 'pdb_id': '6de4'},\n",
      " {'experimental_method': 'X-ray diffraction', 'pdb_id': '1ohk'},\n",
      " {'experimental_method': 'X-ray diffraction', 'pdb_id': '3nxt'},\n",
      " {'experimental_method': 'X-ray diffraction', 'pdb_id': '5ht4'},\n",
      " {'experimental_method': 'X-ray diffraction', 'pdb_id': '1hfr'},\n",
      " {'experimental_method': 'X-ray diffraction', 'pdb_id': '4ddr'},\n",
      " {'experimental_method': 'X-ray diffraction', 'pdb_id': '1kmv'},\n",
      " {'experimental_method': 'X-ray diffraction', 'pdb_id': '3f8y'},\n",
      " {'experimental_method': 'X-ray diffraction', 'pdb_id': '5hqy'},\n",
      " {'experimental_method': 'X-ray diffraction', 'pdb_id': '1s3u'},\n",
      " {'experimental_method': 'X-ray diffraction', 'pdb_id': '5hve'},\n",
      " {'experimental_method': 'X-ray diffraction', 'pdb_id': '4m6l'},\n",
      " {'experimental_method': 'X-ray diffraction', 'pdb_id': '4m6k'},\n",
      " {'experimental_method': 'X-ray diffraction', 'pdb_id': '4g95'},\n",
      " {'experimental_method': 'Solution NMR', 'pdb_id': '1yho'},\n",
      " {'experimental_method': 'X-ray diffraction', 'pdb_id': '3nxy'},\n",
      " {'experimental_method': 'X-ray diffraction', 'pdb_id': '3fs6'},\n",
      " {'experimental_method': 'X-ray diffraction', 'pdb_id': '4kbn'},\n",
      " {'experimental_method': 'X-ray diffraction', 'pdb_id': '6a7e'},\n",
      " {'experimental_method': 'X-ray diffraction', 'pdb_id': '2w3m'},\n",
      " {'experimental_method': 'X-ray diffraction', 'pdb_id': '2c2t'},\n",
      " {'experimental_method': 'X-ray diffraction', 'pdb_id': '4kd7'},\n",
      " {'experimental_method': 'X-ray diffraction', 'pdb_id': '1mvt'},\n",
      " {'experimental_method': 'X-ray diffraction', 'pdb_id': '4m6j'},\n",
      " {'experimental_method': 'X-ray diffraction', 'pdb_id': '3oaf'},\n",
      " {'experimental_method': 'X-ray diffraction', 'pdb_id': '3nzd'},\n",
      " {'experimental_method': 'X-ray diffraction', 'pdb_id': '3nxv'},\n",
      " {'experimental_method': 'X-ray diffraction', 'pdb_id': '1hfq'},\n",
      " {'experimental_method': 'X-ray diffraction', 'pdb_id': '3f8z'},\n",
      " {'experimental_method': 'X-ray diffraction', 'pdb_id': '3n0h'},\n",
      " {'experimental_method': 'X-ray diffraction', 'pdb_id': '3eig'},\n",
      " {'experimental_method': 'X-ray diffraction', 'pdb_id': '3l3r'},\n",
      " {'experimental_method': 'X-ray diffraction', 'pdb_id': '1ohj'},\n",
      " {'experimental_method': 'X-ray diffraction', 'pdb_id': '5hvb'},\n",
      " {'experimental_method': 'X-ray diffraction', 'pdb_id': '2dhf'},\n",
      " {'experimental_method': 'X-ray diffraction', 'pdb_id': '3nxx'},\n",
      " {'experimental_method': 'X-ray diffraction', 'pdb_id': '6a7c'},\n",
      " {'experimental_method': 'X-ray diffraction', 'pdb_id': '2c2s'},\n",
      " {'experimental_method': 'X-ray diffraction', 'pdb_id': '1pdb'},\n",
      " {'experimental_method': 'X-ray diffraction', 'pdb_id': '1s3v'},\n",
      " {'experimental_method': 'X-ray diffraction', 'pdb_id': '1kms'},\n",
      " {'experimental_method': 'X-ray diffraction', 'pdb_id': '1u71'},\n",
      " {'experimental_method': 'X-ray diffraction', 'pdb_id': '1mvs'},\n",
      " {'experimental_method': 'X-ray diffraction', 'pdb_id': '3ghc'},\n",
      " {'experimental_method': 'X-ray diffraction', 'pdb_id': '1dhf'},\n",
      " {'experimental_method': 'X-ray diffraction', 'pdb_id': '1pd9'},\n",
      " {'experimental_method': 'X-ray diffraction', 'pdb_id': '3s3v'},\n",
      " {'experimental_method': 'X-ray diffraction', 'pdb_id': '1drf'},\n",
      " {'experimental_method': 'X-ray diffraction', 'pdb_id': '5hqz'},\n",
      " {'experimental_method': 'X-ray diffraction', 'pdb_id': '3nxr'},\n",
      " {'experimental_method': 'X-ray diffraction', 'pdb_id': '3nxo'},\n",
      " {'experimental_method': 'X-ray diffraction', 'pdb_id': '1dls'},\n",
      " {'experimental_method': 'X-ray diffraction', 'pdb_id': '3nu0'},\n",
      " {'experimental_method': 'X-ray diffraction', 'pdb_id': '3ghw'},\n",
      " {'experimental_method': 'X-ray diffraction', 'pdb_id': '2w3b'},\n",
      " {'experimental_method': 'X-ray diffraction', 'pdb_id': '5ht5'},\n",
      " {'experimental_method': 'X-ray diffraction', 'pdb_id': '1dlr'},\n",
      " {'experimental_method': 'X-ray diffraction', 'pdb_id': '3s7a'},\n",
      " {'experimental_method': 'X-ray diffraction', 'pdb_id': '4kak'},\n",
      " {'experimental_method': 'X-ray diffraction', 'pdb_id': '5hsu'}]\n"
     ]
    }
   ],
   "source": [
    "results = change_lists_to_strings(results)\n",
    "pprint(results)"
   ]
  },
  {
   "cell_type": "markdown",
   "metadata": {},
   "source": [
    "Notice that the only thing that changed is ['X-ray diffraction'] is now 'X-ray diffraction'"
   ]
  },
  {
   "cell_type": "markdown",
   "metadata": {},
   "source": [
    "If we wanted to know the experimental methods used to determine structures of Human Dihydrofolate reductase we could loop through the results and count how many entries use each experimental method. \n",
    "\n",
    "We can use a Python package called Pandas to do this for us. \n",
    "It changes the results into a mini database - called a DataFrame. \n"
   ]
  },
  {
   "cell_type": "code",
   "execution_count": 211,
   "metadata": {},
   "outputs": [
    {
     "name": "stdout",
     "output_type": "stream",
     "text": [
      "   experimental_method pdb_id\n",
      "0    X-ray diffraction   1pd8\n",
      "1    X-ray diffraction   2w3a\n",
      "2    X-ray diffraction   1s3w\n",
      "3    X-ray diffraction   4qhv\n",
      "4    X-ray diffraction   3gyf\n",
      "..                 ...    ...\n",
      "74   X-ray diffraction   5ht5\n",
      "75   X-ray diffraction   1dlr\n",
      "76   X-ray diffraction   3s7a\n",
      "77   X-ray diffraction   4kak\n",
      "78   X-ray diffraction   5hsu\n",
      "\n",
      "[79 rows x 2 columns]\n"
     ]
    }
   ],
   "source": [
    "def pandas_dataset(list_of_results):\n",
    "    results = change_lists_to_strings(list_of_results) # we have added our function to change lists to strings\n",
    "    df = pd.DataFrame(list_of_results)\n",
    "\n",
    "    return df\n",
    "\n",
    "df = pandas_dataset(list_of_results=results)\n",
    "print(df)\n",
    "    "
   ]
  },
  {
   "cell_type": "markdown",
   "metadata": {},
   "source": [
    "We can use the this to count how many PDB codes there are for each experimental method\n",
    "This groups PDB IDs by experimental method and then counts the number of unique PDB IDs per method."
   ]
  },
  {
   "cell_type": "code",
   "execution_count": 212,
   "metadata": {
    "scrolled": true
   },
   "outputs": [
    {
     "name": "stdout",
     "output_type": "stream",
     "text": [
      "experimental_method\n",
      "Solution NMR          1\n",
      "X-ray diffraction    78\n",
      "Name: pdb_id, dtype: int64\n"
     ]
    }
   ],
   "source": [
    "ds = df.groupby('experimental_method')['pdb_id'].nunique()\n",
    "print(ds)"
   ]
  },
  {
   "cell_type": "markdown",
   "metadata": {},
   "source": [
    "We can find which experimental method has the greatest (max) or lowest (min) number of entries."
   ]
  },
  {
   "cell_type": "code",
   "execution_count": 213,
   "metadata": {
    "scrolled": true
   },
   "outputs": [
    {
     "name": "stdout",
     "output_type": "stream",
     "text": [
      "78\n",
      "1\n"
     ]
    }
   ],
   "source": [
    "dt = ds.max()\n",
    "print(dt)\n",
    "dt = ds.min()\n",
    "print(dt)"
   ]
  },
  {
   "cell_type": "markdown",
   "metadata": {},
   "source": [
    "We can sort the results so its in decending order and then the first value is the experimental method with the highest number of results"
   ]
  },
  {
   "cell_type": "code",
   "execution_count": 214,
   "metadata": {},
   "outputs": [
    {
     "data": {
      "text/plain": [
       "'X-ray diffraction'"
      ]
     },
     "execution_count": 214,
     "metadata": {},
     "output_type": "execute_result"
    }
   ],
   "source": [
    "ds.sort_values(ascending=False).index[0]"
   ]
  },
  {
   "cell_type": "markdown",
   "metadata": {},
   "source": [
    "Or sort ascending so the experimental method with the lowest number of results is given"
   ]
  },
  {
   "cell_type": "code",
   "execution_count": 215,
   "metadata": {},
   "outputs": [
    {
     "data": {
      "text/plain": [
       "'Solution NMR'"
      ]
     },
     "execution_count": 215,
     "metadata": {},
     "output_type": "execute_result"
    }
   ],
   "source": [
    "ds.sort_values(ascending=True).index[0]"
   ]
  },
  {
   "cell_type": "markdown",
   "metadata": {},
   "source": [
    "Or we can then very easily plot these results as a bar chart"
   ]
  },
  {
   "cell_type": "code",
   "execution_count": 216,
   "metadata": {
    "scrolled": true
   },
   "outputs": [
    {
     "data": {
      "application/vnd.plotly.v1+json": {
       "config": {
        "linkText": "Export to plot.ly",
        "plotlyServerURL": "https://plot.ly",
        "showLink": true
       },
       "data": [
        {
         "marker": {
          "color": "rgba(255, 153, 51, 0.6)",
          "line": {
           "color": "rgba(255, 153, 51, 1.0)",
           "width": 1
          }
         },
         "name": "pdb_id",
         "orientation": "v",
         "text": "",
         "type": "bar",
         "x": [
          "Solution NMR",
          "X-ray diffraction"
         ],
         "y": [
          1,
          78
         ]
        }
       ],
       "layout": {
        "legend": {
         "bgcolor": "#F5F6F9",
         "font": {
          "color": "#4D5663"
         }
        },
        "paper_bgcolor": "#F5F6F9",
        "plot_bgcolor": "#F5F6F9",
        "template": {
         "data": {
          "bar": [
           {
            "error_x": {
             "color": "#2a3f5f"
            },
            "error_y": {
             "color": "#2a3f5f"
            },
            "marker": {
             "line": {
              "color": "#E5ECF6",
              "width": 0.5
             }
            },
            "type": "bar"
           }
          ],
          "barpolar": [
           {
            "marker": {
             "line": {
              "color": "#E5ECF6",
              "width": 0.5
             }
            },
            "type": "barpolar"
           }
          ],
          "carpet": [
           {
            "aaxis": {
             "endlinecolor": "#2a3f5f",
             "gridcolor": "white",
             "linecolor": "white",
             "minorgridcolor": "white",
             "startlinecolor": "#2a3f5f"
            },
            "baxis": {
             "endlinecolor": "#2a3f5f",
             "gridcolor": "white",
             "linecolor": "white",
             "minorgridcolor": "white",
             "startlinecolor": "#2a3f5f"
            },
            "type": "carpet"
           }
          ],
          "choropleth": [
           {
            "colorbar": {
             "outlinewidth": 0,
             "ticks": ""
            },
            "type": "choropleth"
           }
          ],
          "contour": [
           {
            "colorbar": {
             "outlinewidth": 0,
             "ticks": ""
            },
            "colorscale": [
             [
              0,
              "#0d0887"
             ],
             [
              0.1111111111111111,
              "#46039f"
             ],
             [
              0.2222222222222222,
              "#7201a8"
             ],
             [
              0.3333333333333333,
              "#9c179e"
             ],
             [
              0.4444444444444444,
              "#bd3786"
             ],
             [
              0.5555555555555556,
              "#d8576b"
             ],
             [
              0.6666666666666666,
              "#ed7953"
             ],
             [
              0.7777777777777778,
              "#fb9f3a"
             ],
             [
              0.8888888888888888,
              "#fdca26"
             ],
             [
              1,
              "#f0f921"
             ]
            ],
            "type": "contour"
           }
          ],
          "contourcarpet": [
           {
            "colorbar": {
             "outlinewidth": 0,
             "ticks": ""
            },
            "type": "contourcarpet"
           }
          ],
          "heatmap": [
           {
            "colorbar": {
             "outlinewidth": 0,
             "ticks": ""
            },
            "colorscale": [
             [
              0,
              "#0d0887"
             ],
             [
              0.1111111111111111,
              "#46039f"
             ],
             [
              0.2222222222222222,
              "#7201a8"
             ],
             [
              0.3333333333333333,
              "#9c179e"
             ],
             [
              0.4444444444444444,
              "#bd3786"
             ],
             [
              0.5555555555555556,
              "#d8576b"
             ],
             [
              0.6666666666666666,
              "#ed7953"
             ],
             [
              0.7777777777777778,
              "#fb9f3a"
             ],
             [
              0.8888888888888888,
              "#fdca26"
             ],
             [
              1,
              "#f0f921"
             ]
            ],
            "type": "heatmap"
           }
          ],
          "heatmapgl": [
           {
            "colorbar": {
             "outlinewidth": 0,
             "ticks": ""
            },
            "colorscale": [
             [
              0,
              "#0d0887"
             ],
             [
              0.1111111111111111,
              "#46039f"
             ],
             [
              0.2222222222222222,
              "#7201a8"
             ],
             [
              0.3333333333333333,
              "#9c179e"
             ],
             [
              0.4444444444444444,
              "#bd3786"
             ],
             [
              0.5555555555555556,
              "#d8576b"
             ],
             [
              0.6666666666666666,
              "#ed7953"
             ],
             [
              0.7777777777777778,
              "#fb9f3a"
             ],
             [
              0.8888888888888888,
              "#fdca26"
             ],
             [
              1,
              "#f0f921"
             ]
            ],
            "type": "heatmapgl"
           }
          ],
          "histogram": [
           {
            "marker": {
             "colorbar": {
              "outlinewidth": 0,
              "ticks": ""
             }
            },
            "type": "histogram"
           }
          ],
          "histogram2d": [
           {
            "colorbar": {
             "outlinewidth": 0,
             "ticks": ""
            },
            "colorscale": [
             [
              0,
              "#0d0887"
             ],
             [
              0.1111111111111111,
              "#46039f"
             ],
             [
              0.2222222222222222,
              "#7201a8"
             ],
             [
              0.3333333333333333,
              "#9c179e"
             ],
             [
              0.4444444444444444,
              "#bd3786"
             ],
             [
              0.5555555555555556,
              "#d8576b"
             ],
             [
              0.6666666666666666,
              "#ed7953"
             ],
             [
              0.7777777777777778,
              "#fb9f3a"
             ],
             [
              0.8888888888888888,
              "#fdca26"
             ],
             [
              1,
              "#f0f921"
             ]
            ],
            "type": "histogram2d"
           }
          ],
          "histogram2dcontour": [
           {
            "colorbar": {
             "outlinewidth": 0,
             "ticks": ""
            },
            "colorscale": [
             [
              0,
              "#0d0887"
             ],
             [
              0.1111111111111111,
              "#46039f"
             ],
             [
              0.2222222222222222,
              "#7201a8"
             ],
             [
              0.3333333333333333,
              "#9c179e"
             ],
             [
              0.4444444444444444,
              "#bd3786"
             ],
             [
              0.5555555555555556,
              "#d8576b"
             ],
             [
              0.6666666666666666,
              "#ed7953"
             ],
             [
              0.7777777777777778,
              "#fb9f3a"
             ],
             [
              0.8888888888888888,
              "#fdca26"
             ],
             [
              1,
              "#f0f921"
             ]
            ],
            "type": "histogram2dcontour"
           }
          ],
          "mesh3d": [
           {
            "colorbar": {
             "outlinewidth": 0,
             "ticks": ""
            },
            "type": "mesh3d"
           }
          ],
          "parcoords": [
           {
            "line": {
             "colorbar": {
              "outlinewidth": 0,
              "ticks": ""
             }
            },
            "type": "parcoords"
           }
          ],
          "scatter": [
           {
            "marker": {
             "colorbar": {
              "outlinewidth": 0,
              "ticks": ""
             }
            },
            "type": "scatter"
           }
          ],
          "scatter3d": [
           {
            "line": {
             "colorbar": {
              "outlinewidth": 0,
              "ticks": ""
             }
            },
            "marker": {
             "colorbar": {
              "outlinewidth": 0,
              "ticks": ""
             }
            },
            "type": "scatter3d"
           }
          ],
          "scattercarpet": [
           {
            "marker": {
             "colorbar": {
              "outlinewidth": 0,
              "ticks": ""
             }
            },
            "type": "scattercarpet"
           }
          ],
          "scattergeo": [
           {
            "marker": {
             "colorbar": {
              "outlinewidth": 0,
              "ticks": ""
             }
            },
            "type": "scattergeo"
           }
          ],
          "scattergl": [
           {
            "marker": {
             "colorbar": {
              "outlinewidth": 0,
              "ticks": ""
             }
            },
            "type": "scattergl"
           }
          ],
          "scattermapbox": [
           {
            "marker": {
             "colorbar": {
              "outlinewidth": 0,
              "ticks": ""
             }
            },
            "type": "scattermapbox"
           }
          ],
          "scatterpolar": [
           {
            "marker": {
             "colorbar": {
              "outlinewidth": 0,
              "ticks": ""
             }
            },
            "type": "scatterpolar"
           }
          ],
          "scatterpolargl": [
           {
            "marker": {
             "colorbar": {
              "outlinewidth": 0,
              "ticks": ""
             }
            },
            "type": "scatterpolargl"
           }
          ],
          "scatterternary": [
           {
            "marker": {
             "colorbar": {
              "outlinewidth": 0,
              "ticks": ""
             }
            },
            "type": "scatterternary"
           }
          ],
          "surface": [
           {
            "colorbar": {
             "outlinewidth": 0,
             "ticks": ""
            },
            "colorscale": [
             [
              0,
              "#0d0887"
             ],
             [
              0.1111111111111111,
              "#46039f"
             ],
             [
              0.2222222222222222,
              "#7201a8"
             ],
             [
              0.3333333333333333,
              "#9c179e"
             ],
             [
              0.4444444444444444,
              "#bd3786"
             ],
             [
              0.5555555555555556,
              "#d8576b"
             ],
             [
              0.6666666666666666,
              "#ed7953"
             ],
             [
              0.7777777777777778,
              "#fb9f3a"
             ],
             [
              0.8888888888888888,
              "#fdca26"
             ],
             [
              1,
              "#f0f921"
             ]
            ],
            "type": "surface"
           }
          ],
          "table": [
           {
            "cells": {
             "fill": {
              "color": "#EBF0F8"
             },
             "line": {
              "color": "white"
             }
            },
            "header": {
             "fill": {
              "color": "#C8D4E3"
             },
             "line": {
              "color": "white"
             }
            },
            "type": "table"
           }
          ]
         },
         "layout": {
          "annotationdefaults": {
           "arrowcolor": "#2a3f5f",
           "arrowhead": 0,
           "arrowwidth": 1
          },
          "colorscale": {
           "diverging": [
            [
             0,
             "#8e0152"
            ],
            [
             0.1,
             "#c51b7d"
            ],
            [
             0.2,
             "#de77ae"
            ],
            [
             0.3,
             "#f1b6da"
            ],
            [
             0.4,
             "#fde0ef"
            ],
            [
             0.5,
             "#f7f7f7"
            ],
            [
             0.6,
             "#e6f5d0"
            ],
            [
             0.7,
             "#b8e186"
            ],
            [
             0.8,
             "#7fbc41"
            ],
            [
             0.9,
             "#4d9221"
            ],
            [
             1,
             "#276419"
            ]
           ],
           "sequential": [
            [
             0,
             "#0d0887"
            ],
            [
             0.1111111111111111,
             "#46039f"
            ],
            [
             0.2222222222222222,
             "#7201a8"
            ],
            [
             0.3333333333333333,
             "#9c179e"
            ],
            [
             0.4444444444444444,
             "#bd3786"
            ],
            [
             0.5555555555555556,
             "#d8576b"
            ],
            [
             0.6666666666666666,
             "#ed7953"
            ],
            [
             0.7777777777777778,
             "#fb9f3a"
            ],
            [
             0.8888888888888888,
             "#fdca26"
            ],
            [
             1,
             "#f0f921"
            ]
           ],
           "sequentialminus": [
            [
             0,
             "#0d0887"
            ],
            [
             0.1111111111111111,
             "#46039f"
            ],
            [
             0.2222222222222222,
             "#7201a8"
            ],
            [
             0.3333333333333333,
             "#9c179e"
            ],
            [
             0.4444444444444444,
             "#bd3786"
            ],
            [
             0.5555555555555556,
             "#d8576b"
            ],
            [
             0.6666666666666666,
             "#ed7953"
            ],
            [
             0.7777777777777778,
             "#fb9f3a"
            ],
            [
             0.8888888888888888,
             "#fdca26"
            ],
            [
             1,
             "#f0f921"
            ]
           ]
          },
          "colorway": [
           "#636efa",
           "#EF553B",
           "#00cc96",
           "#ab63fa",
           "#FFA15A",
           "#19d3f3",
           "#FF6692",
           "#B6E880",
           "#FF97FF",
           "#FECB52"
          ],
          "font": {
           "color": "#2a3f5f"
          },
          "geo": {
           "bgcolor": "white",
           "lakecolor": "white",
           "landcolor": "#E5ECF6",
           "showlakes": true,
           "showland": true,
           "subunitcolor": "white"
          },
          "hoverlabel": {
           "align": "left"
          },
          "hovermode": "closest",
          "mapbox": {
           "style": "light"
          },
          "paper_bgcolor": "white",
          "plot_bgcolor": "#E5ECF6",
          "polar": {
           "angularaxis": {
            "gridcolor": "white",
            "linecolor": "white",
            "ticks": ""
           },
           "bgcolor": "#E5ECF6",
           "radialaxis": {
            "gridcolor": "white",
            "linecolor": "white",
            "ticks": ""
           }
          },
          "scene": {
           "xaxis": {
            "backgroundcolor": "#E5ECF6",
            "gridcolor": "white",
            "gridwidth": 2,
            "linecolor": "white",
            "showbackground": true,
            "ticks": "",
            "zerolinecolor": "white"
           },
           "yaxis": {
            "backgroundcolor": "#E5ECF6",
            "gridcolor": "white",
            "gridwidth": 2,
            "linecolor": "white",
            "showbackground": true,
            "ticks": "",
            "zerolinecolor": "white"
           },
           "zaxis": {
            "backgroundcolor": "#E5ECF6",
            "gridcolor": "white",
            "gridwidth": 2,
            "linecolor": "white",
            "showbackground": true,
            "ticks": "",
            "zerolinecolor": "white"
           }
          },
          "shapedefaults": {
           "line": {
            "color": "#2a3f5f"
           }
          },
          "ternary": {
           "aaxis": {
            "gridcolor": "white",
            "linecolor": "white",
            "ticks": ""
           },
           "baxis": {
            "gridcolor": "white",
            "linecolor": "white",
            "ticks": ""
           },
           "bgcolor": "#E5ECF6",
           "caxis": {
            "gridcolor": "white",
            "linecolor": "white",
            "ticks": ""
           }
          },
          "title": {
           "x": 0.05
          },
          "xaxis": {
           "automargin": true,
           "gridcolor": "white",
           "linecolor": "white",
           "ticks": "",
           "zerolinecolor": "white",
           "zerolinewidth": 2
          },
          "yaxis": {
           "automargin": true,
           "gridcolor": "white",
           "linecolor": "white",
           "ticks": "",
           "zerolinecolor": "white",
           "zerolinewidth": 2
          }
         }
        },
        "title": {
         "font": {
          "color": "#4D5663"
         }
        },
        "xaxis": {
         "gridcolor": "#E1E5ED",
         "showgrid": true,
         "tickfont": {
          "color": "#4D5663"
         },
         "title": {
          "font": {
           "color": "#4D5663"
          },
          "text": ""
         },
         "zerolinecolor": "#E1E5ED"
        },
        "yaxis": {
         "gridcolor": "#E1E5ED",
         "showgrid": true,
         "tickfont": {
          "color": "#4D5663"
         },
         "title": {
          "font": {
           "color": "#4D5663"
          },
          "text": ""
         },
         "zerolinecolor": "#E1E5ED"
        }
       }
      },
      "text/html": [
       "<div>\n",
       "        \n",
       "        \n",
       "            <div id=\"742d21d1-707a-40f1-b395-3b7a739c87c2\" class=\"plotly-graph-div\" style=\"height:525px; width:100%;\"></div>\n",
       "            <script type=\"text/javascript\">\n",
       "                require([\"plotly\"], function(Plotly) {\n",
       "                    window.PLOTLYENV=window.PLOTLYENV || {};\n",
       "                    window.PLOTLYENV.BASE_URL='https://plot.ly';\n",
       "                    \n",
       "                if (document.getElementById(\"742d21d1-707a-40f1-b395-3b7a739c87c2\")) {\n",
       "                    Plotly.newPlot(\n",
       "                        '742d21d1-707a-40f1-b395-3b7a739c87c2',\n",
       "                        [{\"marker\": {\"color\": \"rgba(255, 153, 51, 0.6)\", \"line\": {\"color\": \"rgba(255, 153, 51, 1.0)\", \"width\": 1}}, \"name\": \"pdb_id\", \"orientation\": \"v\", \"text\": \"\", \"type\": \"bar\", \"x\": [\"Solution NMR\", \"X-ray diffraction\"], \"y\": [1, 78]}],\n",
       "                        {\"legend\": {\"bgcolor\": \"#F5F6F9\", \"font\": {\"color\": \"#4D5663\"}}, \"paper_bgcolor\": \"#F5F6F9\", \"plot_bgcolor\": \"#F5F6F9\", \"template\": {\"data\": {\"bar\": [{\"error_x\": {\"color\": \"#2a3f5f\"}, \"error_y\": {\"color\": \"#2a3f5f\"}, \"marker\": {\"line\": {\"color\": \"#E5ECF6\", \"width\": 0.5}}, \"type\": \"bar\"}], \"barpolar\": [{\"marker\": {\"line\": {\"color\": \"#E5ECF6\", \"width\": 0.5}}, \"type\": \"barpolar\"}], \"carpet\": [{\"aaxis\": {\"endlinecolor\": \"#2a3f5f\", \"gridcolor\": \"white\", \"linecolor\": \"white\", \"minorgridcolor\": \"white\", \"startlinecolor\": \"#2a3f5f\"}, \"baxis\": {\"endlinecolor\": \"#2a3f5f\", \"gridcolor\": \"white\", \"linecolor\": \"white\", \"minorgridcolor\": \"white\", \"startlinecolor\": \"#2a3f5f\"}, \"type\": \"carpet\"}], \"choropleth\": [{\"colorbar\": {\"outlinewidth\": 0, \"ticks\": \"\"}, \"type\": \"choropleth\"}], \"contour\": [{\"colorbar\": {\"outlinewidth\": 0, \"ticks\": \"\"}, \"colorscale\": [[0.0, \"#0d0887\"], [0.1111111111111111, \"#46039f\"], [0.2222222222222222, \"#7201a8\"], [0.3333333333333333, \"#9c179e\"], [0.4444444444444444, \"#bd3786\"], [0.5555555555555556, \"#d8576b\"], [0.6666666666666666, \"#ed7953\"], [0.7777777777777778, \"#fb9f3a\"], [0.8888888888888888, \"#fdca26\"], [1.0, \"#f0f921\"]], \"type\": \"contour\"}], \"contourcarpet\": [{\"colorbar\": {\"outlinewidth\": 0, \"ticks\": \"\"}, \"type\": \"contourcarpet\"}], \"heatmap\": [{\"colorbar\": {\"outlinewidth\": 0, \"ticks\": \"\"}, \"colorscale\": [[0.0, \"#0d0887\"], [0.1111111111111111, \"#46039f\"], [0.2222222222222222, \"#7201a8\"], [0.3333333333333333, \"#9c179e\"], [0.4444444444444444, \"#bd3786\"], [0.5555555555555556, \"#d8576b\"], [0.6666666666666666, \"#ed7953\"], [0.7777777777777778, \"#fb9f3a\"], [0.8888888888888888, \"#fdca26\"], [1.0, \"#f0f921\"]], \"type\": \"heatmap\"}], \"heatmapgl\": [{\"colorbar\": {\"outlinewidth\": 0, \"ticks\": \"\"}, \"colorscale\": [[0.0, \"#0d0887\"], [0.1111111111111111, \"#46039f\"], [0.2222222222222222, \"#7201a8\"], [0.3333333333333333, \"#9c179e\"], [0.4444444444444444, \"#bd3786\"], [0.5555555555555556, \"#d8576b\"], [0.6666666666666666, \"#ed7953\"], [0.7777777777777778, \"#fb9f3a\"], [0.8888888888888888, \"#fdca26\"], [1.0, \"#f0f921\"]], \"type\": \"heatmapgl\"}], \"histogram\": [{\"marker\": {\"colorbar\": {\"outlinewidth\": 0, \"ticks\": \"\"}}, \"type\": \"histogram\"}], \"histogram2d\": [{\"colorbar\": {\"outlinewidth\": 0, \"ticks\": \"\"}, \"colorscale\": [[0.0, \"#0d0887\"], [0.1111111111111111, \"#46039f\"], [0.2222222222222222, \"#7201a8\"], [0.3333333333333333, \"#9c179e\"], [0.4444444444444444, \"#bd3786\"], [0.5555555555555556, \"#d8576b\"], [0.6666666666666666, \"#ed7953\"], [0.7777777777777778, \"#fb9f3a\"], [0.8888888888888888, \"#fdca26\"], [1.0, \"#f0f921\"]], \"type\": \"histogram2d\"}], \"histogram2dcontour\": [{\"colorbar\": {\"outlinewidth\": 0, \"ticks\": \"\"}, \"colorscale\": [[0.0, \"#0d0887\"], [0.1111111111111111, \"#46039f\"], [0.2222222222222222, \"#7201a8\"], [0.3333333333333333, \"#9c179e\"], [0.4444444444444444, \"#bd3786\"], [0.5555555555555556, \"#d8576b\"], [0.6666666666666666, \"#ed7953\"], [0.7777777777777778, \"#fb9f3a\"], [0.8888888888888888, \"#fdca26\"], [1.0, \"#f0f921\"]], \"type\": \"histogram2dcontour\"}], \"mesh3d\": [{\"colorbar\": {\"outlinewidth\": 0, \"ticks\": \"\"}, \"type\": \"mesh3d\"}], \"parcoords\": [{\"line\": {\"colorbar\": {\"outlinewidth\": 0, \"ticks\": \"\"}}, \"type\": \"parcoords\"}], \"scatter\": [{\"marker\": {\"colorbar\": {\"outlinewidth\": 0, \"ticks\": \"\"}}, \"type\": \"scatter\"}], \"scatter3d\": [{\"line\": {\"colorbar\": {\"outlinewidth\": 0, \"ticks\": \"\"}}, \"marker\": {\"colorbar\": {\"outlinewidth\": 0, \"ticks\": \"\"}}, \"type\": \"scatter3d\"}], \"scattercarpet\": [{\"marker\": {\"colorbar\": {\"outlinewidth\": 0, \"ticks\": \"\"}}, \"type\": \"scattercarpet\"}], \"scattergeo\": [{\"marker\": {\"colorbar\": {\"outlinewidth\": 0, \"ticks\": \"\"}}, \"type\": \"scattergeo\"}], \"scattergl\": [{\"marker\": {\"colorbar\": {\"outlinewidth\": 0, \"ticks\": \"\"}}, \"type\": \"scattergl\"}], \"scattermapbox\": [{\"marker\": {\"colorbar\": {\"outlinewidth\": 0, \"ticks\": \"\"}}, \"type\": \"scattermapbox\"}], \"scatterpolar\": [{\"marker\": {\"colorbar\": {\"outlinewidth\": 0, \"ticks\": \"\"}}, \"type\": \"scatterpolar\"}], \"scatterpolargl\": [{\"marker\": {\"colorbar\": {\"outlinewidth\": 0, \"ticks\": \"\"}}, \"type\": \"scatterpolargl\"}], \"scatterternary\": [{\"marker\": {\"colorbar\": {\"outlinewidth\": 0, \"ticks\": \"\"}}, \"type\": \"scatterternary\"}], \"surface\": [{\"colorbar\": {\"outlinewidth\": 0, \"ticks\": \"\"}, \"colorscale\": [[0.0, \"#0d0887\"], [0.1111111111111111, \"#46039f\"], [0.2222222222222222, \"#7201a8\"], [0.3333333333333333, \"#9c179e\"], [0.4444444444444444, \"#bd3786\"], [0.5555555555555556, \"#d8576b\"], [0.6666666666666666, \"#ed7953\"], [0.7777777777777778, \"#fb9f3a\"], [0.8888888888888888, \"#fdca26\"], [1.0, \"#f0f921\"]], \"type\": \"surface\"}], \"table\": [{\"cells\": {\"fill\": {\"color\": \"#EBF0F8\"}, \"line\": {\"color\": \"white\"}}, \"header\": {\"fill\": {\"color\": \"#C8D4E3\"}, \"line\": {\"color\": \"white\"}}, \"type\": \"table\"}]}, \"layout\": {\"annotationdefaults\": {\"arrowcolor\": \"#2a3f5f\", \"arrowhead\": 0, \"arrowwidth\": 1}, \"colorscale\": {\"diverging\": [[0, \"#8e0152\"], [0.1, \"#c51b7d\"], [0.2, \"#de77ae\"], [0.3, \"#f1b6da\"], [0.4, \"#fde0ef\"], [0.5, \"#f7f7f7\"], [0.6, \"#e6f5d0\"], [0.7, \"#b8e186\"], [0.8, \"#7fbc41\"], [0.9, \"#4d9221\"], [1, \"#276419\"]], \"sequential\": [[0.0, \"#0d0887\"], [0.1111111111111111, \"#46039f\"], [0.2222222222222222, \"#7201a8\"], [0.3333333333333333, \"#9c179e\"], [0.4444444444444444, \"#bd3786\"], [0.5555555555555556, \"#d8576b\"], [0.6666666666666666, \"#ed7953\"], [0.7777777777777778, \"#fb9f3a\"], [0.8888888888888888, \"#fdca26\"], [1.0, \"#f0f921\"]], \"sequentialminus\": [[0.0, \"#0d0887\"], [0.1111111111111111, \"#46039f\"], [0.2222222222222222, \"#7201a8\"], [0.3333333333333333, \"#9c179e\"], [0.4444444444444444, \"#bd3786\"], [0.5555555555555556, \"#d8576b\"], [0.6666666666666666, \"#ed7953\"], [0.7777777777777778, \"#fb9f3a\"], [0.8888888888888888, \"#fdca26\"], [1.0, \"#f0f921\"]]}, \"colorway\": [\"#636efa\", \"#EF553B\", \"#00cc96\", \"#ab63fa\", \"#FFA15A\", \"#19d3f3\", \"#FF6692\", \"#B6E880\", \"#FF97FF\", \"#FECB52\"], \"font\": {\"color\": \"#2a3f5f\"}, \"geo\": {\"bgcolor\": \"white\", \"lakecolor\": \"white\", \"landcolor\": \"#E5ECF6\", \"showlakes\": true, \"showland\": true, \"subunitcolor\": \"white\"}, \"hoverlabel\": {\"align\": \"left\"}, \"hovermode\": \"closest\", \"mapbox\": {\"style\": \"light\"}, \"paper_bgcolor\": \"white\", \"plot_bgcolor\": \"#E5ECF6\", \"polar\": {\"angularaxis\": {\"gridcolor\": \"white\", \"linecolor\": \"white\", \"ticks\": \"\"}, \"bgcolor\": \"#E5ECF6\", \"radialaxis\": {\"gridcolor\": \"white\", \"linecolor\": \"white\", \"ticks\": \"\"}}, \"scene\": {\"xaxis\": {\"backgroundcolor\": \"#E5ECF6\", \"gridcolor\": \"white\", \"gridwidth\": 2, \"linecolor\": \"white\", \"showbackground\": true, \"ticks\": \"\", \"zerolinecolor\": \"white\"}, \"yaxis\": {\"backgroundcolor\": \"#E5ECF6\", \"gridcolor\": \"white\", \"gridwidth\": 2, \"linecolor\": \"white\", \"showbackground\": true, \"ticks\": \"\", \"zerolinecolor\": \"white\"}, \"zaxis\": {\"backgroundcolor\": \"#E5ECF6\", \"gridcolor\": \"white\", \"gridwidth\": 2, \"linecolor\": \"white\", \"showbackground\": true, \"ticks\": \"\", \"zerolinecolor\": \"white\"}}, \"shapedefaults\": {\"line\": {\"color\": \"#2a3f5f\"}}, \"ternary\": {\"aaxis\": {\"gridcolor\": \"white\", \"linecolor\": \"white\", \"ticks\": \"\"}, \"baxis\": {\"gridcolor\": \"white\", \"linecolor\": \"white\", \"ticks\": \"\"}, \"bgcolor\": \"#E5ECF6\", \"caxis\": {\"gridcolor\": \"white\", \"linecolor\": \"white\", \"ticks\": \"\"}}, \"title\": {\"x\": 0.05}, \"xaxis\": {\"automargin\": true, \"gridcolor\": \"white\", \"linecolor\": \"white\", \"ticks\": \"\", \"zerolinecolor\": \"white\", \"zerolinewidth\": 2}, \"yaxis\": {\"automargin\": true, \"gridcolor\": \"white\", \"linecolor\": \"white\", \"ticks\": \"\", \"zerolinecolor\": \"white\", \"zerolinewidth\": 2}}}, \"title\": {\"font\": {\"color\": \"#4D5663\"}}, \"xaxis\": {\"gridcolor\": \"#E1E5ED\", \"showgrid\": true, \"tickfont\": {\"color\": \"#4D5663\"}, \"title\": {\"font\": {\"color\": \"#4D5663\"}, \"text\": \"\"}, \"zerolinecolor\": \"#E1E5ED\"}, \"yaxis\": {\"gridcolor\": \"#E1E5ED\", \"showgrid\": true, \"tickfont\": {\"color\": \"#4D5663\"}, \"title\": {\"font\": {\"color\": \"#4D5663\"}, \"text\": \"\"}, \"zerolinecolor\": \"#E1E5ED\"}},\n",
       "                        {\"showLink\": true, \"linkText\": \"Export to plot.ly\", \"plotlyServerURL\": \"https://plot.ly\", \"responsive\": true}\n",
       "                    ).then(function(){\n",
       "                            \n",
       "var gd = document.getElementById('742d21d1-707a-40f1-b395-3b7a739c87c2');\n",
       "var x = new MutationObserver(function (mutations, observer) {{\n",
       "        var display = window.getComputedStyle(gd).display;\n",
       "        if (!display || display === 'none') {{\n",
       "            console.log([gd, 'removed!']);\n",
       "            Plotly.purge(gd);\n",
       "            observer.disconnect();\n",
       "        }}\n",
       "}});\n",
       "\n",
       "// Listen for the removal of the full notebook cells\n",
       "var notebookContainer = gd.closest('#notebook-container');\n",
       "if (notebookContainer) {{\n",
       "    x.observe(notebookContainer, {childList: true});\n",
       "}}\n",
       "\n",
       "// Listen for the clearing of the current output cell\n",
       "var outputEl = gd.closest('.output');\n",
       "if (outputEl) {{\n",
       "    x.observe(outputEl, {childList: true});\n",
       "}}\n",
       "\n",
       "                        })\n",
       "                };\n",
       "                });\n",
       "            </script>\n",
       "        </div>"
      ]
     },
     "metadata": {},
     "output_type": "display_data"
    }
   ],
   "source": [
    "ds.iplot(kind='bar')"
   ]
  },
  {
   "cell_type": "markdown",
   "metadata": {},
   "source": [
    "We will make this into two functions so we can resue them"
   ]
  },
  {
   "cell_type": "code",
   "execution_count": 217,
   "metadata": {},
   "outputs": [],
   "source": [
    "def pandas_count(list_of_results, column_to_group_by):\n",
    "    df = pandas_dataset(list_of_results)\n",
    "    ds = df.groupby(column_to_group_by)['pdb_id'].nunique()\n",
    "    return ds\n",
    "    \n",
    "def pandas_min_max(list_of_results, column_to_group_by, get_min=True):\n",
    "    df = pandas_dataset(list_of_results)\n",
    "    if get_min:\n",
    "        ds = df.groupby(column_to_group_by)['pdb_id'].min()\n",
    "    else:\n",
    "        ds = df.groupby(column_to_group_by)['pdb_id'].max()\n",
    "    return ds\n",
    "    \n",
    "def pandas_plot(list_of_results, column_to_group_by, graph_type='bar'):\n",
    "    ds = pandas_count(list_of_results=list_of_results, column_to_group_by=column_to_group_by)\n",
    "    ds.iplot(kind=graph_type)\n"
   ]
  },
  {
   "cell_type": "markdown",
   "metadata": {},
   "source": [
    "One for counting the results"
   ]
  },
  {
   "cell_type": "code",
   "execution_count": 218,
   "metadata": {},
   "outputs": [
    {
     "data": {
      "text/plain": [
       "experimental_method\n",
       "Solution NMR          1\n",
       "X-ray diffraction    78\n",
       "Name: pdb_id, dtype: int64"
      ]
     },
     "execution_count": 218,
     "metadata": {},
     "output_type": "execute_result"
    }
   ],
   "source": [
    "pandas_count(list_of_results=results, column_to_group_by='experimental_method')"
   ]
  },
  {
   "cell_type": "markdown",
   "metadata": {},
   "source": [
    "One for getting min or max"
   ]
  },
  {
   "cell_type": "code",
   "execution_count": 219,
   "metadata": {},
   "outputs": [
    {
     "name": "stdout",
     "output_type": "stream",
     "text": [
      "3rd search\n",
      "https://www.ebi.ac.uk/pdbe/search/pdb/select?q=molecule_name:\"Dihydrofolate reductase\" AND organism_name:Human&fl=pdb_id,resolution&wt=json&rows=100\n",
      "Number of results for Dihydrofolate reductase,Human: 79\n"
     ]
    },
    {
     "data": {
      "text/plain": [
       "resolution\n",
       "1.050    1kmv\n",
       "1.090    1kms\n",
       "1.201    4m6j\n",
       "1.210    5hsr\n",
       "1.230    3fs6\n",
       "1.240    3ghw\n",
       "1.270    2w3b\n",
       "1.300    3ghc\n",
       "1.350    3ntz\n",
       "1.396    4m6k\n",
       "1.400    2c2s\n",
       "1.450    3f8y\n",
       "1.460    5hqy\n",
       "1.500    2c2t\n",
       "1.530    3gi2\n",
       "1.550    6dav\n",
       "1.600    2w3m\n",
       "1.610    4qhv\n",
       "1.620    4qjc\n",
       "1.650    5hpb\n",
       "1.700    3eig\n",
       "1.760    4kfj\n",
       "1.800    1mvt\n",
       "1.840    4kbn\n",
       "1.850    6a7e\n",
       "1.900    1mvs\n",
       "1.920    3n0h\n",
       "2.000    1drf\n",
       "2.010    3f8z\n",
       "2.050    4ddr\n",
       "2.060    6a7c\n",
       "2.100    1boz\n",
       "2.200    1pd9\n",
       "2.300    1dhf\n",
       "2.411    6de4\n",
       "2.500    1ohj\n",
       "2.715    4kd7\n",
       "Name: pdb_id, dtype: object"
      ]
     },
     "execution_count": 219,
     "metadata": {},
     "output_type": "execute_result"
    }
   ],
   "source": [
    "print('updated search')\n",
    "search_terms = {\"molecule_name\":\"Dihydrofolate reductase\",\n",
    "                \"organism_name\":\"Human\"\n",
    "               }\n",
    "filter_terms = ['pdb_id', 'resolution']\n",
    "new_results = run_search(search_terms, filter_terms)\n",
    "pandas_min_max(list_of_results=new_results, column_to_group_by='resolution')"
   ]
  },
  {
   "cell_type": "markdown",
   "metadata": {},
   "source": [
    "and one for plotting the results"
   ]
  },
  {
   "cell_type": "code",
   "execution_count": 220,
   "metadata": {},
   "outputs": [
    {
     "data": {
      "application/vnd.plotly.v1+json": {
       "config": {
        "linkText": "Export to plot.ly",
        "plotlyServerURL": "https://plot.ly",
        "showLink": true
       },
       "data": [
        {
         "marker": {
          "color": "rgba(255, 153, 51, 0.6)",
          "line": {
           "color": "rgba(255, 153, 51, 1.0)",
           "width": 1
          }
         },
         "name": "pdb_id",
         "orientation": "v",
         "text": "",
         "type": "bar",
         "x": [
          "Solution NMR",
          "X-ray diffraction"
         ],
         "y": [
          1,
          78
         ]
        }
       ],
       "layout": {
        "legend": {
         "bgcolor": "#F5F6F9",
         "font": {
          "color": "#4D5663"
         }
        },
        "paper_bgcolor": "#F5F6F9",
        "plot_bgcolor": "#F5F6F9",
        "template": {
         "data": {
          "bar": [
           {
            "error_x": {
             "color": "#2a3f5f"
            },
            "error_y": {
             "color": "#2a3f5f"
            },
            "marker": {
             "line": {
              "color": "#E5ECF6",
              "width": 0.5
             }
            },
            "type": "bar"
           }
          ],
          "barpolar": [
           {
            "marker": {
             "line": {
              "color": "#E5ECF6",
              "width": 0.5
             }
            },
            "type": "barpolar"
           }
          ],
          "carpet": [
           {
            "aaxis": {
             "endlinecolor": "#2a3f5f",
             "gridcolor": "white",
             "linecolor": "white",
             "minorgridcolor": "white",
             "startlinecolor": "#2a3f5f"
            },
            "baxis": {
             "endlinecolor": "#2a3f5f",
             "gridcolor": "white",
             "linecolor": "white",
             "minorgridcolor": "white",
             "startlinecolor": "#2a3f5f"
            },
            "type": "carpet"
           }
          ],
          "choropleth": [
           {
            "colorbar": {
             "outlinewidth": 0,
             "ticks": ""
            },
            "type": "choropleth"
           }
          ],
          "contour": [
           {
            "colorbar": {
             "outlinewidth": 0,
             "ticks": ""
            },
            "colorscale": [
             [
              0,
              "#0d0887"
             ],
             [
              0.1111111111111111,
              "#46039f"
             ],
             [
              0.2222222222222222,
              "#7201a8"
             ],
             [
              0.3333333333333333,
              "#9c179e"
             ],
             [
              0.4444444444444444,
              "#bd3786"
             ],
             [
              0.5555555555555556,
              "#d8576b"
             ],
             [
              0.6666666666666666,
              "#ed7953"
             ],
             [
              0.7777777777777778,
              "#fb9f3a"
             ],
             [
              0.8888888888888888,
              "#fdca26"
             ],
             [
              1,
              "#f0f921"
             ]
            ],
            "type": "contour"
           }
          ],
          "contourcarpet": [
           {
            "colorbar": {
             "outlinewidth": 0,
             "ticks": ""
            },
            "type": "contourcarpet"
           }
          ],
          "heatmap": [
           {
            "colorbar": {
             "outlinewidth": 0,
             "ticks": ""
            },
            "colorscale": [
             [
              0,
              "#0d0887"
             ],
             [
              0.1111111111111111,
              "#46039f"
             ],
             [
              0.2222222222222222,
              "#7201a8"
             ],
             [
              0.3333333333333333,
              "#9c179e"
             ],
             [
              0.4444444444444444,
              "#bd3786"
             ],
             [
              0.5555555555555556,
              "#d8576b"
             ],
             [
              0.6666666666666666,
              "#ed7953"
             ],
             [
              0.7777777777777778,
              "#fb9f3a"
             ],
             [
              0.8888888888888888,
              "#fdca26"
             ],
             [
              1,
              "#f0f921"
             ]
            ],
            "type": "heatmap"
           }
          ],
          "heatmapgl": [
           {
            "colorbar": {
             "outlinewidth": 0,
             "ticks": ""
            },
            "colorscale": [
             [
              0,
              "#0d0887"
             ],
             [
              0.1111111111111111,
              "#46039f"
             ],
             [
              0.2222222222222222,
              "#7201a8"
             ],
             [
              0.3333333333333333,
              "#9c179e"
             ],
             [
              0.4444444444444444,
              "#bd3786"
             ],
             [
              0.5555555555555556,
              "#d8576b"
             ],
             [
              0.6666666666666666,
              "#ed7953"
             ],
             [
              0.7777777777777778,
              "#fb9f3a"
             ],
             [
              0.8888888888888888,
              "#fdca26"
             ],
             [
              1,
              "#f0f921"
             ]
            ],
            "type": "heatmapgl"
           }
          ],
          "histogram": [
           {
            "marker": {
             "colorbar": {
              "outlinewidth": 0,
              "ticks": ""
             }
            },
            "type": "histogram"
           }
          ],
          "histogram2d": [
           {
            "colorbar": {
             "outlinewidth": 0,
             "ticks": ""
            },
            "colorscale": [
             [
              0,
              "#0d0887"
             ],
             [
              0.1111111111111111,
              "#46039f"
             ],
             [
              0.2222222222222222,
              "#7201a8"
             ],
             [
              0.3333333333333333,
              "#9c179e"
             ],
             [
              0.4444444444444444,
              "#bd3786"
             ],
             [
              0.5555555555555556,
              "#d8576b"
             ],
             [
              0.6666666666666666,
              "#ed7953"
             ],
             [
              0.7777777777777778,
              "#fb9f3a"
             ],
             [
              0.8888888888888888,
              "#fdca26"
             ],
             [
              1,
              "#f0f921"
             ]
            ],
            "type": "histogram2d"
           }
          ],
          "histogram2dcontour": [
           {
            "colorbar": {
             "outlinewidth": 0,
             "ticks": ""
            },
            "colorscale": [
             [
              0,
              "#0d0887"
             ],
             [
              0.1111111111111111,
              "#46039f"
             ],
             [
              0.2222222222222222,
              "#7201a8"
             ],
             [
              0.3333333333333333,
              "#9c179e"
             ],
             [
              0.4444444444444444,
              "#bd3786"
             ],
             [
              0.5555555555555556,
              "#d8576b"
             ],
             [
              0.6666666666666666,
              "#ed7953"
             ],
             [
              0.7777777777777778,
              "#fb9f3a"
             ],
             [
              0.8888888888888888,
              "#fdca26"
             ],
             [
              1,
              "#f0f921"
             ]
            ],
            "type": "histogram2dcontour"
           }
          ],
          "mesh3d": [
           {
            "colorbar": {
             "outlinewidth": 0,
             "ticks": ""
            },
            "type": "mesh3d"
           }
          ],
          "parcoords": [
           {
            "line": {
             "colorbar": {
              "outlinewidth": 0,
              "ticks": ""
             }
            },
            "type": "parcoords"
           }
          ],
          "scatter": [
           {
            "marker": {
             "colorbar": {
              "outlinewidth": 0,
              "ticks": ""
             }
            },
            "type": "scatter"
           }
          ],
          "scatter3d": [
           {
            "line": {
             "colorbar": {
              "outlinewidth": 0,
              "ticks": ""
             }
            },
            "marker": {
             "colorbar": {
              "outlinewidth": 0,
              "ticks": ""
             }
            },
            "type": "scatter3d"
           }
          ],
          "scattercarpet": [
           {
            "marker": {
             "colorbar": {
              "outlinewidth": 0,
              "ticks": ""
             }
            },
            "type": "scattercarpet"
           }
          ],
          "scattergeo": [
           {
            "marker": {
             "colorbar": {
              "outlinewidth": 0,
              "ticks": ""
             }
            },
            "type": "scattergeo"
           }
          ],
          "scattergl": [
           {
            "marker": {
             "colorbar": {
              "outlinewidth": 0,
              "ticks": ""
             }
            },
            "type": "scattergl"
           }
          ],
          "scattermapbox": [
           {
            "marker": {
             "colorbar": {
              "outlinewidth": 0,
              "ticks": ""
             }
            },
            "type": "scattermapbox"
           }
          ],
          "scatterpolar": [
           {
            "marker": {
             "colorbar": {
              "outlinewidth": 0,
              "ticks": ""
             }
            },
            "type": "scatterpolar"
           }
          ],
          "scatterpolargl": [
           {
            "marker": {
             "colorbar": {
              "outlinewidth": 0,
              "ticks": ""
             }
            },
            "type": "scatterpolargl"
           }
          ],
          "scatterternary": [
           {
            "marker": {
             "colorbar": {
              "outlinewidth": 0,
              "ticks": ""
             }
            },
            "type": "scatterternary"
           }
          ],
          "surface": [
           {
            "colorbar": {
             "outlinewidth": 0,
             "ticks": ""
            },
            "colorscale": [
             [
              0,
              "#0d0887"
             ],
             [
              0.1111111111111111,
              "#46039f"
             ],
             [
              0.2222222222222222,
              "#7201a8"
             ],
             [
              0.3333333333333333,
              "#9c179e"
             ],
             [
              0.4444444444444444,
              "#bd3786"
             ],
             [
              0.5555555555555556,
              "#d8576b"
             ],
             [
              0.6666666666666666,
              "#ed7953"
             ],
             [
              0.7777777777777778,
              "#fb9f3a"
             ],
             [
              0.8888888888888888,
              "#fdca26"
             ],
             [
              1,
              "#f0f921"
             ]
            ],
            "type": "surface"
           }
          ],
          "table": [
           {
            "cells": {
             "fill": {
              "color": "#EBF0F8"
             },
             "line": {
              "color": "white"
             }
            },
            "header": {
             "fill": {
              "color": "#C8D4E3"
             },
             "line": {
              "color": "white"
             }
            },
            "type": "table"
           }
          ]
         },
         "layout": {
          "annotationdefaults": {
           "arrowcolor": "#2a3f5f",
           "arrowhead": 0,
           "arrowwidth": 1
          },
          "colorscale": {
           "diverging": [
            [
             0,
             "#8e0152"
            ],
            [
             0.1,
             "#c51b7d"
            ],
            [
             0.2,
             "#de77ae"
            ],
            [
             0.3,
             "#f1b6da"
            ],
            [
             0.4,
             "#fde0ef"
            ],
            [
             0.5,
             "#f7f7f7"
            ],
            [
             0.6,
             "#e6f5d0"
            ],
            [
             0.7,
             "#b8e186"
            ],
            [
             0.8,
             "#7fbc41"
            ],
            [
             0.9,
             "#4d9221"
            ],
            [
             1,
             "#276419"
            ]
           ],
           "sequential": [
            [
             0,
             "#0d0887"
            ],
            [
             0.1111111111111111,
             "#46039f"
            ],
            [
             0.2222222222222222,
             "#7201a8"
            ],
            [
             0.3333333333333333,
             "#9c179e"
            ],
            [
             0.4444444444444444,
             "#bd3786"
            ],
            [
             0.5555555555555556,
             "#d8576b"
            ],
            [
             0.6666666666666666,
             "#ed7953"
            ],
            [
             0.7777777777777778,
             "#fb9f3a"
            ],
            [
             0.8888888888888888,
             "#fdca26"
            ],
            [
             1,
             "#f0f921"
            ]
           ],
           "sequentialminus": [
            [
             0,
             "#0d0887"
            ],
            [
             0.1111111111111111,
             "#46039f"
            ],
            [
             0.2222222222222222,
             "#7201a8"
            ],
            [
             0.3333333333333333,
             "#9c179e"
            ],
            [
             0.4444444444444444,
             "#bd3786"
            ],
            [
             0.5555555555555556,
             "#d8576b"
            ],
            [
             0.6666666666666666,
             "#ed7953"
            ],
            [
             0.7777777777777778,
             "#fb9f3a"
            ],
            [
             0.8888888888888888,
             "#fdca26"
            ],
            [
             1,
             "#f0f921"
            ]
           ]
          },
          "colorway": [
           "#636efa",
           "#EF553B",
           "#00cc96",
           "#ab63fa",
           "#FFA15A",
           "#19d3f3",
           "#FF6692",
           "#B6E880",
           "#FF97FF",
           "#FECB52"
          ],
          "font": {
           "color": "#2a3f5f"
          },
          "geo": {
           "bgcolor": "white",
           "lakecolor": "white",
           "landcolor": "#E5ECF6",
           "showlakes": true,
           "showland": true,
           "subunitcolor": "white"
          },
          "hoverlabel": {
           "align": "left"
          },
          "hovermode": "closest",
          "mapbox": {
           "style": "light"
          },
          "paper_bgcolor": "white",
          "plot_bgcolor": "#E5ECF6",
          "polar": {
           "angularaxis": {
            "gridcolor": "white",
            "linecolor": "white",
            "ticks": ""
           },
           "bgcolor": "#E5ECF6",
           "radialaxis": {
            "gridcolor": "white",
            "linecolor": "white",
            "ticks": ""
           }
          },
          "scene": {
           "xaxis": {
            "backgroundcolor": "#E5ECF6",
            "gridcolor": "white",
            "gridwidth": 2,
            "linecolor": "white",
            "showbackground": true,
            "ticks": "",
            "zerolinecolor": "white"
           },
           "yaxis": {
            "backgroundcolor": "#E5ECF6",
            "gridcolor": "white",
            "gridwidth": 2,
            "linecolor": "white",
            "showbackground": true,
            "ticks": "",
            "zerolinecolor": "white"
           },
           "zaxis": {
            "backgroundcolor": "#E5ECF6",
            "gridcolor": "white",
            "gridwidth": 2,
            "linecolor": "white",
            "showbackground": true,
            "ticks": "",
            "zerolinecolor": "white"
           }
          },
          "shapedefaults": {
           "line": {
            "color": "#2a3f5f"
           }
          },
          "ternary": {
           "aaxis": {
            "gridcolor": "white",
            "linecolor": "white",
            "ticks": ""
           },
           "baxis": {
            "gridcolor": "white",
            "linecolor": "white",
            "ticks": ""
           },
           "bgcolor": "#E5ECF6",
           "caxis": {
            "gridcolor": "white",
            "linecolor": "white",
            "ticks": ""
           }
          },
          "title": {
           "x": 0.05
          },
          "xaxis": {
           "automargin": true,
           "gridcolor": "white",
           "linecolor": "white",
           "ticks": "",
           "zerolinecolor": "white",
           "zerolinewidth": 2
          },
          "yaxis": {
           "automargin": true,
           "gridcolor": "white",
           "linecolor": "white",
           "ticks": "",
           "zerolinecolor": "white",
           "zerolinewidth": 2
          }
         }
        },
        "title": {
         "font": {
          "color": "#4D5663"
         }
        },
        "xaxis": {
         "gridcolor": "#E1E5ED",
         "showgrid": true,
         "tickfont": {
          "color": "#4D5663"
         },
         "title": {
          "font": {
           "color": "#4D5663"
          },
          "text": ""
         },
         "zerolinecolor": "#E1E5ED"
        },
        "yaxis": {
         "gridcolor": "#E1E5ED",
         "showgrid": true,
         "tickfont": {
          "color": "#4D5663"
         },
         "title": {
          "font": {
           "color": "#4D5663"
          },
          "text": ""
         },
         "zerolinecolor": "#E1E5ED"
        }
       }
      },
      "text/html": [
       "<div>\n",
       "        \n",
       "        \n",
       "            <div id=\"bcdfb671-ca66-4da2-96af-2d1b68beb6fe\" class=\"plotly-graph-div\" style=\"height:525px; width:100%;\"></div>\n",
       "            <script type=\"text/javascript\">\n",
       "                require([\"plotly\"], function(Plotly) {\n",
       "                    window.PLOTLYENV=window.PLOTLYENV || {};\n",
       "                    window.PLOTLYENV.BASE_URL='https://plot.ly';\n",
       "                    \n",
       "                if (document.getElementById(\"bcdfb671-ca66-4da2-96af-2d1b68beb6fe\")) {\n",
       "                    Plotly.newPlot(\n",
       "                        'bcdfb671-ca66-4da2-96af-2d1b68beb6fe',\n",
       "                        [{\"marker\": {\"color\": \"rgba(255, 153, 51, 0.6)\", \"line\": {\"color\": \"rgba(255, 153, 51, 1.0)\", \"width\": 1}}, \"name\": \"pdb_id\", \"orientation\": \"v\", \"text\": \"\", \"type\": \"bar\", \"x\": [\"Solution NMR\", \"X-ray diffraction\"], \"y\": [1, 78]}],\n",
       "                        {\"legend\": {\"bgcolor\": \"#F5F6F9\", \"font\": {\"color\": \"#4D5663\"}}, \"paper_bgcolor\": \"#F5F6F9\", \"plot_bgcolor\": \"#F5F6F9\", \"template\": {\"data\": {\"bar\": [{\"error_x\": {\"color\": \"#2a3f5f\"}, \"error_y\": {\"color\": \"#2a3f5f\"}, \"marker\": {\"line\": {\"color\": \"#E5ECF6\", \"width\": 0.5}}, \"type\": \"bar\"}], \"barpolar\": [{\"marker\": {\"line\": {\"color\": \"#E5ECF6\", \"width\": 0.5}}, \"type\": \"barpolar\"}], \"carpet\": [{\"aaxis\": {\"endlinecolor\": \"#2a3f5f\", \"gridcolor\": \"white\", \"linecolor\": \"white\", \"minorgridcolor\": \"white\", \"startlinecolor\": \"#2a3f5f\"}, \"baxis\": {\"endlinecolor\": \"#2a3f5f\", \"gridcolor\": \"white\", \"linecolor\": \"white\", \"minorgridcolor\": \"white\", \"startlinecolor\": \"#2a3f5f\"}, \"type\": \"carpet\"}], \"choropleth\": [{\"colorbar\": {\"outlinewidth\": 0, \"ticks\": \"\"}, \"type\": \"choropleth\"}], \"contour\": [{\"colorbar\": {\"outlinewidth\": 0, \"ticks\": \"\"}, \"colorscale\": [[0.0, \"#0d0887\"], [0.1111111111111111, \"#46039f\"], [0.2222222222222222, \"#7201a8\"], [0.3333333333333333, \"#9c179e\"], [0.4444444444444444, \"#bd3786\"], [0.5555555555555556, \"#d8576b\"], [0.6666666666666666, \"#ed7953\"], [0.7777777777777778, \"#fb9f3a\"], [0.8888888888888888, \"#fdca26\"], [1.0, \"#f0f921\"]], \"type\": \"contour\"}], \"contourcarpet\": [{\"colorbar\": {\"outlinewidth\": 0, \"ticks\": \"\"}, \"type\": \"contourcarpet\"}], \"heatmap\": [{\"colorbar\": {\"outlinewidth\": 0, \"ticks\": \"\"}, \"colorscale\": [[0.0, \"#0d0887\"], [0.1111111111111111, \"#46039f\"], [0.2222222222222222, \"#7201a8\"], [0.3333333333333333, \"#9c179e\"], [0.4444444444444444, \"#bd3786\"], [0.5555555555555556, \"#d8576b\"], [0.6666666666666666, \"#ed7953\"], [0.7777777777777778, \"#fb9f3a\"], [0.8888888888888888, \"#fdca26\"], [1.0, \"#f0f921\"]], \"type\": \"heatmap\"}], \"heatmapgl\": [{\"colorbar\": {\"outlinewidth\": 0, \"ticks\": \"\"}, \"colorscale\": [[0.0, \"#0d0887\"], [0.1111111111111111, \"#46039f\"], [0.2222222222222222, \"#7201a8\"], [0.3333333333333333, \"#9c179e\"], [0.4444444444444444, \"#bd3786\"], [0.5555555555555556, \"#d8576b\"], [0.6666666666666666, \"#ed7953\"], [0.7777777777777778, \"#fb9f3a\"], [0.8888888888888888, \"#fdca26\"], [1.0, \"#f0f921\"]], \"type\": \"heatmapgl\"}], \"histogram\": [{\"marker\": {\"colorbar\": {\"outlinewidth\": 0, \"ticks\": \"\"}}, \"type\": \"histogram\"}], \"histogram2d\": [{\"colorbar\": {\"outlinewidth\": 0, \"ticks\": \"\"}, \"colorscale\": [[0.0, \"#0d0887\"], [0.1111111111111111, \"#46039f\"], [0.2222222222222222, \"#7201a8\"], [0.3333333333333333, \"#9c179e\"], [0.4444444444444444, \"#bd3786\"], [0.5555555555555556, \"#d8576b\"], [0.6666666666666666, \"#ed7953\"], [0.7777777777777778, \"#fb9f3a\"], [0.8888888888888888, \"#fdca26\"], [1.0, \"#f0f921\"]], \"type\": \"histogram2d\"}], \"histogram2dcontour\": [{\"colorbar\": {\"outlinewidth\": 0, \"ticks\": \"\"}, \"colorscale\": [[0.0, \"#0d0887\"], [0.1111111111111111, \"#46039f\"], [0.2222222222222222, \"#7201a8\"], [0.3333333333333333, \"#9c179e\"], [0.4444444444444444, \"#bd3786\"], [0.5555555555555556, \"#d8576b\"], [0.6666666666666666, \"#ed7953\"], [0.7777777777777778, \"#fb9f3a\"], [0.8888888888888888, \"#fdca26\"], [1.0, \"#f0f921\"]], \"type\": \"histogram2dcontour\"}], \"mesh3d\": [{\"colorbar\": {\"outlinewidth\": 0, \"ticks\": \"\"}, \"type\": \"mesh3d\"}], \"parcoords\": [{\"line\": {\"colorbar\": {\"outlinewidth\": 0, \"ticks\": \"\"}}, \"type\": \"parcoords\"}], \"scatter\": [{\"marker\": {\"colorbar\": {\"outlinewidth\": 0, \"ticks\": \"\"}}, \"type\": \"scatter\"}], \"scatter3d\": [{\"line\": {\"colorbar\": {\"outlinewidth\": 0, \"ticks\": \"\"}}, \"marker\": {\"colorbar\": {\"outlinewidth\": 0, \"ticks\": \"\"}}, \"type\": \"scatter3d\"}], \"scattercarpet\": [{\"marker\": {\"colorbar\": {\"outlinewidth\": 0, \"ticks\": \"\"}}, \"type\": \"scattercarpet\"}], \"scattergeo\": [{\"marker\": {\"colorbar\": {\"outlinewidth\": 0, \"ticks\": \"\"}}, \"type\": \"scattergeo\"}], \"scattergl\": [{\"marker\": {\"colorbar\": {\"outlinewidth\": 0, \"ticks\": \"\"}}, \"type\": \"scattergl\"}], \"scattermapbox\": [{\"marker\": {\"colorbar\": {\"outlinewidth\": 0, \"ticks\": \"\"}}, \"type\": \"scattermapbox\"}], \"scatterpolar\": [{\"marker\": {\"colorbar\": {\"outlinewidth\": 0, \"ticks\": \"\"}}, \"type\": \"scatterpolar\"}], \"scatterpolargl\": [{\"marker\": {\"colorbar\": {\"outlinewidth\": 0, \"ticks\": \"\"}}, \"type\": \"scatterpolargl\"}], \"scatterternary\": [{\"marker\": {\"colorbar\": {\"outlinewidth\": 0, \"ticks\": \"\"}}, \"type\": \"scatterternary\"}], \"surface\": [{\"colorbar\": {\"outlinewidth\": 0, \"ticks\": \"\"}, \"colorscale\": [[0.0, \"#0d0887\"], [0.1111111111111111, \"#46039f\"], [0.2222222222222222, \"#7201a8\"], [0.3333333333333333, \"#9c179e\"], [0.4444444444444444, \"#bd3786\"], [0.5555555555555556, \"#d8576b\"], [0.6666666666666666, \"#ed7953\"], [0.7777777777777778, \"#fb9f3a\"], [0.8888888888888888, \"#fdca26\"], [1.0, \"#f0f921\"]], \"type\": \"surface\"}], \"table\": [{\"cells\": {\"fill\": {\"color\": \"#EBF0F8\"}, \"line\": {\"color\": \"white\"}}, \"header\": {\"fill\": {\"color\": \"#C8D4E3\"}, \"line\": {\"color\": \"white\"}}, \"type\": \"table\"}]}, \"layout\": {\"annotationdefaults\": {\"arrowcolor\": \"#2a3f5f\", \"arrowhead\": 0, \"arrowwidth\": 1}, \"colorscale\": {\"diverging\": [[0, \"#8e0152\"], [0.1, \"#c51b7d\"], [0.2, \"#de77ae\"], [0.3, \"#f1b6da\"], [0.4, \"#fde0ef\"], [0.5, \"#f7f7f7\"], [0.6, \"#e6f5d0\"], [0.7, \"#b8e186\"], [0.8, \"#7fbc41\"], [0.9, \"#4d9221\"], [1, \"#276419\"]], \"sequential\": [[0.0, \"#0d0887\"], [0.1111111111111111, \"#46039f\"], [0.2222222222222222, \"#7201a8\"], [0.3333333333333333, \"#9c179e\"], [0.4444444444444444, \"#bd3786\"], [0.5555555555555556, \"#d8576b\"], [0.6666666666666666, \"#ed7953\"], [0.7777777777777778, \"#fb9f3a\"], [0.8888888888888888, \"#fdca26\"], [1.0, \"#f0f921\"]], \"sequentialminus\": [[0.0, \"#0d0887\"], [0.1111111111111111, \"#46039f\"], [0.2222222222222222, \"#7201a8\"], [0.3333333333333333, \"#9c179e\"], [0.4444444444444444, \"#bd3786\"], [0.5555555555555556, \"#d8576b\"], [0.6666666666666666, \"#ed7953\"], [0.7777777777777778, \"#fb9f3a\"], [0.8888888888888888, \"#fdca26\"], [1.0, \"#f0f921\"]]}, \"colorway\": [\"#636efa\", \"#EF553B\", \"#00cc96\", \"#ab63fa\", \"#FFA15A\", \"#19d3f3\", \"#FF6692\", \"#B6E880\", \"#FF97FF\", \"#FECB52\"], \"font\": {\"color\": \"#2a3f5f\"}, \"geo\": {\"bgcolor\": \"white\", \"lakecolor\": \"white\", \"landcolor\": \"#E5ECF6\", \"showlakes\": true, \"showland\": true, \"subunitcolor\": \"white\"}, \"hoverlabel\": {\"align\": \"left\"}, \"hovermode\": \"closest\", \"mapbox\": {\"style\": \"light\"}, \"paper_bgcolor\": \"white\", \"plot_bgcolor\": \"#E5ECF6\", \"polar\": {\"angularaxis\": {\"gridcolor\": \"white\", \"linecolor\": \"white\", \"ticks\": \"\"}, \"bgcolor\": \"#E5ECF6\", \"radialaxis\": {\"gridcolor\": \"white\", \"linecolor\": \"white\", \"ticks\": \"\"}}, \"scene\": {\"xaxis\": {\"backgroundcolor\": \"#E5ECF6\", \"gridcolor\": \"white\", \"gridwidth\": 2, \"linecolor\": \"white\", \"showbackground\": true, \"ticks\": \"\", \"zerolinecolor\": \"white\"}, \"yaxis\": {\"backgroundcolor\": \"#E5ECF6\", \"gridcolor\": \"white\", \"gridwidth\": 2, \"linecolor\": \"white\", \"showbackground\": true, \"ticks\": \"\", \"zerolinecolor\": \"white\"}, \"zaxis\": {\"backgroundcolor\": \"#E5ECF6\", \"gridcolor\": \"white\", \"gridwidth\": 2, \"linecolor\": \"white\", \"showbackground\": true, \"ticks\": \"\", \"zerolinecolor\": \"white\"}}, \"shapedefaults\": {\"line\": {\"color\": \"#2a3f5f\"}}, \"ternary\": {\"aaxis\": {\"gridcolor\": \"white\", \"linecolor\": \"white\", \"ticks\": \"\"}, \"baxis\": {\"gridcolor\": \"white\", \"linecolor\": \"white\", \"ticks\": \"\"}, \"bgcolor\": \"#E5ECF6\", \"caxis\": {\"gridcolor\": \"white\", \"linecolor\": \"white\", \"ticks\": \"\"}}, \"title\": {\"x\": 0.05}, \"xaxis\": {\"automargin\": true, \"gridcolor\": \"white\", \"linecolor\": \"white\", \"ticks\": \"\", \"zerolinecolor\": \"white\", \"zerolinewidth\": 2}, \"yaxis\": {\"automargin\": true, \"gridcolor\": \"white\", \"linecolor\": \"white\", \"ticks\": \"\", \"zerolinecolor\": \"white\", \"zerolinewidth\": 2}}}, \"title\": {\"font\": {\"color\": \"#4D5663\"}}, \"xaxis\": {\"gridcolor\": \"#E1E5ED\", \"showgrid\": true, \"tickfont\": {\"color\": \"#4D5663\"}, \"title\": {\"font\": {\"color\": \"#4D5663\"}, \"text\": \"\"}, \"zerolinecolor\": \"#E1E5ED\"}, \"yaxis\": {\"gridcolor\": \"#E1E5ED\", \"showgrid\": true, \"tickfont\": {\"color\": \"#4D5663\"}, \"title\": {\"font\": {\"color\": \"#4D5663\"}, \"text\": \"\"}, \"zerolinecolor\": \"#E1E5ED\"}},\n",
       "                        {\"showLink\": true, \"linkText\": \"Export to plot.ly\", \"plotlyServerURL\": \"https://plot.ly\", \"responsive\": true}\n",
       "                    ).then(function(){\n",
       "                            \n",
       "var gd = document.getElementById('bcdfb671-ca66-4da2-96af-2d1b68beb6fe');\n",
       "var x = new MutationObserver(function (mutations, observer) {{\n",
       "        var display = window.getComputedStyle(gd).display;\n",
       "        if (!display || display === 'none') {{\n",
       "            console.log([gd, 'removed!']);\n",
       "            Plotly.purge(gd);\n",
       "            observer.disconnect();\n",
       "        }}\n",
       "}});\n",
       "\n",
       "// Listen for the removal of the full notebook cells\n",
       "var notebookContainer = gd.closest('#notebook-container');\n",
       "if (notebookContainer) {{\n",
       "    x.observe(notebookContainer, {childList: true});\n",
       "}}\n",
       "\n",
       "// Listen for the clearing of the current output cell\n",
       "var outputEl = gd.closest('.output');\n",
       "if (outputEl) {{\n",
       "    x.observe(outputEl, {childList: true});\n",
       "}}\n",
       "\n",
       "                        })\n",
       "                };\n",
       "                });\n",
       "            </script>\n",
       "        </div>"
      ]
     },
     "metadata": {},
     "output_type": "display_data"
    }
   ],
   "source": [
    "pandas_plot(list_of_results=results, column_to_group_by='experimental_method')"
   ]
  },
  {
   "cell_type": "markdown",
   "metadata": {},
   "source": [
    "Remember this only searched through the first 10 results.\n",
    "To increase the number of entries we have to run the search again, this time setting number_of_rows to a number in the function run_search. "
   ]
  },
  {
   "cell_type": "code",
   "execution_count": 84,
   "metadata": {
    "scrolled": false
   },
   "outputs": [
    {
     "name": "stdout",
     "output_type": "stream",
     "text": [
      "https://www.ebi.ac.uk/pdbe/search/pdb/select?q=molecule_name:\"Dihydrofolate reductase\" AND organism_name:Human&wt=json&rows=10000\n",
      "Number of results for Dihydrofolate reductase,Human: 79\n"
     ]
    }
   ],
   "source": [
    "search_terms = {\"molecule_name\":\"Dihydrofolate reductase\",\n",
    "                \"organism_name\":\"Human\"\n",
    "               } \n",
    "results = run_search(search_terms, number_of_rows=10000)\n"
   ]
  },
  {
   "cell_type": "markdown",
   "metadata": {},
   "source": [
    "Then we can count the results using our pandas function above"
   ]
  },
  {
   "cell_type": "code",
   "execution_count": 85,
   "metadata": {},
   "outputs": [
    {
     "data": {
      "text/plain": [
       "experimental_method\n",
       "Solution NMR          1\n",
       "X-ray diffraction    78\n",
       "Name: pdb_id, dtype: int64"
      ]
     },
     "execution_count": 85,
     "metadata": {},
     "output_type": "execute_result"
    }
   ],
   "source": [
    "pandas_count(list_of_results=results, column_to_group_by='experimental_method')"
   ]
  },
  {
   "cell_type": "markdown",
   "metadata": {},
   "source": [
    "Changing the result so it groups by release year of the PDB entries. "
   ]
  },
  {
   "cell_type": "code",
   "execution_count": 86,
   "metadata": {},
   "outputs": [
    {
     "data": {
      "text/plain": [
       "release_year\n",
       "1990     2\n",
       "1992     1\n",
       "1995     2\n",
       "1998     6\n",
       "2002     2\n",
       "2003     5\n",
       "2004     3\n",
       "2005     3\n",
       "2007     2\n",
       "2009    13\n",
       "2010     7\n",
       "2011     7\n",
       "2012     1\n",
       "2013     8\n",
       "2014     1\n",
       "2015     2\n",
       "2017    10\n",
       "2018     2\n",
       "2019     2\n",
       "Name: pdb_id, dtype: int64"
      ]
     },
     "execution_count": 86,
     "metadata": {},
     "output_type": "execute_result"
    }
   ],
   "source": [
    "pandas_count(list_of_results=results, column_to_group_by='release_year')"
   ]
  },
  {
   "cell_type": "markdown",
   "metadata": {},
   "source": [
    "And then plot the number of entries released per year"
   ]
  },
  {
   "cell_type": "code",
   "execution_count": 87,
   "metadata": {
    "scrolled": true
   },
   "outputs": [
    {
     "data": {
      "application/vnd.plotly.v1+json": {
       "config": {
        "linkText": "Export to plot.ly",
        "plotlyServerURL": "https://plot.ly",
        "showLink": true
       },
       "data": [
        {
         "marker": {
          "color": "rgba(255, 153, 51, 0.6)",
          "line": {
           "color": "rgba(255, 153, 51, 1.0)",
           "width": 1
          }
         },
         "name": "pdb_id",
         "orientation": "v",
         "text": "",
         "type": "bar",
         "x": [
          1990,
          1992,
          1995,
          1998,
          2002,
          2003,
          2004,
          2005,
          2007,
          2009,
          2010,
          2011,
          2012,
          2013,
          2014,
          2015,
          2017,
          2018,
          2019
         ],
         "y": [
          2,
          1,
          2,
          6,
          2,
          5,
          3,
          3,
          2,
          13,
          7,
          7,
          1,
          8,
          1,
          2,
          10,
          2,
          2
         ]
        }
       ],
       "layout": {
        "legend": {
         "bgcolor": "#F5F6F9",
         "font": {
          "color": "#4D5663"
         }
        },
        "paper_bgcolor": "#F5F6F9",
        "plot_bgcolor": "#F5F6F9",
        "template": {
         "data": {
          "bar": [
           {
            "error_x": {
             "color": "#2a3f5f"
            },
            "error_y": {
             "color": "#2a3f5f"
            },
            "marker": {
             "line": {
              "color": "#E5ECF6",
              "width": 0.5
             }
            },
            "type": "bar"
           }
          ],
          "barpolar": [
           {
            "marker": {
             "line": {
              "color": "#E5ECF6",
              "width": 0.5
             }
            },
            "type": "barpolar"
           }
          ],
          "carpet": [
           {
            "aaxis": {
             "endlinecolor": "#2a3f5f",
             "gridcolor": "white",
             "linecolor": "white",
             "minorgridcolor": "white",
             "startlinecolor": "#2a3f5f"
            },
            "baxis": {
             "endlinecolor": "#2a3f5f",
             "gridcolor": "white",
             "linecolor": "white",
             "minorgridcolor": "white",
             "startlinecolor": "#2a3f5f"
            },
            "type": "carpet"
           }
          ],
          "choropleth": [
           {
            "colorbar": {
             "outlinewidth": 0,
             "ticks": ""
            },
            "type": "choropleth"
           }
          ],
          "contour": [
           {
            "colorbar": {
             "outlinewidth": 0,
             "ticks": ""
            },
            "colorscale": [
             [
              0,
              "#0d0887"
             ],
             [
              0.1111111111111111,
              "#46039f"
             ],
             [
              0.2222222222222222,
              "#7201a8"
             ],
             [
              0.3333333333333333,
              "#9c179e"
             ],
             [
              0.4444444444444444,
              "#bd3786"
             ],
             [
              0.5555555555555556,
              "#d8576b"
             ],
             [
              0.6666666666666666,
              "#ed7953"
             ],
             [
              0.7777777777777778,
              "#fb9f3a"
             ],
             [
              0.8888888888888888,
              "#fdca26"
             ],
             [
              1,
              "#f0f921"
             ]
            ],
            "type": "contour"
           }
          ],
          "contourcarpet": [
           {
            "colorbar": {
             "outlinewidth": 0,
             "ticks": ""
            },
            "type": "contourcarpet"
           }
          ],
          "heatmap": [
           {
            "colorbar": {
             "outlinewidth": 0,
             "ticks": ""
            },
            "colorscale": [
             [
              0,
              "#0d0887"
             ],
             [
              0.1111111111111111,
              "#46039f"
             ],
             [
              0.2222222222222222,
              "#7201a8"
             ],
             [
              0.3333333333333333,
              "#9c179e"
             ],
             [
              0.4444444444444444,
              "#bd3786"
             ],
             [
              0.5555555555555556,
              "#d8576b"
             ],
             [
              0.6666666666666666,
              "#ed7953"
             ],
             [
              0.7777777777777778,
              "#fb9f3a"
             ],
             [
              0.8888888888888888,
              "#fdca26"
             ],
             [
              1,
              "#f0f921"
             ]
            ],
            "type": "heatmap"
           }
          ],
          "heatmapgl": [
           {
            "colorbar": {
             "outlinewidth": 0,
             "ticks": ""
            },
            "colorscale": [
             [
              0,
              "#0d0887"
             ],
             [
              0.1111111111111111,
              "#46039f"
             ],
             [
              0.2222222222222222,
              "#7201a8"
             ],
             [
              0.3333333333333333,
              "#9c179e"
             ],
             [
              0.4444444444444444,
              "#bd3786"
             ],
             [
              0.5555555555555556,
              "#d8576b"
             ],
             [
              0.6666666666666666,
              "#ed7953"
             ],
             [
              0.7777777777777778,
              "#fb9f3a"
             ],
             [
              0.8888888888888888,
              "#fdca26"
             ],
             [
              1,
              "#f0f921"
             ]
            ],
            "type": "heatmapgl"
           }
          ],
          "histogram": [
           {
            "marker": {
             "colorbar": {
              "outlinewidth": 0,
              "ticks": ""
             }
            },
            "type": "histogram"
           }
          ],
          "histogram2d": [
           {
            "colorbar": {
             "outlinewidth": 0,
             "ticks": ""
            },
            "colorscale": [
             [
              0,
              "#0d0887"
             ],
             [
              0.1111111111111111,
              "#46039f"
             ],
             [
              0.2222222222222222,
              "#7201a8"
             ],
             [
              0.3333333333333333,
              "#9c179e"
             ],
             [
              0.4444444444444444,
              "#bd3786"
             ],
             [
              0.5555555555555556,
              "#d8576b"
             ],
             [
              0.6666666666666666,
              "#ed7953"
             ],
             [
              0.7777777777777778,
              "#fb9f3a"
             ],
             [
              0.8888888888888888,
              "#fdca26"
             ],
             [
              1,
              "#f0f921"
             ]
            ],
            "type": "histogram2d"
           }
          ],
          "histogram2dcontour": [
           {
            "colorbar": {
             "outlinewidth": 0,
             "ticks": ""
            },
            "colorscale": [
             [
              0,
              "#0d0887"
             ],
             [
              0.1111111111111111,
              "#46039f"
             ],
             [
              0.2222222222222222,
              "#7201a8"
             ],
             [
              0.3333333333333333,
              "#9c179e"
             ],
             [
              0.4444444444444444,
              "#bd3786"
             ],
             [
              0.5555555555555556,
              "#d8576b"
             ],
             [
              0.6666666666666666,
              "#ed7953"
             ],
             [
              0.7777777777777778,
              "#fb9f3a"
             ],
             [
              0.8888888888888888,
              "#fdca26"
             ],
             [
              1,
              "#f0f921"
             ]
            ],
            "type": "histogram2dcontour"
           }
          ],
          "mesh3d": [
           {
            "colorbar": {
             "outlinewidth": 0,
             "ticks": ""
            },
            "type": "mesh3d"
           }
          ],
          "parcoords": [
           {
            "line": {
             "colorbar": {
              "outlinewidth": 0,
              "ticks": ""
             }
            },
            "type": "parcoords"
           }
          ],
          "scatter": [
           {
            "marker": {
             "colorbar": {
              "outlinewidth": 0,
              "ticks": ""
             }
            },
            "type": "scatter"
           }
          ],
          "scatter3d": [
           {
            "line": {
             "colorbar": {
              "outlinewidth": 0,
              "ticks": ""
             }
            },
            "marker": {
             "colorbar": {
              "outlinewidth": 0,
              "ticks": ""
             }
            },
            "type": "scatter3d"
           }
          ],
          "scattercarpet": [
           {
            "marker": {
             "colorbar": {
              "outlinewidth": 0,
              "ticks": ""
             }
            },
            "type": "scattercarpet"
           }
          ],
          "scattergeo": [
           {
            "marker": {
             "colorbar": {
              "outlinewidth": 0,
              "ticks": ""
             }
            },
            "type": "scattergeo"
           }
          ],
          "scattergl": [
           {
            "marker": {
             "colorbar": {
              "outlinewidth": 0,
              "ticks": ""
             }
            },
            "type": "scattergl"
           }
          ],
          "scattermapbox": [
           {
            "marker": {
             "colorbar": {
              "outlinewidth": 0,
              "ticks": ""
             }
            },
            "type": "scattermapbox"
           }
          ],
          "scatterpolar": [
           {
            "marker": {
             "colorbar": {
              "outlinewidth": 0,
              "ticks": ""
             }
            },
            "type": "scatterpolar"
           }
          ],
          "scatterpolargl": [
           {
            "marker": {
             "colorbar": {
              "outlinewidth": 0,
              "ticks": ""
             }
            },
            "type": "scatterpolargl"
           }
          ],
          "scatterternary": [
           {
            "marker": {
             "colorbar": {
              "outlinewidth": 0,
              "ticks": ""
             }
            },
            "type": "scatterternary"
           }
          ],
          "surface": [
           {
            "colorbar": {
             "outlinewidth": 0,
             "ticks": ""
            },
            "colorscale": [
             [
              0,
              "#0d0887"
             ],
             [
              0.1111111111111111,
              "#46039f"
             ],
             [
              0.2222222222222222,
              "#7201a8"
             ],
             [
              0.3333333333333333,
              "#9c179e"
             ],
             [
              0.4444444444444444,
              "#bd3786"
             ],
             [
              0.5555555555555556,
              "#d8576b"
             ],
             [
              0.6666666666666666,
              "#ed7953"
             ],
             [
              0.7777777777777778,
              "#fb9f3a"
             ],
             [
              0.8888888888888888,
              "#fdca26"
             ],
             [
              1,
              "#f0f921"
             ]
            ],
            "type": "surface"
           }
          ],
          "table": [
           {
            "cells": {
             "fill": {
              "color": "#EBF0F8"
             },
             "line": {
              "color": "white"
             }
            },
            "header": {
             "fill": {
              "color": "#C8D4E3"
             },
             "line": {
              "color": "white"
             }
            },
            "type": "table"
           }
          ]
         },
         "layout": {
          "annotationdefaults": {
           "arrowcolor": "#2a3f5f",
           "arrowhead": 0,
           "arrowwidth": 1
          },
          "colorscale": {
           "diverging": [
            [
             0,
             "#8e0152"
            ],
            [
             0.1,
             "#c51b7d"
            ],
            [
             0.2,
             "#de77ae"
            ],
            [
             0.3,
             "#f1b6da"
            ],
            [
             0.4,
             "#fde0ef"
            ],
            [
             0.5,
             "#f7f7f7"
            ],
            [
             0.6,
             "#e6f5d0"
            ],
            [
             0.7,
             "#b8e186"
            ],
            [
             0.8,
             "#7fbc41"
            ],
            [
             0.9,
             "#4d9221"
            ],
            [
             1,
             "#276419"
            ]
           ],
           "sequential": [
            [
             0,
             "#0d0887"
            ],
            [
             0.1111111111111111,
             "#46039f"
            ],
            [
             0.2222222222222222,
             "#7201a8"
            ],
            [
             0.3333333333333333,
             "#9c179e"
            ],
            [
             0.4444444444444444,
             "#bd3786"
            ],
            [
             0.5555555555555556,
             "#d8576b"
            ],
            [
             0.6666666666666666,
             "#ed7953"
            ],
            [
             0.7777777777777778,
             "#fb9f3a"
            ],
            [
             0.8888888888888888,
             "#fdca26"
            ],
            [
             1,
             "#f0f921"
            ]
           ],
           "sequentialminus": [
            [
             0,
             "#0d0887"
            ],
            [
             0.1111111111111111,
             "#46039f"
            ],
            [
             0.2222222222222222,
             "#7201a8"
            ],
            [
             0.3333333333333333,
             "#9c179e"
            ],
            [
             0.4444444444444444,
             "#bd3786"
            ],
            [
             0.5555555555555556,
             "#d8576b"
            ],
            [
             0.6666666666666666,
             "#ed7953"
            ],
            [
             0.7777777777777778,
             "#fb9f3a"
            ],
            [
             0.8888888888888888,
             "#fdca26"
            ],
            [
             1,
             "#f0f921"
            ]
           ]
          },
          "colorway": [
           "#636efa",
           "#EF553B",
           "#00cc96",
           "#ab63fa",
           "#FFA15A",
           "#19d3f3",
           "#FF6692",
           "#B6E880",
           "#FF97FF",
           "#FECB52"
          ],
          "font": {
           "color": "#2a3f5f"
          },
          "geo": {
           "bgcolor": "white",
           "lakecolor": "white",
           "landcolor": "#E5ECF6",
           "showlakes": true,
           "showland": true,
           "subunitcolor": "white"
          },
          "hoverlabel": {
           "align": "left"
          },
          "hovermode": "closest",
          "mapbox": {
           "style": "light"
          },
          "paper_bgcolor": "white",
          "plot_bgcolor": "#E5ECF6",
          "polar": {
           "angularaxis": {
            "gridcolor": "white",
            "linecolor": "white",
            "ticks": ""
           },
           "bgcolor": "#E5ECF6",
           "radialaxis": {
            "gridcolor": "white",
            "linecolor": "white",
            "ticks": ""
           }
          },
          "scene": {
           "xaxis": {
            "backgroundcolor": "#E5ECF6",
            "gridcolor": "white",
            "gridwidth": 2,
            "linecolor": "white",
            "showbackground": true,
            "ticks": "",
            "zerolinecolor": "white"
           },
           "yaxis": {
            "backgroundcolor": "#E5ECF6",
            "gridcolor": "white",
            "gridwidth": 2,
            "linecolor": "white",
            "showbackground": true,
            "ticks": "",
            "zerolinecolor": "white"
           },
           "zaxis": {
            "backgroundcolor": "#E5ECF6",
            "gridcolor": "white",
            "gridwidth": 2,
            "linecolor": "white",
            "showbackground": true,
            "ticks": "",
            "zerolinecolor": "white"
           }
          },
          "shapedefaults": {
           "line": {
            "color": "#2a3f5f"
           }
          },
          "ternary": {
           "aaxis": {
            "gridcolor": "white",
            "linecolor": "white",
            "ticks": ""
           },
           "baxis": {
            "gridcolor": "white",
            "linecolor": "white",
            "ticks": ""
           },
           "bgcolor": "#E5ECF6",
           "caxis": {
            "gridcolor": "white",
            "linecolor": "white",
            "ticks": ""
           }
          },
          "title": {
           "x": 0.05
          },
          "xaxis": {
           "automargin": true,
           "gridcolor": "white",
           "linecolor": "white",
           "ticks": "",
           "zerolinecolor": "white",
           "zerolinewidth": 2
          },
          "yaxis": {
           "automargin": true,
           "gridcolor": "white",
           "linecolor": "white",
           "ticks": "",
           "zerolinecolor": "white",
           "zerolinewidth": 2
          }
         }
        },
        "title": {
         "font": {
          "color": "#4D5663"
         }
        },
        "xaxis": {
         "gridcolor": "#E1E5ED",
         "showgrid": true,
         "tickfont": {
          "color": "#4D5663"
         },
         "title": {
          "font": {
           "color": "#4D5663"
          },
          "text": ""
         },
         "zerolinecolor": "#E1E5ED"
        },
        "yaxis": {
         "gridcolor": "#E1E5ED",
         "showgrid": true,
         "tickfont": {
          "color": "#4D5663"
         },
         "title": {
          "font": {
           "color": "#4D5663"
          },
          "text": ""
         },
         "zerolinecolor": "#E1E5ED"
        }
       }
      },
      "text/html": [
       "<div>\n",
       "        \n",
       "        \n",
       "            <div id=\"bef10a86-b38e-46ac-8b95-c131081f8f62\" class=\"plotly-graph-div\" style=\"height:525px; width:100%;\"></div>\n",
       "            <script type=\"text/javascript\">\n",
       "                require([\"plotly\"], function(Plotly) {\n",
       "                    window.PLOTLYENV=window.PLOTLYENV || {};\n",
       "                    window.PLOTLYENV.BASE_URL='https://plot.ly';\n",
       "                    \n",
       "                if (document.getElementById(\"bef10a86-b38e-46ac-8b95-c131081f8f62\")) {\n",
       "                    Plotly.newPlot(\n",
       "                        'bef10a86-b38e-46ac-8b95-c131081f8f62',\n",
       "                        [{\"marker\": {\"color\": \"rgba(255, 153, 51, 0.6)\", \"line\": {\"color\": \"rgba(255, 153, 51, 1.0)\", \"width\": 1}}, \"name\": \"pdb_id\", \"orientation\": \"v\", \"text\": \"\", \"type\": \"bar\", \"x\": [1990, 1992, 1995, 1998, 2002, 2003, 2004, 2005, 2007, 2009, 2010, 2011, 2012, 2013, 2014, 2015, 2017, 2018, 2019], \"y\": [2, 1, 2, 6, 2, 5, 3, 3, 2, 13, 7, 7, 1, 8, 1, 2, 10, 2, 2]}],\n",
       "                        {\"legend\": {\"bgcolor\": \"#F5F6F9\", \"font\": {\"color\": \"#4D5663\"}}, \"paper_bgcolor\": \"#F5F6F9\", \"plot_bgcolor\": \"#F5F6F9\", \"template\": {\"data\": {\"bar\": [{\"error_x\": {\"color\": \"#2a3f5f\"}, \"error_y\": {\"color\": \"#2a3f5f\"}, \"marker\": {\"line\": {\"color\": \"#E5ECF6\", \"width\": 0.5}}, \"type\": \"bar\"}], \"barpolar\": [{\"marker\": {\"line\": {\"color\": \"#E5ECF6\", \"width\": 0.5}}, \"type\": \"barpolar\"}], \"carpet\": [{\"aaxis\": {\"endlinecolor\": \"#2a3f5f\", \"gridcolor\": \"white\", \"linecolor\": \"white\", \"minorgridcolor\": \"white\", \"startlinecolor\": \"#2a3f5f\"}, \"baxis\": {\"endlinecolor\": \"#2a3f5f\", \"gridcolor\": \"white\", \"linecolor\": \"white\", \"minorgridcolor\": \"white\", \"startlinecolor\": \"#2a3f5f\"}, \"type\": \"carpet\"}], \"choropleth\": [{\"colorbar\": {\"outlinewidth\": 0, \"ticks\": \"\"}, \"type\": \"choropleth\"}], \"contour\": [{\"colorbar\": {\"outlinewidth\": 0, \"ticks\": \"\"}, \"colorscale\": [[0.0, \"#0d0887\"], [0.1111111111111111, \"#46039f\"], [0.2222222222222222, \"#7201a8\"], [0.3333333333333333, \"#9c179e\"], [0.4444444444444444, \"#bd3786\"], [0.5555555555555556, \"#d8576b\"], [0.6666666666666666, \"#ed7953\"], [0.7777777777777778, \"#fb9f3a\"], [0.8888888888888888, \"#fdca26\"], [1.0, \"#f0f921\"]], \"type\": \"contour\"}], \"contourcarpet\": [{\"colorbar\": {\"outlinewidth\": 0, \"ticks\": \"\"}, \"type\": \"contourcarpet\"}], \"heatmap\": [{\"colorbar\": {\"outlinewidth\": 0, \"ticks\": \"\"}, \"colorscale\": [[0.0, \"#0d0887\"], [0.1111111111111111, \"#46039f\"], [0.2222222222222222, \"#7201a8\"], [0.3333333333333333, \"#9c179e\"], [0.4444444444444444, \"#bd3786\"], [0.5555555555555556, \"#d8576b\"], [0.6666666666666666, \"#ed7953\"], [0.7777777777777778, \"#fb9f3a\"], [0.8888888888888888, \"#fdca26\"], [1.0, \"#f0f921\"]], \"type\": \"heatmap\"}], \"heatmapgl\": [{\"colorbar\": {\"outlinewidth\": 0, \"ticks\": \"\"}, \"colorscale\": [[0.0, \"#0d0887\"], [0.1111111111111111, \"#46039f\"], [0.2222222222222222, \"#7201a8\"], [0.3333333333333333, \"#9c179e\"], [0.4444444444444444, \"#bd3786\"], [0.5555555555555556, \"#d8576b\"], [0.6666666666666666, \"#ed7953\"], [0.7777777777777778, \"#fb9f3a\"], [0.8888888888888888, \"#fdca26\"], [1.0, \"#f0f921\"]], \"type\": \"heatmapgl\"}], \"histogram\": [{\"marker\": {\"colorbar\": {\"outlinewidth\": 0, \"ticks\": \"\"}}, \"type\": \"histogram\"}], \"histogram2d\": [{\"colorbar\": {\"outlinewidth\": 0, \"ticks\": \"\"}, \"colorscale\": [[0.0, \"#0d0887\"], [0.1111111111111111, \"#46039f\"], [0.2222222222222222, \"#7201a8\"], [0.3333333333333333, \"#9c179e\"], [0.4444444444444444, \"#bd3786\"], [0.5555555555555556, \"#d8576b\"], [0.6666666666666666, \"#ed7953\"], [0.7777777777777778, \"#fb9f3a\"], [0.8888888888888888, \"#fdca26\"], [1.0, \"#f0f921\"]], \"type\": \"histogram2d\"}], \"histogram2dcontour\": [{\"colorbar\": {\"outlinewidth\": 0, \"ticks\": \"\"}, \"colorscale\": [[0.0, \"#0d0887\"], [0.1111111111111111, \"#46039f\"], [0.2222222222222222, \"#7201a8\"], [0.3333333333333333, \"#9c179e\"], [0.4444444444444444, \"#bd3786\"], [0.5555555555555556, \"#d8576b\"], [0.6666666666666666, \"#ed7953\"], [0.7777777777777778, \"#fb9f3a\"], [0.8888888888888888, \"#fdca26\"], [1.0, \"#f0f921\"]], \"type\": \"histogram2dcontour\"}], \"mesh3d\": [{\"colorbar\": {\"outlinewidth\": 0, \"ticks\": \"\"}, \"type\": \"mesh3d\"}], \"parcoords\": [{\"line\": {\"colorbar\": {\"outlinewidth\": 0, \"ticks\": \"\"}}, \"type\": \"parcoords\"}], \"scatter\": [{\"marker\": {\"colorbar\": {\"outlinewidth\": 0, \"ticks\": \"\"}}, \"type\": \"scatter\"}], \"scatter3d\": [{\"line\": {\"colorbar\": {\"outlinewidth\": 0, \"ticks\": \"\"}}, \"marker\": {\"colorbar\": {\"outlinewidth\": 0, \"ticks\": \"\"}}, \"type\": \"scatter3d\"}], \"scattercarpet\": [{\"marker\": {\"colorbar\": {\"outlinewidth\": 0, \"ticks\": \"\"}}, \"type\": \"scattercarpet\"}], \"scattergeo\": [{\"marker\": {\"colorbar\": {\"outlinewidth\": 0, \"ticks\": \"\"}}, \"type\": \"scattergeo\"}], \"scattergl\": [{\"marker\": {\"colorbar\": {\"outlinewidth\": 0, \"ticks\": \"\"}}, \"type\": \"scattergl\"}], \"scattermapbox\": [{\"marker\": {\"colorbar\": {\"outlinewidth\": 0, \"ticks\": \"\"}}, \"type\": \"scattermapbox\"}], \"scatterpolar\": [{\"marker\": {\"colorbar\": {\"outlinewidth\": 0, \"ticks\": \"\"}}, \"type\": \"scatterpolar\"}], \"scatterpolargl\": [{\"marker\": {\"colorbar\": {\"outlinewidth\": 0, \"ticks\": \"\"}}, \"type\": \"scatterpolargl\"}], \"scatterternary\": [{\"marker\": {\"colorbar\": {\"outlinewidth\": 0, \"ticks\": \"\"}}, \"type\": \"scatterternary\"}], \"surface\": [{\"colorbar\": {\"outlinewidth\": 0, \"ticks\": \"\"}, \"colorscale\": [[0.0, \"#0d0887\"], [0.1111111111111111, \"#46039f\"], [0.2222222222222222, \"#7201a8\"], [0.3333333333333333, \"#9c179e\"], [0.4444444444444444, \"#bd3786\"], [0.5555555555555556, \"#d8576b\"], [0.6666666666666666, \"#ed7953\"], [0.7777777777777778, \"#fb9f3a\"], [0.8888888888888888, \"#fdca26\"], [1.0, \"#f0f921\"]], \"type\": \"surface\"}], \"table\": [{\"cells\": {\"fill\": {\"color\": \"#EBF0F8\"}, \"line\": {\"color\": \"white\"}}, \"header\": {\"fill\": {\"color\": \"#C8D4E3\"}, \"line\": {\"color\": \"white\"}}, \"type\": \"table\"}]}, \"layout\": {\"annotationdefaults\": {\"arrowcolor\": \"#2a3f5f\", \"arrowhead\": 0, \"arrowwidth\": 1}, \"colorscale\": {\"diverging\": [[0, \"#8e0152\"], [0.1, \"#c51b7d\"], [0.2, \"#de77ae\"], [0.3, \"#f1b6da\"], [0.4, \"#fde0ef\"], [0.5, \"#f7f7f7\"], [0.6, \"#e6f5d0\"], [0.7, \"#b8e186\"], [0.8, \"#7fbc41\"], [0.9, \"#4d9221\"], [1, \"#276419\"]], \"sequential\": [[0.0, \"#0d0887\"], [0.1111111111111111, \"#46039f\"], [0.2222222222222222, \"#7201a8\"], [0.3333333333333333, \"#9c179e\"], [0.4444444444444444, \"#bd3786\"], [0.5555555555555556, \"#d8576b\"], [0.6666666666666666, \"#ed7953\"], [0.7777777777777778, \"#fb9f3a\"], [0.8888888888888888, \"#fdca26\"], [1.0, \"#f0f921\"]], \"sequentialminus\": [[0.0, \"#0d0887\"], [0.1111111111111111, \"#46039f\"], [0.2222222222222222, \"#7201a8\"], [0.3333333333333333, \"#9c179e\"], [0.4444444444444444, \"#bd3786\"], [0.5555555555555556, \"#d8576b\"], [0.6666666666666666, \"#ed7953\"], [0.7777777777777778, \"#fb9f3a\"], [0.8888888888888888, \"#fdca26\"], [1.0, \"#f0f921\"]]}, \"colorway\": [\"#636efa\", \"#EF553B\", \"#00cc96\", \"#ab63fa\", \"#FFA15A\", \"#19d3f3\", \"#FF6692\", \"#B6E880\", \"#FF97FF\", \"#FECB52\"], \"font\": {\"color\": \"#2a3f5f\"}, \"geo\": {\"bgcolor\": \"white\", \"lakecolor\": \"white\", \"landcolor\": \"#E5ECF6\", \"showlakes\": true, \"showland\": true, \"subunitcolor\": \"white\"}, \"hoverlabel\": {\"align\": \"left\"}, \"hovermode\": \"closest\", \"mapbox\": {\"style\": \"light\"}, \"paper_bgcolor\": \"white\", \"plot_bgcolor\": \"#E5ECF6\", \"polar\": {\"angularaxis\": {\"gridcolor\": \"white\", \"linecolor\": \"white\", \"ticks\": \"\"}, \"bgcolor\": \"#E5ECF6\", \"radialaxis\": {\"gridcolor\": \"white\", \"linecolor\": \"white\", \"ticks\": \"\"}}, \"scene\": {\"xaxis\": {\"backgroundcolor\": \"#E5ECF6\", \"gridcolor\": \"white\", \"gridwidth\": 2, \"linecolor\": \"white\", \"showbackground\": true, \"ticks\": \"\", \"zerolinecolor\": \"white\"}, \"yaxis\": {\"backgroundcolor\": \"#E5ECF6\", \"gridcolor\": \"white\", \"gridwidth\": 2, \"linecolor\": \"white\", \"showbackground\": true, \"ticks\": \"\", \"zerolinecolor\": \"white\"}, \"zaxis\": {\"backgroundcolor\": \"#E5ECF6\", \"gridcolor\": \"white\", \"gridwidth\": 2, \"linecolor\": \"white\", \"showbackground\": true, \"ticks\": \"\", \"zerolinecolor\": \"white\"}}, \"shapedefaults\": {\"line\": {\"color\": \"#2a3f5f\"}}, \"ternary\": {\"aaxis\": {\"gridcolor\": \"white\", \"linecolor\": \"white\", \"ticks\": \"\"}, \"baxis\": {\"gridcolor\": \"white\", \"linecolor\": \"white\", \"ticks\": \"\"}, \"bgcolor\": \"#E5ECF6\", \"caxis\": {\"gridcolor\": \"white\", \"linecolor\": \"white\", \"ticks\": \"\"}}, \"title\": {\"x\": 0.05}, \"xaxis\": {\"automargin\": true, \"gridcolor\": \"white\", \"linecolor\": \"white\", \"ticks\": \"\", \"zerolinecolor\": \"white\", \"zerolinewidth\": 2}, \"yaxis\": {\"automargin\": true, \"gridcolor\": \"white\", \"linecolor\": \"white\", \"ticks\": \"\", \"zerolinecolor\": \"white\", \"zerolinewidth\": 2}}}, \"title\": {\"font\": {\"color\": \"#4D5663\"}}, \"xaxis\": {\"gridcolor\": \"#E1E5ED\", \"showgrid\": true, \"tickfont\": {\"color\": \"#4D5663\"}, \"title\": {\"font\": {\"color\": \"#4D5663\"}, \"text\": \"\"}, \"zerolinecolor\": \"#E1E5ED\"}, \"yaxis\": {\"gridcolor\": \"#E1E5ED\", \"showgrid\": true, \"tickfont\": {\"color\": \"#4D5663\"}, \"title\": {\"font\": {\"color\": \"#4D5663\"}, \"text\": \"\"}, \"zerolinecolor\": \"#E1E5ED\"}},\n",
       "                        {\"showLink\": true, \"linkText\": \"Export to plot.ly\", \"plotlyServerURL\": \"https://plot.ly\", \"responsive\": true}\n",
       "                    ).then(function(){\n",
       "                            \n",
       "var gd = document.getElementById('bef10a86-b38e-46ac-8b95-c131081f8f62');\n",
       "var x = new MutationObserver(function (mutations, observer) {{\n",
       "        var display = window.getComputedStyle(gd).display;\n",
       "        if (!display || display === 'none') {{\n",
       "            console.log([gd, 'removed!']);\n",
       "            Plotly.purge(gd);\n",
       "            observer.disconnect();\n",
       "        }}\n",
       "}});\n",
       "\n",
       "// Listen for the removal of the full notebook cells\n",
       "var notebookContainer = gd.closest('#notebook-container');\n",
       "if (notebookContainer) {{\n",
       "    x.observe(notebookContainer, {childList: true});\n",
       "}}\n",
       "\n",
       "// Listen for the clearing of the current output cell\n",
       "var outputEl = gd.closest('.output');\n",
       "if (outputEl) {{\n",
       "    x.observe(outputEl, {childList: true});\n",
       "}}\n",
       "\n",
       "                        })\n",
       "                };\n",
       "                });\n",
       "            </script>\n",
       "        </div>"
      ]
     },
     "metadata": {},
     "output_type": "display_data"
    }
   ],
   "source": [
    "pandas_plot(list_of_results=results, column_to_group_by='release_year')"
   ]
  },
  {
   "cell_type": "markdown",
   "metadata": {},
   "source": [
    "We can make this into a line graph "
   ]
  },
  {
   "cell_type": "code",
   "execution_count": 88,
   "metadata": {},
   "outputs": [
    {
     "data": {
      "application/vnd.plotly.v1+json": {
       "config": {
        "linkText": "Export to plot.ly",
        "plotlyServerURL": "https://plot.ly",
        "showLink": true
       },
       "data": [
        {
         "line": {
          "color": "rgba(255, 153, 51, 1.0)",
          "dash": "solid",
          "shape": "linear",
          "width": 1.3
         },
         "mode": "lines",
         "name": "pdb_id",
         "text": "",
         "type": "scatter",
         "x": [
          1990,
          1992,
          1995,
          1998,
          2002,
          2003,
          2004,
          2005,
          2007,
          2009,
          2010,
          2011,
          2012,
          2013,
          2014,
          2015,
          2017,
          2018,
          2019
         ],
         "y": [
          2,
          1,
          2,
          6,
          2,
          5,
          3,
          3,
          2,
          13,
          7,
          7,
          1,
          8,
          1,
          2,
          10,
          2,
          2
         ]
        }
       ],
       "layout": {
        "legend": {
         "bgcolor": "#F5F6F9",
         "font": {
          "color": "#4D5663"
         }
        },
        "paper_bgcolor": "#F5F6F9",
        "plot_bgcolor": "#F5F6F9",
        "template": {
         "data": {
          "bar": [
           {
            "error_x": {
             "color": "#2a3f5f"
            },
            "error_y": {
             "color": "#2a3f5f"
            },
            "marker": {
             "line": {
              "color": "#E5ECF6",
              "width": 0.5
             }
            },
            "type": "bar"
           }
          ],
          "barpolar": [
           {
            "marker": {
             "line": {
              "color": "#E5ECF6",
              "width": 0.5
             }
            },
            "type": "barpolar"
           }
          ],
          "carpet": [
           {
            "aaxis": {
             "endlinecolor": "#2a3f5f",
             "gridcolor": "white",
             "linecolor": "white",
             "minorgridcolor": "white",
             "startlinecolor": "#2a3f5f"
            },
            "baxis": {
             "endlinecolor": "#2a3f5f",
             "gridcolor": "white",
             "linecolor": "white",
             "minorgridcolor": "white",
             "startlinecolor": "#2a3f5f"
            },
            "type": "carpet"
           }
          ],
          "choropleth": [
           {
            "colorbar": {
             "outlinewidth": 0,
             "ticks": ""
            },
            "type": "choropleth"
           }
          ],
          "contour": [
           {
            "colorbar": {
             "outlinewidth": 0,
             "ticks": ""
            },
            "colorscale": [
             [
              0,
              "#0d0887"
             ],
             [
              0.1111111111111111,
              "#46039f"
             ],
             [
              0.2222222222222222,
              "#7201a8"
             ],
             [
              0.3333333333333333,
              "#9c179e"
             ],
             [
              0.4444444444444444,
              "#bd3786"
             ],
             [
              0.5555555555555556,
              "#d8576b"
             ],
             [
              0.6666666666666666,
              "#ed7953"
             ],
             [
              0.7777777777777778,
              "#fb9f3a"
             ],
             [
              0.8888888888888888,
              "#fdca26"
             ],
             [
              1,
              "#f0f921"
             ]
            ],
            "type": "contour"
           }
          ],
          "contourcarpet": [
           {
            "colorbar": {
             "outlinewidth": 0,
             "ticks": ""
            },
            "type": "contourcarpet"
           }
          ],
          "heatmap": [
           {
            "colorbar": {
             "outlinewidth": 0,
             "ticks": ""
            },
            "colorscale": [
             [
              0,
              "#0d0887"
             ],
             [
              0.1111111111111111,
              "#46039f"
             ],
             [
              0.2222222222222222,
              "#7201a8"
             ],
             [
              0.3333333333333333,
              "#9c179e"
             ],
             [
              0.4444444444444444,
              "#bd3786"
             ],
             [
              0.5555555555555556,
              "#d8576b"
             ],
             [
              0.6666666666666666,
              "#ed7953"
             ],
             [
              0.7777777777777778,
              "#fb9f3a"
             ],
             [
              0.8888888888888888,
              "#fdca26"
             ],
             [
              1,
              "#f0f921"
             ]
            ],
            "type": "heatmap"
           }
          ],
          "heatmapgl": [
           {
            "colorbar": {
             "outlinewidth": 0,
             "ticks": ""
            },
            "colorscale": [
             [
              0,
              "#0d0887"
             ],
             [
              0.1111111111111111,
              "#46039f"
             ],
             [
              0.2222222222222222,
              "#7201a8"
             ],
             [
              0.3333333333333333,
              "#9c179e"
             ],
             [
              0.4444444444444444,
              "#bd3786"
             ],
             [
              0.5555555555555556,
              "#d8576b"
             ],
             [
              0.6666666666666666,
              "#ed7953"
             ],
             [
              0.7777777777777778,
              "#fb9f3a"
             ],
             [
              0.8888888888888888,
              "#fdca26"
             ],
             [
              1,
              "#f0f921"
             ]
            ],
            "type": "heatmapgl"
           }
          ],
          "histogram": [
           {
            "marker": {
             "colorbar": {
              "outlinewidth": 0,
              "ticks": ""
             }
            },
            "type": "histogram"
           }
          ],
          "histogram2d": [
           {
            "colorbar": {
             "outlinewidth": 0,
             "ticks": ""
            },
            "colorscale": [
             [
              0,
              "#0d0887"
             ],
             [
              0.1111111111111111,
              "#46039f"
             ],
             [
              0.2222222222222222,
              "#7201a8"
             ],
             [
              0.3333333333333333,
              "#9c179e"
             ],
             [
              0.4444444444444444,
              "#bd3786"
             ],
             [
              0.5555555555555556,
              "#d8576b"
             ],
             [
              0.6666666666666666,
              "#ed7953"
             ],
             [
              0.7777777777777778,
              "#fb9f3a"
             ],
             [
              0.8888888888888888,
              "#fdca26"
             ],
             [
              1,
              "#f0f921"
             ]
            ],
            "type": "histogram2d"
           }
          ],
          "histogram2dcontour": [
           {
            "colorbar": {
             "outlinewidth": 0,
             "ticks": ""
            },
            "colorscale": [
             [
              0,
              "#0d0887"
             ],
             [
              0.1111111111111111,
              "#46039f"
             ],
             [
              0.2222222222222222,
              "#7201a8"
             ],
             [
              0.3333333333333333,
              "#9c179e"
             ],
             [
              0.4444444444444444,
              "#bd3786"
             ],
             [
              0.5555555555555556,
              "#d8576b"
             ],
             [
              0.6666666666666666,
              "#ed7953"
             ],
             [
              0.7777777777777778,
              "#fb9f3a"
             ],
             [
              0.8888888888888888,
              "#fdca26"
             ],
             [
              1,
              "#f0f921"
             ]
            ],
            "type": "histogram2dcontour"
           }
          ],
          "mesh3d": [
           {
            "colorbar": {
             "outlinewidth": 0,
             "ticks": ""
            },
            "type": "mesh3d"
           }
          ],
          "parcoords": [
           {
            "line": {
             "colorbar": {
              "outlinewidth": 0,
              "ticks": ""
             }
            },
            "type": "parcoords"
           }
          ],
          "scatter": [
           {
            "marker": {
             "colorbar": {
              "outlinewidth": 0,
              "ticks": ""
             }
            },
            "type": "scatter"
           }
          ],
          "scatter3d": [
           {
            "line": {
             "colorbar": {
              "outlinewidth": 0,
              "ticks": ""
             }
            },
            "marker": {
             "colorbar": {
              "outlinewidth": 0,
              "ticks": ""
             }
            },
            "type": "scatter3d"
           }
          ],
          "scattercarpet": [
           {
            "marker": {
             "colorbar": {
              "outlinewidth": 0,
              "ticks": ""
             }
            },
            "type": "scattercarpet"
           }
          ],
          "scattergeo": [
           {
            "marker": {
             "colorbar": {
              "outlinewidth": 0,
              "ticks": ""
             }
            },
            "type": "scattergeo"
           }
          ],
          "scattergl": [
           {
            "marker": {
             "colorbar": {
              "outlinewidth": 0,
              "ticks": ""
             }
            },
            "type": "scattergl"
           }
          ],
          "scattermapbox": [
           {
            "marker": {
             "colorbar": {
              "outlinewidth": 0,
              "ticks": ""
             }
            },
            "type": "scattermapbox"
           }
          ],
          "scatterpolar": [
           {
            "marker": {
             "colorbar": {
              "outlinewidth": 0,
              "ticks": ""
             }
            },
            "type": "scatterpolar"
           }
          ],
          "scatterpolargl": [
           {
            "marker": {
             "colorbar": {
              "outlinewidth": 0,
              "ticks": ""
             }
            },
            "type": "scatterpolargl"
           }
          ],
          "scatterternary": [
           {
            "marker": {
             "colorbar": {
              "outlinewidth": 0,
              "ticks": ""
             }
            },
            "type": "scatterternary"
           }
          ],
          "surface": [
           {
            "colorbar": {
             "outlinewidth": 0,
             "ticks": ""
            },
            "colorscale": [
             [
              0,
              "#0d0887"
             ],
             [
              0.1111111111111111,
              "#46039f"
             ],
             [
              0.2222222222222222,
              "#7201a8"
             ],
             [
              0.3333333333333333,
              "#9c179e"
             ],
             [
              0.4444444444444444,
              "#bd3786"
             ],
             [
              0.5555555555555556,
              "#d8576b"
             ],
             [
              0.6666666666666666,
              "#ed7953"
             ],
             [
              0.7777777777777778,
              "#fb9f3a"
             ],
             [
              0.8888888888888888,
              "#fdca26"
             ],
             [
              1,
              "#f0f921"
             ]
            ],
            "type": "surface"
           }
          ],
          "table": [
           {
            "cells": {
             "fill": {
              "color": "#EBF0F8"
             },
             "line": {
              "color": "white"
             }
            },
            "header": {
             "fill": {
              "color": "#C8D4E3"
             },
             "line": {
              "color": "white"
             }
            },
            "type": "table"
           }
          ]
         },
         "layout": {
          "annotationdefaults": {
           "arrowcolor": "#2a3f5f",
           "arrowhead": 0,
           "arrowwidth": 1
          },
          "colorscale": {
           "diverging": [
            [
             0,
             "#8e0152"
            ],
            [
             0.1,
             "#c51b7d"
            ],
            [
             0.2,
             "#de77ae"
            ],
            [
             0.3,
             "#f1b6da"
            ],
            [
             0.4,
             "#fde0ef"
            ],
            [
             0.5,
             "#f7f7f7"
            ],
            [
             0.6,
             "#e6f5d0"
            ],
            [
             0.7,
             "#b8e186"
            ],
            [
             0.8,
             "#7fbc41"
            ],
            [
             0.9,
             "#4d9221"
            ],
            [
             1,
             "#276419"
            ]
           ],
           "sequential": [
            [
             0,
             "#0d0887"
            ],
            [
             0.1111111111111111,
             "#46039f"
            ],
            [
             0.2222222222222222,
             "#7201a8"
            ],
            [
             0.3333333333333333,
             "#9c179e"
            ],
            [
             0.4444444444444444,
             "#bd3786"
            ],
            [
             0.5555555555555556,
             "#d8576b"
            ],
            [
             0.6666666666666666,
             "#ed7953"
            ],
            [
             0.7777777777777778,
             "#fb9f3a"
            ],
            [
             0.8888888888888888,
             "#fdca26"
            ],
            [
             1,
             "#f0f921"
            ]
           ],
           "sequentialminus": [
            [
             0,
             "#0d0887"
            ],
            [
             0.1111111111111111,
             "#46039f"
            ],
            [
             0.2222222222222222,
             "#7201a8"
            ],
            [
             0.3333333333333333,
             "#9c179e"
            ],
            [
             0.4444444444444444,
             "#bd3786"
            ],
            [
             0.5555555555555556,
             "#d8576b"
            ],
            [
             0.6666666666666666,
             "#ed7953"
            ],
            [
             0.7777777777777778,
             "#fb9f3a"
            ],
            [
             0.8888888888888888,
             "#fdca26"
            ],
            [
             1,
             "#f0f921"
            ]
           ]
          },
          "colorway": [
           "#636efa",
           "#EF553B",
           "#00cc96",
           "#ab63fa",
           "#FFA15A",
           "#19d3f3",
           "#FF6692",
           "#B6E880",
           "#FF97FF",
           "#FECB52"
          ],
          "font": {
           "color": "#2a3f5f"
          },
          "geo": {
           "bgcolor": "white",
           "lakecolor": "white",
           "landcolor": "#E5ECF6",
           "showlakes": true,
           "showland": true,
           "subunitcolor": "white"
          },
          "hoverlabel": {
           "align": "left"
          },
          "hovermode": "closest",
          "mapbox": {
           "style": "light"
          },
          "paper_bgcolor": "white",
          "plot_bgcolor": "#E5ECF6",
          "polar": {
           "angularaxis": {
            "gridcolor": "white",
            "linecolor": "white",
            "ticks": ""
           },
           "bgcolor": "#E5ECF6",
           "radialaxis": {
            "gridcolor": "white",
            "linecolor": "white",
            "ticks": ""
           }
          },
          "scene": {
           "xaxis": {
            "backgroundcolor": "#E5ECF6",
            "gridcolor": "white",
            "gridwidth": 2,
            "linecolor": "white",
            "showbackground": true,
            "ticks": "",
            "zerolinecolor": "white"
           },
           "yaxis": {
            "backgroundcolor": "#E5ECF6",
            "gridcolor": "white",
            "gridwidth": 2,
            "linecolor": "white",
            "showbackground": true,
            "ticks": "",
            "zerolinecolor": "white"
           },
           "zaxis": {
            "backgroundcolor": "#E5ECF6",
            "gridcolor": "white",
            "gridwidth": 2,
            "linecolor": "white",
            "showbackground": true,
            "ticks": "",
            "zerolinecolor": "white"
           }
          },
          "shapedefaults": {
           "line": {
            "color": "#2a3f5f"
           }
          },
          "ternary": {
           "aaxis": {
            "gridcolor": "white",
            "linecolor": "white",
            "ticks": ""
           },
           "baxis": {
            "gridcolor": "white",
            "linecolor": "white",
            "ticks": ""
           },
           "bgcolor": "#E5ECF6",
           "caxis": {
            "gridcolor": "white",
            "linecolor": "white",
            "ticks": ""
           }
          },
          "title": {
           "x": 0.05
          },
          "xaxis": {
           "automargin": true,
           "gridcolor": "white",
           "linecolor": "white",
           "ticks": "",
           "zerolinecolor": "white",
           "zerolinewidth": 2
          },
          "yaxis": {
           "automargin": true,
           "gridcolor": "white",
           "linecolor": "white",
           "ticks": "",
           "zerolinecolor": "white",
           "zerolinewidth": 2
          }
         }
        },
        "title": {
         "font": {
          "color": "#4D5663"
         }
        },
        "xaxis": {
         "gridcolor": "#E1E5ED",
         "showgrid": true,
         "tickfont": {
          "color": "#4D5663"
         },
         "title": {
          "font": {
           "color": "#4D5663"
          },
          "text": ""
         },
         "zerolinecolor": "#E1E5ED"
        },
        "yaxis": {
         "gridcolor": "#E1E5ED",
         "showgrid": true,
         "tickfont": {
          "color": "#4D5663"
         },
         "title": {
          "font": {
           "color": "#4D5663"
          },
          "text": ""
         },
         "zerolinecolor": "#E1E5ED"
        }
       }
      },
      "text/html": [
       "<div>\n",
       "        \n",
       "        \n",
       "            <div id=\"7a29e2ae-4e51-4129-80bd-892b76512f4f\" class=\"plotly-graph-div\" style=\"height:525px; width:100%;\"></div>\n",
       "            <script type=\"text/javascript\">\n",
       "                require([\"plotly\"], function(Plotly) {\n",
       "                    window.PLOTLYENV=window.PLOTLYENV || {};\n",
       "                    window.PLOTLYENV.BASE_URL='https://plot.ly';\n",
       "                    \n",
       "                if (document.getElementById(\"7a29e2ae-4e51-4129-80bd-892b76512f4f\")) {\n",
       "                    Plotly.newPlot(\n",
       "                        '7a29e2ae-4e51-4129-80bd-892b76512f4f',\n",
       "                        [{\"line\": {\"color\": \"rgba(255, 153, 51, 1.0)\", \"dash\": \"solid\", \"shape\": \"linear\", \"width\": 1.3}, \"mode\": \"lines\", \"name\": \"pdb_id\", \"text\": \"\", \"type\": \"scatter\", \"x\": [1990, 1992, 1995, 1998, 2002, 2003, 2004, 2005, 2007, 2009, 2010, 2011, 2012, 2013, 2014, 2015, 2017, 2018, 2019], \"y\": [2, 1, 2, 6, 2, 5, 3, 3, 2, 13, 7, 7, 1, 8, 1, 2, 10, 2, 2]}],\n",
       "                        {\"legend\": {\"bgcolor\": \"#F5F6F9\", \"font\": {\"color\": \"#4D5663\"}}, \"paper_bgcolor\": \"#F5F6F9\", \"plot_bgcolor\": \"#F5F6F9\", \"template\": {\"data\": {\"bar\": [{\"error_x\": {\"color\": \"#2a3f5f\"}, \"error_y\": {\"color\": \"#2a3f5f\"}, \"marker\": {\"line\": {\"color\": \"#E5ECF6\", \"width\": 0.5}}, \"type\": \"bar\"}], \"barpolar\": [{\"marker\": {\"line\": {\"color\": \"#E5ECF6\", \"width\": 0.5}}, \"type\": \"barpolar\"}], \"carpet\": [{\"aaxis\": {\"endlinecolor\": \"#2a3f5f\", \"gridcolor\": \"white\", \"linecolor\": \"white\", \"minorgridcolor\": \"white\", \"startlinecolor\": \"#2a3f5f\"}, \"baxis\": {\"endlinecolor\": \"#2a3f5f\", \"gridcolor\": \"white\", \"linecolor\": \"white\", \"minorgridcolor\": \"white\", \"startlinecolor\": \"#2a3f5f\"}, \"type\": \"carpet\"}], \"choropleth\": [{\"colorbar\": {\"outlinewidth\": 0, \"ticks\": \"\"}, \"type\": \"choropleth\"}], \"contour\": [{\"colorbar\": {\"outlinewidth\": 0, \"ticks\": \"\"}, \"colorscale\": [[0.0, \"#0d0887\"], [0.1111111111111111, \"#46039f\"], [0.2222222222222222, \"#7201a8\"], [0.3333333333333333, \"#9c179e\"], [0.4444444444444444, \"#bd3786\"], [0.5555555555555556, \"#d8576b\"], [0.6666666666666666, \"#ed7953\"], [0.7777777777777778, \"#fb9f3a\"], [0.8888888888888888, \"#fdca26\"], [1.0, \"#f0f921\"]], \"type\": \"contour\"}], \"contourcarpet\": [{\"colorbar\": {\"outlinewidth\": 0, \"ticks\": \"\"}, \"type\": \"contourcarpet\"}], \"heatmap\": [{\"colorbar\": {\"outlinewidth\": 0, \"ticks\": \"\"}, \"colorscale\": [[0.0, \"#0d0887\"], [0.1111111111111111, \"#46039f\"], [0.2222222222222222, \"#7201a8\"], [0.3333333333333333, \"#9c179e\"], [0.4444444444444444, \"#bd3786\"], [0.5555555555555556, \"#d8576b\"], [0.6666666666666666, \"#ed7953\"], [0.7777777777777778, \"#fb9f3a\"], [0.8888888888888888, \"#fdca26\"], [1.0, \"#f0f921\"]], \"type\": \"heatmap\"}], \"heatmapgl\": [{\"colorbar\": {\"outlinewidth\": 0, \"ticks\": \"\"}, \"colorscale\": [[0.0, \"#0d0887\"], [0.1111111111111111, \"#46039f\"], [0.2222222222222222, \"#7201a8\"], [0.3333333333333333, \"#9c179e\"], [0.4444444444444444, \"#bd3786\"], [0.5555555555555556, \"#d8576b\"], [0.6666666666666666, \"#ed7953\"], [0.7777777777777778, \"#fb9f3a\"], [0.8888888888888888, \"#fdca26\"], [1.0, \"#f0f921\"]], \"type\": \"heatmapgl\"}], \"histogram\": [{\"marker\": {\"colorbar\": {\"outlinewidth\": 0, \"ticks\": \"\"}}, \"type\": \"histogram\"}], \"histogram2d\": [{\"colorbar\": {\"outlinewidth\": 0, \"ticks\": \"\"}, \"colorscale\": [[0.0, \"#0d0887\"], [0.1111111111111111, \"#46039f\"], [0.2222222222222222, \"#7201a8\"], [0.3333333333333333, \"#9c179e\"], [0.4444444444444444, \"#bd3786\"], [0.5555555555555556, \"#d8576b\"], [0.6666666666666666, \"#ed7953\"], [0.7777777777777778, \"#fb9f3a\"], [0.8888888888888888, \"#fdca26\"], [1.0, \"#f0f921\"]], \"type\": \"histogram2d\"}], \"histogram2dcontour\": [{\"colorbar\": {\"outlinewidth\": 0, \"ticks\": \"\"}, \"colorscale\": [[0.0, \"#0d0887\"], [0.1111111111111111, \"#46039f\"], [0.2222222222222222, \"#7201a8\"], [0.3333333333333333, \"#9c179e\"], [0.4444444444444444, \"#bd3786\"], [0.5555555555555556, \"#d8576b\"], [0.6666666666666666, \"#ed7953\"], [0.7777777777777778, \"#fb9f3a\"], [0.8888888888888888, \"#fdca26\"], [1.0, \"#f0f921\"]], \"type\": \"histogram2dcontour\"}], \"mesh3d\": [{\"colorbar\": {\"outlinewidth\": 0, \"ticks\": \"\"}, \"type\": \"mesh3d\"}], \"parcoords\": [{\"line\": {\"colorbar\": {\"outlinewidth\": 0, \"ticks\": \"\"}}, \"type\": \"parcoords\"}], \"scatter\": [{\"marker\": {\"colorbar\": {\"outlinewidth\": 0, \"ticks\": \"\"}}, \"type\": \"scatter\"}], \"scatter3d\": [{\"line\": {\"colorbar\": {\"outlinewidth\": 0, \"ticks\": \"\"}}, \"marker\": {\"colorbar\": {\"outlinewidth\": 0, \"ticks\": \"\"}}, \"type\": \"scatter3d\"}], \"scattercarpet\": [{\"marker\": {\"colorbar\": {\"outlinewidth\": 0, \"ticks\": \"\"}}, \"type\": \"scattercarpet\"}], \"scattergeo\": [{\"marker\": {\"colorbar\": {\"outlinewidth\": 0, \"ticks\": \"\"}}, \"type\": \"scattergeo\"}], \"scattergl\": [{\"marker\": {\"colorbar\": {\"outlinewidth\": 0, \"ticks\": \"\"}}, \"type\": \"scattergl\"}], \"scattermapbox\": [{\"marker\": {\"colorbar\": {\"outlinewidth\": 0, \"ticks\": \"\"}}, \"type\": \"scattermapbox\"}], \"scatterpolar\": [{\"marker\": {\"colorbar\": {\"outlinewidth\": 0, \"ticks\": \"\"}}, \"type\": \"scatterpolar\"}], \"scatterpolargl\": [{\"marker\": {\"colorbar\": {\"outlinewidth\": 0, \"ticks\": \"\"}}, \"type\": \"scatterpolargl\"}], \"scatterternary\": [{\"marker\": {\"colorbar\": {\"outlinewidth\": 0, \"ticks\": \"\"}}, \"type\": \"scatterternary\"}], \"surface\": [{\"colorbar\": {\"outlinewidth\": 0, \"ticks\": \"\"}, \"colorscale\": [[0.0, \"#0d0887\"], [0.1111111111111111, \"#46039f\"], [0.2222222222222222, \"#7201a8\"], [0.3333333333333333, \"#9c179e\"], [0.4444444444444444, \"#bd3786\"], [0.5555555555555556, \"#d8576b\"], [0.6666666666666666, \"#ed7953\"], [0.7777777777777778, \"#fb9f3a\"], [0.8888888888888888, \"#fdca26\"], [1.0, \"#f0f921\"]], \"type\": \"surface\"}], \"table\": [{\"cells\": {\"fill\": {\"color\": \"#EBF0F8\"}, \"line\": {\"color\": \"white\"}}, \"header\": {\"fill\": {\"color\": \"#C8D4E3\"}, \"line\": {\"color\": \"white\"}}, \"type\": \"table\"}]}, \"layout\": {\"annotationdefaults\": {\"arrowcolor\": \"#2a3f5f\", \"arrowhead\": 0, \"arrowwidth\": 1}, \"colorscale\": {\"diverging\": [[0, \"#8e0152\"], [0.1, \"#c51b7d\"], [0.2, \"#de77ae\"], [0.3, \"#f1b6da\"], [0.4, \"#fde0ef\"], [0.5, \"#f7f7f7\"], [0.6, \"#e6f5d0\"], [0.7, \"#b8e186\"], [0.8, \"#7fbc41\"], [0.9, \"#4d9221\"], [1, \"#276419\"]], \"sequential\": [[0.0, \"#0d0887\"], [0.1111111111111111, \"#46039f\"], [0.2222222222222222, \"#7201a8\"], [0.3333333333333333, \"#9c179e\"], [0.4444444444444444, \"#bd3786\"], [0.5555555555555556, \"#d8576b\"], [0.6666666666666666, \"#ed7953\"], [0.7777777777777778, \"#fb9f3a\"], [0.8888888888888888, \"#fdca26\"], [1.0, \"#f0f921\"]], \"sequentialminus\": [[0.0, \"#0d0887\"], [0.1111111111111111, \"#46039f\"], [0.2222222222222222, \"#7201a8\"], [0.3333333333333333, \"#9c179e\"], [0.4444444444444444, \"#bd3786\"], [0.5555555555555556, \"#d8576b\"], [0.6666666666666666, \"#ed7953\"], [0.7777777777777778, \"#fb9f3a\"], [0.8888888888888888, \"#fdca26\"], [1.0, \"#f0f921\"]]}, \"colorway\": [\"#636efa\", \"#EF553B\", \"#00cc96\", \"#ab63fa\", \"#FFA15A\", \"#19d3f3\", \"#FF6692\", \"#B6E880\", \"#FF97FF\", \"#FECB52\"], \"font\": {\"color\": \"#2a3f5f\"}, \"geo\": {\"bgcolor\": \"white\", \"lakecolor\": \"white\", \"landcolor\": \"#E5ECF6\", \"showlakes\": true, \"showland\": true, \"subunitcolor\": \"white\"}, \"hoverlabel\": {\"align\": \"left\"}, \"hovermode\": \"closest\", \"mapbox\": {\"style\": \"light\"}, \"paper_bgcolor\": \"white\", \"plot_bgcolor\": \"#E5ECF6\", \"polar\": {\"angularaxis\": {\"gridcolor\": \"white\", \"linecolor\": \"white\", \"ticks\": \"\"}, \"bgcolor\": \"#E5ECF6\", \"radialaxis\": {\"gridcolor\": \"white\", \"linecolor\": \"white\", \"ticks\": \"\"}}, \"scene\": {\"xaxis\": {\"backgroundcolor\": \"#E5ECF6\", \"gridcolor\": \"white\", \"gridwidth\": 2, \"linecolor\": \"white\", \"showbackground\": true, \"ticks\": \"\", \"zerolinecolor\": \"white\"}, \"yaxis\": {\"backgroundcolor\": \"#E5ECF6\", \"gridcolor\": \"white\", \"gridwidth\": 2, \"linecolor\": \"white\", \"showbackground\": true, \"ticks\": \"\", \"zerolinecolor\": \"white\"}, \"zaxis\": {\"backgroundcolor\": \"#E5ECF6\", \"gridcolor\": \"white\", \"gridwidth\": 2, \"linecolor\": \"white\", \"showbackground\": true, \"ticks\": \"\", \"zerolinecolor\": \"white\"}}, \"shapedefaults\": {\"line\": {\"color\": \"#2a3f5f\"}}, \"ternary\": {\"aaxis\": {\"gridcolor\": \"white\", \"linecolor\": \"white\", \"ticks\": \"\"}, \"baxis\": {\"gridcolor\": \"white\", \"linecolor\": \"white\", \"ticks\": \"\"}, \"bgcolor\": \"#E5ECF6\", \"caxis\": {\"gridcolor\": \"white\", \"linecolor\": \"white\", \"ticks\": \"\"}}, \"title\": {\"x\": 0.05}, \"xaxis\": {\"automargin\": true, \"gridcolor\": \"white\", \"linecolor\": \"white\", \"ticks\": \"\", \"zerolinecolor\": \"white\", \"zerolinewidth\": 2}, \"yaxis\": {\"automargin\": true, \"gridcolor\": \"white\", \"linecolor\": \"white\", \"ticks\": \"\", \"zerolinecolor\": \"white\", \"zerolinewidth\": 2}}}, \"title\": {\"font\": {\"color\": \"#4D5663\"}}, \"xaxis\": {\"gridcolor\": \"#E1E5ED\", \"showgrid\": true, \"tickfont\": {\"color\": \"#4D5663\"}, \"title\": {\"font\": {\"color\": \"#4D5663\"}, \"text\": \"\"}, \"zerolinecolor\": \"#E1E5ED\"}, \"yaxis\": {\"gridcolor\": \"#E1E5ED\", \"showgrid\": true, \"tickfont\": {\"color\": \"#4D5663\"}, \"title\": {\"font\": {\"color\": \"#4D5663\"}, \"text\": \"\"}, \"zerolinecolor\": \"#E1E5ED\"}},\n",
       "                        {\"showLink\": true, \"linkText\": \"Export to plot.ly\", \"plotlyServerURL\": \"https://plot.ly\", \"responsive\": true}\n",
       "                    ).then(function(){\n",
       "                            \n",
       "var gd = document.getElementById('7a29e2ae-4e51-4129-80bd-892b76512f4f');\n",
       "var x = new MutationObserver(function (mutations, observer) {{\n",
       "        var display = window.getComputedStyle(gd).display;\n",
       "        if (!display || display === 'none') {{\n",
       "            console.log([gd, 'removed!']);\n",
       "            Plotly.purge(gd);\n",
       "            observer.disconnect();\n",
       "        }}\n",
       "}});\n",
       "\n",
       "// Listen for the removal of the full notebook cells\n",
       "var notebookContainer = gd.closest('#notebook-container');\n",
       "if (notebookContainer) {{\n",
       "    x.observe(notebookContainer, {childList: true});\n",
       "}}\n",
       "\n",
       "// Listen for the clearing of the current output cell\n",
       "var outputEl = gd.closest('.output');\n",
       "if (outputEl) {{\n",
       "    x.observe(outputEl, {childList: true});\n",
       "}}\n",
       "\n",
       "                        })\n",
       "                };\n",
       "                });\n",
       "            </script>\n",
       "        </div>"
      ]
     },
     "metadata": {},
     "output_type": "display_data"
    }
   ],
   "source": [
    "pandas_plot(list_of_results=results, column_to_group_by='release_year', graph_type='line')"
   ]
  },
  {
   "cell_type": "markdown",
   "metadata": {},
   "source": [
    "Try changing the term you want to search for and see if you get interesting results."
   ]
  },
  {
   "cell_type": "markdown",
   "metadata": {},
   "source": [
    "## 7) searching for two terms at once\n",
    "\n",
    "It would be interesting to see how many PDB entries were solved by each experimental method per year. \n",
    "\n",
    "we can use the tag \"release_year\" to get the year of release of each entry\n",
    "\n",
    "We have to define a new function to group entries by two terms.\n",
    "\n",
    "When we do the search we have to filter the results by the terms we want to plot otherwise it takes too long to run. "
   ]
  },
  {
   "cell_type": "code",
   "execution_count": 91,
   "metadata": {},
   "outputs": [
    {
     "name": "stdout",
     "output_type": "stream",
     "text": [
      "https://www.ebi.ac.uk/pdbe/search/pdb/select?q=all_enzyme_names:Lysozyme&fl=beam_source_name,release_year,pdb_id&wt=json&rows=10000\n",
      "Number of results for Lysozyme: 1860\n"
     ]
    }
   ],
   "source": [
    "search_terms = {\"all_enzyme_names\":\"Lysozyme\",\n",
    "               } \n",
    "filter_results = ['beam_source_name','release_year', 'pdb_id']\n",
    "results = run_search(search_terms, filter_results, number_of_rows=10000)"
   ]
  },
  {
   "cell_type": "markdown",
   "metadata": {},
   "source": [
    "This will take a while as it will return lots of results. \n",
    "We can then define a function to group the results by two terms. "
   ]
  },
  {
   "cell_type": "code",
   "execution_count": 229,
   "metadata": {},
   "outputs": [],
   "source": [
    "def pandas_plot_multi_groupby(results, first_column_to_group_by, second_column_to_group_by, y_axis='pdb_id', graph_type='line'):\n",
    "    \n",
    "    df = pandas_dataset(results)\n",
    "    new_df = df.groupby([first_column_to_group_by, second_column_to_group_by])\n",
    "    ds = new_df.count().unstack().reset_index(first_column_to_group_by)\n",
    "    ds.iplot(x=first_column_to_group_by, y=y_axis, kind=graph_type)\n",
    "    \n",
    "def pandas_plot_multi_groupby_min(results, first_column_to_group_by, second_column_to_group_by, y_axis='pdb_id', graph_type='line', use_min=True):\n",
    "    \n",
    "    df = pandas_dataset(results)\n",
    "    new_df = df.groupby([first_column_to_group_by, second_column_to_group_by])\n",
    "    if use_min:\n",
    "        ds = new_df.min()\n",
    "    else:\n",
    "        ds = new_df.max()\n",
    "    print(ds)\n",
    "    #ds.plot(x=first_column_to_group_by, y=y_axis, kind=graph_type)"
   ]
  },
  {
   "cell_type": "code",
   "execution_count": 93,
   "metadata": {},
   "outputs": [
    {
     "data": {
      "application/vnd.plotly.v1+json": {
       "config": {
        "linkText": "Export to plot.ly",
        "plotlyServerURL": "https://plot.ly",
        "showLink": true
       },
       "data": [
        {
         "line": {
          "color": "rgba(255, 153, 51, 1.0)",
          "dash": "solid",
          "shape": "linear",
          "width": 1.3
         },
         "mode": "lines",
         "name": "Free-electron laser",
         "text": "",
         "type": "scatter",
         "x": [
          1995,
          1996,
          1997,
          1998,
          1999,
          2000,
          2001,
          2002,
          2003,
          2004,
          2005,
          2006,
          2007,
          2008,
          2009,
          2010,
          2011,
          2012,
          2013,
          2014,
          2015,
          2016,
          2017,
          2018,
          2019
         ],
         "y": [
          "",
          "",
          "",
          "",
          "",
          "",
          "",
          "",
          "",
          "",
          "",
          "",
          "",
          "",
          "",
          "",
          "",
          2,
          1,
          4,
          10,
          4,
          7,
          6,
          1
         ]
        },
        {
         "line": {
          "color": "rgba(55, 128, 191, 1.0)",
          "dash": "solid",
          "shape": "linear",
          "width": 1.3
         },
         "mode": "lines",
         "name": "LaB6 THERMOIONIC SOURCE",
         "text": "",
         "type": "scatter",
         "x": [
          1995,
          1996,
          1997,
          1998,
          1999,
          2000,
          2001,
          2002,
          2003,
          2004,
          2005,
          2006,
          2007,
          2008,
          2009,
          2010,
          2011,
          2012,
          2013,
          2014,
          2015,
          2016,
          2017,
          2018,
          2019
         ],
         "y": [
          "",
          "",
          "",
          "",
          "",
          "",
          "",
          "",
          "",
          "",
          "",
          "",
          "",
          "",
          "",
          "",
          "",
          "",
          "",
          "",
          "",
          "",
          "",
          "",
          1
         ]
        },
        {
         "line": {
          "color": "rgba(50, 171, 96, 1.0)",
          "dash": "solid",
          "shape": "linear",
          "width": 1.3
         },
         "mode": "lines",
         "name": "Nuclear reactor",
         "text": "",
         "type": "scatter",
         "x": [
          1995,
          1996,
          1997,
          1998,
          1999,
          2000,
          2001,
          2002,
          2003,
          2004,
          2005,
          2006,
          2007,
          2008,
          2009,
          2010,
          2011,
          2012,
          2013,
          2014,
          2015,
          2016,
          2017,
          2018,
          2019
         ],
         "y": [
          "",
          "",
          "",
          "",
          "",
          "",
          1,
          "",
          "",
          "",
          "",
          "",
          "",
          "",
          1,
          "",
          "",
          "",
          "",
          "",
          "",
          "",
          1,
          "",
          ""
         ]
        },
        {
         "line": {
          "color": "rgba(128, 0, 128, 1.0)",
          "dash": "solid",
          "shape": "linear",
          "width": 1.3
         },
         "mode": "lines",
         "name": "Nuclear reactor,Synchrotron",
         "text": "",
         "type": "scatter",
         "x": [
          1995,
          1996,
          1997,
          1998,
          1999,
          2000,
          2001,
          2002,
          2003,
          2004,
          2005,
          2006,
          2007,
          2008,
          2009,
          2010,
          2011,
          2012,
          2013,
          2014,
          2015,
          2016,
          2017,
          2018,
          2019
         ],
         "y": [
          "",
          "",
          "",
          "",
          "",
          "",
          "",
          "",
          "",
          "",
          "",
          "",
          "",
          "",
          "",
          "",
          "",
          "",
          "",
          "",
          "",
          "",
          1,
          "",
          ""
         ]
        },
        {
         "line": {
          "color": "rgba(219, 64, 82, 1.0)",
          "dash": "solid",
          "shape": "linear",
          "width": 1.3
         },
         "mode": "lines",
         "name": "Rotating anode",
         "text": "",
         "type": "scatter",
         "x": [
          1995,
          1996,
          1997,
          1998,
          1999,
          2000,
          2001,
          2002,
          2003,
          2004,
          2005,
          2006,
          2007,
          2008,
          2009,
          2010,
          2011,
          2012,
          2013,
          2014,
          2015,
          2016,
          2017,
          2018,
          2019
         ],
         "y": [
          2,
          2,
          23,
          61,
          69,
          74,
          51,
          32,
          28,
          19,
          9,
          10,
          13,
          25,
          26,
          14,
          15,
          19,
          27,
          32,
          14,
          20,
          24,
          13,
          6
         ]
        },
        {
         "line": {
          "color": "rgba(0, 128, 128, 1.0)",
          "dash": "solid",
          "shape": "linear",
          "width": 1.3
         },
         "mode": "lines",
         "name": "Rotating anode,Synchrotron",
         "text": "",
         "type": "scatter",
         "x": [
          1995,
          1996,
          1997,
          1998,
          1999,
          2000,
          2001,
          2002,
          2003,
          2004,
          2005,
          2006,
          2007,
          2008,
          2009,
          2010,
          2011,
          2012,
          2013,
          2014,
          2015,
          2016,
          2017,
          2018,
          2019
         ],
         "y": [
          "",
          "",
          "",
          "",
          "",
          "",
          "",
          "",
          "",
          "",
          "",
          "",
          1,
          "",
          "",
          "",
          "",
          "",
          "",
          "",
          "",
          "",
          "",
          "",
          ""
         ]
        },
        {
         "line": {
          "color": "rgba(255, 255, 51, 1.0)",
          "dash": "solid",
          "shape": "linear",
          "width": 1.3
         },
         "mode": "lines",
         "name": "Sealed tube",
         "text": "",
         "type": "scatter",
         "x": [
          1995,
          1996,
          1997,
          1998,
          1999,
          2000,
          2001,
          2002,
          2003,
          2004,
          2005,
          2006,
          2007,
          2008,
          2009,
          2010,
          2011,
          2012,
          2013,
          2014,
          2015,
          2016,
          2017,
          2018,
          2019
         ],
         "y": [
          "",
          "",
          "",
          "",
          "",
          "",
          "",
          "",
          "",
          "",
          "",
          "",
          1,
          1,
          "",
          1,
          1,
          "",
          "",
          "",
          "",
          6,
          1,
          "",
          4
         ]
        },
        {
         "line": {
          "color": "rgba(128, 128, 0, 1.0)",
          "dash": "solid",
          "shape": "linear",
          "width": 1.3
         },
         "mode": "lines",
         "name": "Synchrotron",
         "text": "",
         "type": "scatter",
         "x": [
          1995,
          1996,
          1997,
          1998,
          1999,
          2000,
          2001,
          2002,
          2003,
          2004,
          2005,
          2006,
          2007,
          2008,
          2009,
          2010,
          2011,
          2012,
          2013,
          2014,
          2015,
          2016,
          2017,
          2018,
          2019
         ],
         "y": [
          2,
          1,
          2,
          9,
          15,
          18,
          13,
          3,
          14,
          23,
          29,
          29,
          34,
          23,
          45,
          23,
          34,
          46,
          53,
          56,
          72,
          67,
          52,
          63,
          41
         ]
        }
       ],
       "layout": {
        "legend": {
         "bgcolor": "#F5F6F9",
         "font": {
          "color": "#4D5663"
         }
        },
        "paper_bgcolor": "#F5F6F9",
        "plot_bgcolor": "#F5F6F9",
        "template": {
         "data": {
          "bar": [
           {
            "error_x": {
             "color": "#2a3f5f"
            },
            "error_y": {
             "color": "#2a3f5f"
            },
            "marker": {
             "line": {
              "color": "#E5ECF6",
              "width": 0.5
             }
            },
            "type": "bar"
           }
          ],
          "barpolar": [
           {
            "marker": {
             "line": {
              "color": "#E5ECF6",
              "width": 0.5
             }
            },
            "type": "barpolar"
           }
          ],
          "carpet": [
           {
            "aaxis": {
             "endlinecolor": "#2a3f5f",
             "gridcolor": "white",
             "linecolor": "white",
             "minorgridcolor": "white",
             "startlinecolor": "#2a3f5f"
            },
            "baxis": {
             "endlinecolor": "#2a3f5f",
             "gridcolor": "white",
             "linecolor": "white",
             "minorgridcolor": "white",
             "startlinecolor": "#2a3f5f"
            },
            "type": "carpet"
           }
          ],
          "choropleth": [
           {
            "colorbar": {
             "outlinewidth": 0,
             "ticks": ""
            },
            "type": "choropleth"
           }
          ],
          "contour": [
           {
            "colorbar": {
             "outlinewidth": 0,
             "ticks": ""
            },
            "colorscale": [
             [
              0,
              "#0d0887"
             ],
             [
              0.1111111111111111,
              "#46039f"
             ],
             [
              0.2222222222222222,
              "#7201a8"
             ],
             [
              0.3333333333333333,
              "#9c179e"
             ],
             [
              0.4444444444444444,
              "#bd3786"
             ],
             [
              0.5555555555555556,
              "#d8576b"
             ],
             [
              0.6666666666666666,
              "#ed7953"
             ],
             [
              0.7777777777777778,
              "#fb9f3a"
             ],
             [
              0.8888888888888888,
              "#fdca26"
             ],
             [
              1,
              "#f0f921"
             ]
            ],
            "type": "contour"
           }
          ],
          "contourcarpet": [
           {
            "colorbar": {
             "outlinewidth": 0,
             "ticks": ""
            },
            "type": "contourcarpet"
           }
          ],
          "heatmap": [
           {
            "colorbar": {
             "outlinewidth": 0,
             "ticks": ""
            },
            "colorscale": [
             [
              0,
              "#0d0887"
             ],
             [
              0.1111111111111111,
              "#46039f"
             ],
             [
              0.2222222222222222,
              "#7201a8"
             ],
             [
              0.3333333333333333,
              "#9c179e"
             ],
             [
              0.4444444444444444,
              "#bd3786"
             ],
             [
              0.5555555555555556,
              "#d8576b"
             ],
             [
              0.6666666666666666,
              "#ed7953"
             ],
             [
              0.7777777777777778,
              "#fb9f3a"
             ],
             [
              0.8888888888888888,
              "#fdca26"
             ],
             [
              1,
              "#f0f921"
             ]
            ],
            "type": "heatmap"
           }
          ],
          "heatmapgl": [
           {
            "colorbar": {
             "outlinewidth": 0,
             "ticks": ""
            },
            "colorscale": [
             [
              0,
              "#0d0887"
             ],
             [
              0.1111111111111111,
              "#46039f"
             ],
             [
              0.2222222222222222,
              "#7201a8"
             ],
             [
              0.3333333333333333,
              "#9c179e"
             ],
             [
              0.4444444444444444,
              "#bd3786"
             ],
             [
              0.5555555555555556,
              "#d8576b"
             ],
             [
              0.6666666666666666,
              "#ed7953"
             ],
             [
              0.7777777777777778,
              "#fb9f3a"
             ],
             [
              0.8888888888888888,
              "#fdca26"
             ],
             [
              1,
              "#f0f921"
             ]
            ],
            "type": "heatmapgl"
           }
          ],
          "histogram": [
           {
            "marker": {
             "colorbar": {
              "outlinewidth": 0,
              "ticks": ""
             }
            },
            "type": "histogram"
           }
          ],
          "histogram2d": [
           {
            "colorbar": {
             "outlinewidth": 0,
             "ticks": ""
            },
            "colorscale": [
             [
              0,
              "#0d0887"
             ],
             [
              0.1111111111111111,
              "#46039f"
             ],
             [
              0.2222222222222222,
              "#7201a8"
             ],
             [
              0.3333333333333333,
              "#9c179e"
             ],
             [
              0.4444444444444444,
              "#bd3786"
             ],
             [
              0.5555555555555556,
              "#d8576b"
             ],
             [
              0.6666666666666666,
              "#ed7953"
             ],
             [
              0.7777777777777778,
              "#fb9f3a"
             ],
             [
              0.8888888888888888,
              "#fdca26"
             ],
             [
              1,
              "#f0f921"
             ]
            ],
            "type": "histogram2d"
           }
          ],
          "histogram2dcontour": [
           {
            "colorbar": {
             "outlinewidth": 0,
             "ticks": ""
            },
            "colorscale": [
             [
              0,
              "#0d0887"
             ],
             [
              0.1111111111111111,
              "#46039f"
             ],
             [
              0.2222222222222222,
              "#7201a8"
             ],
             [
              0.3333333333333333,
              "#9c179e"
             ],
             [
              0.4444444444444444,
              "#bd3786"
             ],
             [
              0.5555555555555556,
              "#d8576b"
             ],
             [
              0.6666666666666666,
              "#ed7953"
             ],
             [
              0.7777777777777778,
              "#fb9f3a"
             ],
             [
              0.8888888888888888,
              "#fdca26"
             ],
             [
              1,
              "#f0f921"
             ]
            ],
            "type": "histogram2dcontour"
           }
          ],
          "mesh3d": [
           {
            "colorbar": {
             "outlinewidth": 0,
             "ticks": ""
            },
            "type": "mesh3d"
           }
          ],
          "parcoords": [
           {
            "line": {
             "colorbar": {
              "outlinewidth": 0,
              "ticks": ""
             }
            },
            "type": "parcoords"
           }
          ],
          "scatter": [
           {
            "marker": {
             "colorbar": {
              "outlinewidth": 0,
              "ticks": ""
             }
            },
            "type": "scatter"
           }
          ],
          "scatter3d": [
           {
            "line": {
             "colorbar": {
              "outlinewidth": 0,
              "ticks": ""
             }
            },
            "marker": {
             "colorbar": {
              "outlinewidth": 0,
              "ticks": ""
             }
            },
            "type": "scatter3d"
           }
          ],
          "scattercarpet": [
           {
            "marker": {
             "colorbar": {
              "outlinewidth": 0,
              "ticks": ""
             }
            },
            "type": "scattercarpet"
           }
          ],
          "scattergeo": [
           {
            "marker": {
             "colorbar": {
              "outlinewidth": 0,
              "ticks": ""
             }
            },
            "type": "scattergeo"
           }
          ],
          "scattergl": [
           {
            "marker": {
             "colorbar": {
              "outlinewidth": 0,
              "ticks": ""
             }
            },
            "type": "scattergl"
           }
          ],
          "scattermapbox": [
           {
            "marker": {
             "colorbar": {
              "outlinewidth": 0,
              "ticks": ""
             }
            },
            "type": "scattermapbox"
           }
          ],
          "scatterpolar": [
           {
            "marker": {
             "colorbar": {
              "outlinewidth": 0,
              "ticks": ""
             }
            },
            "type": "scatterpolar"
           }
          ],
          "scatterpolargl": [
           {
            "marker": {
             "colorbar": {
              "outlinewidth": 0,
              "ticks": ""
             }
            },
            "type": "scatterpolargl"
           }
          ],
          "scatterternary": [
           {
            "marker": {
             "colorbar": {
              "outlinewidth": 0,
              "ticks": ""
             }
            },
            "type": "scatterternary"
           }
          ],
          "surface": [
           {
            "colorbar": {
             "outlinewidth": 0,
             "ticks": ""
            },
            "colorscale": [
             [
              0,
              "#0d0887"
             ],
             [
              0.1111111111111111,
              "#46039f"
             ],
             [
              0.2222222222222222,
              "#7201a8"
             ],
             [
              0.3333333333333333,
              "#9c179e"
             ],
             [
              0.4444444444444444,
              "#bd3786"
             ],
             [
              0.5555555555555556,
              "#d8576b"
             ],
             [
              0.6666666666666666,
              "#ed7953"
             ],
             [
              0.7777777777777778,
              "#fb9f3a"
             ],
             [
              0.8888888888888888,
              "#fdca26"
             ],
             [
              1,
              "#f0f921"
             ]
            ],
            "type": "surface"
           }
          ],
          "table": [
           {
            "cells": {
             "fill": {
              "color": "#EBF0F8"
             },
             "line": {
              "color": "white"
             }
            },
            "header": {
             "fill": {
              "color": "#C8D4E3"
             },
             "line": {
              "color": "white"
             }
            },
            "type": "table"
           }
          ]
         },
         "layout": {
          "annotationdefaults": {
           "arrowcolor": "#2a3f5f",
           "arrowhead": 0,
           "arrowwidth": 1
          },
          "colorscale": {
           "diverging": [
            [
             0,
             "#8e0152"
            ],
            [
             0.1,
             "#c51b7d"
            ],
            [
             0.2,
             "#de77ae"
            ],
            [
             0.3,
             "#f1b6da"
            ],
            [
             0.4,
             "#fde0ef"
            ],
            [
             0.5,
             "#f7f7f7"
            ],
            [
             0.6,
             "#e6f5d0"
            ],
            [
             0.7,
             "#b8e186"
            ],
            [
             0.8,
             "#7fbc41"
            ],
            [
             0.9,
             "#4d9221"
            ],
            [
             1,
             "#276419"
            ]
           ],
           "sequential": [
            [
             0,
             "#0d0887"
            ],
            [
             0.1111111111111111,
             "#46039f"
            ],
            [
             0.2222222222222222,
             "#7201a8"
            ],
            [
             0.3333333333333333,
             "#9c179e"
            ],
            [
             0.4444444444444444,
             "#bd3786"
            ],
            [
             0.5555555555555556,
             "#d8576b"
            ],
            [
             0.6666666666666666,
             "#ed7953"
            ],
            [
             0.7777777777777778,
             "#fb9f3a"
            ],
            [
             0.8888888888888888,
             "#fdca26"
            ],
            [
             1,
             "#f0f921"
            ]
           ],
           "sequentialminus": [
            [
             0,
             "#0d0887"
            ],
            [
             0.1111111111111111,
             "#46039f"
            ],
            [
             0.2222222222222222,
             "#7201a8"
            ],
            [
             0.3333333333333333,
             "#9c179e"
            ],
            [
             0.4444444444444444,
             "#bd3786"
            ],
            [
             0.5555555555555556,
             "#d8576b"
            ],
            [
             0.6666666666666666,
             "#ed7953"
            ],
            [
             0.7777777777777778,
             "#fb9f3a"
            ],
            [
             0.8888888888888888,
             "#fdca26"
            ],
            [
             1,
             "#f0f921"
            ]
           ]
          },
          "colorway": [
           "#636efa",
           "#EF553B",
           "#00cc96",
           "#ab63fa",
           "#FFA15A",
           "#19d3f3",
           "#FF6692",
           "#B6E880",
           "#FF97FF",
           "#FECB52"
          ],
          "font": {
           "color": "#2a3f5f"
          },
          "geo": {
           "bgcolor": "white",
           "lakecolor": "white",
           "landcolor": "#E5ECF6",
           "showlakes": true,
           "showland": true,
           "subunitcolor": "white"
          },
          "hoverlabel": {
           "align": "left"
          },
          "hovermode": "closest",
          "mapbox": {
           "style": "light"
          },
          "paper_bgcolor": "white",
          "plot_bgcolor": "#E5ECF6",
          "polar": {
           "angularaxis": {
            "gridcolor": "white",
            "linecolor": "white",
            "ticks": ""
           },
           "bgcolor": "#E5ECF6",
           "radialaxis": {
            "gridcolor": "white",
            "linecolor": "white",
            "ticks": ""
           }
          },
          "scene": {
           "xaxis": {
            "backgroundcolor": "#E5ECF6",
            "gridcolor": "white",
            "gridwidth": 2,
            "linecolor": "white",
            "showbackground": true,
            "ticks": "",
            "zerolinecolor": "white"
           },
           "yaxis": {
            "backgroundcolor": "#E5ECF6",
            "gridcolor": "white",
            "gridwidth": 2,
            "linecolor": "white",
            "showbackground": true,
            "ticks": "",
            "zerolinecolor": "white"
           },
           "zaxis": {
            "backgroundcolor": "#E5ECF6",
            "gridcolor": "white",
            "gridwidth": 2,
            "linecolor": "white",
            "showbackground": true,
            "ticks": "",
            "zerolinecolor": "white"
           }
          },
          "shapedefaults": {
           "line": {
            "color": "#2a3f5f"
           }
          },
          "ternary": {
           "aaxis": {
            "gridcolor": "white",
            "linecolor": "white",
            "ticks": ""
           },
           "baxis": {
            "gridcolor": "white",
            "linecolor": "white",
            "ticks": ""
           },
           "bgcolor": "#E5ECF6",
           "caxis": {
            "gridcolor": "white",
            "linecolor": "white",
            "ticks": ""
           }
          },
          "title": {
           "x": 0.05
          },
          "xaxis": {
           "automargin": true,
           "gridcolor": "white",
           "linecolor": "white",
           "ticks": "",
           "zerolinecolor": "white",
           "zerolinewidth": 2
          },
          "yaxis": {
           "automargin": true,
           "gridcolor": "white",
           "linecolor": "white",
           "ticks": "",
           "zerolinecolor": "white",
           "zerolinewidth": 2
          }
         }
        },
        "title": {
         "font": {
          "color": "#4D5663"
         }
        },
        "xaxis": {
         "gridcolor": "#E1E5ED",
         "showgrid": true,
         "tickfont": {
          "color": "#4D5663"
         },
         "title": {
          "font": {
           "color": "#4D5663"
          },
          "text": ""
         },
         "zerolinecolor": "#E1E5ED"
        },
        "yaxis": {
         "gridcolor": "#E1E5ED",
         "showgrid": true,
         "tickfont": {
          "color": "#4D5663"
         },
         "title": {
          "font": {
           "color": "#4D5663"
          },
          "text": ""
         },
         "zerolinecolor": "#E1E5ED"
        }
       }
      },
      "text/html": [
       "<div>\n",
       "        \n",
       "        \n",
       "            <div id=\"88a2bccc-b3de-49c1-bd8e-245c9082ab8c\" class=\"plotly-graph-div\" style=\"height:525px; width:100%;\"></div>\n",
       "            <script type=\"text/javascript\">\n",
       "                require([\"plotly\"], function(Plotly) {\n",
       "                    window.PLOTLYENV=window.PLOTLYENV || {};\n",
       "                    window.PLOTLYENV.BASE_URL='https://plot.ly';\n",
       "                    \n",
       "                if (document.getElementById(\"88a2bccc-b3de-49c1-bd8e-245c9082ab8c\")) {\n",
       "                    Plotly.newPlot(\n",
       "                        '88a2bccc-b3de-49c1-bd8e-245c9082ab8c',\n",
       "                        [{\"line\": {\"color\": \"rgba(255, 153, 51, 1.0)\", \"dash\": \"solid\", \"shape\": \"linear\", \"width\": 1.3}, \"mode\": \"lines\", \"name\": \"Free-electron laser\", \"text\": \"\", \"type\": \"scatter\", \"x\": [1995, 1996, 1997, 1998, 1999, 2000, 2001, 2002, 2003, 2004, 2005, 2006, 2007, 2008, 2009, 2010, 2011, 2012, 2013, 2014, 2015, 2016, 2017, 2018, 2019], \"y\": [\"\", \"\", \"\", \"\", \"\", \"\", \"\", \"\", \"\", \"\", \"\", \"\", \"\", \"\", \"\", \"\", \"\", 2.0, 1.0, 4.0, 10.0, 4.0, 7.0, 6.0, 1.0]}, {\"line\": {\"color\": \"rgba(55, 128, 191, 1.0)\", \"dash\": \"solid\", \"shape\": \"linear\", \"width\": 1.3}, \"mode\": \"lines\", \"name\": \"LaB6 THERMOIONIC SOURCE\", \"text\": \"\", \"type\": \"scatter\", \"x\": [1995, 1996, 1997, 1998, 1999, 2000, 2001, 2002, 2003, 2004, 2005, 2006, 2007, 2008, 2009, 2010, 2011, 2012, 2013, 2014, 2015, 2016, 2017, 2018, 2019], \"y\": [\"\", \"\", \"\", \"\", \"\", \"\", \"\", \"\", \"\", \"\", \"\", \"\", \"\", \"\", \"\", \"\", \"\", \"\", \"\", \"\", \"\", \"\", \"\", \"\", 1.0]}, {\"line\": {\"color\": \"rgba(50, 171, 96, 1.0)\", \"dash\": \"solid\", \"shape\": \"linear\", \"width\": 1.3}, \"mode\": \"lines\", \"name\": \"Nuclear reactor\", \"text\": \"\", \"type\": \"scatter\", \"x\": [1995, 1996, 1997, 1998, 1999, 2000, 2001, 2002, 2003, 2004, 2005, 2006, 2007, 2008, 2009, 2010, 2011, 2012, 2013, 2014, 2015, 2016, 2017, 2018, 2019], \"y\": [\"\", \"\", \"\", \"\", \"\", \"\", 1.0, \"\", \"\", \"\", \"\", \"\", \"\", \"\", 1.0, \"\", \"\", \"\", \"\", \"\", \"\", \"\", 1.0, \"\", \"\"]}, {\"line\": {\"color\": \"rgba(128, 0, 128, 1.0)\", \"dash\": \"solid\", \"shape\": \"linear\", \"width\": 1.3}, \"mode\": \"lines\", \"name\": \"Nuclear reactor,Synchrotron\", \"text\": \"\", \"type\": \"scatter\", \"x\": [1995, 1996, 1997, 1998, 1999, 2000, 2001, 2002, 2003, 2004, 2005, 2006, 2007, 2008, 2009, 2010, 2011, 2012, 2013, 2014, 2015, 2016, 2017, 2018, 2019], \"y\": [\"\", \"\", \"\", \"\", \"\", \"\", \"\", \"\", \"\", \"\", \"\", \"\", \"\", \"\", \"\", \"\", \"\", \"\", \"\", \"\", \"\", \"\", 1.0, \"\", \"\"]}, {\"line\": {\"color\": \"rgba(219, 64, 82, 1.0)\", \"dash\": \"solid\", \"shape\": \"linear\", \"width\": 1.3}, \"mode\": \"lines\", \"name\": \"Rotating anode\", \"text\": \"\", \"type\": \"scatter\", \"x\": [1995, 1996, 1997, 1998, 1999, 2000, 2001, 2002, 2003, 2004, 2005, 2006, 2007, 2008, 2009, 2010, 2011, 2012, 2013, 2014, 2015, 2016, 2017, 2018, 2019], \"y\": [2.0, 2.0, 23.0, 61.0, 69.0, 74.0, 51.0, 32.0, 28.0, 19.0, 9.0, 10.0, 13.0, 25.0, 26.0, 14.0, 15.0, 19.0, 27.0, 32.0, 14.0, 20.0, 24.0, 13.0, 6.0]}, {\"line\": {\"color\": \"rgba(0, 128, 128, 1.0)\", \"dash\": \"solid\", \"shape\": \"linear\", \"width\": 1.3}, \"mode\": \"lines\", \"name\": \"Rotating anode,Synchrotron\", \"text\": \"\", \"type\": \"scatter\", \"x\": [1995, 1996, 1997, 1998, 1999, 2000, 2001, 2002, 2003, 2004, 2005, 2006, 2007, 2008, 2009, 2010, 2011, 2012, 2013, 2014, 2015, 2016, 2017, 2018, 2019], \"y\": [\"\", \"\", \"\", \"\", \"\", \"\", \"\", \"\", \"\", \"\", \"\", \"\", 1.0, \"\", \"\", \"\", \"\", \"\", \"\", \"\", \"\", \"\", \"\", \"\", \"\"]}, {\"line\": {\"color\": \"rgba(255, 255, 51, 1.0)\", \"dash\": \"solid\", \"shape\": \"linear\", \"width\": 1.3}, \"mode\": \"lines\", \"name\": \"Sealed tube\", \"text\": \"\", \"type\": \"scatter\", \"x\": [1995, 1996, 1997, 1998, 1999, 2000, 2001, 2002, 2003, 2004, 2005, 2006, 2007, 2008, 2009, 2010, 2011, 2012, 2013, 2014, 2015, 2016, 2017, 2018, 2019], \"y\": [\"\", \"\", \"\", \"\", \"\", \"\", \"\", \"\", \"\", \"\", \"\", \"\", 1.0, 1.0, \"\", 1.0, 1.0, \"\", \"\", \"\", \"\", 6.0, 1.0, \"\", 4.0]}, {\"line\": {\"color\": \"rgba(128, 128, 0, 1.0)\", \"dash\": \"solid\", \"shape\": \"linear\", \"width\": 1.3}, \"mode\": \"lines\", \"name\": \"Synchrotron\", \"text\": \"\", \"type\": \"scatter\", \"x\": [1995, 1996, 1997, 1998, 1999, 2000, 2001, 2002, 2003, 2004, 2005, 2006, 2007, 2008, 2009, 2010, 2011, 2012, 2013, 2014, 2015, 2016, 2017, 2018, 2019], \"y\": [2.0, 1.0, 2.0, 9.0, 15.0, 18.0, 13.0, 3.0, 14.0, 23.0, 29.0, 29.0, 34.0, 23.0, 45.0, 23.0, 34.0, 46.0, 53.0, 56.0, 72.0, 67.0, 52.0, 63.0, 41.0]}],\n",
       "                        {\"legend\": {\"bgcolor\": \"#F5F6F9\", \"font\": {\"color\": \"#4D5663\"}}, \"paper_bgcolor\": \"#F5F6F9\", \"plot_bgcolor\": \"#F5F6F9\", \"template\": {\"data\": {\"bar\": [{\"error_x\": {\"color\": \"#2a3f5f\"}, \"error_y\": {\"color\": \"#2a3f5f\"}, \"marker\": {\"line\": {\"color\": \"#E5ECF6\", \"width\": 0.5}}, \"type\": \"bar\"}], \"barpolar\": [{\"marker\": {\"line\": {\"color\": \"#E5ECF6\", \"width\": 0.5}}, \"type\": \"barpolar\"}], \"carpet\": [{\"aaxis\": {\"endlinecolor\": \"#2a3f5f\", \"gridcolor\": \"white\", \"linecolor\": \"white\", \"minorgridcolor\": \"white\", \"startlinecolor\": \"#2a3f5f\"}, \"baxis\": {\"endlinecolor\": \"#2a3f5f\", \"gridcolor\": \"white\", \"linecolor\": \"white\", \"minorgridcolor\": \"white\", \"startlinecolor\": \"#2a3f5f\"}, \"type\": \"carpet\"}], \"choropleth\": [{\"colorbar\": {\"outlinewidth\": 0, \"ticks\": \"\"}, \"type\": \"choropleth\"}], \"contour\": [{\"colorbar\": {\"outlinewidth\": 0, \"ticks\": \"\"}, \"colorscale\": [[0.0, \"#0d0887\"], [0.1111111111111111, \"#46039f\"], [0.2222222222222222, \"#7201a8\"], [0.3333333333333333, \"#9c179e\"], [0.4444444444444444, \"#bd3786\"], [0.5555555555555556, \"#d8576b\"], [0.6666666666666666, \"#ed7953\"], [0.7777777777777778, \"#fb9f3a\"], [0.8888888888888888, \"#fdca26\"], [1.0, \"#f0f921\"]], \"type\": \"contour\"}], \"contourcarpet\": [{\"colorbar\": {\"outlinewidth\": 0, \"ticks\": \"\"}, \"type\": \"contourcarpet\"}], \"heatmap\": [{\"colorbar\": {\"outlinewidth\": 0, \"ticks\": \"\"}, \"colorscale\": [[0.0, \"#0d0887\"], [0.1111111111111111, \"#46039f\"], [0.2222222222222222, \"#7201a8\"], [0.3333333333333333, \"#9c179e\"], [0.4444444444444444, \"#bd3786\"], [0.5555555555555556, \"#d8576b\"], [0.6666666666666666, \"#ed7953\"], [0.7777777777777778, \"#fb9f3a\"], [0.8888888888888888, \"#fdca26\"], [1.0, \"#f0f921\"]], \"type\": \"heatmap\"}], \"heatmapgl\": [{\"colorbar\": {\"outlinewidth\": 0, \"ticks\": \"\"}, \"colorscale\": [[0.0, \"#0d0887\"], [0.1111111111111111, \"#46039f\"], [0.2222222222222222, \"#7201a8\"], [0.3333333333333333, \"#9c179e\"], [0.4444444444444444, \"#bd3786\"], [0.5555555555555556, \"#d8576b\"], [0.6666666666666666, \"#ed7953\"], [0.7777777777777778, \"#fb9f3a\"], [0.8888888888888888, \"#fdca26\"], [1.0, \"#f0f921\"]], \"type\": \"heatmapgl\"}], \"histogram\": [{\"marker\": {\"colorbar\": {\"outlinewidth\": 0, \"ticks\": \"\"}}, \"type\": \"histogram\"}], \"histogram2d\": [{\"colorbar\": {\"outlinewidth\": 0, \"ticks\": \"\"}, \"colorscale\": [[0.0, \"#0d0887\"], [0.1111111111111111, \"#46039f\"], [0.2222222222222222, \"#7201a8\"], [0.3333333333333333, \"#9c179e\"], [0.4444444444444444, \"#bd3786\"], [0.5555555555555556, \"#d8576b\"], [0.6666666666666666, \"#ed7953\"], [0.7777777777777778, \"#fb9f3a\"], [0.8888888888888888, \"#fdca26\"], [1.0, \"#f0f921\"]], \"type\": \"histogram2d\"}], \"histogram2dcontour\": [{\"colorbar\": {\"outlinewidth\": 0, \"ticks\": \"\"}, \"colorscale\": [[0.0, \"#0d0887\"], [0.1111111111111111, \"#46039f\"], [0.2222222222222222, \"#7201a8\"], [0.3333333333333333, \"#9c179e\"], [0.4444444444444444, \"#bd3786\"], [0.5555555555555556, \"#d8576b\"], [0.6666666666666666, \"#ed7953\"], [0.7777777777777778, \"#fb9f3a\"], [0.8888888888888888, \"#fdca26\"], [1.0, \"#f0f921\"]], \"type\": \"histogram2dcontour\"}], \"mesh3d\": [{\"colorbar\": {\"outlinewidth\": 0, \"ticks\": \"\"}, \"type\": \"mesh3d\"}], \"parcoords\": [{\"line\": {\"colorbar\": {\"outlinewidth\": 0, \"ticks\": \"\"}}, \"type\": \"parcoords\"}], \"scatter\": [{\"marker\": {\"colorbar\": {\"outlinewidth\": 0, \"ticks\": \"\"}}, \"type\": \"scatter\"}], \"scatter3d\": [{\"line\": {\"colorbar\": {\"outlinewidth\": 0, \"ticks\": \"\"}}, \"marker\": {\"colorbar\": {\"outlinewidth\": 0, \"ticks\": \"\"}}, \"type\": \"scatter3d\"}], \"scattercarpet\": [{\"marker\": {\"colorbar\": {\"outlinewidth\": 0, \"ticks\": \"\"}}, \"type\": \"scattercarpet\"}], \"scattergeo\": [{\"marker\": {\"colorbar\": {\"outlinewidth\": 0, \"ticks\": \"\"}}, \"type\": \"scattergeo\"}], \"scattergl\": [{\"marker\": {\"colorbar\": {\"outlinewidth\": 0, \"ticks\": \"\"}}, \"type\": \"scattergl\"}], \"scattermapbox\": [{\"marker\": {\"colorbar\": {\"outlinewidth\": 0, \"ticks\": \"\"}}, \"type\": \"scattermapbox\"}], \"scatterpolar\": [{\"marker\": {\"colorbar\": {\"outlinewidth\": 0, \"ticks\": \"\"}}, \"type\": \"scatterpolar\"}], \"scatterpolargl\": [{\"marker\": {\"colorbar\": {\"outlinewidth\": 0, \"ticks\": \"\"}}, \"type\": \"scatterpolargl\"}], \"scatterternary\": [{\"marker\": {\"colorbar\": {\"outlinewidth\": 0, \"ticks\": \"\"}}, \"type\": \"scatterternary\"}], \"surface\": [{\"colorbar\": {\"outlinewidth\": 0, \"ticks\": \"\"}, \"colorscale\": [[0.0, \"#0d0887\"], [0.1111111111111111, \"#46039f\"], [0.2222222222222222, \"#7201a8\"], [0.3333333333333333, \"#9c179e\"], [0.4444444444444444, \"#bd3786\"], [0.5555555555555556, \"#d8576b\"], [0.6666666666666666, \"#ed7953\"], [0.7777777777777778, \"#fb9f3a\"], [0.8888888888888888, \"#fdca26\"], [1.0, \"#f0f921\"]], \"type\": \"surface\"}], \"table\": [{\"cells\": {\"fill\": {\"color\": \"#EBF0F8\"}, \"line\": {\"color\": \"white\"}}, \"header\": {\"fill\": {\"color\": \"#C8D4E3\"}, \"line\": {\"color\": \"white\"}}, \"type\": \"table\"}]}, \"layout\": {\"annotationdefaults\": {\"arrowcolor\": \"#2a3f5f\", \"arrowhead\": 0, \"arrowwidth\": 1}, \"colorscale\": {\"diverging\": [[0, \"#8e0152\"], [0.1, \"#c51b7d\"], [0.2, \"#de77ae\"], [0.3, \"#f1b6da\"], [0.4, \"#fde0ef\"], [0.5, \"#f7f7f7\"], [0.6, \"#e6f5d0\"], [0.7, \"#b8e186\"], [0.8, \"#7fbc41\"], [0.9, \"#4d9221\"], [1, \"#276419\"]], \"sequential\": [[0.0, \"#0d0887\"], [0.1111111111111111, \"#46039f\"], [0.2222222222222222, \"#7201a8\"], [0.3333333333333333, \"#9c179e\"], [0.4444444444444444, \"#bd3786\"], [0.5555555555555556, \"#d8576b\"], [0.6666666666666666, \"#ed7953\"], [0.7777777777777778, \"#fb9f3a\"], [0.8888888888888888, \"#fdca26\"], [1.0, \"#f0f921\"]], \"sequentialminus\": [[0.0, \"#0d0887\"], [0.1111111111111111, \"#46039f\"], [0.2222222222222222, \"#7201a8\"], [0.3333333333333333, \"#9c179e\"], [0.4444444444444444, \"#bd3786\"], [0.5555555555555556, \"#d8576b\"], [0.6666666666666666, \"#ed7953\"], [0.7777777777777778, \"#fb9f3a\"], [0.8888888888888888, \"#fdca26\"], [1.0, \"#f0f921\"]]}, \"colorway\": [\"#636efa\", \"#EF553B\", \"#00cc96\", \"#ab63fa\", \"#FFA15A\", \"#19d3f3\", \"#FF6692\", \"#B6E880\", \"#FF97FF\", \"#FECB52\"], \"font\": {\"color\": \"#2a3f5f\"}, \"geo\": {\"bgcolor\": \"white\", \"lakecolor\": \"white\", \"landcolor\": \"#E5ECF6\", \"showlakes\": true, \"showland\": true, \"subunitcolor\": \"white\"}, \"hoverlabel\": {\"align\": \"left\"}, \"hovermode\": \"closest\", \"mapbox\": {\"style\": \"light\"}, \"paper_bgcolor\": \"white\", \"plot_bgcolor\": \"#E5ECF6\", \"polar\": {\"angularaxis\": {\"gridcolor\": \"white\", \"linecolor\": \"white\", \"ticks\": \"\"}, \"bgcolor\": \"#E5ECF6\", \"radialaxis\": {\"gridcolor\": \"white\", \"linecolor\": \"white\", \"ticks\": \"\"}}, \"scene\": {\"xaxis\": {\"backgroundcolor\": \"#E5ECF6\", \"gridcolor\": \"white\", \"gridwidth\": 2, \"linecolor\": \"white\", \"showbackground\": true, \"ticks\": \"\", \"zerolinecolor\": \"white\"}, \"yaxis\": {\"backgroundcolor\": \"#E5ECF6\", \"gridcolor\": \"white\", \"gridwidth\": 2, \"linecolor\": \"white\", \"showbackground\": true, \"ticks\": \"\", \"zerolinecolor\": \"white\"}, \"zaxis\": {\"backgroundcolor\": \"#E5ECF6\", \"gridcolor\": \"white\", \"gridwidth\": 2, \"linecolor\": \"white\", \"showbackground\": true, \"ticks\": \"\", \"zerolinecolor\": \"white\"}}, \"shapedefaults\": {\"line\": {\"color\": \"#2a3f5f\"}}, \"ternary\": {\"aaxis\": {\"gridcolor\": \"white\", \"linecolor\": \"white\", \"ticks\": \"\"}, \"baxis\": {\"gridcolor\": \"white\", \"linecolor\": \"white\", \"ticks\": \"\"}, \"bgcolor\": \"#E5ECF6\", \"caxis\": {\"gridcolor\": \"white\", \"linecolor\": \"white\", \"ticks\": \"\"}}, \"title\": {\"x\": 0.05}, \"xaxis\": {\"automargin\": true, \"gridcolor\": \"white\", \"linecolor\": \"white\", \"ticks\": \"\", \"zerolinecolor\": \"white\", \"zerolinewidth\": 2}, \"yaxis\": {\"automargin\": true, \"gridcolor\": \"white\", \"linecolor\": \"white\", \"ticks\": \"\", \"zerolinecolor\": \"white\", \"zerolinewidth\": 2}}}, \"title\": {\"font\": {\"color\": \"#4D5663\"}}, \"xaxis\": {\"gridcolor\": \"#E1E5ED\", \"showgrid\": true, \"tickfont\": {\"color\": \"#4D5663\"}, \"title\": {\"font\": {\"color\": \"#4D5663\"}, \"text\": \"\"}, \"zerolinecolor\": \"#E1E5ED\"}, \"yaxis\": {\"gridcolor\": \"#E1E5ED\", \"showgrid\": true, \"tickfont\": {\"color\": \"#4D5663\"}, \"title\": {\"font\": {\"color\": \"#4D5663\"}, \"text\": \"\"}, \"zerolinecolor\": \"#E1E5ED\"}},\n",
       "                        {\"showLink\": true, \"linkText\": \"Export to plot.ly\", \"plotlyServerURL\": \"https://plot.ly\", \"responsive\": true}\n",
       "                    ).then(function(){\n",
       "                            \n",
       "var gd = document.getElementById('88a2bccc-b3de-49c1-bd8e-245c9082ab8c');\n",
       "var x = new MutationObserver(function (mutations, observer) {{\n",
       "        var display = window.getComputedStyle(gd).display;\n",
       "        if (!display || display === 'none') {{\n",
       "            console.log([gd, 'removed!']);\n",
       "            Plotly.purge(gd);\n",
       "            observer.disconnect();\n",
       "        }}\n",
       "}});\n",
       "\n",
       "// Listen for the removal of the full notebook cells\n",
       "var notebookContainer = gd.closest('#notebook-container');\n",
       "if (notebookContainer) {{\n",
       "    x.observe(notebookContainer, {childList: true});\n",
       "}}\n",
       "\n",
       "// Listen for the clearing of the current output cell\n",
       "var outputEl = gd.closest('.output');\n",
       "if (outputEl) {{\n",
       "    x.observe(outputEl, {childList: true});\n",
       "}}\n",
       "\n",
       "                        })\n",
       "                };\n",
       "                });\n",
       "            </script>\n",
       "        </div>"
      ]
     },
     "metadata": {},
     "output_type": "display_data"
    }
   ],
   "source": [
    "pandas_plot_multi_groupby(results, 'release_year', 'beam_source_name')"
   ]
  },
  {
   "cell_type": "markdown",
   "metadata": {},
   "source": [
    "This shows us that rotating anodes were used as the major source of radiation until around 2004 when Synchrotron's overtook as the major source of radiation. \n",
    "\n",
    "Try editing the queries to plot interesting trends within the PDB"
   ]
  },
  {
   "cell_type": "markdown",
   "metadata": {},
   "source": [
    "## Questions to answer"
   ]
  },
  {
   "cell_type": "markdown",
   "metadata": {},
   "source": [
    "1) Electron Microscopy is going through a revolution. Is this leading to a growth in Electron Microscopy PDB entries?"
   ]
  },
  {
   "cell_type": "code",
   "execution_count": 186,
   "metadata": {
    "scrolled": true
   },
   "outputs": [
    {
     "name": "stdout",
     "output_type": "stream",
     "text": [
      "https://www.ebi.ac.uk/pdbe/search/pdb/select?q=experimental_method:\"Electron Microscopy\"&fl=experimental_method,release_year,pdb_id&wt=json&rows=1000000\n",
      "Number of results for Electron Microscopy: 43251\n"
     ]
    },
    {
     "data": {
      "application/vnd.plotly.v1+json": {
       "config": {
        "linkText": "Export to plot.ly",
        "plotlyServerURL": "https://plot.ly",
        "showLink": true
       },
       "data": [
        {
         "line": {
          "color": "rgba(255, 153, 51, 1.0)",
          "dash": "solid",
          "shape": "linear",
          "width": 1.3
         },
         "mode": "lines",
         "name": "Electron Microscopy",
         "text": "",
         "type": "scatter",
         "x": [
          1997,
          1999,
          2000,
          2001,
          2002,
          2003,
          2004,
          2005,
          2006,
          2007,
          2008,
          2009,
          2010,
          2011,
          2012,
          2013,
          2014,
          2015,
          2016,
          2017,
          2018,
          2019
         ],
         "y": [
          1,
          1,
          48,
          16,
          75,
          95,
          45,
          79,
          120,
          28,
          221,
          158,
          135,
          266,
          203,
          355,
          5184,
          3094,
          6232,
          6534,
          9668,
          9340
         ]
        },
        {
         "line": {
          "color": "rgba(55, 128, 191, 1.0)",
          "dash": "solid",
          "shape": "linear",
          "width": 1.3
         },
         "mode": "lines",
         "name": "Electron Microscopy,Hybrid,Solid-state NMR",
         "text": "",
         "type": "scatter",
         "x": [
          1997,
          1999,
          2000,
          2001,
          2002,
          2003,
          2004,
          2005,
          2006,
          2007,
          2008,
          2009,
          2010,
          2011,
          2012,
          2013,
          2014,
          2015,
          2016,
          2017,
          2018,
          2019
         ],
         "y": [
          "",
          "",
          "",
          "",
          "",
          "",
          "",
          "",
          "",
          "",
          "",
          "",
          "",
          "",
          "",
          3,
          1,
          1,
          1,
          "",
          "",
          ""
         ]
        },
        {
         "line": {
          "color": "rgba(50, 171, 96, 1.0)",
          "dash": "solid",
          "shape": "linear",
          "width": 1.3
         },
         "mode": "lines",
         "name": "Electron Microscopy,Hybrid,Solid-state NMR,Solution NMR",
         "text": "",
         "type": "scatter",
         "x": [
          1997,
          1999,
          2000,
          2001,
          2002,
          2003,
          2004,
          2005,
          2006,
          2007,
          2008,
          2009,
          2010,
          2011,
          2012,
          2013,
          2014,
          2015,
          2016,
          2017,
          2018,
          2019
         ],
         "y": [
          "",
          "",
          "",
          "",
          "",
          "",
          "",
          "",
          "",
          "",
          "",
          "",
          "",
          "",
          "",
          "",
          "",
          "",
          "",
          "",
          1,
          ""
         ]
        },
        {
         "line": {
          "color": "rgba(128, 0, 128, 1.0)",
          "dash": "solid",
          "shape": "linear",
          "width": 1.3
         },
         "mode": "lines",
         "name": "Electron Microscopy,Hybrid,Solid-state NMR,X-ray solution scattering",
         "text": "",
         "type": "scatter",
         "x": [
          1997,
          1999,
          2000,
          2001,
          2002,
          2003,
          2004,
          2005,
          2006,
          2007,
          2008,
          2009,
          2010,
          2011,
          2012,
          2013,
          2014,
          2015,
          2016,
          2017,
          2018,
          2019
         ],
         "y": [
          "",
          "",
          "",
          "",
          "",
          "",
          "",
          "",
          "",
          "",
          "",
          "",
          "",
          "",
          "",
          "",
          "",
          "",
          1,
          "",
          "",
          ""
         ]
        },
        {
         "line": {
          "color": "rgba(219, 64, 82, 1.0)",
          "dash": "solid",
          "shape": "linear",
          "width": 1.3
         },
         "mode": "lines",
         "name": "Electron Microscopy,Hybrid,Solution NMR",
         "text": "",
         "type": "scatter",
         "x": [
          1997,
          1999,
          2000,
          2001,
          2002,
          2003,
          2004,
          2005,
          2006,
          2007,
          2008,
          2009,
          2010,
          2011,
          2012,
          2013,
          2014,
          2015,
          2016,
          2017,
          2018,
          2019
         ],
         "y": [
          "",
          "",
          "",
          "",
          "",
          "",
          "",
          "",
          "",
          "",
          "",
          "",
          "",
          "",
          "",
          "",
          "",
          "",
          "",
          "",
          1,
          1
         ]
        },
        {
         "line": {
          "color": "rgba(0, 128, 128, 1.0)",
          "dash": "solid",
          "shape": "linear",
          "width": 1.3
         },
         "mode": "lines",
         "name": "Electron Microscopy,Hybrid,X-ray solution scattering",
         "text": "",
         "type": "scatter",
         "x": [
          1997,
          1999,
          2000,
          2001,
          2002,
          2003,
          2004,
          2005,
          2006,
          2007,
          2008,
          2009,
          2010,
          2011,
          2012,
          2013,
          2014,
          2015,
          2016,
          2017,
          2018,
          2019
         ],
         "y": [
          "",
          "",
          "",
          "",
          "",
          "",
          "",
          "",
          "",
          "",
          "",
          "",
          "",
          2,
          "",
          "",
          "",
          "",
          "",
          "",
          "",
          ""
         ]
        }
       ],
       "layout": {
        "legend": {
         "bgcolor": "#F5F6F9",
         "font": {
          "color": "#4D5663"
         }
        },
        "paper_bgcolor": "#F5F6F9",
        "plot_bgcolor": "#F5F6F9",
        "template": {
         "data": {
          "bar": [
           {
            "error_x": {
             "color": "#2a3f5f"
            },
            "error_y": {
             "color": "#2a3f5f"
            },
            "marker": {
             "line": {
              "color": "#E5ECF6",
              "width": 0.5
             }
            },
            "type": "bar"
           }
          ],
          "barpolar": [
           {
            "marker": {
             "line": {
              "color": "#E5ECF6",
              "width": 0.5
             }
            },
            "type": "barpolar"
           }
          ],
          "carpet": [
           {
            "aaxis": {
             "endlinecolor": "#2a3f5f",
             "gridcolor": "white",
             "linecolor": "white",
             "minorgridcolor": "white",
             "startlinecolor": "#2a3f5f"
            },
            "baxis": {
             "endlinecolor": "#2a3f5f",
             "gridcolor": "white",
             "linecolor": "white",
             "minorgridcolor": "white",
             "startlinecolor": "#2a3f5f"
            },
            "type": "carpet"
           }
          ],
          "choropleth": [
           {
            "colorbar": {
             "outlinewidth": 0,
             "ticks": ""
            },
            "type": "choropleth"
           }
          ],
          "contour": [
           {
            "colorbar": {
             "outlinewidth": 0,
             "ticks": ""
            },
            "colorscale": [
             [
              0,
              "#0d0887"
             ],
             [
              0.1111111111111111,
              "#46039f"
             ],
             [
              0.2222222222222222,
              "#7201a8"
             ],
             [
              0.3333333333333333,
              "#9c179e"
             ],
             [
              0.4444444444444444,
              "#bd3786"
             ],
             [
              0.5555555555555556,
              "#d8576b"
             ],
             [
              0.6666666666666666,
              "#ed7953"
             ],
             [
              0.7777777777777778,
              "#fb9f3a"
             ],
             [
              0.8888888888888888,
              "#fdca26"
             ],
             [
              1,
              "#f0f921"
             ]
            ],
            "type": "contour"
           }
          ],
          "contourcarpet": [
           {
            "colorbar": {
             "outlinewidth": 0,
             "ticks": ""
            },
            "type": "contourcarpet"
           }
          ],
          "heatmap": [
           {
            "colorbar": {
             "outlinewidth": 0,
             "ticks": ""
            },
            "colorscale": [
             [
              0,
              "#0d0887"
             ],
             [
              0.1111111111111111,
              "#46039f"
             ],
             [
              0.2222222222222222,
              "#7201a8"
             ],
             [
              0.3333333333333333,
              "#9c179e"
             ],
             [
              0.4444444444444444,
              "#bd3786"
             ],
             [
              0.5555555555555556,
              "#d8576b"
             ],
             [
              0.6666666666666666,
              "#ed7953"
             ],
             [
              0.7777777777777778,
              "#fb9f3a"
             ],
             [
              0.8888888888888888,
              "#fdca26"
             ],
             [
              1,
              "#f0f921"
             ]
            ],
            "type": "heatmap"
           }
          ],
          "heatmapgl": [
           {
            "colorbar": {
             "outlinewidth": 0,
             "ticks": ""
            },
            "colorscale": [
             [
              0,
              "#0d0887"
             ],
             [
              0.1111111111111111,
              "#46039f"
             ],
             [
              0.2222222222222222,
              "#7201a8"
             ],
             [
              0.3333333333333333,
              "#9c179e"
             ],
             [
              0.4444444444444444,
              "#bd3786"
             ],
             [
              0.5555555555555556,
              "#d8576b"
             ],
             [
              0.6666666666666666,
              "#ed7953"
             ],
             [
              0.7777777777777778,
              "#fb9f3a"
             ],
             [
              0.8888888888888888,
              "#fdca26"
             ],
             [
              1,
              "#f0f921"
             ]
            ],
            "type": "heatmapgl"
           }
          ],
          "histogram": [
           {
            "marker": {
             "colorbar": {
              "outlinewidth": 0,
              "ticks": ""
             }
            },
            "type": "histogram"
           }
          ],
          "histogram2d": [
           {
            "colorbar": {
             "outlinewidth": 0,
             "ticks": ""
            },
            "colorscale": [
             [
              0,
              "#0d0887"
             ],
             [
              0.1111111111111111,
              "#46039f"
             ],
             [
              0.2222222222222222,
              "#7201a8"
             ],
             [
              0.3333333333333333,
              "#9c179e"
             ],
             [
              0.4444444444444444,
              "#bd3786"
             ],
             [
              0.5555555555555556,
              "#d8576b"
             ],
             [
              0.6666666666666666,
              "#ed7953"
             ],
             [
              0.7777777777777778,
              "#fb9f3a"
             ],
             [
              0.8888888888888888,
              "#fdca26"
             ],
             [
              1,
              "#f0f921"
             ]
            ],
            "type": "histogram2d"
           }
          ],
          "histogram2dcontour": [
           {
            "colorbar": {
             "outlinewidth": 0,
             "ticks": ""
            },
            "colorscale": [
             [
              0,
              "#0d0887"
             ],
             [
              0.1111111111111111,
              "#46039f"
             ],
             [
              0.2222222222222222,
              "#7201a8"
             ],
             [
              0.3333333333333333,
              "#9c179e"
             ],
             [
              0.4444444444444444,
              "#bd3786"
             ],
             [
              0.5555555555555556,
              "#d8576b"
             ],
             [
              0.6666666666666666,
              "#ed7953"
             ],
             [
              0.7777777777777778,
              "#fb9f3a"
             ],
             [
              0.8888888888888888,
              "#fdca26"
             ],
             [
              1,
              "#f0f921"
             ]
            ],
            "type": "histogram2dcontour"
           }
          ],
          "mesh3d": [
           {
            "colorbar": {
             "outlinewidth": 0,
             "ticks": ""
            },
            "type": "mesh3d"
           }
          ],
          "parcoords": [
           {
            "line": {
             "colorbar": {
              "outlinewidth": 0,
              "ticks": ""
             }
            },
            "type": "parcoords"
           }
          ],
          "scatter": [
           {
            "marker": {
             "colorbar": {
              "outlinewidth": 0,
              "ticks": ""
             }
            },
            "type": "scatter"
           }
          ],
          "scatter3d": [
           {
            "line": {
             "colorbar": {
              "outlinewidth": 0,
              "ticks": ""
             }
            },
            "marker": {
             "colorbar": {
              "outlinewidth": 0,
              "ticks": ""
             }
            },
            "type": "scatter3d"
           }
          ],
          "scattercarpet": [
           {
            "marker": {
             "colorbar": {
              "outlinewidth": 0,
              "ticks": ""
             }
            },
            "type": "scattercarpet"
           }
          ],
          "scattergeo": [
           {
            "marker": {
             "colorbar": {
              "outlinewidth": 0,
              "ticks": ""
             }
            },
            "type": "scattergeo"
           }
          ],
          "scattergl": [
           {
            "marker": {
             "colorbar": {
              "outlinewidth": 0,
              "ticks": ""
             }
            },
            "type": "scattergl"
           }
          ],
          "scattermapbox": [
           {
            "marker": {
             "colorbar": {
              "outlinewidth": 0,
              "ticks": ""
             }
            },
            "type": "scattermapbox"
           }
          ],
          "scatterpolar": [
           {
            "marker": {
             "colorbar": {
              "outlinewidth": 0,
              "ticks": ""
             }
            },
            "type": "scatterpolar"
           }
          ],
          "scatterpolargl": [
           {
            "marker": {
             "colorbar": {
              "outlinewidth": 0,
              "ticks": ""
             }
            },
            "type": "scatterpolargl"
           }
          ],
          "scatterternary": [
           {
            "marker": {
             "colorbar": {
              "outlinewidth": 0,
              "ticks": ""
             }
            },
            "type": "scatterternary"
           }
          ],
          "surface": [
           {
            "colorbar": {
             "outlinewidth": 0,
             "ticks": ""
            },
            "colorscale": [
             [
              0,
              "#0d0887"
             ],
             [
              0.1111111111111111,
              "#46039f"
             ],
             [
              0.2222222222222222,
              "#7201a8"
             ],
             [
              0.3333333333333333,
              "#9c179e"
             ],
             [
              0.4444444444444444,
              "#bd3786"
             ],
             [
              0.5555555555555556,
              "#d8576b"
             ],
             [
              0.6666666666666666,
              "#ed7953"
             ],
             [
              0.7777777777777778,
              "#fb9f3a"
             ],
             [
              0.8888888888888888,
              "#fdca26"
             ],
             [
              1,
              "#f0f921"
             ]
            ],
            "type": "surface"
           }
          ],
          "table": [
           {
            "cells": {
             "fill": {
              "color": "#EBF0F8"
             },
             "line": {
              "color": "white"
             }
            },
            "header": {
             "fill": {
              "color": "#C8D4E3"
             },
             "line": {
              "color": "white"
             }
            },
            "type": "table"
           }
          ]
         },
         "layout": {
          "annotationdefaults": {
           "arrowcolor": "#2a3f5f",
           "arrowhead": 0,
           "arrowwidth": 1
          },
          "colorscale": {
           "diverging": [
            [
             0,
             "#8e0152"
            ],
            [
             0.1,
             "#c51b7d"
            ],
            [
             0.2,
             "#de77ae"
            ],
            [
             0.3,
             "#f1b6da"
            ],
            [
             0.4,
             "#fde0ef"
            ],
            [
             0.5,
             "#f7f7f7"
            ],
            [
             0.6,
             "#e6f5d0"
            ],
            [
             0.7,
             "#b8e186"
            ],
            [
             0.8,
             "#7fbc41"
            ],
            [
             0.9,
             "#4d9221"
            ],
            [
             1,
             "#276419"
            ]
           ],
           "sequential": [
            [
             0,
             "#0d0887"
            ],
            [
             0.1111111111111111,
             "#46039f"
            ],
            [
             0.2222222222222222,
             "#7201a8"
            ],
            [
             0.3333333333333333,
             "#9c179e"
            ],
            [
             0.4444444444444444,
             "#bd3786"
            ],
            [
             0.5555555555555556,
             "#d8576b"
            ],
            [
             0.6666666666666666,
             "#ed7953"
            ],
            [
             0.7777777777777778,
             "#fb9f3a"
            ],
            [
             0.8888888888888888,
             "#fdca26"
            ],
            [
             1,
             "#f0f921"
            ]
           ],
           "sequentialminus": [
            [
             0,
             "#0d0887"
            ],
            [
             0.1111111111111111,
             "#46039f"
            ],
            [
             0.2222222222222222,
             "#7201a8"
            ],
            [
             0.3333333333333333,
             "#9c179e"
            ],
            [
             0.4444444444444444,
             "#bd3786"
            ],
            [
             0.5555555555555556,
             "#d8576b"
            ],
            [
             0.6666666666666666,
             "#ed7953"
            ],
            [
             0.7777777777777778,
             "#fb9f3a"
            ],
            [
             0.8888888888888888,
             "#fdca26"
            ],
            [
             1,
             "#f0f921"
            ]
           ]
          },
          "colorway": [
           "#636efa",
           "#EF553B",
           "#00cc96",
           "#ab63fa",
           "#FFA15A",
           "#19d3f3",
           "#FF6692",
           "#B6E880",
           "#FF97FF",
           "#FECB52"
          ],
          "font": {
           "color": "#2a3f5f"
          },
          "geo": {
           "bgcolor": "white",
           "lakecolor": "white",
           "landcolor": "#E5ECF6",
           "showlakes": true,
           "showland": true,
           "subunitcolor": "white"
          },
          "hoverlabel": {
           "align": "left"
          },
          "hovermode": "closest",
          "mapbox": {
           "style": "light"
          },
          "paper_bgcolor": "white",
          "plot_bgcolor": "#E5ECF6",
          "polar": {
           "angularaxis": {
            "gridcolor": "white",
            "linecolor": "white",
            "ticks": ""
           },
           "bgcolor": "#E5ECF6",
           "radialaxis": {
            "gridcolor": "white",
            "linecolor": "white",
            "ticks": ""
           }
          },
          "scene": {
           "xaxis": {
            "backgroundcolor": "#E5ECF6",
            "gridcolor": "white",
            "gridwidth": 2,
            "linecolor": "white",
            "showbackground": true,
            "ticks": "",
            "zerolinecolor": "white"
           },
           "yaxis": {
            "backgroundcolor": "#E5ECF6",
            "gridcolor": "white",
            "gridwidth": 2,
            "linecolor": "white",
            "showbackground": true,
            "ticks": "",
            "zerolinecolor": "white"
           },
           "zaxis": {
            "backgroundcolor": "#E5ECF6",
            "gridcolor": "white",
            "gridwidth": 2,
            "linecolor": "white",
            "showbackground": true,
            "ticks": "",
            "zerolinecolor": "white"
           }
          },
          "shapedefaults": {
           "line": {
            "color": "#2a3f5f"
           }
          },
          "ternary": {
           "aaxis": {
            "gridcolor": "white",
            "linecolor": "white",
            "ticks": ""
           },
           "baxis": {
            "gridcolor": "white",
            "linecolor": "white",
            "ticks": ""
           },
           "bgcolor": "#E5ECF6",
           "caxis": {
            "gridcolor": "white",
            "linecolor": "white",
            "ticks": ""
           }
          },
          "title": {
           "x": 0.05
          },
          "xaxis": {
           "automargin": true,
           "gridcolor": "white",
           "linecolor": "white",
           "ticks": "",
           "zerolinecolor": "white",
           "zerolinewidth": 2
          },
          "yaxis": {
           "automargin": true,
           "gridcolor": "white",
           "linecolor": "white",
           "ticks": "",
           "zerolinecolor": "white",
           "zerolinewidth": 2
          }
         }
        },
        "title": {
         "font": {
          "color": "#4D5663"
         }
        },
        "xaxis": {
         "gridcolor": "#E1E5ED",
         "showgrid": true,
         "tickfont": {
          "color": "#4D5663"
         },
         "title": {
          "font": {
           "color": "#4D5663"
          },
          "text": ""
         },
         "zerolinecolor": "#E1E5ED"
        },
        "yaxis": {
         "gridcolor": "#E1E5ED",
         "showgrid": true,
         "tickfont": {
          "color": "#4D5663"
         },
         "title": {
          "font": {
           "color": "#4D5663"
          },
          "text": ""
         },
         "zerolinecolor": "#E1E5ED"
        }
       }
      },
      "text/html": [
       "<div>\n",
       "        \n",
       "        \n",
       "            <div id=\"e79cb7a2-32a4-46d0-99ec-1f890d5c609b\" class=\"plotly-graph-div\" style=\"height:525px; width:100%;\"></div>\n",
       "            <script type=\"text/javascript\">\n",
       "                require([\"plotly\"], function(Plotly) {\n",
       "                    window.PLOTLYENV=window.PLOTLYENV || {};\n",
       "                    window.PLOTLYENV.BASE_URL='https://plot.ly';\n",
       "                    \n",
       "                if (document.getElementById(\"e79cb7a2-32a4-46d0-99ec-1f890d5c609b\")) {\n",
       "                    Plotly.newPlot(\n",
       "                        'e79cb7a2-32a4-46d0-99ec-1f890d5c609b',\n",
       "                        [{\"line\": {\"color\": \"rgba(255, 153, 51, 1.0)\", \"dash\": \"solid\", \"shape\": \"linear\", \"width\": 1.3}, \"mode\": \"lines\", \"name\": \"Electron Microscopy\", \"text\": \"\", \"type\": \"scatter\", \"x\": [1997.0, 1999.0, 2000.0, 2001.0, 2002.0, 2003.0, 2004.0, 2005.0, 2006.0, 2007.0, 2008.0, 2009.0, 2010.0, 2011.0, 2012.0, 2013.0, 2014.0, 2015.0, 2016.0, 2017.0, 2018.0, 2019.0], \"y\": [1.0, 1.0, 48.0, 16.0, 75.0, 95.0, 45.0, 79.0, 120.0, 28.0, 221.0, 158.0, 135.0, 266.0, 203.0, 355.0, 5184.0, 3094.0, 6232.0, 6534.0, 9668.0, 9340.0]}, {\"line\": {\"color\": \"rgba(55, 128, 191, 1.0)\", \"dash\": \"solid\", \"shape\": \"linear\", \"width\": 1.3}, \"mode\": \"lines\", \"name\": \"Electron Microscopy,Hybrid,Solid-state NMR\", \"text\": \"\", \"type\": \"scatter\", \"x\": [1997.0, 1999.0, 2000.0, 2001.0, 2002.0, 2003.0, 2004.0, 2005.0, 2006.0, 2007.0, 2008.0, 2009.0, 2010.0, 2011.0, 2012.0, 2013.0, 2014.0, 2015.0, 2016.0, 2017.0, 2018.0, 2019.0], \"y\": [\"\", \"\", \"\", \"\", \"\", \"\", \"\", \"\", \"\", \"\", \"\", \"\", \"\", \"\", \"\", 3.0, 1.0, 1.0, 1.0, \"\", \"\", \"\"]}, {\"line\": {\"color\": \"rgba(50, 171, 96, 1.0)\", \"dash\": \"solid\", \"shape\": \"linear\", \"width\": 1.3}, \"mode\": \"lines\", \"name\": \"Electron Microscopy,Hybrid,Solid-state NMR,Solution NMR\", \"text\": \"\", \"type\": \"scatter\", \"x\": [1997.0, 1999.0, 2000.0, 2001.0, 2002.0, 2003.0, 2004.0, 2005.0, 2006.0, 2007.0, 2008.0, 2009.0, 2010.0, 2011.0, 2012.0, 2013.0, 2014.0, 2015.0, 2016.0, 2017.0, 2018.0, 2019.0], \"y\": [\"\", \"\", \"\", \"\", \"\", \"\", \"\", \"\", \"\", \"\", \"\", \"\", \"\", \"\", \"\", \"\", \"\", \"\", \"\", \"\", 1.0, \"\"]}, {\"line\": {\"color\": \"rgba(128, 0, 128, 1.0)\", \"dash\": \"solid\", \"shape\": \"linear\", \"width\": 1.3}, \"mode\": \"lines\", \"name\": \"Electron Microscopy,Hybrid,Solid-state NMR,X-ray solution scattering\", \"text\": \"\", \"type\": \"scatter\", \"x\": [1997.0, 1999.0, 2000.0, 2001.0, 2002.0, 2003.0, 2004.0, 2005.0, 2006.0, 2007.0, 2008.0, 2009.0, 2010.0, 2011.0, 2012.0, 2013.0, 2014.0, 2015.0, 2016.0, 2017.0, 2018.0, 2019.0], \"y\": [\"\", \"\", \"\", \"\", \"\", \"\", \"\", \"\", \"\", \"\", \"\", \"\", \"\", \"\", \"\", \"\", \"\", \"\", 1.0, \"\", \"\", \"\"]}, {\"line\": {\"color\": \"rgba(219, 64, 82, 1.0)\", \"dash\": \"solid\", \"shape\": \"linear\", \"width\": 1.3}, \"mode\": \"lines\", \"name\": \"Electron Microscopy,Hybrid,Solution NMR\", \"text\": \"\", \"type\": \"scatter\", \"x\": [1997.0, 1999.0, 2000.0, 2001.0, 2002.0, 2003.0, 2004.0, 2005.0, 2006.0, 2007.0, 2008.0, 2009.0, 2010.0, 2011.0, 2012.0, 2013.0, 2014.0, 2015.0, 2016.0, 2017.0, 2018.0, 2019.0], \"y\": [\"\", \"\", \"\", \"\", \"\", \"\", \"\", \"\", \"\", \"\", \"\", \"\", \"\", \"\", \"\", \"\", \"\", \"\", \"\", \"\", 1.0, 1.0]}, {\"line\": {\"color\": \"rgba(0, 128, 128, 1.0)\", \"dash\": \"solid\", \"shape\": \"linear\", \"width\": 1.3}, \"mode\": \"lines\", \"name\": \"Electron Microscopy,Hybrid,X-ray solution scattering\", \"text\": \"\", \"type\": \"scatter\", \"x\": [1997.0, 1999.0, 2000.0, 2001.0, 2002.0, 2003.0, 2004.0, 2005.0, 2006.0, 2007.0, 2008.0, 2009.0, 2010.0, 2011.0, 2012.0, 2013.0, 2014.0, 2015.0, 2016.0, 2017.0, 2018.0, 2019.0], \"y\": [\"\", \"\", \"\", \"\", \"\", \"\", \"\", \"\", \"\", \"\", \"\", \"\", \"\", 2.0, \"\", \"\", \"\", \"\", \"\", \"\", \"\", \"\"]}],\n",
       "                        {\"legend\": {\"bgcolor\": \"#F5F6F9\", \"font\": {\"color\": \"#4D5663\"}}, \"paper_bgcolor\": \"#F5F6F9\", \"plot_bgcolor\": \"#F5F6F9\", \"template\": {\"data\": {\"bar\": [{\"error_x\": {\"color\": \"#2a3f5f\"}, \"error_y\": {\"color\": \"#2a3f5f\"}, \"marker\": {\"line\": {\"color\": \"#E5ECF6\", \"width\": 0.5}}, \"type\": \"bar\"}], \"barpolar\": [{\"marker\": {\"line\": {\"color\": \"#E5ECF6\", \"width\": 0.5}}, \"type\": \"barpolar\"}], \"carpet\": [{\"aaxis\": {\"endlinecolor\": \"#2a3f5f\", \"gridcolor\": \"white\", \"linecolor\": \"white\", \"minorgridcolor\": \"white\", \"startlinecolor\": \"#2a3f5f\"}, \"baxis\": {\"endlinecolor\": \"#2a3f5f\", \"gridcolor\": \"white\", \"linecolor\": \"white\", \"minorgridcolor\": \"white\", \"startlinecolor\": \"#2a3f5f\"}, \"type\": \"carpet\"}], \"choropleth\": [{\"colorbar\": {\"outlinewidth\": 0, \"ticks\": \"\"}, \"type\": \"choropleth\"}], \"contour\": [{\"colorbar\": {\"outlinewidth\": 0, \"ticks\": \"\"}, \"colorscale\": [[0.0, \"#0d0887\"], [0.1111111111111111, \"#46039f\"], [0.2222222222222222, \"#7201a8\"], [0.3333333333333333, \"#9c179e\"], [0.4444444444444444, \"#bd3786\"], [0.5555555555555556, \"#d8576b\"], [0.6666666666666666, \"#ed7953\"], [0.7777777777777778, \"#fb9f3a\"], [0.8888888888888888, \"#fdca26\"], [1.0, \"#f0f921\"]], \"type\": \"contour\"}], \"contourcarpet\": [{\"colorbar\": {\"outlinewidth\": 0, \"ticks\": \"\"}, \"type\": \"contourcarpet\"}], \"heatmap\": [{\"colorbar\": {\"outlinewidth\": 0, \"ticks\": \"\"}, \"colorscale\": [[0.0, \"#0d0887\"], [0.1111111111111111, \"#46039f\"], [0.2222222222222222, \"#7201a8\"], [0.3333333333333333, \"#9c179e\"], [0.4444444444444444, \"#bd3786\"], [0.5555555555555556, \"#d8576b\"], [0.6666666666666666, \"#ed7953\"], [0.7777777777777778, \"#fb9f3a\"], [0.8888888888888888, \"#fdca26\"], [1.0, \"#f0f921\"]], \"type\": \"heatmap\"}], \"heatmapgl\": [{\"colorbar\": {\"outlinewidth\": 0, \"ticks\": \"\"}, \"colorscale\": [[0.0, \"#0d0887\"], [0.1111111111111111, \"#46039f\"], [0.2222222222222222, \"#7201a8\"], [0.3333333333333333, \"#9c179e\"], [0.4444444444444444, \"#bd3786\"], [0.5555555555555556, \"#d8576b\"], [0.6666666666666666, \"#ed7953\"], [0.7777777777777778, \"#fb9f3a\"], [0.8888888888888888, \"#fdca26\"], [1.0, \"#f0f921\"]], \"type\": \"heatmapgl\"}], \"histogram\": [{\"marker\": {\"colorbar\": {\"outlinewidth\": 0, \"ticks\": \"\"}}, \"type\": \"histogram\"}], \"histogram2d\": [{\"colorbar\": {\"outlinewidth\": 0, \"ticks\": \"\"}, \"colorscale\": [[0.0, \"#0d0887\"], [0.1111111111111111, \"#46039f\"], [0.2222222222222222, \"#7201a8\"], [0.3333333333333333, \"#9c179e\"], [0.4444444444444444, \"#bd3786\"], [0.5555555555555556, \"#d8576b\"], [0.6666666666666666, \"#ed7953\"], [0.7777777777777778, \"#fb9f3a\"], [0.8888888888888888, \"#fdca26\"], [1.0, \"#f0f921\"]], \"type\": \"histogram2d\"}], \"histogram2dcontour\": [{\"colorbar\": {\"outlinewidth\": 0, \"ticks\": \"\"}, \"colorscale\": [[0.0, \"#0d0887\"], [0.1111111111111111, \"#46039f\"], [0.2222222222222222, \"#7201a8\"], [0.3333333333333333, \"#9c179e\"], [0.4444444444444444, \"#bd3786\"], [0.5555555555555556, \"#d8576b\"], [0.6666666666666666, \"#ed7953\"], [0.7777777777777778, \"#fb9f3a\"], [0.8888888888888888, \"#fdca26\"], [1.0, \"#f0f921\"]], \"type\": \"histogram2dcontour\"}], \"mesh3d\": [{\"colorbar\": {\"outlinewidth\": 0, \"ticks\": \"\"}, \"type\": \"mesh3d\"}], \"parcoords\": [{\"line\": {\"colorbar\": {\"outlinewidth\": 0, \"ticks\": \"\"}}, \"type\": \"parcoords\"}], \"scatter\": [{\"marker\": {\"colorbar\": {\"outlinewidth\": 0, \"ticks\": \"\"}}, \"type\": \"scatter\"}], \"scatter3d\": [{\"line\": {\"colorbar\": {\"outlinewidth\": 0, \"ticks\": \"\"}}, \"marker\": {\"colorbar\": {\"outlinewidth\": 0, \"ticks\": \"\"}}, \"type\": \"scatter3d\"}], \"scattercarpet\": [{\"marker\": {\"colorbar\": {\"outlinewidth\": 0, \"ticks\": \"\"}}, \"type\": \"scattercarpet\"}], \"scattergeo\": [{\"marker\": {\"colorbar\": {\"outlinewidth\": 0, \"ticks\": \"\"}}, \"type\": \"scattergeo\"}], \"scattergl\": [{\"marker\": {\"colorbar\": {\"outlinewidth\": 0, \"ticks\": \"\"}}, \"type\": \"scattergl\"}], \"scattermapbox\": [{\"marker\": {\"colorbar\": {\"outlinewidth\": 0, \"ticks\": \"\"}}, \"type\": \"scattermapbox\"}], \"scatterpolar\": [{\"marker\": {\"colorbar\": {\"outlinewidth\": 0, \"ticks\": \"\"}}, \"type\": \"scatterpolar\"}], \"scatterpolargl\": [{\"marker\": {\"colorbar\": {\"outlinewidth\": 0, \"ticks\": \"\"}}, \"type\": \"scatterpolargl\"}], \"scatterternary\": [{\"marker\": {\"colorbar\": {\"outlinewidth\": 0, \"ticks\": \"\"}}, \"type\": \"scatterternary\"}], \"surface\": [{\"colorbar\": {\"outlinewidth\": 0, \"ticks\": \"\"}, \"colorscale\": [[0.0, \"#0d0887\"], [0.1111111111111111, \"#46039f\"], [0.2222222222222222, \"#7201a8\"], [0.3333333333333333, \"#9c179e\"], [0.4444444444444444, \"#bd3786\"], [0.5555555555555556, \"#d8576b\"], [0.6666666666666666, \"#ed7953\"], [0.7777777777777778, \"#fb9f3a\"], [0.8888888888888888, \"#fdca26\"], [1.0, \"#f0f921\"]], \"type\": \"surface\"}], \"table\": [{\"cells\": {\"fill\": {\"color\": \"#EBF0F8\"}, \"line\": {\"color\": \"white\"}}, \"header\": {\"fill\": {\"color\": \"#C8D4E3\"}, \"line\": {\"color\": \"white\"}}, \"type\": \"table\"}]}, \"layout\": {\"annotationdefaults\": {\"arrowcolor\": \"#2a3f5f\", \"arrowhead\": 0, \"arrowwidth\": 1}, \"colorscale\": {\"diverging\": [[0, \"#8e0152\"], [0.1, \"#c51b7d\"], [0.2, \"#de77ae\"], [0.3, \"#f1b6da\"], [0.4, \"#fde0ef\"], [0.5, \"#f7f7f7\"], [0.6, \"#e6f5d0\"], [0.7, \"#b8e186\"], [0.8, \"#7fbc41\"], [0.9, \"#4d9221\"], [1, \"#276419\"]], \"sequential\": [[0.0, \"#0d0887\"], [0.1111111111111111, \"#46039f\"], [0.2222222222222222, \"#7201a8\"], [0.3333333333333333, \"#9c179e\"], [0.4444444444444444, \"#bd3786\"], [0.5555555555555556, \"#d8576b\"], [0.6666666666666666, \"#ed7953\"], [0.7777777777777778, \"#fb9f3a\"], [0.8888888888888888, \"#fdca26\"], [1.0, \"#f0f921\"]], \"sequentialminus\": [[0.0, \"#0d0887\"], [0.1111111111111111, \"#46039f\"], [0.2222222222222222, \"#7201a8\"], [0.3333333333333333, \"#9c179e\"], [0.4444444444444444, \"#bd3786\"], [0.5555555555555556, \"#d8576b\"], [0.6666666666666666, \"#ed7953\"], [0.7777777777777778, \"#fb9f3a\"], [0.8888888888888888, \"#fdca26\"], [1.0, \"#f0f921\"]]}, \"colorway\": [\"#636efa\", \"#EF553B\", \"#00cc96\", \"#ab63fa\", \"#FFA15A\", \"#19d3f3\", \"#FF6692\", \"#B6E880\", \"#FF97FF\", \"#FECB52\"], \"font\": {\"color\": \"#2a3f5f\"}, \"geo\": {\"bgcolor\": \"white\", \"lakecolor\": \"white\", \"landcolor\": \"#E5ECF6\", \"showlakes\": true, \"showland\": true, \"subunitcolor\": \"white\"}, \"hoverlabel\": {\"align\": \"left\"}, \"hovermode\": \"closest\", \"mapbox\": {\"style\": \"light\"}, \"paper_bgcolor\": \"white\", \"plot_bgcolor\": \"#E5ECF6\", \"polar\": {\"angularaxis\": {\"gridcolor\": \"white\", \"linecolor\": \"white\", \"ticks\": \"\"}, \"bgcolor\": \"#E5ECF6\", \"radialaxis\": {\"gridcolor\": \"white\", \"linecolor\": \"white\", \"ticks\": \"\"}}, \"scene\": {\"xaxis\": {\"backgroundcolor\": \"#E5ECF6\", \"gridcolor\": \"white\", \"gridwidth\": 2, \"linecolor\": \"white\", \"showbackground\": true, \"ticks\": \"\", \"zerolinecolor\": \"white\"}, \"yaxis\": {\"backgroundcolor\": \"#E5ECF6\", \"gridcolor\": \"white\", \"gridwidth\": 2, \"linecolor\": \"white\", \"showbackground\": true, \"ticks\": \"\", \"zerolinecolor\": \"white\"}, \"zaxis\": {\"backgroundcolor\": \"#E5ECF6\", \"gridcolor\": \"white\", \"gridwidth\": 2, \"linecolor\": \"white\", \"showbackground\": true, \"ticks\": \"\", \"zerolinecolor\": \"white\"}}, \"shapedefaults\": {\"line\": {\"color\": \"#2a3f5f\"}}, \"ternary\": {\"aaxis\": {\"gridcolor\": \"white\", \"linecolor\": \"white\", \"ticks\": \"\"}, \"baxis\": {\"gridcolor\": \"white\", \"linecolor\": \"white\", \"ticks\": \"\"}, \"bgcolor\": \"#E5ECF6\", \"caxis\": {\"gridcolor\": \"white\", \"linecolor\": \"white\", \"ticks\": \"\"}}, \"title\": {\"x\": 0.05}, \"xaxis\": {\"automargin\": true, \"gridcolor\": \"white\", \"linecolor\": \"white\", \"ticks\": \"\", \"zerolinecolor\": \"white\", \"zerolinewidth\": 2}, \"yaxis\": {\"automargin\": true, \"gridcolor\": \"white\", \"linecolor\": \"white\", \"ticks\": \"\", \"zerolinecolor\": \"white\", \"zerolinewidth\": 2}}}, \"title\": {\"font\": {\"color\": \"#4D5663\"}}, \"xaxis\": {\"gridcolor\": \"#E1E5ED\", \"showgrid\": true, \"tickfont\": {\"color\": \"#4D5663\"}, \"title\": {\"font\": {\"color\": \"#4D5663\"}, \"text\": \"\"}, \"zerolinecolor\": \"#E1E5ED\"}, \"yaxis\": {\"gridcolor\": \"#E1E5ED\", \"showgrid\": true, \"tickfont\": {\"color\": \"#4D5663\"}, \"title\": {\"font\": {\"color\": \"#4D5663\"}, \"text\": \"\"}, \"zerolinecolor\": \"#E1E5ED\"}},\n",
       "                        {\"showLink\": true, \"linkText\": \"Export to plot.ly\", \"plotlyServerURL\": \"https://plot.ly\", \"responsive\": true}\n",
       "                    ).then(function(){\n",
       "                            \n",
       "var gd = document.getElementById('e79cb7a2-32a4-46d0-99ec-1f890d5c609b');\n",
       "var x = new MutationObserver(function (mutations, observer) {{\n",
       "        var display = window.getComputedStyle(gd).display;\n",
       "        if (!display || display === 'none') {{\n",
       "            console.log([gd, 'removed!']);\n",
       "            Plotly.purge(gd);\n",
       "            observer.disconnect();\n",
       "        }}\n",
       "}});\n",
       "\n",
       "// Listen for the removal of the full notebook cells\n",
       "var notebookContainer = gd.closest('#notebook-container');\n",
       "if (notebookContainer) {{\n",
       "    x.observe(notebookContainer, {childList: true});\n",
       "}}\n",
       "\n",
       "// Listen for the clearing of the current output cell\n",
       "var outputEl = gd.closest('.output');\n",
       "if (outputEl) {{\n",
       "    x.observe(outputEl, {childList: true});\n",
       "}}\n",
       "\n",
       "                        })\n",
       "                };\n",
       "                });\n",
       "            </script>\n",
       "        </div>"
      ]
     },
     "metadata": {},
     "output_type": "display_data"
    }
   ],
   "source": [
    "search_terms = {'experimental_method':'Electron Microscopy'\n",
    "               } \n",
    "filter_results = ['experimental_method','release_year', 'pdb_id']\n",
    "results = run_search(search_terms, filter_results, number_of_rows=1000000)\n",
    "pandas_plot_multi_groupby(results, 'release_year', 'experimental_method')"
   ]
  },
  {
   "cell_type": "code",
   "execution_count": null,
   "metadata": {},
   "outputs": [],
   "source": [
    "2) New refinement programs have got better and there are more methods to validate the quality of strucures in the PDB.\n",
    "Have structures got better over time?\n",
    "We can use \"overall_quality\" to judge this"
   ]
  },
  {
   "cell_type": "code",
   "execution_count": 243,
   "metadata": {},
   "outputs": [
    {
     "name": "stdout",
     "output_type": "stream",
     "text": [
      "https://www.ebi.ac.uk/pdbe/search/pdb/select?q=experimental_method:\"Electron Microscopy\"&fl=overall_quality,release_year,pdb_id&wt=json&rows=1000000\n",
      "Number of results for Electron Microscopy: 43251\n"
     ]
    }
   ],
   "source": [
    "search_terms = {'experimental_method':'Electron Microscopy'\n",
    "               } \n",
    "filter_results = ['overall_quality','release_year', 'pdb_id']\n",
    "results = run_search(search_terms, filter_results, number_of_rows=1000000)"
   ]
  },
  {
   "cell_type": "code",
   "execution_count": 238,
   "metadata": {},
   "outputs": [
    {
     "data": {
      "text/plain": [
       "<matplotlib.axes._subplots.AxesSubplot at 0x7f23b9e10c50>"
      ]
     },
     "execution_count": 238,
     "metadata": {},
     "output_type": "execute_result"
    },
    {
     "data": {
      "image/png": "[encoded data removed]",
      "text/plain": [
       "<Figure size 432x288 with 1 Axes>"
      ]
     },
     "metadata": {
      "needs_background": "light"
     },
     "output_type": "display_data"
    }
   ],
   "source": [
    "df = pandas_dataset(results)\n",
    "ds = df.groupby(['release_year'])['overall_quality'].min()\n",
    "ds.plot(x='release_year', y='overall_quality', kind='line')"
   ]
  },
  {
   "cell_type": "code",
   "execution_count": 245,
   "metadata": {},
   "outputs": [
    {
     "data": {
      "text/plain": [
       "<matplotlib.axes._subplots.AxesSubplot at 0x7f23bf714160>"
      ]
     },
     "execution_count": 245,
     "metadata": {},
     "output_type": "execute_result"
    },
    {
     "data": {
      "image/png": "[encoded data removed]",
      "text/plain": [
       "<Figure size 432x288 with 1 Axes>"
      ]
     },
     "metadata": {
      "needs_background": "light"
     },
     "output_type": "display_data"
    }
   ],
   "source": [
    "df = pandas_dataset(results)\n",
    "df.boxplot(column='overall_quality',by='release_year')"
   ]
  },
  {
   "cell_type": "markdown",
   "metadata": {},
   "source": [
    "2) Electron Microscopy resolution has been said to be improving. Is this true? \n",
    "hint - the search term and filter can be different.\n",
    "It will be necessary to write your own Pandas function to get this to work."
   ]
  },
  {
   "cell_type": "code",
   "execution_count": 187,
   "metadata": {},
   "outputs": [
    {
     "name": "stdout",
     "output_type": "stream",
     "text": [
      "https://www.ebi.ac.uk/pdbe/search/pdb/select?q=experimental_method:\"Electron Microscopy\"&fl=resolution,release_year,pdb_id&wt=json&rows=1000000\n",
      "Number of results for Electron Microscopy: 43251\n"
     ]
    },
    {
     "data": {
      "text/plain": [
       "<matplotlib.axes._subplots.AxesSubplot at 0x7f23b46cf908>"
      ]
     },
     "execution_count": 187,
     "metadata": {},
     "output_type": "execute_result"
    },
    {
     "data": {
      "image/png": "[encoded data removed]",
      "text/plain": [
       "<Figure size 432x288 with 1 Axes>"
      ]
     },
     "metadata": {
      "needs_background": "light"
     },
     "output_type": "display_data"
    }
   ],
   "source": [
    "search_terms = {'experimental_method':'Electron Microscopy'\n",
    "               } \n",
    "filter_results = ['resolution','release_year', 'pdb_id']\n",
    "results = run_search(search_terms, filter_results, number_of_rows=1000000)\n",
    "df = pandas_dataset(results)\n",
    "ds = df.groupby(['release_year'])['resolution'].min()\n",
    "ds.plot(x='release_year', y='resolution', kind='line')"
   ]
  },
  {
   "cell_type": "markdown",
   "metadata": {},
   "source": [
    "3) It has been said that all the simple structures have been done and that only complicated structures are left. One metric for \"complicated\" could be molecular weight. "
   ]
  },
  {
   "cell_type": "code",
   "execution_count": 105,
   "metadata": {},
   "outputs": [
    {
     "name": "stdout",
     "output_type": "stream",
     "text": [
      "https://www.ebi.ac.uk/pdbe/search/pdb/select?q=experimental_method:\"Electron Microscopy\"&fl=resolution,release_year,pdb_id&wt=json&rows=1000000\n",
      "Number of results for Electron Microscopy: 43251\n"
     ]
    }
   ],
   "source": [
    "search_terms = {'experimental_method':'Electron Microscopy'\n",
    "               } \n",
    "filter_results = ['resolution','release_year', 'pdb_id']\n",
    "results = run_search(search_terms, filter_results, number_of_rows=1000000)\n",
    "df = pandas_dataset(results)\n",
    "ds = df.groupby(['release_year'])['resolution'].min()\n",
    "ds.plot(x='release_year', y='resolution', kind='line')"
   ]
  },
  {
   "cell_type": "code",
   "execution_count": 126,
   "metadata": {
    "scrolled": true
   },
   "outputs": [
    {
     "data": {
      "text/plain": [
       "<matplotlib.axes._subplots.AxesSubplot at 0x7f23bf11b080>"
      ]
     },
     "execution_count": 126,
     "metadata": {},
     "output_type": "execute_result"
    },
    {
     "data": {
      "image/png": "[encoded data removed]",
      "text/plain": [
       "<Figure size 432x288 with 1 Axes>"
      ]
     },
     "metadata": {
      "needs_background": "light"
     },
     "output_type": "display_data"
    }
   ],
   "source": [
    "pandas_plot_multi_groupby(results, 'release_year', 'experimental_method')\n",
    "#pandas_count(list_of_results=results, column_to_group_by='resolution')\n",
    "\n"
   ]
  },
  {
   "cell_type": "code",
   "execution_count": null,
   "metadata": {},
   "outputs": [],
   "source": []
  }
 ],
 "metadata": {
  "kernelspec": {
   "display_name": "Python 3",
   "language": "python",
   "name": "python3"
  },
  "language_info": {
   "codemirror_mode": {
    "name": "ipython",
    "version": 3
   },
   "file_extension": ".py",
   "mimetype": "text/x-python",
   "name": "python",
   "nbconvert_exporter": "python",
   "pygments_lexer": "ipython3",
   "version": "3.7.3"
  }
 },
 "nbformat": 4,
 "nbformat_minor": 2
}
