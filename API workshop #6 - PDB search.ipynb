{
 "cells": [
  {
   "cell_type": "markdown",
   "metadata": {},
   "source": [
    "# PDBe API Training\n",
    "\n",
    "This interactive Python notebook will guide you through various ways of programmatically accessing Protein Data Bank in Europe (PDBe) data using REST API\n",
    "\n",
    "The REST API is a programmatic way to obtain information from the PDB and EMDB. You can access details about:\n",
    "\n",
    "* sample\n",
    "* experiment\n",
    "* models\n",
    "* compounds\n",
    "* cross-references\n",
    "* publications\n",
    "* quality\n",
    "* assemblies\n",
    "and more...\n",
    "For more information, visit https://www.ebi.ac.uk/pdbe/pdbe-rest-api\n",
    "\n",
    "# Notebook #6\n",
    "This notebook is the second in the training material series, and focuses on getting information for multiple PDB entries using the REST search API of PDBe.\n",
    "\n",
    "## 1) Making imports and setting variables\n",
    "First, we import some packages that we will use, and set some variables.\n",
    "\n",
    "Note: Full list of valid URLs is available from https://www.ebi.ac.uk/pdbe/api/doc/"
   ]
  },
  {
   "cell_type": "code",
   "execution_count": 1,
   "metadata": {},
   "outputs": [
    {
     "data": {
      "text/html": "        <script type=\"text/javascript\">\n        window.PlotlyConfig = {MathJaxConfig: 'local'};\n        if (window.MathJax) {MathJax.Hub.Config({SVG: {font: \"STIX-Web\"}});}\n        if (typeof require !== 'undefined') {\n        require.undef(\"plotly\");\n        requirejs.config({\n            paths: {\n                'plotly': ['https://cdn.plot.ly/plotly-latest.min']\n            }\n        });\n        require(['plotly'], function(Plotly) {\n            window._Plotly = Plotly;\n        });\n        }\n        </script>\n        "
     },
     "metadata": {},
     "output_type": "display_data"
    },
    {
     "data": {
      "text/html": "        <script type=\"text/javascript\">\n        window.PlotlyConfig = {MathJaxConfig: 'local'};\n        if (window.MathJax) {MathJax.Hub.Config({SVG: {font: \"STIX-Web\"}});}\n        if (typeof require !== 'undefined') {\n        require.undef(\"plotly\");\n        requirejs.config({\n            paths: {\n                'plotly': ['https://cdn.plot.ly/plotly-latest.min']\n            }\n        });\n        require(['plotly'], function(Plotly) {\n            window._Plotly = Plotly;\n        });\n        }\n        </script>\n        "
     },
     "metadata": {},
     "output_type": "display_data"
    }
   ],
   "source": [
    "import requests # used for getting data from a URL\n",
    "from pprint import pprint # pretty print\n",
    "import matplotlib.pyplot as plt # plotting results\n",
    "import pandas as pd # used for turning results into mini databases\n",
    "\n",
    "# make graphs show on the page\n",
    "%matplotlib inline\n",
    "\n",
    "# use plotly and cufflinks to make interactive plots\n",
    "import cufflinks as cf\n",
    "from plotly.offline import download_plotlyjs, init_notebook_mode, plot, iplot \n",
    "init_notebook_mode(connected=True)\n",
    "cf.go_offline()\n",
    "\n",
    "\n",
    "# settings for PDBe API\n",
    "base_url = \"https://www.ebi.ac.uk/pdbe/\" # the beginning of the URL for PDBe's API.\n",
    "\n",
    "api_base = base_url + \"api/\"\n",
    "\n",
    "search_url = base_url + 'search/pdb/select?' # the rest of the URL used for PDBe's search API. "
   ]
  },
  {
   "cell_type": "markdown",
   "metadata": {},
   "source": [
    "## 2) a function to get data from the search API\n",
    "Let's start with defining a function that can be used to GET data from the PDBe search API.\n"
   ]
  },
  {
   "cell_type": "code",
   "execution_count": 2,
   "metadata": {},
   "outputs": [],
   "source": [
    "def make_request(search_term, number_of_rows=10):\n",
    "    \"\"\"\n",
    "    This function can make GET requests to\n",
    "    the PDBe search API\n",
    "    \n",
    "    :param url: String,\n",
    "    :param pdb_id: String\n",
    "    :return: JSON\n",
    "    \"\"\"\n",
    "    search_variables = '&wt=json&rows={}'.format(number_of_rows)\n",
    "    url = search_url+search_term+search_variables\n",
    "    print(url)\n",
    "    response = requests.get(url)\n",
    "\n",
    "    if response.status_code == 200:\n",
    "        return response.json()\n",
    "    else:\n",
    "        print(\"[No data retrieved - %s] %s\" % (response.status_code, response.text))\n",
    "    \n",
    "    return {}"
   ]
  },
  {
   "cell_type": "markdown",
   "metadata": {},
   "source": [
    "## 3) formatting the search terms \n",
    "This will allow us to use human readable search terms and this function will make a URL that the search API can handle."
   ]
  },
  {
   "cell_type": "code",
   "execution_count": 3,
   "metadata": {},
   "outputs": [],
   "source": [
    "def format_search_terms(search_terms, filter_terms=None):\n",
    "    # print('formatting search terms: %s' % search_terms)\n",
    "    search_string = ''\n",
    "    filter_string = ''\n",
    "    search_list = []\n",
    "    if isinstance(search_terms, dict):\n",
    "        for key in search_terms:\n",
    "            term = search_terms.get(key)\n",
    "            if ' ' in term:\n",
    "                if not '\"' in term:\n",
    "                    term = '\"{}\"'.format(term)\n",
    "                elif not \"'\" in term:\n",
    "                    term = \"'{}'\".format(term)\n",
    "            search_list.append('{}:{}'.format(key, term))\n",
    "        search_string = ' AND '.join(search_list)\n",
    "    else:\n",
    "        if '&' in search_terms:\n",
    "            search_string = search_terms.replace('&', ' AND ')\n",
    "        else:\n",
    "            search_string = search_terms\n",
    "    if filter_terms:\n",
    "        filter_string = '&fl={}'.format(','.join(filter_terms))\n",
    "    # print('formatted search terms: %s' % search_string)\n",
    "    final_search_string = 'q={}{}'.format(search_string, filter_string)\n",
    "    return final_search_string"
   ]
  },
  {
   "cell_type": "markdown",
   "metadata": {},
   "source": [
    "## 4) Getting useful data out of the search\n",
    "\n",
    "This function will run the search and will return a list of the results"
   ]
  },
  {
   "cell_type": "code",
   "execution_count": 4,
   "metadata": {},
   "outputs": [],
   "source": [
    "def run_search(search_terms, filter_terms=None, number_of_rows=100):\n",
    "    search_term = format_search_terms(search_terms, filter_terms)\n",
    "\n",
    "    response = make_request(search_term, number_of_rows)\n",
    "    results = response.get('response', {}).get('docs', [])\n",
    "    print('Number of results for {}: {}'.format(','.join(search_terms.values()), len(results)))\n",
    "    return results\n",
    "    "
   ]
  },
  {
   "cell_type": "markdown",
   "metadata": {},
   "source": [
    "## 5) running a search\n",
    "\n",
    "Now we are ready to actually run a search against the PDB API for entries containing human Dihydrofolate reductase in the PDB. This will return a list of results - only 10 to start with.\n",
    "\n",
    "A list of search terms is available at:\n",
    "https://www.ebi.ac.uk/pdbe/api/doc/search.html\n",
    "\n",
    "This will return details of human Dihydrofolate reductase's in the PDB\n",
    "\n",
    "The search terms are defined as a dictionary (a hash in other programming lanuguages). \n",
    "e.g. \n",
    "{\"molecule_name\":\"Dihydrofolate reductase\"}\n",
    "Here we are searching for molecules named Dihydrofolate reductase.\n",
    "If we search for two terms i.e. molecule_name and organism_scientific_name then we will get molecules that match both search terms.\n",
    "\n",
    "We will return the number of results for two searches.\n",
    "\n",
    "The first one will hit the limit of 100. There are more than 100 Dihydrofolate reductase structures. \n",
    "We have to add the argument \"number_of_rows\" to a higher number, say 1000, to find all the examples. "
   ]
  },
  {
   "cell_type": "code",
   "execution_count": 5,
   "metadata": {},
   "outputs": [
    {
     "name": "stdout",
     "output_type": "stream",
     "text": "1st search\nhttps://www.ebi.ac.uk/pdbe/search/pdb/select?q=molecule_name:\"Dihydrofolate reductase\"&wt=json&rows=100\nNumber of results for Dihydrofolate reductase: 100\n"
    }
   ],
   "source": [
    "print('1st search')\n",
    "search_terms = {\"molecule_name\":\"Dihydrofolate reductase\"} \n",
    "\n",
    "results = run_search(search_terms)"
   ]
  },
  {
   "cell_type": "code",
   "execution_count": 6,
   "metadata": {},
   "outputs": [
    {
     "name": "stdout",
     "output_type": "stream",
     "text": "https://www.ebi.ac.uk/pdbe/search/pdb/select?q=molecule_name:\"Dihydrofolate reductase\"&wt=json&rows=1000\nNumber of results for Dihydrofolate reductase: 365\n"
    }
   ],
   "source": [
    "results = run_search(search_terms, number_of_rows=1000)"
   ]
  },
  {
   "cell_type": "markdown",
   "metadata": {},
   "source": [
    "We will add organism_name of Human to the query to limit the results to only return those that are structures of Human Dihydrofolate reductase."
   ]
  },
  {
   "cell_type": "code",
   "execution_count": 7,
   "metadata": {},
   "outputs": [
    {
     "name": "stdout",
     "output_type": "stream",
     "text": "2nd search\nhttps://www.ebi.ac.uk/pdbe/search/pdb/select?q=molecule_name:\"Dihydrofolate reductase\" AND organism_name:Human&wt=json&rows=100\nNumber of results for Dihydrofolate reductase,Human: 79\n"
    }
   ],
   "source": [
    "print('2nd search')\n",
    "search_terms = {\"molecule_name\":\"Dihydrofolate reductase\",\n",
    "                \"organism_name\":\"Human\"\n",
    "               } \n",
    "results = run_search(search_terms)"
   ]
  },
  {
   "cell_type": "markdown",
   "metadata": {},
   "source": [
    "We will then look at the last result.\n",
    "We will print the data we have for the first result.\n",
    "\n",
    "This will be the first item of the list \"results\"\n",
    "i.e. results[0]\n",
    "\n",
    "We are using \"pprint\" (pretty print) rather than \"print\" to make the result easier to read."
   ]
  },
  {
   "cell_type": "code",
   "execution_count": 8,
   "metadata": {},
   "outputs": [
    {
     "name": "stdout",
     "output_type": "stream",
     "text": "a': 100.967,\n 'q_nigli_cell_c': 56.376,\n 'q_nigli_cell_gamma': 100.967,\n 'q_nigli_cell_symmetry': 'R32',\n 'q_num_interacting_entity_id': [0],\n 'q_number_of_bound_entities': 2,\n 'q_number_of_bound_molecules': 2,\n 'q_number_of_copies': 1,\n 'q_number_of_models': 1,\n 'q_number_of_polymer_entities': 1,\n 'q_number_of_polymer_residues': 374,\n 'q_number_of_polymers': 1,\n 'q_number_of_protein_chains': 1,\n 'q_organism_name': ['Homo sapiens',\n                     'Man',\n                     'Homo Sapiens (Human)',\n                     'Human',\n                     'Homo Sapiens',\n                     'Homo sapiens',\n                     'Homo',\n                     'Homininae',\n                     'Hominidae',\n                     'Primates',\n                     'Mammalia',\n                     'Chordata',\n                     'Metazoa',\n                     'Eukaryota'],\n 'q_organism_scientific_name': ['Homo sapiens'],\n 'q_organism_synonyms': ['Man',\n                         'Homo Sapiens (Human)',\n                         'Human',\n                         'Homo Sapiens',\n                         'Homo sapiens',\n                         'Homo',\n                         'Homininae',\n                         'Hominidae',\n                         'Primates',\n                         'Mammalia',\n                         'Chordata',\n                         'Metazoa',\n                         'Eukaryota'],\n 'q_overall_quality': -63.0,\n 'q_pdb_accession': '1s3w',\n 'q_pdb_format_compatible': 'Y',\n 'q_pdb_id': '1s3w',\n 'q_percent_solvent': 53.04,\n 'q_pfam': ['PF00186 : DHFR_1'],\n 'q_pfam_accession': ['PF00186'],\n 'q_pfam_clan': ['CL0387 : DHFred'],\n 'q_pfam_clan_name': ['DHFred'],\n 'q_pfam_description': ['Dihydrofolate reductase'],\n 'q_pfam_name': ['DHFR_1'],\n 'q_pivot_resolution': 1.9,\n 'q_polymer_length': 186,\n 'q_prefered_assembly_id': '1',\n 'q_primary_wavelength': 1.5418,\n 'q_processing_site': 'RCSB',\n 'q_pubmed_author_list': ['Cody V, Luft JR, Pangborn W, Gangjee A, Queener SF'],\n 'q_pubmed_authors': ['Cody V',\n                      'Luft JR',\n                      'Pangborn W',\n                      'Gangjee A',\n                      'Queener SF'],\n 'q_pubmed_id': '15039552',\n 'q_r_factor': 0.216,\n 'q_r_free': 0.216,\n 'q_r_work': [0.177],\n 'q_rank': ['species',\n            'genus',\n            'subfamily',\n'family',\n            'order',\n            'class',\n            'phylum',\n            'kingdom',\n            'superkingdom',\n            'species',\n            'genus',\n            'family',\n            'order',\n            'class',\n            'phylum',\n            'superkingdom'],\n 'q_refinement_software': ['CNS'],\n 'q_release_date': '2004-03-30T01:00:00Z',\n 'q_release_year': 2004,\n 'q_resolution': 1.9,\n 'q_revision_date': '2011-07-13T01:00:00Z',\n 'q_revision_year': 2011,\n 'q_sample_preparation_method': ['Engineered'],\n 'q_scop_class': ['Alpha and beta proteins (a/b)'],\n 'q_scop_family': ['Dihydrofolate reductases'],\n 'q_scop_fold': ['Dihydrofolate reductase-like'],\n 'q_scop_superfamily': ['Dihydrofolate reductase-like'],\n 'q_seq_100_cluster_number': '33614',\n 'q_seq_100_cluster_rank': 36,\n 'q_seq_30_cluster_number': '12361',\n 'q_seq_30_cluster_rank': 60,\n 'q_seq_40_cluster_number': '23062',\n 'q_seq_40_cluster_rank': 60,\n 'q_seq_50_cluster_number': '32707',\n 'q_seq_50_cluster_rank': 60,\n 'q_seq_70_cluster_number': '28973',\n 'q_seq_70_cluster_rank': 60,\n 'q_seq_90_cluster_number': '43363',\n 'q_seq_90_cluster_rank': 55,\n 'q_seq_95_cluster_number': '26752',\n 'q_seq_95_cluster_rank': 49,\n 'q_spacegroup': 'H 3',\n 'q_status': 'REL',\n 'q_struct_asym_id': ['A'],\n 'q_structure_determination_method': ['FOURIER SYNTHESIS'],\n 'q_structure_solution_software': ['CNS'],\n 'q_superkingdom': ['Eukaryota'],\n 'q_tax_id': [9606],\n 'q_tax_query': [9606],\n 'q_title': 'Structure Determination of Tetrahydroquinazoline Antifoaltes in '\n            'Complex with Human and Pneumocystis carinii Dihydrofolate '\n            'Reductase: Correlations of Enzyme Selectivity and Stereochemistry',\n 'q_uniprot': ['P00374 : DYR_HUMAN'],\n 'q_uniprot_accession': ['P00374', 'P00374-2'],\n 'q_uniprot_accession_best': ['P00374'],\n 'q_uniprot_best': ['P00374 : DYR_HUMAN'],\n 'q_uniprot_coverage': [0.99],\n 'q_uniprot_features': ['Protein has possible alternate isoforms',\n                        'DHFR',\n                        'Protein has possible natural variant ',\n                        'Nucleotide binding - NADP'],\n 'q_uniprot_id': ['DYR_HUMAN', 'DYR_HUMAN'],\n 'q_uniprot_id_best': ['DYR_HUMAN'],\n 'q_uniprot_non_canonical': ['P00374-2 : DYR_HUMAN'],\n 'q_unp_count': 1,\n 'q_unp_nf90_accession': ['B0YJ76',\n                          'A0A2K6C3Y8',\n                          'P00374',\n                          'A0A024RAQ3',\n                          'S5WD14',\n                          'S5VM81'],\n 'q_unp_nf90_id': ['B0YJ76_HUMAN',\n                   'A0A2K6C3Y8_MACNE',\n                   'DYR_HUMAN',\n                   'A0A024RAQ3_HUMAN',\n                   'S5WD14_SHISS',\n                   'S5VM81_ECO57'],\n 'q_unp_nf90_organism': ['Homo sapiens (Human)',\n                         'Macaca nemestrina (Pig-tailed macaque)',\n                         'Homo sapiens (Human)',\n                         'Homo sapiens (Human)',\n                         'Shigella sonnei (strain Ss046)',\n                         'Escherichia coli O157:H7'],\n 'q_unp_nf90_protein_name': ['Dihydrofolate reductase',\n                             'DHFR domain-containing protein',\n                             'Dihydrofolate reductase',\n                             'Dihydrofolate reductase, isoform CRA_a',\n                             'Trimethoprim resistant protein',\n                             'Trimethoprim resistant protein'],\n 'q_unp_nf90_tax_id': ['9606', '9545', '9606', '9606', '300269', '83334'],\n 'r_factor': 0.216,\n 'r_free': 0.216,\n 'r_work': [0.177],\n 'rank': ['species',\n          'genus',\n          'subfamily',\n          'family',\n          'order',\n          'class',\n          'phylum',\n          'kingdom',\n          'superkingdom',\n          'species',\n          'genus',\n          'family',\n          'order',\n          'class',\n          'phylum',\n          'superkingdom'],\n 'refinement_software': ['CNS'],\n 'release_date': '2004-03-30T01:00:00Z',\n 'release_year': 2004,\n 'resolution': 1.9,\n 'revision_date': '2011-07-13T01:00:00Z',\n 'revision_year': 2011,\n 'sample_preparation_method': ['Engineered'],\n 'scop_class': ['Alpha and beta proteins (a/b)'],\n 'scop_family': ['Dihydrofolate reductases'],\n 'scop_fold': ['Dihydrofolate reductase-like'],\n 'scop_superfamily': ['Dihydrofolate reductase-like'],\n 'seq_100_cluster_number': '33614',\n 'seq_100_cluster_rank': 36,\n 'seq_30_cluster_number': '12361',\n 'seq_30_cluster_rank': 60,\n 'seq_40_cluster_number': '23062',\n 'seq_40_cluster_rank': 60,\n 'seq_50_cluster_number': '32707',\n 'seq_50_cluster_rank': 60,\n 'seq_70_cluster_number': '28973',\n 'seq_70_cluster_rank': 60,\n 'seq_90_cluster_number': '43363',\n 'seq_90_cluster_rank': 55,\n 'seq_95_cluster_number': '26752',\n 'seq_95_cluster_rank': 49,\n 'spacegroup': 'H 3',\n 'status': 'REL',\n 'struct_asym_id': ['A'],\n 'structure_determination_method': ['FOURIER SYNTHESIS'],\n 'structure_solution_software': ['CNS'],\n 'superkingdom': ['Eukaryota'],\n 't_abstracttext_unassigned': ['Structural data are reported for the first '\n                               'examples of the tetrahydroquinazoline '\n                               'antifolate '\n                               '(6R,6S)-2,4-diamino-6-(1-indolinomethyl)-5,6,7,8-tetrahydroquinazoline '\n                               '(1) and its trimethoxy analogue '\n                               \"(6R,6S)-2,4-diamino-6-(3',4',5'-trimethoxybenzyl)-5,6,7,8-tetrahydroquinazoline \"\n                               '(2) as inhibitor complexes with dihydrofolate '\n                               'reductase (DHFR) from human (hDHFR) and '\n                               'Pneumocystis carinii (pcDHFR) sources. The '\n                               'indoline analogue (1) was crystallized as '\n                               'ternary complexes with NADPH and hDHFR (1.9 A '\n                               'resolution) and pcDHFR (2.3 A resolution), '\n                               'while the trimethoxy quinazoline analogue (2) '\n                               'was crystallized as a binary complex with '\n                               'hDHFR in two polymorphic rhombohedral R3 '\n                               'lattices: R3(1) to 1.8 A resolution and R3(2) '\n                               'to 2.0 A resolution. Structural analysis of '\n                               'these potent and selective DHFR-inhibitor '\n                               'complexes revealed preferential binding of the '\n                               '6S-equatorial isomer in each structure. This '\n                               'configuration is similar to that of the '\n                               'natural tetrahydrofolate substrate; that is, '\n                               '6S. These data also show that in both the '\n                               'hDHFR and pcDHFR ternary complexes with (1) '\n                               'the indoline ring is partially disordered, '\n                               'with two static conformations that differ '\n                               'between structures. These conformers also '\n                               'differ from that observed for the '\n                               'trimethoxybenzyl ring of tetrahydroquinazoline '\n                               '(2). There is also a correlation between the '\n                               'disorder of the flexible loop 23 and the '\n                               'disorder of the cofactor nicotinamide ribose '\n                               'ring in the pcDHFR-NADPH-(1) ternary complex. '\n                               'Comparison of the Toxoplasma gondii DHFR '\n                               '(tgDHFR) sequence with those of other DHFRs '\n                               'provides insight into the role of sequence and '\n                               'conformation in inhibitor-binding preferences '\n                               'which may aid in the design of novel '\n                               'antifolates with specific DHFR selectivity.'],\n 't_all_compound_names': ['Nicotinamide-adenine dinucleotide',\n                          'NAP',\n                          'NAP : NADP NICOTINAMIDE-ADENINE-DINUCLEOTIDE '\n                          'PHOSPHATE',\n                          'TQT : '\n                          '6-(OCTAHYDRO-1H-INDOL-1-YLMETHYL)DECAHYDROQUINAZOLINE-2,4-DIAMINE',\n                          \"NAP : 2'-MONOPHOSPHOADENOSINE 5'-DIPHOSPHORIBOSE\",\n                          'TQT : '\n                          '(6S)-6-(2,3,3a,4,5,6,7,7a-octahydroindol-1-ylmethyl)-1,2,3,4,4a,5,6,7,8,8a-decahydroquinazoline-2,4-diamine',\n                          'NAP : '\n                          '[(2R,3S,4R,5R)-5-(3-aminocarbonylpyridin-1-ium-1-yl)-3,4-dihydroxy-oxolan-2-yl]methyl '\n                          '[[(2R,3R,4R,5R)-5-(6-aminopurin-9-yl)-3-hydroxy-4-phosphonooxy-oxolan-2-yl]methoxy-hydroxy-phosphoryl] '\n                          'phosphate',\n                          'TQT : '\n                          '(2R,4R,4aR,6S,8aS)-6-[(3aR,7aS)-octahydro-1H-indol-1-ylmethyl]decahydroquinazoline-2,4-diamine'],\n 't_all_enzyme_names': ['Oxidoreductases',\n                        'Acting on the CH-NH group of donors',\n                        'With NAD(+) or NADP(+) as acceptor',\n                        'Dihydrofolate reductase',\n                        '1.5.1.3 : Dihydrofolate reductase',\n                        '5,6,7,8-tetrahydrofolate:NADP(+) oxidoreductase'],\n 't_all_go_terms': ['cytoplasm',\n                    'mitochondrion',\n                    'cytosol',\n                    'folic acid binding',\n                    'oxidoreductase activity',\n                    'NADPH binding',\n                    'RNA binding',\n                    'sequence-specific mRNA binding',\n                    'mRNA binding',\n                    'dihydrofolate reductase activity',\n                    'methotrexate binding',\n                    'NADP binding',\n                    'translation repressor activity, mRNA regulatory element '\n                    'binding',\n                    'drug binding',\n                    'one-carbon metabolic process',\n                    'folic acid metabolic process',\n                    'negative regulation of translation',\n                    'response to methotrexate',\n                    'regulation of removal of superoxide radicals',\n                    'tetrahydrobiopterin biosynthetic process',\n                    'tetrahydrofolate metabolic process',\n                    'tetrahydrofolate biosynthetic process',\n                    'regulation of transcription involved in G1/S transition '\n                    'of mitotic cell cycle',\n                    'positive regulation of nitric-oxide synthase activity',\n                    'oxidation-reduction process',\n                    'axon regeneration',\n                    'dihydrofolate metabolic process'],\n 't_all_sequence_family': ['IPR001796 : Dihydrofolate reductase domain',\n                           'IPR017925 : Dihydrofolate reductase conserved site',\n                           'IPR024072 : Dihydrofolate reductase-like domain '\n                           'superfamily',\n                           'PF00186 : DHFR_1',\n                           'CL0387 : DHFred'],\n 't_all_structure_family': ['3-Layer(aba) Sandwich',\n                            'Alpha Beta',\n                            '3.40.430.10',\n                            'Dihydrofolate Reductase, subunit A',\n                            'Dihydrofolate Reductase, subunit A',\n                            'Alpha and beta proteins (a/b)',\n                            'Dihydrofolate reductases',\n                            'Dihydrofolate reductase-like',\n                            'Dihydrofolate reductase-like'],\n 't_citation_authors': ['Cody V',\n                        'Luft JR',\n                        'Pangborn W',\n                        'Gangjee A',\n                        'Queener SF'],\n 't_citation_title': ['Structure determination of tetrahydroquinazoline '\n                      'antifolates in complex with human and Pneumocystis '\n                      'carinii dihydrofolate reductase: correlations between '\n                      'enzyme selectivity and stereochemistry.'],\n 't_entry_authors': ['Cody V',\n                     'Luft JR',\n                     'Pangborn W',\n                     'Gangjee A',\n                     'Queener SF'],\n 't_entry_info': ['DENZO',\n                  'SCALEPACK',\n                  'Image plate',\n                  'RIGAKU RAXIS IIC',\n                  'X-ray diffraction',\n                  'CNS',\n                  'FOURIER SYNTHESIS',\n                  'CNS'],\n 't_entry_title': ['Structure Determination of Tetrahydroquinazoline '\n                   'Antifoaltes in Complex with Human and Pneumocystis carinii '\n                   'Dihydrofolate Reductase: Correlations of Enzyme '\n                   'Selectivity and Stereochemistry'],\n 't_expression_organism_name': ['Escherichia coli',\n                                'Bacterium Coli',\n                                'Enterococcus Coli',\n                                'Bacterium 10a',\n                                'Escherichia Coli',\n                                'Escherichia Sp. 3_2_53faa',\n                                'Escherichia/Shigella Coli',\n                                'Ecolx',\n                                'Bacterium E3',\n                                'Bacterium Coli Commune',\n                                'E. Coli',\n                                'Bacillus Coli',\n                                'Escherichia Sp. Mar',\n                                'Escherichia coli',\n                                'Escherichia',\n                                'Enterobacteriaceae',\n                                'Enterobacterales',\n                                'Gammaproteobacteria',\n                                'Proteobacteria',\n                                'Bacteria'],\n 't_journal': ['Acta Crystallogr. D Biol. Crystallogr.'],\n 't_mesh_terms': ['Crystallography, X-Ray,Folic Acid '\n                  'Antagonists,Humans,Models, Molecular,Molecular '\n                  'Structure,Pneumocystis carinii,Protein Binding,Protein '\n                  'Conformation,Quinazolines,Stereoisomerism,Substrate '\n                  'Specificity,Tetrahydrofolate Dehydrogenase'],\n 't_molecule_info': ['protein structure',\n                     'homo',\n                     'monomer',\n                     'Dihydrofolate reductase',\n                     'Dihydrofolate reductase',\n                     'protein structure',\n                     'homo',\n                     'monomer',\n                     'DHFR',\n                     'P00374',\n                     'P00374-2',\n                     'Protein has possible alternate isoforms',\n                     'DHFR',\n                     'Protein has possible natural variant ',\n                     'Nucleotide binding - NADP',\n                     'DYR_HUMAN',\n                     'DYR_HUMAN'],\n 't_molecule_sequence': 'VGSLNCIVAVSQNMGIGKNGDLPWPPLRNEFRYFQRMTTTSSVEGKQNLVIMGKKTWFSIPEKNRPLKGRINLVLSRELKEPPQGAHFLSRSLDDALKLTEQPELANKVDMVWIVGGSSVYKEAMNHPGHLKLFVTRIMQDFESDTFFPEIDLEKYKLLPEYPGVLSDVQEEKGIKYKFEVYEKND',\n 't_organism_name': ['Homo sapiens',\n                     'Man',\n                     'Homo Sapiens (Human)',\n                     'Human',\n                     'Homo Sapiens',\n                     'Homo sapiens',\n                     'Homo',\n                     'Homininae',\n                     'Hominidae',\n                     'Primates',\n                     'Mammalia',\n                     'Chordata',\n                     'Metazoa',\n                     'Eukaryota'],\n 'tax_id': [9606],\n 'tax_query': [9606],\n 'title': 'Structure Determination of Tetrahydroquinazoline Antifoaltes in '\n          'Complex with Human and Pneumocystis carinii Dihydrofolate '\n          'Reductase: Correlations of Enzyme Selectivity and Stereochemistry',\n 'uniprot': ['P00374 : DYR_HUMAN'],\n 'uniprot_accession': ['P00374', 'P00374-2'],\n 'uniprot_accession_best': ['P00374'],\n 'uniprot_best': ['P00374 : DYR_HUMAN'],\n 'uniprot_coverage': [0.99],\n 'uniprot_features': ['Protein has possible alternate isoforms',\n                      'DHFR',\n                      'Protein has possible natural variant ',\n                      'Nucleotide binding - NADP'],\n 'uniprot_id': ['DYR_HUMAN', 'DYR_HUMAN'],\n 'uniprot_id_best': ['DYR_HUMAN'],\n 'uniprot_non_canonical': ['P00374-2 : DYR_HUMAN'],\n 'unp_count': 1,\n 'unp_nf90_accession': ['B0YJ76',\n                        'A0A2K6C3Y8',\n                        'P00374',\n                        'A0A024RAQ3',\n                        'S5WD14',\n                        'S5VM81'],\n 'unp_nf90_id': ['B0YJ76_HUMAN',\n                 'A0A2K6C3Y8_MACNE',\n                 'DYR_HUMAN',\n                 'A0A024RAQ3_HUMAN',\n                 'S5WD14_SHISS',\n                 'S5VM81_ECO57'],\n 'unp_nf90_organism': ['Homo sapiens (Human)',\n                       'Macaca nemestrina (Pig-tailed macaque)',\n                       'Homo sapiens (Human)',\n                       'Homo sapiens (Human)',\n                       'Shigella sonnei (strain Ss046)',\n                       'Escherichia coli O157:H7'],\n 'unp_nf90_protein_name': ['Dihydrofolate reductase',\n                           'DHFR domain-containing protein',\n                           'Dihydrofolate reductase',\n                           'Dihydrofolate reductase, isoform CRA_a',\n                           'Trimethoprim resistant protein',\n                           'Trimethoprim resistant protein'],\n 'unp_nf90_tax_id': ['9606', '9545', '9606', '9606', '300269', '83334']}\n"
    }
   ],
   "source": [
    "pprint(results[0])"
   ]
  },
  {
   "cell_type": "markdown",
   "metadata": {},
   "source": [
    "As you can see we get lots of data back about the individual molecule we have searched for and the PDB entries in which it is contained. \n",
    "\n",
    "We can get the PDB ID and experimental method for this first row as follows."
   ]
  },
  {
   "cell_type": "code",
   "execution_count": 9,
   "metadata": {},
   "outputs": [
    {
     "name": "stdout",
     "output_type": "stream",
     "text": "1s3w\n['X-ray diffraction']\n"
    }
   ],
   "source": [
    "print(results[0].get('pdb_id'))\n",
    "print(results[0].get('experimental_method'))"
   ]
  },
  {
   "cell_type": "markdown",
   "metadata": {},
   "source": [
    "We can restrict the results to only the information we want using a filter so its easier to see the information we want."
   ]
  },
  {
   "cell_type": "code",
   "execution_count": 10,
   "metadata": {},
   "outputs": [
    {
     "name": "stdout",
     "output_type": "stream",
     "text": "3rd search\nhttps://www.ebi.ac.uk/pdbe/search/pdb/select?q=molecule_name:\"Dihydrofolate reductase\" AND organism_name:Human&fl=pdb_id,experimental_method&wt=json&rows=100\nNumber of results for Dihydrofolate reductase,Human: 79\n[{'experimental_method': ['X-ray diffraction'], 'pdb_id': '1s3w'},\n {'experimental_method': ['X-ray diffraction'], 'pdb_id': '5ht4'},\n {'experimental_method': ['X-ray diffraction'], 'pdb_id': '3ntz'},\n {'experimental_method': ['X-ray diffraction'], 'pdb_id': '1pd9'},\n {'experimental_method': ['X-ray diffraction'], 'pdb_id': '3oaf'},\n {'experimental_method': ['X-ray diffraction'], 'pdb_id': '6de4'},\n {'experimental_method': ['X-ray diffraction'], 'pdb_id': '2w3a'},\n {'experimental_method': ['X-ray diffraction'], 'pdb_id': '3nzd'},\n {'experimental_method': ['X-ray diffraction'], 'pdb_id': '4ddr'},\n {'experimental_method': ['X-ray diffraction'], 'pdb_id': '2w3b'},\n {'experimental_method': ['X-ray diffraction'], 'pdb_id': '1mvs'},\n {'experimental_method': ['X-ray diffraction'], 'pdb_id': '2c2t'},\n {'experimental_method': ['X-ray diffraction'], 'pdb_id': '1mvt'},\n {'experimental_method': ['X-ray diffraction'], 'pdb_id': '1pd8'},\n {'experimental_method': ['X-ray diffraction'], 'pdb_id': '3f8y'},\n {'experimental_method': ['X-ray diffraction'], 'pdb_id': '1u72'},\n {'experimental_method': ['X-ray diffraction'], 'pdb_id': '3nxy'},\n {'experimental_method': ['X-ray diffraction'], 'pdb_id': '3nxr'},\n {'experimental_method': ['X-ray diffraction'], 'pdb_id': '5hvb'},\n {'experimental_method': ['X-ray diffraction'], 'pdb_id': '1dlr'},\n {'experimental_method': ['X-ray diffraction'], 'pdb_id': '5hve'},\n {'experimental_method': ['X-ray diffraction'], 'pdb_id': '5hqz'},\n {'experimental_method': ['X-ray diffraction'], 'pdb_id': '1s3u'},\n {'experimental_method': ['X-ray diffraction'], 'pdb_id': '5hqy'},\n {'experimental_method': ['X-ray diffraction'], 'pdb_id': '3l3r'},\n {'experimental_method': ['Solution NMR'], 'pdb_id': '1yho'},\n {'experimental_method': ['X-ray diffraction'], 'pdb_id': '3n0h'},\n {'experimental_method': ['X-ray diffraction'], 'pdb_id': '5ht5'},\n {'experimental_method': ['X-ray diffraction'], 'pdb_id': '5hsu'},\n {'experimental_method': ['X-ray diffraction'], 'pdb_id': '1s3v'},\n {'experimental_method': ['X-ray diffraction'], 'pdb_id': '1kmv'},\n {'experimental_method': ['X-ray diffraction'], 'pdb_id': '3nxt'},\n {'experimental_method': ['X-ray diffraction'], 'pdb_id': '3gyf'},\n {'experimental_method': ['X-ray diffraction'], 'pdb_id': '3eig'},\n {'experimental_method': ['X-ray diffraction'], 'pdb_id': '4m6k'},\n {'experimental_method': ['X-ray diffraction'], 'pdb_id': '3nxv'},\n {'experimental_method': ['X-ray diffraction'], 'pdb_id': '4keb'},\n {'experimental_method': ['X-ray diffraction'], 'pdb_id': '2dhf'},\n {'experimental_method': ['X-ray diffraction'], 'pdb_id': '6a7c'},\n {'experimental_method': ['X-ray diffraction'], 'pdb_id': '1pdb'},\n {'experimental_method': ['X-ray diffraction'], 'pdb_id': '2w3m'},\n {'experimental_method': ['X-ray diffraction'], 'pdb_id': '6dav'},\n {'experimental_method': ['X-ray diffraction'], 'pdb_id': '3f8z'},\n {'experimental_method': ['X-ray diffraction'], 'pdb_id': '3ghv'},\n {'experimental_method': ['X-ray diffraction'], 'pdb_id': '4g95'},\n {'experimental_method': ['X-ray diffraction'], 'pdb_id': '1ohj'},\n {'experimental_method': ['X-ray diffraction'], 'pdb_id': '3s7a'},\n {'experimental_method': ['X-ray diffraction'], 'pdb_id': '3f91'},\n {'experimental_method': ['X-ray diffraction'], 'pdb_id': '1ohk'},\n {'experimental_method': ['X-ray diffraction'], 'pdb_id': '1kms'},\n {'experimental_method': ['X-ray diffraction'], 'pdb_id': '1hfr'},\n {'experimental_method': ['X-ray diffraction'], 'pdb_id': '6a7e'},\n {'experimental_method': ['X-ray diffraction'], 'pdb_id': '4kbn'},\n {'experimental_method': ['X-ray diffraction'], 'pdb_id': '3nxo'},\n {'experimental_method': ['X-ray diffraction'], 'pdb_id': '3nxx'},\n {'experimental_method': ['X-ray diffraction'], 'pdb_id': '4kfj'},\n {'experimental_method': ['X-ray diffraction'], 'pdb_id': '4m6j'},\n {'experimental_method': ['X-ray diffraction'], 'pdb_id': '3gi2'},\n {'experimental_method': ['X-ray diffraction'], 'pdb_id': '2c2s'},\n {'experimental_method': ['X-ray diffraction'], 'pdb_id': '5hsr'},\n {'experimental_method': ['X-ray diffraction'], 'pdb_id': '4kak'},\n {'experimental_method': ['X-ray diffraction'], 'pdb_id': '3ghc'},\n {'experimental_method': ['X-ray diffraction'], 'pdb_id': '3s3v'},\n {'experimental_method': ['X-ray diffraction'], 'pdb_id': '1dls'},\n {'experimental_method': ['X-ray diffraction'], 'pdb_id': '1hfq'},\n {'experimental_method': ['X-ray diffraction'], 'pdb_id': '3ghw'},\n {'experimental_method': ['X-ray diffraction'], 'pdb_id': '1hfp'},\n {'experimental_method': ['X-ray diffraction'], 'pdb_id': '5hui'},\n {'experimental_method': ['X-ray diffraction'], 'pdb_id': '1boz'},\n {'experimental_method': ['X-ray diffraction'], 'pdb_id': '5hpb'},\n {'experimental_method': ['X-ray diffraction'], 'pdb_id': '3nu0'},\n {'experimental_method': ['X-ray diffraction'], 'pdb_id': '4qhv'},\n {'experimental_method': ['X-ray diffraction'], 'pdb_id': '1drf'},\n {'experimental_method': ['X-ray diffraction'], 'pdb_id': '4qjc'},\n {'experimental_method': ['X-ray diffraction'], 'pdb_id': '3fs6'},\n {'experimental_method': ['X-ray diffraction'], 'pdb_id': '1dhf'},\n {'experimental_method': ['X-ray diffraction'], 'pdb_id': '1u71'},\n {'experimental_method': ['X-ray diffraction'], 'pdb_id': '4kd7'},\n {'experimental_method': ['X-ray diffraction'], 'pdb_id': '4m6l'}]\n"
    }
   ],
   "source": [
    "print('3rd search')\n",
    "search_terms = {\"molecule_name\":\"Dihydrofolate reductase\",\n",
    "                \"organism_name\":\"Human\"\n",
    "               }\n",
    "filter_terms = ['pdb_id', 'experimental_method']\n",
    "results = run_search(search_terms, filter_terms)\n",
    "pprint(results)"
   ]
  },
  {
   "cell_type": "markdown",
   "metadata": {},
   "source": [
    "## 6) Analysing and plotting the results\n"
   ]
  },
  {
   "cell_type": "markdown",
   "metadata": {},
   "source": [
    "We are going to use a Python package called Pandas to help us sort and visualise the results\n",
    "\n",
    "\n",
    "First we have to do a bit of housekeeping, some of the results are lists (a PDB entry can have more than one experimental method or organism for example) so we need to change them into strings so we can use them in a graph"
   ]
  },
  {
   "cell_type": "code",
   "execution_count": 11,
   "metadata": {},
   "outputs": [],
   "source": [
    "def change_lists_to_strings(results):\n",
    "    \"\"\"\n",
    "    input - list of results from search\n",
    "    output - list of results with lists changed into strings\n",
    "    \"\"\"\n",
    "    for row in results:\n",
    "        for data in row:\n",
    "            if type(row[data]) == list:\n",
    "                # if there are any numbers in the list change them into strings\n",
    "                row[data] = [str(a) for a in row[data]]\n",
    "                # unique and sort the list and then change the list into a string\n",
    "                row[data] = ','.join(sorted(list(set(row[data]))))\n",
    "                \n",
    "    return results"
   ]
  },
  {
   "cell_type": "code",
   "execution_count": 12,
   "metadata": {},
   "outputs": [
    {
     "name": "stdout",
     "output_type": "stream",
     "text": "[{'experimental_method': 'X-ray diffraction', 'pdb_id': '1s3w'},\n {'experimental_method': 'X-ray diffraction', 'pdb_id': '5ht4'},\n {'experimental_method': 'X-ray diffraction', 'pdb_id': '3ntz'},\n {'experimental_method': 'X-ray diffraction', 'pdb_id': '1pd9'},\n {'experimental_method': 'X-ray diffraction', 'pdb_id': '3oaf'},\n {'experimental_method': 'X-ray diffraction', 'pdb_id': '6de4'},\n {'experimental_method': 'X-ray diffraction', 'pdb_id': '2w3a'},\n {'experimental_method': 'X-ray diffraction', 'pdb_id': '3nzd'},\n {'experimental_method': 'X-ray diffraction', 'pdb_id': '4ddr'},\n {'experimental_method': 'X-ray diffraction', 'pdb_id': '2w3b'},\n {'experimental_method': 'X-ray diffraction', 'pdb_id': '1mvs'},\n {'experimental_method': 'X-ray diffraction', 'pdb_id': '2c2t'},\n {'experimental_method': 'X-ray diffraction', 'pdb_id': '1mvt'},\n {'experimental_method': 'X-ray diffraction', 'pdb_id': '1pd8'},\n {'experimental_method': 'X-ray diffraction', 'pdb_id': '3f8y'},\n {'experimental_method': 'X-ray diffraction', 'pdb_id': '1u72'},\n {'experimental_method': 'X-ray diffraction', 'pdb_id': '3nxy'},\n {'experimental_method': 'X-ray diffraction', 'pdb_id': '3nxr'},\n {'experimental_method': 'X-ray diffraction', 'pdb_id': '5hvb'},\n {'experimental_method': 'X-ray diffraction', 'pdb_id': '1dlr'},\n {'experimental_method': 'X-ray diffraction', 'pdb_id': '5hve'},\n {'experimental_method': 'X-ray diffraction', 'pdb_id': '5hqz'},\n {'experimental_method': 'X-ray diffraction', 'pdb_id': '1s3u'},\n {'experimental_method': 'X-ray diffraction', 'pdb_id': '5hqy'},\n {'experimental_method': 'X-ray diffraction', 'pdb_id': '3l3r'},\n {'experimental_method': 'Solution NMR', 'pdb_id': '1yho'},\n {'experimental_method': 'X-ray diffraction', 'pdb_id': '3n0h'},\n {'experimental_method': 'X-ray diffraction', 'pdb_id': '5ht5'},\n {'experimental_method': 'X-ray diffraction', 'pdb_id': '5hsu'},\n {'experimental_method': 'X-ray diffraction', 'pdb_id': '1s3v'},\n {'experimental_method': 'X-ray diffraction', 'pdb_id': '1kmv'},\n {'experimental_method': 'X-ray diffraction', 'pdb_id': '3nxt'},\n {'experimental_method': 'X-ray diffraction', 'pdb_id': '3gyf'},\n {'experimental_method': 'X-ray diffraction', 'pdb_id': '3eig'},\n {'experimental_method': 'X-ray diffraction', 'pdb_id': '4m6k'},\n {'experimental_method': 'X-ray diffraction', 'pdb_id': '3nxv'},\n {'experimental_method': 'X-ray diffraction', 'pdb_id': '4keb'},\n {'experimental_method': 'X-ray diffraction', 'pdb_id': '2dhf'},\n {'experimental_method': 'X-ray diffraction', 'pdb_id': '6a7c'},\n {'experimental_method': 'X-ray diffraction', 'pdb_id': '1pdb'},\n {'experimental_method': 'X-ray diffraction', 'pdb_id': '2w3m'},\n {'experimental_method': 'X-ray diffraction', 'pdb_id': '6dav'},\n {'experimental_method': 'X-ray diffraction', 'pdb_id': '3f8z'},\n {'experimental_method': 'X-ray diffraction', 'pdb_id': '3ghv'},\n {'experimental_method': 'X-ray diffraction', 'pdb_id': '4g95'},\n {'experimental_method': 'X-ray diffraction', 'pdb_id': '1ohj'},\n {'experimental_method': 'X-ray diffraction', 'pdb_id': '3s7a'},\n {'experimental_method': 'X-ray diffraction', 'pdb_id': '3f91'},\n {'experimental_method': 'X-ray diffraction', 'pdb_id': '1ohk'},\n {'experimental_method': 'X-ray diffraction', 'pdb_id': '1kms'},\n {'experimental_method': 'X-ray diffraction', 'pdb_id': '1hfr'},\n {'experimental_method': 'X-ray diffraction', 'pdb_id': '6a7e'},\n {'experimental_method': 'X-ray diffraction', 'pdb_id': '4kbn'},\n {'experimental_method': 'X-ray diffraction', 'pdb_id': '3nxo'},\n {'experimental_method': 'X-ray diffraction', 'pdb_id': '3nxx'},\n {'experimental_method': 'X-ray diffraction', 'pdb_id': '4kfj'},\n {'experimental_method': 'X-ray diffraction', 'pdb_id': '4m6j'},\n {'experimental_method': 'X-ray diffraction', 'pdb_id': '3gi2'},\n {'experimental_method': 'X-ray diffraction', 'pdb_id': '2c2s'},\n {'experimental_method': 'X-ray diffraction', 'pdb_id': '5hsr'},\n {'experimental_method': 'X-ray diffraction', 'pdb_id': '4kak'},\n {'experimental_method': 'X-ray diffraction', 'pdb_id': '3ghc'},\n {'experimental_method': 'X-ray diffraction', 'pdb_id': '3s3v'},\n {'experimental_method': 'X-ray diffraction', 'pdb_id': '1dls'},\n {'experimental_method': 'X-ray diffraction', 'pdb_id': '1hfq'},\n {'experimental_method': 'X-ray diffraction', 'pdb_id': '3ghw'},\n {'experimental_method': 'X-ray diffraction', 'pdb_id': '1hfp'},\n {'experimental_method': 'X-ray diffraction', 'pdb_id': '5hui'},\n {'experimental_method': 'X-ray diffraction', 'pdb_id': '1boz'},\n {'experimental_method': 'X-ray diffraction', 'pdb_id': '5hpb'},\n {'experimental_method': 'X-ray diffraction', 'pdb_id': '3nu0'},\n {'experimental_method': 'X-ray diffraction', 'pdb_id': '4qhv'},\n {'experimental_method': 'X-ray diffraction', 'pdb_id': '1drf'},\n {'experimental_method': 'X-ray diffraction', 'pdb_id': '4qjc'},\n {'experimental_method': 'X-ray diffraction', 'pdb_id': '3fs6'},\n {'experimental_method': 'X-ray diffraction', 'pdb_id': '1dhf'},\n {'experimental_method': 'X-ray diffraction', 'pdb_id': '1u71'},\n {'experimental_method': 'X-ray diffraction', 'pdb_id': '4kd7'},\n {'experimental_method': 'X-ray diffraction', 'pdb_id': '4m6l'}]\n"
    }
   ],
   "source": [
    "results = change_lists_to_strings(results)\n",
    "pprint(results)"
   ]
  },
  {
   "cell_type": "markdown",
   "metadata": {},
   "source": [
    "Notice that the only thing that changed is ['X-ray diffraction'] is now 'X-ray diffraction'"
   ]
  },
  {
   "cell_type": "markdown",
   "metadata": {},
   "source": [
    "If we wanted to know the experimental methods used to determine structures of Human Dihydrofolate reductase we could loop through the results and count how many entries use each experimental method. \n",
    "\n",
    "We can use a Python package called Pandas to do this for us. \n",
    "It changes the results into a mini database - called a DataFrame. \n"
   ]
  },
  {
   "cell_type": "code",
   "execution_count": 13,
   "metadata": {},
   "outputs": [
    {
     "name": "stdout",
     "output_type": "stream",
     "text": "experimental_method pdb_id\n0    X-ray diffraction   1s3w\n1    X-ray diffraction   5ht4\n2    X-ray diffraction   3ntz\n3    X-ray diffraction   1pd9\n4    X-ray diffraction   3oaf\n5    X-ray diffraction   6de4\n6    X-ray diffraction   2w3a\n7    X-ray diffraction   3nzd\n8    X-ray diffraction   4ddr\n9    X-ray diffraction   2w3b\n10   X-ray diffraction   1mvs\n11   X-ray diffraction   2c2t\n12   X-ray diffraction   1mvt\n13   X-ray diffraction   1pd8\n14   X-ray diffraction   3f8y\n15   X-ray diffraction   1u72\n16   X-ray diffraction   3nxy\n17   X-ray diffraction   3nxr\n18   X-ray diffraction   5hvb\n19   X-ray diffraction   1dlr\n20   X-ray diffraction   5hve\n21   X-ray diffraction   5hqz\n22   X-ray diffraction   1s3u\n23   X-ray diffraction   5hqy\n24   X-ray diffraction   3l3r\n25        Solution NMR   1yho\n26   X-ray diffraction   3n0h\n27   X-ray diffraction   5ht5\n28   X-ray diffraction   5hsu\n29   X-ray diffraction   1s3v\n..                 ...    ...\n49   X-ray diffraction   1kms\n50   X-ray diffraction   1hfr\n51   X-ray diffraction   6a7e\n52   X-ray diffraction   4kbn\n53   X-ray diffraction   3nxo\n54   X-ray diffraction   3nxx\n55   X-ray diffraction   4kfj\n56   X-ray diffraction   4m6j\n57   X-ray diffraction   3gi2\n58   X-ray diffraction   2c2s\n59   X-ray diffraction   5hsr\n60   X-ray diffraction   4kak\n61   X-ray diffraction   3ghc\n62   X-ray diffraction   3s3v\n63   X-ray diffraction   1dls\n64   X-ray diffraction   1hfq\n65   X-ray diffraction   3ghw\n66   X-ray diffraction   1hfp\n67   X-ray diffraction   5hui\n68   X-ray diffraction   1boz\n69   X-ray diffraction   5hpb\n70   X-ray diffraction   3nu0\n71   X-ray diffraction   4qhv\n72   X-ray diffraction   1drf\n73   X-ray diffraction   4qjc\n74   X-ray diffraction   3fs6\n75   X-ray diffraction   1dhf\n76   X-ray diffraction   1u71\n77   X-ray diffraction   4kd7\n78   X-ray diffraction   4m6l\n\n[79 rows x 2 columns]\n"
    }
   ],
   "source": [
    "def pandas_dataset(list_of_results):\n",
    "    results = change_lists_to_strings(list_of_results) # we have added our function to change lists to strings\n",
    "    df = pd.DataFrame(list_of_results)\n",
    "\n",
    "    return df\n",
    "\n",
    "df = pandas_dataset(list_of_results=results)\n",
    "print(df)\n",
    "    "
   ]
  },
  {
   "cell_type": "markdown",
   "metadata": {},
   "source": [
    "We can use the this to count how many PDB codes there are for each experimental method\n",
    "This groups PDB IDs by experimental method and then counts the number of unique PDB IDs per method."
   ]
  },
  {
   "cell_type": "code",
   "execution_count": 14,
   "metadata": {},
   "outputs": [
    {
     "name": "stdout",
     "output_type": "stream",
     "text": "experimental_method\nSolution NMR          1\nX-ray diffraction    78\nName: pdb_id, dtype: int64\n"
    }
   ],
   "source": [
    "ds = df.groupby('experimental_method')['pdb_id'].nunique()\n",
    "print(ds)"
   ]
  },
  {
   "cell_type": "markdown",
   "metadata": {},
   "source": [
    "We can find which experimental method has the greatest (max) or lowest (min) number of entries."
   ]
  },
  {
   "cell_type": "code",
   "execution_count": 15,
   "metadata": {},
   "outputs": [
    {
     "name": "stdout",
     "output_type": "stream",
     "text": "78\n1\n"
    }
   ],
   "source": [
    "dt = ds.max()\n",
    "print(dt)\n",
    "dt = ds.min()\n",
    "print(dt)"
   ]
  },
  {
   "cell_type": "markdown",
   "metadata": {},
   "source": [
    "We can sort the results so its in decending order and then the first value is the experimental method with the highest number of results"
   ]
  },
  {
   "cell_type": "code",
   "execution_count": 16,
   "metadata": {},
   "outputs": [
    {
     "data": {
      "text/plain": "'X-ray diffraction'"
     },
     "execution_count": 16,
     "metadata": {},
     "output_type": "execute_result"
    }
   ],
   "source": [
    "ds.sort_values(ascending=False).index[0]"
   ]
  },
  {
   "cell_type": "markdown",
   "metadata": {},
   "source": [
    "Or sort ascending so the experimental method with the lowest number of results is given"
   ]
  },
  {
   "cell_type": "code",
   "execution_count": 17,
   "metadata": {},
   "outputs": [
    {
     "data": {
      "text/plain": "'Solution NMR'"
     },
     "execution_count": 17,
     "metadata": {},
     "output_type": "execute_result"
    }
   ],
   "source": [
    "ds.sort_values(ascending=True).index[0]"
   ]
  },
  {
   "cell_type": "markdown",
   "metadata": {},
   "source": [
    "Or we can then very easily plot these results as a bar chart"
   ]
  },
  {
   "cell_type": "code",
   "execution_count": 18,
   "metadata": {},
   "outputs": [
    {
     "data": {
      "application/vnd.plotly.v1+json": {
       "config": {
        "linkText": "Export to plot.ly",
        "plotlyServerURL": "https://plot.ly",
        "showLink": true
       },
       "data": [
        {
         "marker": {
          "color": "rgba(255, 153, 51, 0.6)",
          "line": {
           "color": "rgba(255, 153, 51, 1.0)",
           "width": 1
          }
         },
         "name": "pdb_id",
         "orientation": "v",
         "text": "",
         "type": "bar",
         "uid": "2876dd9d-9435-4bff-88a3-4dc06b31a7e3",
         "x": [
          "Solution NMR",
          "X-ray diffraction"
         ],
         "y": [
          1,
          78
         ]
        }
       ],
       "layout": {
        "legend": {
         "bgcolor": "#F5F6F9",
         "font": {
          "color": "#4D5663"
         }
        },
        "paper_bgcolor": "#F5F6F9",
        "plot_bgcolor": "#F5F6F9",
        "title": {
         "font": {
          "color": "#4D5663"
         }
        },
        "xaxis": {
         "gridcolor": "#E1E5ED",
         "showgrid": true,
         "tickfont": {
          "color": "#4D5663"
         },
         "title": {
          "font": {
           "color": "#4D5663"
          },
          "text": ""
         },
         "zerolinecolor": "#E1E5ED"
        },
        "yaxis": {
         "gridcolor": "#E1E5ED",
         "showgrid": true,
         "tickfont": {
          "color": "#4D5663"
         },
         "title": {
          "font": {
           "color": "#4D5663"
          },
          "text": ""
         },
         "zerolinecolor": "#E1E5ED"
        }
       }
      },
      "text/html": "<div>\n        \n        \n            <div id=\"f8ccdee1-29b9-4bd7-b741-b594b690013c\" class=\"plotly-graph-div\" style=\"height:525px; width:100%;\"></div>\n            <script type=\"text/javascript\">\n                require([\"plotly\"], function(Plotly) {\n                    window.PLOTLYENV=window.PLOTLYENV || {};\n                    window.PLOTLYENV.BASE_URL='https://plot.ly';\n                    \n                if (document.getElementById(\"f8ccdee1-29b9-4bd7-b741-b594b690013c\")) {\n                    Plotly.newPlot(\n                        'f8ccdee1-29b9-4bd7-b741-b594b690013c',\n                        [{\"marker\": {\"color\": \"rgba(255, 153, 51, 0.6)\", \"line\": {\"color\": \"rgba(255, 153, 51, 1.0)\", \"width\": 1}}, \"name\": \"pdb_id\", \"orientation\": \"v\", \"text\": \"\", \"type\": \"bar\", \"uid\": \"2876dd9d-9435-4bff-88a3-4dc06b31a7e3\", \"x\": [\"Solution NMR\", \"X-ray diffraction\"], \"y\": [1, 78]}],\n                        {\"legend\": {\"bgcolor\": \"#F5F6F9\", \"font\": {\"color\": \"#4D5663\"}}, \"paper_bgcolor\": \"#F5F6F9\", \"plot_bgcolor\": \"#F5F6F9\", \"title\": {\"font\": {\"color\": \"#4D5663\"}}, \"xaxis\": {\"gridcolor\": \"#E1E5ED\", \"showgrid\": true, \"tickfont\": {\"color\": \"#4D5663\"}, \"title\": {\"font\": {\"color\": \"#4D5663\"}, \"text\": \"\"}, \"zerolinecolor\": \"#E1E5ED\"}, \"yaxis\": {\"gridcolor\": \"#E1E5ED\", \"showgrid\": true, \"tickfont\": {\"color\": \"#4D5663\"}, \"title\": {\"font\": {\"color\": \"#4D5663\"}, \"text\": \"\"}, \"zerolinecolor\": \"#E1E5ED\"}},\n                        {\"showLink\": true, \"linkText\": \"Export to plot.ly\", \"plotlyServerURL\": \"https://plot.ly\", \"responsive\": true}\n                    ).then(function(){\n                            \nvar gd = document.getElementById('f8ccdee1-29b9-4bd7-b741-b594b690013c');\nvar x = new MutationObserver(function (mutations, observer) {{\n        var display = window.getComputedStyle(gd).display;\n        if (!display || display === 'none') {{\n            console.log([gd, 'removed!']);\n            Plotly.purge(gd);\n            observer.disconnect();\n        }}\n}});\n\n// Listen for the removal of the full notebook cells\nvar notebookContainer = gd.closest('#notebook-container');\nif (notebookContainer) {{\n    x.observe(notebookContainer, {childList: true});\n}}\n\n// Listen for the clearing of the current output cell\nvar outputEl = gd.closest('.output');\nif (outputEl) {{\n    x.observe(outputEl, {childList: true});\n}}\n\n                        })\n                };\n                });\n            </script>\n        </div>"
     },
     "metadata": {},
     "output_type": "display_data"
    }
   ],
   "source": [
    "ds.iplot(kind='bar')"
   ]
  },
  {
   "cell_type": "markdown",
   "metadata": {},
   "source": [
    "We will make this into two functions so we can resue them"
   ]
  },
  {
   "cell_type": "code",
   "execution_count": 19,
   "metadata": {},
   "outputs": [],
   "source": [
    "def pandas_count(list_of_results, column_to_group_by):\n",
    "    df = pandas_dataset(list_of_results)\n",
    "    ds = df.groupby(column_to_group_by)['pdb_id'].nunique()\n",
    "    return ds\n",
    "    \n",
    "def pandas_min_max(list_of_results, column_to_group_by, get_min=True):\n",
    "    df = pandas_dataset(list_of_results)\n",
    "    if get_min:\n",
    "        ds = df.groupby(column_to_group_by)['pdb_id'].min()\n",
    "    else:\n",
    "        ds = df.groupby(column_to_group_by)['pdb_id'].max()\n",
    "    return ds\n",
    "    \n",
    "def pandas_plot(list_of_results, column_to_group_by, graph_type='bar'):\n",
    "    ds = pandas_count(list_of_results=list_of_results, column_to_group_by=column_to_group_by)\n",
    "    ds.iplot(kind=graph_type)\n"
   ]
  },
  {
   "cell_type": "markdown",
   "metadata": {},
   "source": [
    "One for counting the results"
   ]
  },
  {
   "cell_type": "code",
   "execution_count": 20,
   "metadata": {},
   "outputs": [
    {
     "data": {
      "text/plain": "experimental_method\nSolution NMR          1\nX-ray diffraction    78\nName: pdb_id, dtype: int64"
     },
     "execution_count": 20,
     "metadata": {},
     "output_type": "execute_result"
    }
   ],
   "source": [
    "pandas_count(list_of_results=results, column_to_group_by='experimental_method')"
   ]
  },
  {
   "cell_type": "markdown",
   "metadata": {},
   "source": [
    "One for getting min or max"
   ]
  },
  {
   "cell_type": "code",
   "execution_count": 21,
   "metadata": {},
   "outputs": [
    {
     "name": "stdout",
     "output_type": "stream",
     "text": "updated search\nhttps://www.ebi.ac.uk/pdbe/search/pdb/select?q=molecule_name:\"Dihydrofolate reductase\" AND organism_name:Human&fl=pdb_id,resolution&wt=json&rows=100\nNumber of results for Dihydrofolate reductase,Human: 79\n"
    },
    {
     "data": {
      "text/plain": "resolution\n1.050    1kmv\n1.090    1kms\n1.201    4m6j\n1.210    5hsr\n1.230    3fs6\n1.240    3ghw\n1.270    2w3b\n1.300    3ghc\n1.350    3ntz\n1.396    4m6k\n1.400    2c2s\n1.450    3f8y\n1.460    5hqy\n1.500    2c2t\n1.530    3gi2\n1.550    6dav\n1.600    2w3m\n1.610    4qhv\n1.620    4qjc\n1.650    5hpb\n1.700    3eig\n1.760    4kfj\n1.800    1mvt\n1.840    4kbn\n1.850    6a7e\n1.900    1mvs\n1.920    3n0h\n2.000    1drf\n2.010    3f8z\n2.050    4ddr\n2.060    6a7c\n2.100    1boz\n2.200    1pd9\n2.300    1dhf\n2.411    6de4\n2.500    1ohj\n2.715    4kd7\nName: pdb_id, dtype: object"
     },
     "execution_count": 21,
     "metadata": {},
     "output_type": "execute_result"
    }
   ],
   "source": [
    "print('updated search')\n",
    "search_terms = {\"molecule_name\":\"Dihydrofolate reductase\",\n",
    "                \"organism_name\":\"Human\"\n",
    "               }\n",
    "filter_terms = ['pdb_id', 'resolution']\n",
    "new_results = run_search(search_terms, filter_terms)\n",
    "pandas_min_max(list_of_results=new_results, column_to_group_by='resolution')"
   ]
  },
  {
   "cell_type": "markdown",
   "metadata": {},
   "source": [
    "and one for plotting the results"
   ]
  },
  {
   "cell_type": "code",
   "execution_count": 22,
   "metadata": {},
   "outputs": [
    {
     "data": {
      "application/vnd.plotly.v1+json": {
       "config": {
        "linkText": "Export to plot.ly",
        "plotlyServerURL": "https://plot.ly",
        "showLink": true
       },
       "data": [
        {
         "marker": {
          "color": "rgba(255, 153, 51, 0.6)",
          "line": {
           "color": "rgba(255, 153, 51, 1.0)",
           "width": 1
          }
         },
         "name": "pdb_id",
         "orientation": "v",
         "text": "",
         "type": "bar",
         "uid": "de12b6fa-abd4-4cae-9f9a-5d1f2554c73f",
         "x": [
          "Solution NMR",
          "X-ray diffraction"
         ],
         "y": [
          1,
          78
         ]
        }
       ],
       "layout": {
        "legend": {
         "bgcolor": "#F5F6F9",
         "font": {
          "color": "#4D5663"
         }
        },
        "paper_bgcolor": "#F5F6F9",
        "plot_bgcolor": "#F5F6F9",
        "title": {
         "font": {
          "color": "#4D5663"
         }
        },
        "xaxis": {
         "gridcolor": "#E1E5ED",
         "showgrid": true,
         "tickfont": {
          "color": "#4D5663"
         },
         "title": {
          "font": {
           "color": "#4D5663"
          },
          "text": ""
         },
         "zerolinecolor": "#E1E5ED"
        },
        "yaxis": {
         "gridcolor": "#E1E5ED",
         "showgrid": true,
         "tickfont": {
          "color": "#4D5663"
         },
         "title": {
          "font": {
           "color": "#4D5663"
          },
          "text": ""
         },
         "zerolinecolor": "#E1E5ED"
        }
       }
      },
      "text/html": "<div>\n        \n        \n            <div id=\"2d6ffad2-b69c-4795-aaa4-b83d2702664d\" class=\"plotly-graph-div\" style=\"height:525px; width:100%;\"></div>\n            <script type=\"text/javascript\">\n                require([\"plotly\"], function(Plotly) {\n                    window.PLOTLYENV=window.PLOTLYENV || {};\n                    window.PLOTLYENV.BASE_URL='https://plot.ly';\n                    \n                if (document.getElementById(\"2d6ffad2-b69c-4795-aaa4-b83d2702664d\")) {\n                    Plotly.newPlot(\n                        '2d6ffad2-b69c-4795-aaa4-b83d2702664d',\n                        [{\"marker\": {\"color\": \"rgba(255, 153, 51, 0.6)\", \"line\": {\"color\": \"rgba(255, 153, 51, 1.0)\", \"width\": 1}}, \"name\": \"pdb_id\", \"orientation\": \"v\", \"text\": \"\", \"type\": \"bar\", \"uid\": \"de12b6fa-abd4-4cae-9f9a-5d1f2554c73f\", \"x\": [\"Solution NMR\", \"X-ray diffraction\"], \"y\": [1, 78]}],\n                        {\"legend\": {\"bgcolor\": \"#F5F6F9\", \"font\": {\"color\": \"#4D5663\"}}, \"paper_bgcolor\": \"#F5F6F9\", \"plot_bgcolor\": \"#F5F6F9\", \"title\": {\"font\": {\"color\": \"#4D5663\"}}, \"xaxis\": {\"gridcolor\": \"#E1E5ED\", \"showgrid\": true, \"tickfont\": {\"color\": \"#4D5663\"}, \"title\": {\"font\": {\"color\": \"#4D5663\"}, \"text\": \"\"}, \"zerolinecolor\": \"#E1E5ED\"}, \"yaxis\": {\"gridcolor\": \"#E1E5ED\", \"showgrid\": true, \"tickfont\": {\"color\": \"#4D5663\"}, \"title\": {\"font\": {\"color\": \"#4D5663\"}, \"text\": \"\"}, \"zerolinecolor\": \"#E1E5ED\"}},\n                        {\"showLink\": true, \"linkText\": \"Export to plot.ly\", \"plotlyServerURL\": \"https://plot.ly\", \"responsive\": true}\n                    ).then(function(){\n                            \nvar gd = document.getElementById('2d6ffad2-b69c-4795-aaa4-b83d2702664d');\nvar x = new MutationObserver(function (mutations, observer) {{\n        var display = window.getComputedStyle(gd).display;\n        if (!display || display === 'none') {{\n            console.log([gd, 'removed!']);\n            Plotly.purge(gd);\n            observer.disconnect();\n        }}\n}});\n\n// Listen for the removal of the full notebook cells\nvar notebookContainer = gd.closest('#notebook-container');\nif (notebookContainer) {{\n    x.observe(notebookContainer, {childList: true});\n}}\n\n// Listen for the clearing of the current output cell\nvar outputEl = gd.closest('.output');\nif (outputEl) {{\n    x.observe(outputEl, {childList: true});\n}}\n\n                        })\n                };\n                });\n            </script>\n        </div>"
     },
     "metadata": {},
     "output_type": "display_data"
    }
   ],
   "source": [
    "pandas_plot(list_of_results=results, column_to_group_by='experimental_method')"
   ]
  },
  {
   "cell_type": "markdown",
   "metadata": {},
   "source": [
    "Remember this only searched through the first 10 results.\n",
    "To increase the number of entries we have to run the search again, this time setting number_of_rows to a number in the function run_search. "
   ]
  },
  {
   "cell_type": "code",
   "execution_count": 23,
   "metadata": {},
   "outputs": [
    {
     "name": "stdout",
     "output_type": "stream",
     "text": "https://www.ebi.ac.uk/pdbe/search/pdb/select?q=molecule_name:\"Dihydrofolate reductase\" AND organism_name:Human&wt=json&rows=10000\nNumber of results for Dihydrofolate reductase,Human: 79\n"
    }
   ],
   "source": [
    "search_terms = {\"molecule_name\":\"Dihydrofolate reductase\",\n",
    "                \"organism_name\":\"Human\"\n",
    "               } \n",
    "results = run_search(search_terms, number_of_rows=10000)\n"
   ]
  },
  {
   "cell_type": "markdown",
   "metadata": {},
   "source": [
    "Then we can count the results using our pandas function above"
   ]
  },
  {
   "cell_type": "code",
   "execution_count": 24,
   "metadata": {},
   "outputs": [
    {
     "data": {
      "text/plain": "experimental_method\nSolution NMR          1\nX-ray diffraction    78\nName: pdb_id, dtype: int64"
     },
     "execution_count": 24,
     "metadata": {},
     "output_type": "execute_result"
    }
   ],
   "source": [
    "pandas_count(list_of_results=results, column_to_group_by='experimental_method')"
   ]
  },
  {
   "cell_type": "markdown",
   "metadata": {},
   "source": [
    "Changing the result so it groups by release year of the PDB entries. "
   ]
  },
  {
   "cell_type": "code",
   "execution_count": 25,
   "metadata": {},
   "outputs": [
    {
     "data": {
      "text/plain": "release_year\n1990     2\n1992     1\n1995     2\n1998     6\n2002     2\n2003     5\n2004     3\n2005     3\n2007     2\n2009    13\n2010     7\n2011     7\n2012     1\n2013     8\n2014     1\n2015     2\n2017    10\n2018     2\n2019     2\nName: pdb_id, dtype: int64"
     },
     "execution_count": 25,
     "metadata": {},
     "output_type": "execute_result"
    }
   ],
   "source": [
    "pandas_count(list_of_results=results, column_to_group_by='release_year')"
   ]
  },
  {
   "cell_type": "markdown",
   "metadata": {},
   "source": [
    "And then plot the number of entries released per year"
   ]
  },
  {
   "cell_type": "code",
   "execution_count": 26,
   "metadata": {},
   "outputs": [
    {
     "data": {
      "application/vnd.plotly.v1+json": {
       "config": {
        "linkText": "Export to plot.ly",
        "plotlyServerURL": "https://plot.ly",
        "showLink": true
       },
       "data": [
        {
         "marker": {
          "color": "rgba(255, 153, 51, 0.6)",
          "line": {
           "color": "rgba(255, 153, 51, 1.0)",
           "width": 1
          }
         },
         "name": "pdb_id",
         "orientation": "v",
         "text": "",
         "type": "bar",
         "uid": "315b47cd-d836-47e7-a339-a03d0964424d",
         "x": [
          1990,
          1992,
          1995,
          1998,
          2002,
          2003,
          2004,
          2005,
          2007,
          2009,
          2010,
          2011,
          2012,
          2013,
          2014,
          2015,
          2017,
          2018,
          2019
         ],
         "y": [
          2,
          1,
          2,
          6,
          2,
          5,
          3,
          3,
          2,
          13,
          7,
          7,
          1,
          8,
          1,
          2,
          10,
          2,
          2
         ]
        }
       ],
       "layout": {
        "legend": {
         "bgcolor": "#F5F6F9",
         "font": {
          "color": "#4D5663"
         }
        },
        "paper_bgcolor": "#F5F6F9",
        "plot_bgcolor": "#F5F6F9",
        "title": {
         "font": {
          "color": "#4D5663"
         }
        },
        "xaxis": {
         "gridcolor": "#E1E5ED",
         "showgrid": true,
         "tickfont": {
          "color": "#4D5663"
         },
         "title": {
          "font": {
           "color": "#4D5663"
          },
          "text": ""
         },
         "zerolinecolor": "#E1E5ED"
        },
        "yaxis": {
         "gridcolor": "#E1E5ED",
         "showgrid": true,
         "tickfont": {
          "color": "#4D5663"
         },
         "title": {
          "font": {
           "color": "#4D5663"
          },
          "text": ""
         },
         "zerolinecolor": "#E1E5ED"
        }
       }
      },
      "text/html": "<div>\n        \n        \n            <div id=\"aa0947fb-af43-445e-b9bf-69a0b7cde536\" class=\"plotly-graph-div\" style=\"height:525px; width:100%;\"></div>\n            <script type=\"text/javascript\">\n                require([\"plotly\"], function(Plotly) {\n                    window.PLOTLYENV=window.PLOTLYENV || {};\n                    window.PLOTLYENV.BASE_URL='https://plot.ly';\n                    \n                if (document.getElementById(\"aa0947fb-af43-445e-b9bf-69a0b7cde536\")) {\n                    Plotly.newPlot(\n                        'aa0947fb-af43-445e-b9bf-69a0b7cde536',\n                        [{\"marker\": {\"color\": \"rgba(255, 153, 51, 0.6)\", \"line\": {\"color\": \"rgba(255, 153, 51, 1.0)\", \"width\": 1}}, \"name\": \"pdb_id\", \"orientation\": \"v\", \"text\": \"\", \"type\": \"bar\", \"uid\": \"315b47cd-d836-47e7-a339-a03d0964424d\", \"x\": [1990, 1992, 1995, 1998, 2002, 2003, 2004, 2005, 2007, 2009, 2010, 2011, 2012, 2013, 2014, 2015, 2017, 2018, 2019], \"y\": [2, 1, 2, 6, 2, 5, 3, 3, 2, 13, 7, 7, 1, 8, 1, 2, 10, 2, 2]}],\n                        {\"legend\": {\"bgcolor\": \"#F5F6F9\", \"font\": {\"color\": \"#4D5663\"}}, \"paper_bgcolor\": \"#F5F6F9\", \"plot_bgcolor\": \"#F5F6F9\", \"title\": {\"font\": {\"color\": \"#4D5663\"}}, \"xaxis\": {\"gridcolor\": \"#E1E5ED\", \"showgrid\": true, \"tickfont\": {\"color\": \"#4D5663\"}, \"title\": {\"font\": {\"color\": \"#4D5663\"}, \"text\": \"\"}, \"zerolinecolor\": \"#E1E5ED\"}, \"yaxis\": {\"gridcolor\": \"#E1E5ED\", \"showgrid\": true, \"tickfont\": {\"color\": \"#4D5663\"}, \"title\": {\"font\": {\"color\": \"#4D5663\"}, \"text\": \"\"}, \"zerolinecolor\": \"#E1E5ED\"}},\n                        {\"showLink\": true, \"linkText\": \"Export to plot.ly\", \"plotlyServerURL\": \"https://plot.ly\", \"responsive\": true}\n                    ).then(function(){\n                            \nvar gd = document.getElementById('aa0947fb-af43-445e-b9bf-69a0b7cde536');\nvar x = new MutationObserver(function (mutations, observer) {{\n        var display = window.getComputedStyle(gd).display;\n        if (!display || display === 'none') {{\n            console.log([gd, 'removed!']);\n            Plotly.purge(gd);\n            observer.disconnect();\n        }}\n}});\n\n// Listen for the removal of the full notebook cells\nvar notebookContainer = gd.closest('#notebook-container');\nif (notebookContainer) {{\n    x.observe(notebookContainer, {childList: true});\n}}\n\n// Listen for the clearing of the current output cell\nvar outputEl = gd.closest('.output');\nif (outputEl) {{\n    x.observe(outputEl, {childList: true});\n}}\n\n                        })\n                };\n                });\n            </script>\n        </div>"
     },
     "metadata": {},
     "output_type": "display_data"
    }
   ],
   "source": [
    "pandas_plot(list_of_results=results, column_to_group_by='release_year')"
   ]
  },
  {
   "cell_type": "markdown",
   "metadata": {},
   "source": [
    "We can make this into a line graph "
   ]
  },
  {
   "cell_type": "code",
   "execution_count": 27,
   "metadata": {},
   "outputs": [
    {
     "data": {
      "application/vnd.plotly.v1+json": {
       "config": {
        "linkText": "Export to plot.ly",
        "plotlyServerURL": "https://plot.ly",
        "showLink": true
       },
       "data": [
        {
         "line": {
          "color": "rgba(255, 153, 51, 1.0)",
          "dash": "solid",
          "shape": "linear",
          "width": 1.3
         },
         "mode": "lines",
         "name": "pdb_id",
         "text": "",
         "type": "scatter",
         "uid": "5681a410-63d6-44f9-bcaa-e5dc557eea18",
         "x": [
          1990,
          1992,
          1995,
          1998,
          2002,
          2003,
          2004,
          2005,
          2007,
          2009,
          2010,
          2011,
          2012,
          2013,
          2014,
          2015,
          2017,
          2018,
          2019
         ],
         "y": [
          2,
          1,
          2,
          6,
          2,
          5,
          3,
          3,
          2,
          13,
          7,
          7,
          1,
          8,
          1,
          2,
          10,
          2,
          2
         ]
        }
       ],
       "layout": {
        "legend": {
         "bgcolor": "#F5F6F9",
         "font": {
          "color": "#4D5663"
         }
        },
        "paper_bgcolor": "#F5F6F9",
        "plot_bgcolor": "#F5F6F9",
        "title": {
         "font": {
          "color": "#4D5663"
         }
        },
        "xaxis": {
         "gridcolor": "#E1E5ED",
         "showgrid": true,
         "tickfont": {
          "color": "#4D5663"
         },
         "title": {
          "font": {
           "color": "#4D5663"
          },
          "text": ""
         },
         "zerolinecolor": "#E1E5ED"
        },
        "yaxis": {
         "gridcolor": "#E1E5ED",
         "showgrid": true,
         "tickfont": {
          "color": "#4D5663"
         },
         "title": {
          "font": {
           "color": "#4D5663"
          },
          "text": ""
         },
         "zerolinecolor": "#E1E5ED"
        }
       }
      },
      "text/html": "<div>\n        \n        \n            <div id=\"121f5845-0c7e-41ec-ac3f-a5a8d26e508d\" class=\"plotly-graph-div\" style=\"height:525px; width:100%;\"></div>\n            <script type=\"text/javascript\">\n                require([\"plotly\"], function(Plotly) {\n                    window.PLOTLYENV=window.PLOTLYENV || {};\n                    window.PLOTLYENV.BASE_URL='https://plot.ly';\n                    \n                if (document.getElementById(\"121f5845-0c7e-41ec-ac3f-a5a8d26e508d\")) {\n                    Plotly.newPlot(\n                        '121f5845-0c7e-41ec-ac3f-a5a8d26e508d',\n                        [{\"line\": {\"color\": \"rgba(255, 153, 51, 1.0)\", \"dash\": \"solid\", \"shape\": \"linear\", \"width\": 1.3}, \"mode\": \"lines\", \"name\": \"pdb_id\", \"text\": \"\", \"type\": \"scatter\", \"uid\": \"5681a410-63d6-44f9-bcaa-e5dc557eea18\", \"x\": [1990, 1992, 1995, 1998, 2002, 2003, 2004, 2005, 2007, 2009, 2010, 2011, 2012, 2013, 2014, 2015, 2017, 2018, 2019], \"y\": [2, 1, 2, 6, 2, 5, 3, 3, 2, 13, 7, 7, 1, 8, 1, 2, 10, 2, 2]}],\n                        {\"legend\": {\"bgcolor\": \"#F5F6F9\", \"font\": {\"color\": \"#4D5663\"}}, \"paper_bgcolor\": \"#F5F6F9\", \"plot_bgcolor\": \"#F5F6F9\", \"title\": {\"font\": {\"color\": \"#4D5663\"}}, \"xaxis\": {\"gridcolor\": \"#E1E5ED\", \"showgrid\": true, \"tickfont\": {\"color\": \"#4D5663\"}, \"title\": {\"font\": {\"color\": \"#4D5663\"}, \"text\": \"\"}, \"zerolinecolor\": \"#E1E5ED\"}, \"yaxis\": {\"gridcolor\": \"#E1E5ED\", \"showgrid\": true, \"tickfont\": {\"color\": \"#4D5663\"}, \"title\": {\"font\": {\"color\": \"#4D5663\"}, \"text\": \"\"}, \"zerolinecolor\": \"#E1E5ED\"}},\n                        {\"showLink\": true, \"linkText\": \"Export to plot.ly\", \"plotlyServerURL\": \"https://plot.ly\", \"responsive\": true}\n                    ).then(function(){\n                            \nvar gd = document.getElementById('121f5845-0c7e-41ec-ac3f-a5a8d26e508d');\nvar x = new MutationObserver(function (mutations, observer) {{\n        var display = window.getComputedStyle(gd).display;\n        if (!display || display === 'none') {{\n            console.log([gd, 'removed!']);\n            Plotly.purge(gd);\n            observer.disconnect();\n        }}\n}});\n\n// Listen for the removal of the full notebook cells\nvar notebookContainer = gd.closest('#notebook-container');\nif (notebookContainer) {{\n    x.observe(notebookContainer, {childList: true});\n}}\n\n// Listen for the clearing of the current output cell\nvar outputEl = gd.closest('.output');\nif (outputEl) {{\n    x.observe(outputEl, {childList: true});\n}}\n\n                        })\n                };\n                });\n            </script>\n        </div>"
     },
     "metadata": {},
     "output_type": "display_data"
    }
   ],
   "source": [
    "pandas_plot(list_of_results=results, column_to_group_by='release_year', graph_type='line')"
   ]
  },
  {
   "cell_type": "markdown",
   "metadata": {},
   "source": [
    "Try changing the term you want to search for and see if you get interesting results."
   ]
  },
  {
   "cell_type": "markdown",
   "metadata": {},
   "source": [
    "## 7) searching for two terms at once\n",
    "\n",
    "It would be interesting to see how many PDB entries were solved by each experimental method per year. \n",
    "\n",
    "we can use the tag \"release_year\" to get the year of release of each entry\n",
    "\n",
    "We have to define a new function to group entries by two terms.\n",
    "\n",
    "When we do the search we have to filter the results by the terms we want to plot otherwise it takes too long to run. "
   ]
  },
  {
   "cell_type": "code",
   "execution_count": 28,
   "metadata": {},
   "outputs": [
    {
     "name": "stdout",
     "output_type": "stream",
     "text": "https://www.ebi.ac.uk/pdbe/search/pdb/select?q=all_enzyme_names:Lysozyme&fl=beam_source_name,release_year,pdb_id&wt=json&rows=10000\nNumber of results for Lysozyme: 1865\n"
    }
   ],
   "source": [
    "search_terms = {\"all_enzyme_names\":\"Lysozyme\",\n",
    "               } \n",
    "filter_results = ['beam_source_name','release_year', 'pdb_id']\n",
    "results = run_search(search_terms, filter_results, number_of_rows=10000)"
   ]
  },
  {
   "cell_type": "markdown",
   "metadata": {},
   "source": [
    "This will take a while as it will return lots of results. \n",
    "We can then define a function to group the results by two terms. "
   ]
  },
  {
   "cell_type": "code",
   "execution_count": 29,
   "metadata": {},
   "outputs": [],
   "source": [
    "def pandas_plot_multi_groupby(results, first_column_to_group_by, second_column_to_group_by, y_axis='pdb_id', graph_type='line'):\n",
    "    \n",
    "    df = pandas_dataset(results)\n",
    "    new_df = df.groupby([first_column_to_group_by, second_column_to_group_by])\n",
    "    ds = new_df.count().unstack().reset_index(first_column_to_group_by)\n",
    "    ds.iplot(x=first_column_to_group_by, y=y_axis, kind=graph_type)\n",
    "    \n",
    "def pandas_plot_multi_groupby_min(results, first_column_to_group_by, second_column_to_group_by, graph_type='line', use_min=False, use_max=False):\n",
    "    \n",
    "    df = pandas_dataset(results)\n",
    "    new_df = df.groupby([first_column_to_group_by])[second_column_to_group_by]\n",
    "    ds = None\n",
    "    if use_min:\n",
    "        ds = new_df.min()\n",
    "    elif use_max:\n",
    "        ds = new_df.max()\n",
    "    else:\n",
    "        print('specify either use_min or use_max')\n",
    "        return None\n",
    "    ds.plot(x=first_column_to_group_by, y=second_column_to_group_by, kind=graph_type)\n",
    "\n",
    "def pandas_box_plot(results, first_column_to_group_by, second_column_to_group_by):\n",
    "    df = pandas_dataset(results)\n",
    "    df.boxplot(column=second_column_to_group_by,by=first_column_to_group_by)"
   ]
  },
  {
   "cell_type": "code",
   "execution_count": 30,
   "metadata": {},
   "outputs": [
    {
     "data": {
      "application/vnd.plotly.v1+json": {
       "config": {
        "linkText": "Export to plot.ly",
        "plotlyServerURL": "https://plot.ly",
        "showLink": true
       },
       "data": [
        {
         "line": {
          "color": "rgba(255, 153, 51, 1.0)",
          "dash": "solid",
          "shape": "linear",
          "width": 1.3
         },
         "mode": "lines",
         "name": "Free-electron laser",
         "text": "",
         "type": "scatter",
         "uid": "1126088c-98ac-432c-9ee0-ff39d41740a1",
         "x": [
          1995,
          1996,
          1997,
          1998,
          1999,
          2000,
          2001,
          2002,
          2003,
          2004,
          2005,
          2006,
          2007,
          2008,
          2009,
          2010,
          2011,
          2012,
          2013,
          2014,
          2015,
          2016,
          2017,
          2018,
          2019
         ],
         "y": [
          "",
          "",
          "",
          "",
          "",
          "",
          "",
          "",
          "",
          "",
          "",
          "",
          "",
          "",
          "",
          "",
          "",
          2,
          1,
          4,
          10,
          4,
          7,
          6,
          2
         ]
        },
        {
         "line": {
          "color": "rgba(55, 128, 191, 1.0)",
          "dash": "solid",
          "shape": "linear",
          "width": 1.3
         },
         "mode": "lines",
         "name": "LaB6 THERMOIONIC SOURCE",
         "text": "",
         "type": "scatter",
         "uid": "8d64a65a-1a5e-4050-a8da-919c74e6156d",
         "x": [
          1995,
          1996,
          1997,
          1998,
          1999,
          2000,
          2001,
          2002,
          2003,
          2004,
          2005,
          2006,
          2007,
          2008,
          2009,
          2010,
          2011,
          2012,
          2013,
          2014,
          2015,
          2016,
          2017,
          2018,
          2019
         ],
         "y": [
          "",
          "",
          "",
          "",
          "",
          "",
          "",
          "",
          "",
          "",
          "",
          "",
          "",
          "",
          "",
          "",
          "",
          "",
          "",
          "",
          "",
          "",
          "",
          "",
          1
         ]
        },
        {
         "line": {
          "color": "rgba(50, 171, 96, 1.0)",
          "dash": "solid",
          "shape": "linear",
          "width": 1.3
         },
         "mode": "lines",
         "name": "Nuclear reactor",
         "text": "",
         "type": "scatter",
         "uid": "57185758-fb09-47b9-af8d-e8cae0e0ddfc",
         "x": [
          1995,
          1996,
          1997,
          1998,
          1999,
          2000,
          2001,
          2002,
          2003,
          2004,
          2005,
          2006,
          2007,
          2008,
          2009,
          2010,
          2011,
          2012,
          2013,
          2014,
          2015,
          2016,
          2017,
          2018,
          2019
         ],
         "y": [
          "",
          "",
          "",
          "",
          "",
          "",
          1,
          "",
          "",
          "",
          "",
          "",
          "",
          "",
          1,
          "",
          "",
          "",
          "",
          "",
          "",
          "",
          1,
          "",
          ""
         ]
        },
        {
         "line": {
          "color": "rgba(128, 0, 128, 1.0)",
          "dash": "solid",
          "shape": "linear",
          "width": 1.3
         },
         "mode": "lines",
         "name": "Nuclear reactor,Synchrotron",
         "text": "",
         "type": "scatter",
         "uid": "2015ae74-9e00-4bc8-bc14-bfee0146b5fe",
         "x": [
          1995,
          1996,
          1997,
          1998,
          1999,
          2000,
          2001,
          2002,
          2003,
          2004,
          2005,
          2006,
          2007,
          2008,
          2009,
          2010,
          2011,
          2012,
          2013,
          2014,
          2015,
          2016,
          2017,
          2018,
          2019
         ],
         "y": [
          "",
          "",
          "",
          "",
          "",
          "",
          "",
          "",
          "",
          "",
          "",
          "",
          "",
          "",
          "",
          "",
          "",
          "",
          "",
          "",
          "",
          "",
          1,
          "",
          ""
         ]
        },
        {
         "line": {
          "color": "rgba(219, 64, 82, 1.0)",
          "dash": "solid",
          "shape": "linear",
          "width": 1.3
         },
         "mode": "lines",
         "name": "Rotating anode",
         "text": "",
         "type": "scatter",
         "uid": "c6c078b4-324d-416f-8adb-583d93c696cc",
         "x": [
          1995,
          1996,
          1997,
          1998,
          1999,
          2000,
          2001,
          2002,
          2003,
          2004,
          2005,
          2006,
          2007,
          2008,
          2009,
          2010,
          2011,
          2012,
          2013,
          2014,
          2015,
          2016,
          2017,
          2018,
          2019
         ],
         "y": [
          2,
          2,
          23,
          61,
          69,
          74,
          51,
          32,
          28,
          19,
          9,
          9,
          13,
          25,
          26,
          14,
          15,
          19,
          27,
          31,
          14,
          21,
          23,
          13,
          11
         ]
        },
        {
         "line": {
          "color": "rgba(0, 128, 128, 1.0)",
          "dash": "solid",
          "shape": "linear",
          "width": 1.3
         },
         "mode": "lines",
         "name": "Rotating anode,Synchrotron",
         "text": "",
         "type": "scatter",
         "uid": "594c6af0-67ae-4c33-8c90-be0dc3dc0a28",
         "x": [
          1995,
          1996,
          1997,
          1998,
          1999,
          2000,
          2001,
          2002,
          2003,
          2004,
          2005,
          2006,
          2007,
          2008,
          2009,
          2010,
          2011,
          2012,
          2013,
          2014,
          2015,
          2016,
          2017,
          2018,
          2019
         ],
         "y": [
          "",
          "",
          "",
          "",
          "",
          "",
          "",
          "",
          "",
          "",
          "",
          "",
          1,
          "",
          "",
          "",
          "",
          "",
          "",
          "",
          "",
          "",
          "",
          "",
          ""
         ]
        },
        {
         "line": {
          "color": "rgba(255, 255, 51, 1.0)",
          "dash": "solid",
          "shape": "linear",
          "width": 1.3
         },
         "mode": "lines",
         "name": "Sealed tube",
         "text": "",
         "type": "scatter",
         "uid": "e2dba634-bf07-4d61-9166-269f2b91ff59",
         "x": [
          1995,
          1996,
          1997,
          1998,
          1999,
          2000,
          2001,
          2002,
          2003,
          2004,
          2005,
          2006,
          2007,
          2008,
          2009,
          2010,
          2011,
          2012,
          2013,
          2014,
          2015,
          2016,
          2017,
          2018,
          2019
         ],
         "y": [
          "",
          "",
          "",
          "",
          "",
          "",
          "",
          "",
          "",
          "",
          "",
          "",
          1,
          1,
          "",
          1,
          1,
          "",
          "",
          "",
          "",
          6,
          1,
          "",
          4
         ]
        },
        {
         "line": {
          "color": "rgba(128, 128, 0, 1.0)",
          "dash": "solid",
          "shape": "linear",
          "width": 1.3
         },
         "mode": "lines",
         "name": "Synchrotron",
         "text": "",
         "type": "scatter",
         "uid": "28e0c0ce-1578-48f0-be8d-f1f9d9a8e985",
         "x": [
          1995,
          1996,
          1997,
          1998,
          1999,
          2000,
          2001,
          2002,
          2003,
          2004,
          2005,
          2006,
          2007,
          2008,
          2009,
          2010,
          2011,
          2012,
          2013,
          2014,
          2015,
          2016,
          2017,
          2018,
          2019
         ],
         "y": [
          2,
          1,
          2,
          9,
          15,
          18,
          13,
          3,
          14,
          23,
          29,
          29,
          34,
          23,
          44,
          20,
          34,
          47,
          53,
          53,
          70,
          67,
          52,
          57,
          58
         ]
        }
       ],
       "layout": {
        "legend": {
         "bgcolor": "#F5F6F9",
         "font": {
          "color": "#4D5663"
         }
        },
        "paper_bgcolor": "#F5F6F9",
        "plot_bgcolor": "#F5F6F9",
        "title": {
         "font": {
          "color": "#4D5663"
         }
        },
        "xaxis": {
         "gridcolor": "#E1E5ED",
         "showgrid": true,
         "tickfont": {
          "color": "#4D5663"
         },
         "title": {
          "font": {
           "color": "#4D5663"
          },
          "text": ""
         },
         "zerolinecolor": "#E1E5ED"
        },
        "yaxis": {
         "gridcolor": "#E1E5ED",
         "showgrid": true,
         "tickfont": {
          "color": "#4D5663"
         },
         "title": {
          "font": {
           "color": "#4D5663"
          },
          "text": ""
         },
         "zerolinecolor": "#E1E5ED"
        }
       }
      },
      "text/html": "<div>\n        \n        \n            <div id=\"81918376-ab26-4787-96ba-cb67e92c970a\" class=\"plotly-graph-div\" style=\"height:525px; width:100%;\"></div>\n            <script type=\"text/javascript\">\n                require([\"plotly\"], function(Plotly) {\n                    window.PLOTLYENV=window.PLOTLYENV || {};\n                    window.PLOTLYENV.BASE_URL='https://plot.ly';\n                    \n                if (document.getElementById(\"81918376-ab26-4787-96ba-cb67e92c970a\")) {\n                    Plotly.newPlot(\n                        '81918376-ab26-4787-96ba-cb67e92c970a',\n                        [{\"line\": {\"color\": \"rgba(255, 153, 51, 1.0)\", \"dash\": \"solid\", \"shape\": \"linear\", \"width\": 1.3}, \"mode\": \"lines\", \"name\": \"Free-electron laser\", \"text\": \"\", \"type\": \"scatter\", \"uid\": \"1126088c-98ac-432c-9ee0-ff39d41740a1\", \"x\": [1995, 1996, 1997, 1998, 1999, 2000, 2001, 2002, 2003, 2004, 2005, 2006, 2007, 2008, 2009, 2010, 2011, 2012, 2013, 2014, 2015, 2016, 2017, 2018, 2019], \"y\": [\"\", \"\", \"\", \"\", \"\", \"\", \"\", \"\", \"\", \"\", \"\", \"\", \"\", \"\", \"\", \"\", \"\", 2.0, 1.0, 4.0, 10.0, 4.0, 7.0, 6.0, 2.0]}, {\"line\": {\"color\": \"rgba(55, 128, 191, 1.0)\", \"dash\": \"solid\", \"shape\": \"linear\", \"width\": 1.3}, \"mode\": \"lines\", \"name\": \"LaB6 THERMOIONIC SOURCE\", \"text\": \"\", \"type\": \"scatter\", \"uid\": \"8d64a65a-1a5e-4050-a8da-919c74e6156d\", \"x\": [1995, 1996, 1997, 1998, 1999, 2000, 2001, 2002, 2003, 2004, 2005, 2006, 2007, 2008, 2009, 2010, 2011, 2012, 2013, 2014, 2015, 2016, 2017, 2018, 2019], \"y\": [\"\", \"\", \"\", \"\", \"\", \"\", \"\", \"\", \"\", \"\", \"\", \"\", \"\", \"\", \"\", \"\", \"\", \"\", \"\", \"\", \"\", \"\", \"\", \"\", 1.0]}, {\"line\": {\"color\": \"rgba(50, 171, 96, 1.0)\", \"dash\": \"solid\", \"shape\": \"linear\", \"width\": 1.3}, \"mode\": \"lines\", \"name\": \"Nuclear reactor\", \"text\": \"\", \"type\": \"scatter\", \"uid\": \"57185758-fb09-47b9-af8d-e8cae0e0ddfc\", \"x\": [1995, 1996, 1997, 1998, 1999, 2000, 2001, 2002, 2003, 2004, 2005, 2006, 2007, 2008, 2009, 2010, 2011, 2012, 2013, 2014, 2015, 2016, 2017, 2018, 2019], \"y\": [\"\", \"\", \"\", \"\", \"\", \"\", 1.0, \"\", \"\", \"\", \"\", \"\", \"\", \"\", 1.0, \"\", \"\", \"\", \"\", \"\", \"\", \"\", 1.0, \"\", \"\"]}, {\"line\": {\"color\": \"rgba(128, 0, 128, 1.0)\", \"dash\": \"solid\", \"shape\": \"linear\", \"width\": 1.3}, \"mode\": \"lines\", \"name\": \"Nuclear reactor,Synchrotron\", \"text\": \"\", \"type\": \"scatter\", \"uid\": \"2015ae74-9e00-4bc8-bc14-bfee0146b5fe\", \"x\": [1995, 1996, 1997, 1998, 1999, 2000, 2001, 2002, 2003, 2004, 2005, 2006, 2007, 2008, 2009, 2010, 2011, 2012, 2013, 2014, 2015, 2016, 2017, 2018, 2019], \"y\": [\"\", \"\", \"\", \"\", \"\", \"\", \"\", \"\", \"\", \"\", \"\", \"\", \"\", \"\", \"\", \"\", \"\", \"\", \"\", \"\", \"\", \"\", 1.0, \"\", \"\"]}, {\"line\": {\"color\": \"rgba(219, 64, 82, 1.0)\", \"dash\": \"solid\", \"shape\": \"linear\", \"width\": 1.3}, \"mode\": \"lines\", \"name\": \"Rotating anode\", \"text\": \"\", \"type\": \"scatter\", \"uid\": \"c6c078b4-324d-416f-8adb-583d93c696cc\", \"x\": [1995, 1996, 1997, 1998, 1999, 2000, 2001, 2002, 2003, 2004, 2005, 2006, 2007, 2008, 2009, 2010, 2011, 2012, 2013, 2014, 2015, 2016, 2017, 2018, 2019], \"y\": [2.0, 2.0, 23.0, 61.0, 69.0, 74.0, 51.0, 32.0, 28.0, 19.0, 9.0, 9.0, 13.0, 25.0, 26.0, 14.0, 15.0, 19.0, 27.0, 31.0, 14.0, 21.0, 23.0, 13.0, 11.0]}, {\"line\": {\"color\": \"rgba(0, 128, 128, 1.0)\", \"dash\": \"solid\", \"shape\": \"linear\", \"width\": 1.3}, \"mode\": \"lines\", \"name\": \"Rotating anode,Synchrotron\", \"text\": \"\", \"type\": \"scatter\", \"uid\": \"594c6af0-67ae-4c33-8c90-be0dc3dc0a28\", \"x\": [1995, 1996, 1997, 1998, 1999, 2000, 2001, 2002, 2003, 2004, 2005, 2006, 2007, 2008, 2009, 2010, 2011, 2012, 2013, 2014, 2015, 2016, 2017, 2018, 2019], \"y\": [\"\", \"\", \"\", \"\", \"\", \"\", \"\", \"\", \"\", \"\", \"\", \"\", 1.0, \"\", \"\", \"\", \"\", \"\", \"\", \"\", \"\", \"\", \"\", \"\", \"\"]}, {\"line\": {\"color\": \"rgba(255, 255, 51, 1.0)\", \"dash\": \"solid\", \"shape\": \"linear\", \"width\": 1.3}, \"mode\": \"lines\", \"name\": \"Sealed tube\", \"text\": \"\", \"type\": \"scatter\", \"uid\": \"e2dba634-bf07-4d61-9166-269f2b91ff59\", \"x\": [1995, 1996, 1997, 1998, 1999, 2000, 2001, 2002, 2003, 2004, 2005, 2006, 2007, 2008, 2009, 2010, 2011, 2012, 2013, 2014, 2015, 2016, 2017, 2018, 2019], \"y\": [\"\", \"\", \"\", \"\", \"\", \"\", \"\", \"\", \"\", \"\", \"\", \"\", 1.0, 1.0, \"\", 1.0, 1.0, \"\", \"\", \"\", \"\", 6.0, 1.0, \"\", 4.0]}, {\"line\": {\"color\": \"rgba(128, 128, 0, 1.0)\", \"dash\": \"solid\", \"shape\": \"linear\", \"width\": 1.3}, \"mode\": \"lines\", \"name\": \"Synchrotron\", \"text\": \"\", \"type\": \"scatter\", \"uid\": \"28e0c0ce-1578-48f0-be8d-f1f9d9a8e985\", \"x\": [1995, 1996, 1997, 1998, 1999, 2000, 2001, 2002, 2003, 2004, 2005, 2006, 2007, 2008, 2009, 2010, 2011, 2012, 2013, 2014, 2015, 2016, 2017, 2018, 2019], \"y\": [2.0, 1.0, 2.0, 9.0, 15.0, 18.0, 13.0, 3.0, 14.0, 23.0, 29.0, 29.0, 34.0, 23.0, 44.0, 20.0, 34.0, 47.0, 53.0, 53.0, 70.0, 67.0, 52.0, 57.0, 58.0]}],\n                        {\"legend\": {\"bgcolor\": \"#F5F6F9\", \"font\": {\"color\": \"#4D5663\"}}, \"paper_bgcolor\": \"#F5F6F9\", \"plot_bgcolor\": \"#F5F6F9\", \"title\": {\"font\": {\"color\": \"#4D5663\"}}, \"xaxis\": {\"gridcolor\": \"#E1E5ED\", \"showgrid\": true, \"tickfont\": {\"color\": \"#4D5663\"}, \"title\": {\"font\": {\"color\": \"#4D5663\"}, \"text\": \"\"}, \"zerolinecolor\": \"#E1E5ED\"}, \"yaxis\": {\"gridcolor\": \"#E1E5ED\", \"showgrid\": true, \"tickfont\": {\"color\": \"#4D5663\"}, \"title\": {\"font\": {\"color\": \"#4D5663\"}, \"text\": \"\"}, \"zerolinecolor\": \"#E1E5ED\"}},\n                        {\"showLink\": true, \"linkText\": \"Export to plot.ly\", \"plotlyServerURL\": \"https://plot.ly\", \"responsive\": true}\n                    ).then(function(){\n                            \nvar gd = document.getElementById('81918376-ab26-4787-96ba-cb67e92c970a');\nvar x = new MutationObserver(function (mutations, observer) {{\n        var display = window.getComputedStyle(gd).display;\n        if (!display || display === 'none') {{\n            console.log([gd, 'removed!']);\n            Plotly.purge(gd);\n            observer.disconnect();\n        }}\n}});\n\n// Listen for the removal of the full notebook cells\nvar notebookContainer = gd.closest('#notebook-container');\nif (notebookContainer) {{\n    x.observe(notebookContainer, {childList: true});\n}}\n\n// Listen for the clearing of the current output cell\nvar outputEl = gd.closest('.output');\nif (outputEl) {{\n    x.observe(outputEl, {childList: true});\n}}\n\n                        })\n                };\n                });\n            </script>\n        </div>"
     },
     "metadata": {},
     "output_type": "display_data"
    }
   ],
   "source": [
    "pandas_plot_multi_groupby(results, 'release_year', 'beam_source_name')"
   ]
  },
  {
   "cell_type": "markdown",
   "metadata": {},
   "source": [
    "This shows us that rotating anodes were used as the major source of radiation until around 2004 when Synchrotron's overtook as the major source of radiation. \n",
    "\n",
    "Try editing the queries to plot interesting trends within the PDB"
   ]
  },
  {
   "cell_type": "markdown",
   "metadata": {},
   "source": [
    "## Questions to answer"
   ]
  },
  {
   "cell_type": "markdown",
   "metadata": {},
   "source": [
    "1) Electron Microscopy is going through a revolution. Is this leading to a growth in Electron Microscopy PDB entries?"
   ]
  },
  {
   "cell_type": "markdown",
   "metadata": {},
   "source": [
    "2) New refinement programs have got better and there are more methods to validate the quality of strucures in the PDB.\n",
    "Have structures got better over time?\n",
    "We can use \"overall_quality\" to judge this\n",
    "This could be plotted as a groupby or a box plot. "
   ]
  },
  {
   "cell_type": "code",
   "execution_count": null,
   "metadata": {},
   "outputs": [],
   "source": []
  },
  {
   "cell_type": "markdown",
   "metadata": {},
   "source": [
    "3) Electron Microscopy resolution has been said to be improving. Is this true? \n",
    "hint - the search term and filter can be different.\n",
    "pandas_plot_multi_groupby_min with use_min would be useful to plot this or maybe a box plot?"
   ]
  },
  {
   "cell_type": "code",
   "execution_count": null,
   "metadata": {},
   "outputs": [],
   "source": []
  },
  {
   "cell_type": "markdown",
   "metadata": {},
   "source": [
    "3) It has been said that all the simple structures have been done and that only complicated structures are left. One metric for \"complicated\" could be size of the assembly - assembly_mol_wt would be useful here. "
   ]
  },
  {
   "cell_type": "code",
   "execution_count": null,
   "metadata": {},
   "outputs": [],
   "source": []
  }
 ],
 "metadata": {
  "kernelspec": {
   "display_name": "Python 3",
   "language": "python",
   "name": "python3"
  },
  "language_info": {
   "codemirror_mode": {
    "name": "ipython",
    "version": 3
   },
   "file_extension": ".py",
   "mimetype": "text/x-python",
   "name": "python",
   "nbconvert_exporter": "python",
   "pygments_lexer": "ipython3",
   "version": "3.7.0"
  }
 },
 "nbformat": 4,
 "nbformat_minor": 2
}