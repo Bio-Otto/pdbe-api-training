{
 "cells": [
  {
   "cell_type": "code",
   "execution_count": 4,
   "metadata": {},
   "outputs": [],
   "source": [
    "# WELCOME TO THE PDBE API TRAINING\n",
    "\n",
    "# This interactive Python notebook will guide you through various\n",
    "# ways of programmatically accessing Protein Data Bank in Europe (PDBe) \n",
    "# data using REST API\n",
    "\n",
    "# The REST API is a programmatic way to obtain information from \n",
    "# the PDB and EMDB. You can access details about:\n",
    "#\n",
    "# sample, \n",
    "# experiment, \n",
    "# models, \n",
    "# compounds, \n",
    "# cross-references, \n",
    "# publications, \n",
    "# quality, \n",
    "# assemblies \n",
    "# and more...\n",
    "\n",
    "# For more information, visit http://www.ebi.ac.uk/pdbe/pdbe-rest-api"
   ]
  },
  {
   "cell_type": "code",
   "execution_count": 5,
   "metadata": {},
   "outputs": [],
   "source": [
    "# 1) Setting variables\n",
    "\n",
    "# First, we set some variable we will use thoughout the exercises\n",
    "\n",
    "base_url = \"http://www.ebi.ac.uk/pdbe/\"\n",
    "\n",
    "api_base = base_url + \"api/\"\n",
    "\n",
    "mappings_url = api_base + 'mappings/'\n",
    "\n",
    "molecules_url = api_base + 'pdb/entry/molecules/'\n",
    "\n",
    "summary_url = api_base + 'pdb/entry/summary/'\n",
    "\n",
    "ligand_summary_url = api_base + 'pdb/compound/summary/'\n",
    "\n",
    "# Full list of valid URLs is available from http://www.ebi.ac.uk/pdbe/api/doc/"
   ]
  },
  {
   "cell_type": "code",
   "execution_count": 7,
   "metadata": {},
   "outputs": [],
   "source": [
    "# 2) Basic examples\n",
    "\n",
    "# We will start with some very basic examples and operations\n",
    "# If you are familiar with Python, you may want to skip to \n",
    "# the next section (#3)"
   ]
  },
  {
   "cell_type": "code",
   "execution_count": 9,
   "metadata": {},
   "outputs": [
    {
     "name": "stdout",
     "output_type": "stream",
     "text": [
      "1cbs\n",
      "3bow\n"
     ]
    }
   ],
   "source": [
    "# 2.1) Iterating through lists\n",
    "\n",
    "basic_pdb_list = [\"1cbs\", \"3bow\"]\n",
    "# This is a simple list with 2 PDB entry IDs\n",
    "\n",
    "# Iterating through this list (or any other lists)\n",
    "# can be done with a simple function, such as:\n",
    "def iterate_list(my_list):\n",
    "    \"\"\"\n",
    "    This function will iterate through a list,\n",
    "    and print each item\n",
    "    \n",
    "    :param my_list: List\n",
    "    :return: None\n",
    "    \"\"\"\n",
    "    for item in my_list:\n",
    "        print(item)\n",
    "        \n",
    "# Calling the function:\n",
    "print(\"Iterating through PDB id list\")\n",
    "iterate_list(basic_pdb_list)"
   ]
  },
  {
   "cell_type": "code",
   "execution_count": 10,
   "metadata": {},
   "outputs": [
    {
     "name": "stdout",
     "output_type": "stream",
     "text": [
      "First PDB id: 1cbs\n",
      "Second PDB id: 3bow\n"
     ]
    }
   ],
   "source": [
    "# 2.2) Getting a specific item from a list\n",
    "\n",
    "# Getting a specific element of a list can be\n",
    "# done using a function such as this below.\n",
    "# Please note that indices start from 0 in Python,\n",
    "# so the first element of a list has an index of 0\n",
    "def get_item(index, my_list):\n",
    "    \"\"\"\n",
    "    This function will get an item from a list\n",
    "    using the index of the item\n",
    "    \n",
    "    :param index: Integer\n",
    "    :param my_list: List\n",
    "    :return: String\n",
    "    \"\"\"\n",
    "    return my_list[index]\n",
    "\n",
    "# Calling the function for the first element\n",
    "first = get_item(0, basic_pdb_list)\n",
    "print(\"First PDB id: %s\" % first)\n",
    "\n",
    "# Calling the function for the second element\n",
    "second = get_item(1, basic_pdb_list)\n",
    "print(\"Second PDB id: %s\" % second)"
   ]
  },
  {
   "cell_type": "code",
   "execution_count": 17,
   "metadata": {},
   "outputs": [
    {
     "name": "stdout",
     "output_type": "stream",
     "text": [
      "Getting value directly: 1cbs\n",
      "Getting value using function: 1cbs\n"
     ]
    }
   ],
   "source": [
    "# 2.3) Getting a value for a key from a dictionary\n",
    "\n",
    "# PDBe API calls generally return data in the form of\n",
    "# dictionaries, i.e. collections of key and value pairs\n",
    "\n",
    "# Basic example of a dictionary with two keys and two\n",
    "# corresponding values\n",
    "basic_pdb_dictionary = {\n",
    "    \"pdb_id\": \"1cbs\",\n",
    "    \"experimental_method\": \"X-ray diffraction\",\n",
    "}\n",
    "    \n",
    "# Getting values from a dictionary can be done either\n",
    "# by directly accessing the value using the key, or by\n",
    "# using a simple function, such as below.\n",
    "\n",
    "# Getting value directly using key\n",
    "print(\"Getting value directly: %s\" % basic_pdb_dictionary[\"pdb_id\"])\n",
    "\n",
    "# Getting value using simple function\n",
    "def get_value(key, my_dictionary):\n",
    "    \"\"\"\n",
    "    Gets the value that corresponds to a key in a \n",
    "    dictionary\n",
    "    \n",
    "    :param key: String,\n",
    "    :param my_dictionary: Dict\n",
    "    :return: String\n",
    "    \"\"\"\n",
    "    return(my_dictionary[key])\n",
    "\n",
    "print(\"Getting value using function: %s\" % get_value(\"pdb_id\", basic_pdb_dictionary))"
   ]
  },
  {
   "cell_type": "code",
   "execution_count": 22,
   "metadata": {},
   "outputs": [],
   "source": [
    "# 3) Creating a mock PDBe entry\n",
    "\n",
    "# The dictionary below will serve as an offline example of what \n",
    "# an actual API call would return for the entry \"1CBS\" when querying\n",
    "# for the entry summary\n",
    "\n",
    "# You can try to make this call from your browser by copy/pasting the\n",
    "# URL below:\n",
    "# https://www.ebi.ac.uk/pdbe/api/pdb/entry/summary/1cbs\n",
    "\n",
    "mock_entry_summary = {\n",
    "  \"1cbs\": [\n",
    "    {\n",
    "      \"related_structures\": [ ], \n",
    "      \"split_entry\": [ ], \n",
    "      \"title\": \"CRYSTAL STRUCTURE OF CELLULAR RETINOIC-ACID-BINDING PROTEINS I AND II IN COMPLEX WITH ALL-TRANS-RETINOIC ACID AND A SYNTHETIC RETINOID\", \n",
    "      \"release_date\": \"19950126\", \n",
    "      \"experimental_method\": [\n",
    "        \"X-ray diffraction\"\n",
    "      ], \n",
    "      \"experimental_method_class\": [\n",
    "        \"x-ray\"\n",
    "      ], \n",
    "      \"revision_date\": \"20110713\", \n",
    "      \"entry_authors\": [\n",
    "        \"Kleywegt, G.J.\", \n",
    "        \"Bergfors, T.\", \n",
    "        \"Jones, T.A.\"\n",
    "      ], \n",
    "      \"deposition_site\": \"null\", \n",
    "      \"number_of_entities\": {\n",
    "        \"polypeptide\": 1, \n",
    "        \"dna\": 0, \n",
    "        \"ligand\": 1, \n",
    "        \"dna/rna\": 0, \n",
    "        \"rna\": 0, \n",
    "        \"sugar\": 0, \n",
    "        \"water\": 1, \n",
    "        \"other\": 0\n",
    "      }, \n",
    "      \"processing_site\": \"null\", \n",
    "      \"deposition_date\": \"19940928\", \n",
    "      \"assemblies\": [\n",
    "        {\n",
    "          \"assembly_id\": \"1\", \n",
    "          \"form\": \"homo\", \n",
    "          \"preferred\": \"true\", \n",
    "          \"name\": \"monomer\"\n",
    "        }\n",
    "      ]\n",
    "    }\n",
    "  ]\n",
    "}\n",
    "\n",
    "# As you can see, the data is structured as a JSON dictionary,\n",
    "# with key and value pairs, for example: \"revision_data\": \"20110713\"\n",
    "\n",
    "# We will use this mock data for our first few operations."
   ]
  },
  {
   "cell_type": "code",
   "execution_count": 26,
   "metadata": {},
   "outputs": [
    {
     "name": "stdout",
     "output_type": "stream",
     "text": [
      "Trying with PDB id which is not in the dictionary:\n",
      "Key error: '3bow'\n",
      "None\n",
      "\n",
      "Trying with PDB id which is in the dictionary:\n",
      "[{'related_structures': [], 'split_entry': [], 'title': 'CRYSTAL STRUCTURE OF CELLULAR RETINOIC-ACID-BINDING PROTEINS I AND II IN COMPLEX WITH ALL-TRANS-RETINOIC ACID AND A SYNTHETIC RETINOID', 'release_date': '19950126', 'experimental_method': ['X-ray diffraction'], 'experimental_method_class': ['x-ray'], 'revision_date': '20110713', 'entry_authors': ['Kleywegt, G.J.', 'Bergfors, T.', 'Jones, T.A.'], 'deposition_site': 'null', 'number_of_entities': {'polypeptide': 1, 'dna': 0, 'ligand': 1, 'dna/rna': 0, 'rna': 0, 'sugar': 0, 'water': 1, 'other': 0}, 'processing_site': 'null', 'deposition_date': '19940928', 'assemblies': [{'assembly_id': '1', 'form': 'homo', 'preferred': 'true', 'name': 'monomer'}]}]\n"
     ]
    }
   ],
   "source": [
    "# 4) Getting entry from the mock PDB data\n",
    "\n",
    "# Now let's try to get entries using a simple function!\n",
    "# We will first use the mock PDB data to perform our \n",
    "# GET function (and call our get_value function)\n",
    "def get_entry(pdb_id):\n",
    "    \"\"\"\n",
    "    This function tries to get the data that corresponds to \n",
    "    a PDB id\n",
    "    \n",
    "    If the entry id is not found, it print an error message\n",
    "    and returns None\n",
    "    \n",
    "    :param pdb_id: String\n",
    "    :return: Dict or None\n",
    "    \"\"\"\n",
    "    try:\n",
    "        return get_value(pdb_id, mock_entry_summary)\n",
    "    except KeyError as error:\n",
    "        print(\"Key error: %s\" % error)\n",
    "        return None\n",
    "\n",
    "# Try to get PDB entry \"3bow\"\n",
    "print(\"Trying with PDB id which is not in the dictionary:\")\n",
    "print(get_entry(\"3bow\"))\n",
    "print()\n",
    "\n",
    "# Try to get PDB entry \"1cbs\"\n",
    "print(\"Trying with PDB id which is in the dictionary:\")\n",
    "print(get_entry(\"1cbs\"))\n"
   ]
  },
  {
   "cell_type": "code",
   "execution_count": null,
   "metadata": {},
   "outputs": [],
   "source": [
    "# Copyright 2018 EMBL - European Bioinformatics Institute\n",
    "#\n",
    "# Licensed under the Apache License, Version 2.0 (the \"License\");\n",
    "# you may not use this file except in compliance with the License.\n",
    "# You may obtain a copy of the License at http://www.apache.org/licenses/LICENSE-2.0\n",
    "#\n",
    "# Unless required by applicable law or agreed to in writing,\n",
    "# software distributed under the License is distributed on an\n",
    "# \"AS IS\" BASIS, WITHOUT WARRANTIES OR CONDITIONS OF ANY KIND,\n",
    "# either express or implied. See the License for the specific\n",
    "# language governing permissions and limitations under the\n",
    "# License."
   ]
  }
 ],
 "metadata": {
  "kernelspec": {
   "display_name": "Python 3",
   "language": "python",
   "name": "python3"
  },
  "language_info": {
   "codemirror_mode": {
    "name": "ipython",
    "version": 3
   },
   "file_extension": ".py",
   "mimetype": "text/x-python",
   "name": "python",
   "nbconvert_exporter": "python",
   "pygments_lexer": "ipython3",
   "version": "3.6.4"
  }
 },
 "nbformat": 4,
 "nbformat_minor": 2
}
