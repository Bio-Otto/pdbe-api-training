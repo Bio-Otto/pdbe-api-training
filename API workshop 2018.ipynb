{
 "cells": [
  {
   "cell_type": "code",
   "execution_count": 4,
   "metadata": {},
   "outputs": [],
   "source": [
    "# WELCOME TO THE PDBE API TRAINING\n",
    "\n",
    "# This interactive Python notebook will guide you through various\n",
    "# ways of programmatically accessing Protein Data Bank in Europe (PDBe) \n",
    "# data using REST API\n",
    "\n",
    "# The REST API is a programmatic way to obtain information from \n",
    "# the PDB and EMDB. You can access details about:\n",
    "#\n",
    "# sample, \n",
    "# experiment, \n",
    "# models, \n",
    "# compounds, \n",
    "# cross-references, \n",
    "# publications, \n",
    "# quality, \n",
    "# assemblies \n",
    "# and more...\n",
    "\n",
    "# For more information, visit http://www.ebi.ac.uk/pdbe/pdbe-rest-api"
   ]
  },
  {
   "cell_type": "code",
   "execution_count": 5,
   "metadata": {},
   "outputs": [],
   "source": [
    "# 1) Setting variables\n",
    "\n",
    "# First, we set some variable we will use thoughout the exercises\n",
    "\n",
    "base_url = \"http://www.ebi.ac.uk/pdbe/\"\n",
    "\n",
    "api_base = base_url + \"api/\"\n",
    "\n",
    "mappings_url = api_base + 'mappings/'\n",
    "\n",
    "molecules_url = api_base + 'pdb/entry/molecules/'\n",
    "\n",
    "summary_url = api_base + 'pdb/entry/summary/'\n",
    "\n",
    "ligand_summary_url = api_base + 'pdb/compound/summary/'\n",
    "\n",
    "# Full list of valid URLs is available from http://www.ebi.ac.uk/pdbe/api/doc/"
   ]
  },
  {
   "cell_type": "code",
   "execution_count": 7,
   "metadata": {},
   "outputs": [],
   "source": [
    "# 2) Basic examples\n",
    "\n",
    "# We will start with some very basic examples and operations\n",
    "# If you are familiar with Python, you may want to skip to \n",
    "# the next section (#3)"
   ]
  },
  {
   "cell_type": "code",
   "execution_count": 9,
   "metadata": {},
   "outputs": [
    {
     "name": "stdout",
     "output_type": "stream",
     "text": [
      "1cbs\n",
      "3bow\n"
     ]
    }
   ],
   "source": [
    "# 2.1) Iterating through lists\n",
    "\n",
    "basic_pdb_list = [\"1cbs\", \"3bow\"]\n",
    "# This is a simple list with 2 PDB entry IDs\n",
    "\n",
    "# Iterating through this list (or any other lists)\n",
    "# can be done with a simple function, such as:\n",
    "def iterate_list(my_list):\n",
    "    \"\"\"\n",
    "    This function will iterate through a list,\n",
    "    and print each item\n",
    "    \n",
    "    :param my_list: List\n",
    "    :return: None\n",
    "    \"\"\"\n",
    "    for item in my_list:\n",
    "        print(item)\n",
    "        \n",
    "# Calling the function:\n",
    "print(\"Iterating through PDB id list\")\n",
    "iterate_list(basic_pdb_list)"
   ]
  },
  {
   "cell_type": "code",
   "execution_count": 10,
   "metadata": {},
   "outputs": [
    {
     "name": "stdout",
     "output_type": "stream",
     "text": [
      "First PDB id: 1cbs\n",
      "Second PDB id: 3bow\n"
     ]
    }
   ],
   "source": [
    "# 2.2) Getting a specific item from a list\n",
    "\n",
    "# Getting a specific element of a list can be\n",
    "# done using a function such as this below.\n",
    "# Please note that indices start from 0 in Python,\n",
    "# so the first element of a list has an index of 0\n",
    "def get_item(index, my_list):\n",
    "    \"\"\"\n",
    "    This function will get an item from a list\n",
    "    using the index of the item\n",
    "    \n",
    "    :param index: Integer\n",
    "    :my_list\n",
    "    \"\"\"\n",
    "    return my_list[index]\n",
    "\n",
    "# Calling the function for the first element\n",
    "first = get_item(0, basic_pdb_list)\n",
    "print(\"First PDB id: %s\" % first)\n",
    "\n",
    "# Calling the function for the second element\n",
    "second = get_item(1, basic_pdb_list)\n",
    "print(\"Second PDB id: %s\" % second)"
   ]
  },
  {
   "cell_type": "code",
   "execution_count": null,
   "metadata": {},
   "outputs": [],
   "source": [
    "# 3) Creating a mock PDBe entry\n",
    "\n",
    "# The dictionary below will serve as an offline example of what \n",
    "# an actual API call would return for the entry \"1CBS\" when querying\n",
    "# for the entry summary\n",
    "\n",
    "# You can try to make this call from your browser by copy/pasting the\n",
    "# URL below:\n",
    "# https://www.ebi.ac.uk/pdbe/api/pdb/entry/summary/1cbs\n",
    "\n",
    "mock_entry_summary = {\n",
    "  \"1cbs\": [\n",
    "    {\n",
    "      \"related_structures\": [ ], \n",
    "      \"split_entry\": [ ], \n",
    "      \"title\": \"CRYSTAL STRUCTURE OF CELLULAR RETINOIC-ACID-BINDING PROTEINS I AND II IN COMPLEX WITH ALL-TRANS-RETINOIC ACID AND A SYNTHETIC RETINOID\", \n",
    "      \"release_date\": \"19950126\", \n",
    "      \"experimental_method\": [\n",
    "        \"X-ray diffraction\"\n",
    "      ], \n",
    "      \"experimental_method_class\": [\n",
    "        \"x-ray\"\n",
    "      ], \n",
    "      \"revision_date\": \"20110713\", \n",
    "      \"entry_authors\": [\n",
    "        \"Kleywegt, G.J.\", \n",
    "        \"Bergfors, T.\", \n",
    "        \"Jones, T.A.\"\n",
    "      ], \n",
    "      \"deposition_site\": null, \n",
    "      \"number_of_entities\": {\n",
    "        \"polypeptide\": 1, \n",
    "        \"dna\": 0, \n",
    "        \"ligand\": 1, \n",
    "        \"dna/rna\": 0, \n",
    "        \"rna\": 0, \n",
    "        \"sugar\": 0, \n",
    "        \"water\": 1, \n",
    "        \"other\": 0\n",
    "      }, \n",
    "      \"processing_site\": null, \n",
    "      \"deposition_date\": \"19940928\", \n",
    "      \"assemblies\": [\n",
    "        {\n",
    "          \"assembly_id\": \"1\", \n",
    "          \"form\": \"homo\", \n",
    "          \"preferred\": true, \n",
    "          \"name\": \"monomer\"\n",
    "        }\n",
    "      ]\n",
    "    }\n",
    "  ]\n",
    "}\n",
    "\n",
    "# As you can see, the data is structured as a JSON dictionary,\n",
    "# with key and value pairs, for example: \"revision_data\": \"20110713\"\n",
    "\n",
    "# We will use this mock data for our first few operations."
   ]
  },
  {
   "cell_type": "code",
   "execution_count": null,
   "metadata": {},
   "outputs": [],
   "source": []
  },
  {
   "cell_type": "code",
   "execution_count": null,
   "metadata": {},
   "outputs": [],
   "source": [
    "# Copyright 2018 EMBL - European Bioinformatics Institute\n",
    "#\n",
    "# Licensed under the Apache License, Version 2.0 (the \"License\");\n",
    "# you may not use this file except in compliance with the License.\n",
    "# You may obtain a copy of the License at http://www.apache.org/licenses/LICENSE-2.0\n",
    "#\n",
    "# Unless required by applicable law or agreed to in writing,\n",
    "# software distributed under the License is distributed on an\n",
    "# \"AS IS\" BASIS, WITHOUT WARRANTIES OR CONDITIONS OF ANY KIND,\n",
    "# either express or implied. See the License for the specific\n",
    "# language governing permissions and limitations under the\n",
    "# License."
   ]
  }
 ],
 "metadata": {
  "kernelspec": {
   "display_name": "Python 3",
   "language": "python",
   "name": "python3"
  },
  "language_info": {
   "codemirror_mode": {
    "name": "ipython",
    "version": 3
   },
   "file_extension": ".py",
   "mimetype": "text/x-python",
   "name": "python",
   "nbconvert_exporter": "python",
   "pygments_lexer": "ipython3",
   "version": "3.6.4"
  }
 },
 "nbformat": 4,
 "nbformat_minor": 2
}
