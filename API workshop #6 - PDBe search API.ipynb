{
 "cells": [
  {
   "cell_type": "markdown",
   "metadata": {},
   "source": [
    "PDBe API Training\n",
    "=========\n",
    "\n",
    "This interactive Python notebook will guide you through various ways of programmatically accessing Protein Data Bank in Europe (PDBe) data using REST API\n",
    "\n",
    "The REST API is a programmatic way to obtain information from the PDB and EMDB. You can access details about:\n",
    "\n",
    "* sample\n",
    "* experiment\n",
    "* models\n",
    "* compounds\n",
    "* cross-references\n",
    "* publications \n",
    "* quality \n",
    "* assemblies \n",
    "* and more...\n",
    "\n",
    "For more information, visit http://www.ebi.ac.uk/pdbe/pdbe-rest-api"
   ]
  },
  {
   "cell_type": "markdown",
   "metadata": {},
   "source": [
    "# Notebook #6\n",
    "\n",
    "This notebook is the sixth in the training material series, and focuses on how to perform searches for PDB entries using the REST API of PDBe."
   ]
  },
  {
   "cell_type": "markdown",
   "metadata": {},
   "source": [
    "## 1) Making imports and setting variables\n",
    "First, we import some packages that we will use, and set some variables.\n",
    "\n",
    "Note: Full list of valid URLs is available from http://www.ebi.ac.uk/pdbe/api/doc/"
   ]
  },
  {
   "cell_type": "code",
   "execution_count": 1,
   "metadata": {},
   "outputs": [],
   "source": [
    "import requests\n",
    "\n",
    "search_url = \"https://www.ebi.ac.uk/pdbe/search/pdb/select?q=\"\n",
    "\n",
    "search_variables = \"&wt=json&rows=10\""
   ]
  },
  {
   "cell_type": "markdown",
   "metadata": {},
   "source": [
    "## 2) Defining request function\n",
    "\n",
    "Let's start with defining a function that can be used to get a URL response. We will use this function to retrieving the search results in JSON format."
   ]
  },
  {
   "cell_type": "code",
   "execution_count": 6,
   "metadata": {},
   "outputs": [],
   "source": [
    "def url_response(url):\n",
    "    response = requests.get(url=url)\n",
    "    if response.status_code == 200:\n",
    "        json_result = response.json()\n",
    "        return json_result\n",
    "    else:\n",
    "        print(response.status_code, response.reason)\n",
    "        return None"
   ]
  },
  {
   "cell_type": "markdown",
   "metadata": {},
   "source": [
    "## 3) Defining search function\n",
    "\n",
    "We need a function that will construct the search string in the adequate query format, and which will then get the data in JSON format using the url_response() function implemented earlier."
   ]
  },
  {
   "cell_type": "code",
   "execution_count": 7,
   "metadata": {},
   "outputs": [],
   "source": [
    "def run_search(pdbe_search_term):\n",
    "    full_query = search_url + pdbe_search_term + search_variables\n",
    "    \n",
    "    response = url_response(full_query)\n",
    "    \n",
    "    if \"response\" in response:\n",
    "        if \"docs\" in response[\"response\"]:\n",
    "            return response[\"response\"][\"docs\"]\n",
    "    return None"
   ]
  },
  {
   "cell_type": "markdown",
   "metadata": {},
   "source": [
    "## 4) Trying out the search\n",
    "\n",
    "Finally, we can try out our function using a custom search term. Note that the space between words has to be types as \"%20\", for example \"Homo%20sapiens\".\n",
    "\n",
    "The result will be a JSON with all PDB entries the search could find.\n",
    "\n",
    "We print out the PDB ids using a simple for loop at the bottom."
   ]
  },
  {
   "cell_type": "code",
   "execution_count": 10,
   "metadata": {},
   "outputs": [
    {
     "name": "stdout",
     "output_type": "stream",
     "text": [
      "['3l3r', '1kmv', '4kak', '4qjc', '4keb', '3fs6', '1boz', '1drf', '2w3a', '3oaf']\n"
     ]
    }
   ],
   "source": [
    "search_terms = 'molecule_name:\"Dihydrofolate%20reductase\" AND organism_scientific_name:\"Homo%20sapiens\"'\n",
    "results = run_search(search_terms)\n",
    "\n",
    "pdb_list = []\n",
    "for result in results:\n",
    "    pdb = result[\"pdb_id\"]\n",
    "    if pdb not in pdb_list:\n",
    "        pdb_list.append(pdb)\n",
    "\n",
    "print(pdb_list)"
   ]
  },
  {
   "cell_type": "markdown",
   "metadata": {},
   "source": [
    "## This ends the fifth notebook - please proceed to other notebooks of your interest"
   ]
  },
  {
   "cell_type": "markdown",
   "metadata": {},
   "source": [
    "Copyright 2018 EMBL - European Bioinformatics Institute\n",
    "\n",
    "Licensed under the Apache License, Version 2.0 (the \"License\"); you may not use this file except in compliance with the License. You may obtain a copy of the License at http://www.apache.org/licenses/LICENSE-2.0\n",
    "\n",
    "Unless required by applicable law or agreed to in writing, software distributed under the License is distributed on an \"AS IS\" BASIS, WITHOUT WARRANTIES OR CONDITIONS OF ANY KIND, either express or implied. See the License for the specific language governing permissions and limitations under the License."
   ]
  }
 ],
 "metadata": {
  "kernelspec": {
   "display_name": "Python 3",
   "language": "python",
   "name": "python3"
  },
  "language_info": {
   "codemirror_mode": {
    "name": "ipython",
    "version": 3
   },
   "file_extension": ".py",
   "mimetype": "text/x-python",
   "name": "python",
   "nbconvert_exporter": "python",
   "pygments_lexer": "ipython3",
   "version": "3.6.3"
  }
 },
 "nbformat": 4,
 "nbformat_minor": 2
}
